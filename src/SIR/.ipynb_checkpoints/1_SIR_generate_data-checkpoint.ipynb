{
 "cells": [
  {
   "cell_type": "markdown",
   "metadata": {},
   "source": [
    "## Simulation-Based Inference SIR Model: Training and Coverage Data\n",
    "> Created: Mar 23 2024 Harrison B. Prosper and Ali Al Kadhim<br>\n"
   ]
  },
  {
   "cell_type": "code",
   "execution_count": 1,
   "metadata": {},
   "outputs": [],
   "source": [
    "import os, sys\n",
    "import numpy as np\n",
    "import pandas as pd\n",
    "\n",
    "# the standard modules for high-quality plots\n",
    "import matplotlib as mp\n",
    "import matplotlib.pyplot as plt\n",
    "\n",
    "# update fonts\n",
    "FONTSIZE = 12\n",
    "font = {'family' : 'serif',\n",
    "        'weight' : 'normal',\n",
    "        'size'   : FONTSIZE}\n",
    "mp.rc('font', **font)\n",
    "\n",
    "# set usetex = False if LaTex is not \n",
    "# available on your system or if the \n",
    "# rendering is too slow\n",
    "mp.rc('text', usetex=True)\n",
    "\n",
    "# set a seed to ensure reproducibility\n",
    "seed = 42\n",
    "rnd  = np.random.RandomState(seed)\n",
    "\n",
    "from tqdm import tqdm\n",
    "from genutil import generate, observe, Fsolve, SIRdata"
   ]
  },
  {
   "cell_type": "markdown",
   "metadata": {},
   "source": [
    "### Load sample of scaled $(\\alpha, \\beta)$ parameter points"
   ]
  },
  {
   "cell_type": "code",
   "execution_count": 3,
   "metadata": {},
   "outputs": [
    {
     "name": "stdout",
     "output_type": "stream",
     "text": [
      "number of parameter points: 1000\n"
     ]
    },
    {
     "data": {
      "text/html": [
       "<div>\n",
       "<style scoped>\n",
       "    .dataframe tbody tr th:only-of-type {\n",
       "        vertical-align: middle;\n",
       "    }\n",
       "\n",
       "    .dataframe tbody tr th {\n",
       "        vertical-align: top;\n",
       "    }\n",
       "\n",
       "    .dataframe thead th {\n",
       "        text-align: right;\n",
       "    }\n",
       "</style>\n",
       "<table border=\"1\" class=\"dataframe\">\n",
       "  <thead>\n",
       "    <tr style=\"text-align: right;\">\n",
       "      <th></th>\n",
       "      <th>alpha</th>\n",
       "      <th>beta</th>\n",
       "    </tr>\n",
       "  </thead>\n",
       "  <tbody>\n",
       "    <tr>\n",
       "      <th>0</th>\n",
       "      <td>0.556824</td>\n",
       "      <td>0.432547</td>\n",
       "    </tr>\n",
       "    <tr>\n",
       "      <th>1</th>\n",
       "      <td>0.917183</td>\n",
       "      <td>0.617733</td>\n",
       "    </tr>\n",
       "    <tr>\n",
       "      <th>2</th>\n",
       "      <td>0.222595</td>\n",
       "      <td>0.684092</td>\n",
       "    </tr>\n",
       "    <tr>\n",
       "      <th>3</th>\n",
       "      <td>0.513685</td>\n",
       "      <td>0.231400</td>\n",
       "    </tr>\n",
       "    <tr>\n",
       "      <th>4</th>\n",
       "      <td>0.533168</td>\n",
       "      <td>0.343659</td>\n",
       "    </tr>\n",
       "  </tbody>\n",
       "</table>\n",
       "</div>"
      ],
      "text/plain": [
       "      alpha      beta\n",
       "0  0.556824  0.432547\n",
       "1  0.917183  0.617733\n",
       "2  0.222595  0.684092\n",
       "3  0.513685  0.231400\n",
       "4  0.533168  0.343659"
      ]
     },
     "execution_count": 3,
     "metadata": {},
     "output_type": "execute_result"
    }
   ],
   "source": [
    "NPARAMS  = 1000\n",
    "paramsdf = pd.read_csv('../../data/SIR_alpha_beta.csv.gz', nrows=NPARAMS)\n",
    "print(f'number of parameter points: {len(paramsdf):d}')\n",
    "paramsdf[:5]"
   ]
  },
  {
   "cell_type": "markdown",
   "metadata": {},
   "source": [
    "### Generate synthetic epidemics\n",
    "For each of parameter point $\\theta = (\\alpha, \\beta)$ simulate $K = 500$ epidemics. To avoid spikes in the distributions of test statistics, filter out simulations in which the epidemic dies out within a day."
   ]
  },
  {
   "cell_type": "code",
   "execution_count": 16,
   "metadata": {},
   "outputs": [],
   "source": [
    "def test_statistic(i, I):\n",
    "    a = [(d-f)**2/f for d, f in zip(i, I)]\n",
    "    return np.sqrt(np.array(a).mean()) / SIRdata.scale\n",
    "\n",
    "def plot_test_statistics(li, lo=None,\n",
    "                         xbins=50, xmin=0, xmax=0.25,\n",
    "                         filename='../../images/fig_SIR_test_statistics.png', \n",
    "                         fgsize=(6, 4), ftsize=16):\n",
    "\n",
    "    # create an empty figure\n",
    "    fig = plt.figure(figsize=fgsize)\n",
    "    fig.tight_layout()\n",
    "    \n",
    "    # adjust padding\n",
    "    #plt.subplots_adjust(hspace=0.25)\n",
    "    #plt.subplots_adjust(wspace=0.40)\n",
    "\n",
    "    # work out number of rows\n",
    "    ncols = 1\n",
    "    nrows = 1\n",
    "    ax = fig.add_subplot(nrows, ncols, 1)\n",
    "\n",
    "    ax.set_xlim(xmin, xmax)\n",
    "    ax.set_xlabel(r'$\\lambda$', fontsize=ftsize)\n",
    "\n",
    "    ax.set_ylabel(r'$f(\\lambda|\\theta_0)$', fontsize=ftsize)\n",
    "\n",
    "    ax.hist(li, bins=xbins, range=(xmin, xmax), \n",
    "            color='steelblue', density=True, alpha=0.4)\n",
    "    \n",
    "    if type(lo) != type(None):\n",
    "        ax.hist(lo, bins=xbins, range=(xmin, xmax), \n",
    "            color='darkorange', density=True, alpha=0.4)\n",
    "    print(filename)\n",
    "    plt.savefig(filename)"
   ]
  },
  {
   "cell_type": "markdown",
   "metadata": {},
   "source": [
    "### Test generation\n",
    "With `apply_filter = False` spikes will be visible in the distribution of the test statistic due to the epidemics that die off quickly."
   ]
  },
  {
   "cell_type": "code",
   "execution_count": 19,
   "metadata": {},
   "outputs": [
    {
     "name": "stdout",
     "output_type": "stream",
     "text": [
      "[3.0, 25.413, 66.242, 140.764, 212.17, 226.209, 190.004, 139.963, 96.891, 64.748, 42.311, 27.325, 17.533]\n"
     ]
    },
    {
     "name": "stderr",
     "output_type": "stream",
     "text": [
      "100%|█████████████████████████████████████████| 500/500 [00:05<00:00, 88.97it/s]\n"
     ]
    },
    {
     "name": "stdout",
     "output_type": "stream",
     "text": [
      "../../images/fig_SIR_test_statistics.png\n"
     ]
    },
    {
     "data": {
      "image/png": "[encoded data removed]",
      "text/plain": [
       "<Figure size 600x400 with 1 Axes>"
      ]
     },
     "metadata": {},
     "output_type": "display_data"
    }
   ],
   "source": [
    "alpha = paramsdf.alpha\n",
    "beta  = paramsdf.beta\n",
    "J = 0\n",
    "a = alpha[J]\n",
    "b = beta[J]\n",
    "K = 500\n",
    "\n",
    "apply_filter = True\n",
    "\n",
    "# solve ODEs for current parameter point\n",
    "soln = Fsolve(a, b, SIRdata)\n",
    "I    = soln.y[1]\n",
    "\n",
    "# reduce number of significant figures\n",
    "I = [float(int(1000*x))/1000 for x in I]\n",
    "print(I)\n",
    "\n",
    "# simulate K epidemics and compute the\n",
    "# associated test statistics\n",
    "params = (a, b)\n",
    "l = []\n",
    "counts = []\n",
    "for k in tqdm(range(K)):\n",
    "\n",
    "    # generate data for one epidemic (defined as a sequence of 4-tuples: [t, s, i, r])\n",
    "    # t: time of event\n",
    "    # s: number of suceptible individuals at time t\n",
    "    # i: number of affected individuals at time t\n",
    "    # r: number of removed individuals at time t\n",
    "    states = generate(params, SIRdata)\n",
    "\n",
    "    # observe epidemics at specified observations times T\n",
    "    obs = observe(SIRdata.T, states)\n",
    "    i = [x for s,x,r in obs] # get infected counts\n",
    "\n",
    "    if apply_filter:\n",
    "        try:\n",
    "            if i.index(0) < 3:\n",
    "                continue\n",
    "        except:\n",
    "            pass\n",
    "                \n",
    "    l.append( test_statistic(i, I) )\n",
    "        \n",
    "plot_test_statistics(l)"
   ]
  },
  {
   "cell_type": "markdown",
   "metadata": {},
   "source": [
    "### Simulate multiple epidemics per parameter point\n",
    "\n",
    "In a realistic application, this would be trivially parallelized."
   ]
  },
  {
   "cell_type": "code",
   "execution_count": 21,
   "metadata": {},
   "outputs": [],
   "source": [
    "N = 250  # number of parameter points to use\n",
    "K = 400  # number of epidemics to sample at each point\n",
    "\n",
    "# convert to numpy arrays\n",
    "alpha = paramsdf.alpha.to_numpy()[:N]\n",
    "beta  = paramsdf.beta.to_numpy()[:N]\n",
    "nD    = len(SIRdata.D) # sample size of real data\n",
    "\n",
    "fmt = '%10.4e,' * K\n",
    "fmt = fmt[:-1]\n",
    "fmt = '[%s]' % fmt\n",
    "\n",
    "Ifmt= '%10.4e,' * nD\n",
    "Ifmt= Ifmt[:-1]\n",
    "Ifmt= '[%s]' % Ifmt\n",
    "\n",
    "Irec = []\n",
    "lrec = []\n",
    "\n",
    "for j in tqdm(range(N)):\n",
    "\n",
    "    a = alpha[j]\n",
    "    b = beta[j]\n",
    "    \n",
    "    # solve ODEs for current parameter point\n",
    "    soln = Fsolve(a, b, SIRdata)\n",
    "    I    = soln.y[1]\n",
    "    if len(I) != nD:\n",
    "        raise ValueError('wrong data length, len(I) = %d' % len(I))\n",
    "\n",
    "    # reduce number of significant figures\n",
    "    I = [float(int(1000*x))/1000 for x in I]\n",
    "    \n",
    "    # simulate K epidemics and compute the\n",
    "    # associated test statistics\n",
    "    params = (a, b)\n",
    "    l = []\n",
    "    m = 0\n",
    "    for k in range(2*K):\n",
    "\n",
    "        # generate data for one epidemic\n",
    "        states = generate(params, SIRdata)\n",
    "    \n",
    "        obs = observe(SIRdata.T, states)\n",
    "        i   = [x for s,x,r in obs]\n",
    "\n",
    "        if apply_filter:\n",
    "            try:\n",
    "                if i.index(0) < 3:\n",
    "                    continue\n",
    "            except:\n",
    "                pass\n",
    "\n",
    "        l.append( test_statistic(i, I) )\n",
    "        m += 1  \n",
    "        if m >= K: break\n",
    "        \n",
    "    Irec.append( Ifmt % tuple(I) )\n",
    "    lrec.append( fmt % tuple(l) )"
   ]
  },
  {
   "cell_type": "code",
   "execution_count": 64,
   "metadata": {},
   "outputs": [
    {
     "data": {
      "text/html": [
       "<div>\n",
       "<style scoped>\n",
       "    .dataframe tbody tr th:only-of-type {\n",
       "        vertical-align: middle;\n",
       "    }\n",
       "\n",
       "    .dataframe tbody tr th {\n",
       "        vertical-align: top;\n",
       "    }\n",
       "\n",
       "    .dataframe thead th {\n",
       "        text-align: right;\n",
       "    }\n",
       "</style>\n",
       "<table border=\"1\" class=\"dataframe\">\n",
       "  <thead>\n",
       "    <tr style=\"text-align: right;\">\n",
       "      <th></th>\n",
       "      <th>alpha</th>\n",
       "      <th>beta</th>\n",
       "      <th>I</th>\n",
       "      <th>li</th>\n",
       "    </tr>\n",
       "  </thead>\n",
       "  <tbody>\n",
       "    <tr>\n",
       "      <th>0</th>\n",
       "      <td>0.674708</td>\n",
       "      <td>0.489760</td>\n",
       "      <td>[3.0000e+00,3.0455e+01,8.2367e+01,1.6368e+02,2...</td>\n",
       "      <td>[1.7856e-02,1.1651e-01,5.9342e-02,6.6390e-02,7...</td>\n",
       "    </tr>\n",
       "    <tr>\n",
       "      <th>1</th>\n",
       "      <td>0.351989</td>\n",
       "      <td>0.525906</td>\n",
       "      <td>[3.0000e+00,7.2307e+01,2.3681e+02,3.8783e+02,3...</td>\n",
       "      <td>[9.2634e-02,1.6932e-02,4.0128e-02,3.8557e-02,4...</td>\n",
       "    </tr>\n",
       "    <tr>\n",
       "      <th>2</th>\n",
       "      <td>0.809635</td>\n",
       "      <td>0.515445</td>\n",
       "      <td>[3.0000e+00,2.8153e+01,7.2867e+01,1.3929e+02,1...</td>\n",
       "      <td>[4.3009e-02,6.5533e-02,6.3253e-02,5.3390e-02,3...</td>\n",
       "    </tr>\n",
       "    <tr>\n",
       "      <th>3</th>\n",
       "      <td>0.398025</td>\n",
       "      <td>0.405984</td>\n",
       "      <td>[3.0000e+00,2.8608e+01,7.9271e+01,1.7711e+02,2...</td>\n",
       "      <td>[8.2466e-02,9.6620e-02,5.2001e-02,4.5161e-02,9...</td>\n",
       "    </tr>\n",
       "    <tr>\n",
       "      <th>4</th>\n",
       "      <td>0.833601</td>\n",
       "      <td>0.503004</td>\n",
       "      <td>[3.0000e+00,2.4598e+01,6.1062e+01,1.1826e+02,1...</td>\n",
       "      <td>[1.8670e-02,1.1997e-01,2.0463e-01,7.2085e-02,8...</td>\n",
       "    </tr>\n",
       "  </tbody>\n",
       "</table>\n",
       "</div>"
      ],
      "text/plain": [
       "      alpha      beta                                                  I  \\\n",
       "0  0.674708  0.489760  [3.0000e+00,3.0455e+01,8.2367e+01,1.6368e+02,2...   \n",
       "1  0.351989  0.525906  [3.0000e+00,7.2307e+01,2.3681e+02,3.8783e+02,3...   \n",
       "2  0.809635  0.515445  [3.0000e+00,2.8153e+01,7.2867e+01,1.3929e+02,1...   \n",
       "3  0.398025  0.405984  [3.0000e+00,2.8608e+01,7.9271e+01,1.7711e+02,2...   \n",
       "4  0.833601  0.503004  [3.0000e+00,2.4598e+01,6.1062e+01,1.1826e+02,1...   \n",
       "\n",
       "                                                  li  \n",
       "0  [1.7856e-02,1.1651e-01,5.9342e-02,6.6390e-02,7...  \n",
       "1  [9.2634e-02,1.6932e-02,4.0128e-02,3.8557e-02,4...  \n",
       "2  [4.3009e-02,6.5533e-02,6.3253e-02,5.3390e-02,3...  \n",
       "3  [8.2466e-02,9.6620e-02,5.2001e-02,4.5161e-02,9...  \n",
       "4  [1.8670e-02,1.1997e-01,2.0463e-01,7.2085e-02,8...  "
      ]
     },
     "execution_count": 64,
     "metadata": {},
     "output_type": "execute_result"
    }
   ],
   "source": [
    "df = pd.DataFrame({'alpha': alpha[:N], \n",
    "                   'beta': beta[:N],\n",
    "                   'I' : Irec,\n",
    "                   'li': lrec})\n",
    "filename = '../../data/SIR_data.csv.gz'\n",
    "df.to_csv(filename, index=False, compression='gzip')\n",
    "df[:5]"
   ]
  },
  {
   "cell_type": "code",
   "execution_count": null,
   "metadata": {},
   "outputs": [],
   "source": []
  }
 ],
 "metadata": {
  "kernelspec": {
   "display_name": "Python 3 (ipykernel)",
   "language": "python",
   "name": "python3"
  },
  "language_info": {
   "codemirror_mode": {
    "name": "ipython",
    "version": 3
   },
   "file_extension": ".py",
   "mimetype": "text/x-python",
   "name": "python",
   "nbconvert_exporter": "python",
   "pygments_lexer": "ipython3",
   "version": "3.11.8"
  }
 },
 "nbformat": 4,
 "nbformat_minor": 4
}
