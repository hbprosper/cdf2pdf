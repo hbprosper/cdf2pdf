{
 "cells": [
  {
   "cell_type": "code",
   "execution_count": 1,
   "id": "a55a4a27-0a15-4cb4-8498-808f93d5a248",
   "metadata": {},
   "outputs": [],
   "source": [
    "import numpy as np; import pandas as pd\n",
    "import scipy as sp; import scipy.stats as st\n",
    "import torch; import torch.nn as nn\n",
    "#use numba's just-in-time compiler to speed things up\n",
    "from numba import njit\n",
    "from sklearn.preprocessing import StandardScaler; from sklearn.model_selection import train_test_split\n",
    "import matplotlib as mp; import matplotlib.pyplot as plt; \n",
    "#reset matplotlib stle/parameters\n",
    "import matplotlib as mpl\n",
    "mpl.rcParams.update(mpl.rcParamsDefault)\n",
    "#plt.style.use('seaborn-deep')\n",
    "mp.rcParams['agg.path.chunksize'] = 10000\n",
    "mp.rcParams['axes.linewidth'] = 1\n",
    "font_legend = 15; font_axes=15\n",
    "# %matplotlib inline\n",
    "import copy; import sys; import os\n",
    "from IPython.display import Image, display\n",
    "from importlib import import_module\n",
    "\n",
    "import optuna\n",
    "from optuna.visualization import plot_contour\n",
    "from optuna.visualization import plot_edf\n",
    "from optuna.visualization import plot_intermediate_values\n",
    "from optuna.visualization import plot_optimization_history\n",
    "from optuna.visualization import plot_parallel_coordinate\n",
    "from optuna.visualization import plot_param_importances\n",
    "from optuna.visualization import plot_rank\n",
    "from optuna.visualization import plot_slice\n",
    "from optuna.visualization import plot_timeline"
   ]
  },
  {
   "cell_type": "code",
   "execution_count": 2,
   "id": "8907bdbd-4cc3-497e-a085-4e0ca684b6e8",
   "metadata": {},
   "outputs": [],
   "source": [
    "FONTSIZE=18\n",
    "font = {'family': 'serif', 'weight':'normal', 'size':FONTSIZE}\n",
    "mp.rc('font', **font)\n",
    "mp.rc('text',usetex=True)"
   ]
  },
  {
   "cell_type": "code",
   "execution_count": 3,
   "id": "f21e41f8-ebaa-4ece-b65f-149adfb38450",
   "metadata": {},
   "outputs": [
    {
     "data": {
      "text/plain": [
       "device(type='cpu')"
      ]
     },
     "execution_count": 3,
     "metadata": {},
     "output_type": "execute_result"
    }
   ],
   "source": [
    "device  = torch.device(\"cuda\" if torch.cuda.is_available() else \"cpu\")\n",
    "device"
   ]
  },
  {
   "cell_type": "code",
   "execution_count": 4,
   "id": "591f0e62-b3af-4a09-956f-4b113cb85f84",
   "metadata": {},
   "outputs": [
    {
     "data": {
      "text/html": [
       "<div>\n",
       "<style scoped>\n",
       "    .dataframe tbody tr th:only-of-type {\n",
       "        vertical-align: middle;\n",
       "    }\n",
       "\n",
       "    .dataframe tbody tr th {\n",
       "        vertical-align: top;\n",
       "    }\n",
       "\n",
       "    .dataframe thead th {\n",
       "        text-align: right;\n",
       "    }\n",
       "</style>\n",
       "<table border=\"1\" class=\"dataframe\">\n",
       "  <thead>\n",
       "    <tr style=\"text-align: right;\">\n",
       "      <th></th>\n",
       "      <th>alpha</th>\n",
       "      <th>beta</th>\n",
       "      <th>I</th>\n",
       "      <th>li</th>\n",
       "    </tr>\n",
       "  </thead>\n",
       "  <tbody>\n",
       "    <tr>\n",
       "      <th>0</th>\n",
       "      <td>0.556824</td>\n",
       "      <td>0.432547</td>\n",
       "      <td>[3.0000e+00,2.5413e+01,6.6242e+01,1.4076e+02,2...</td>\n",
       "      <td>[3.5465e-02,6.0205e-02,5.2629e-02,1.9994e-02,3...</td>\n",
       "    </tr>\n",
       "    <tr>\n",
       "      <th>1</th>\n",
       "      <td>0.917183</td>\n",
       "      <td>0.617733</td>\n",
       "      <td>[3.0000e+00,4.6435e+01,1.2668e+02,1.8865e+02,1...</td>\n",
       "      <td>[4.6994e-02,6.1737e-02,5.9416e-02,6.5321e-02,3...</td>\n",
       "    </tr>\n",
       "    <tr>\n",
       "      <th>2</th>\n",
       "      <td>0.222595</td>\n",
       "      <td>0.684092</td>\n",
       "      <td>[3.0000e+00,2.3207e+02,5.2139e+02,5.1127e+02,4...</td>\n",
       "      <td>[3.8465e-02,1.4980e-02,4.3391e-02,8.0108e-02,6...</td>\n",
       "    </tr>\n",
       "    <tr>\n",
       "      <th>3</th>\n",
       "      <td>0.513685</td>\n",
       "      <td>0.231400</td>\n",
       "      <td>[3.0000e+00,6.2250e+00,8.8920e+00,1.2593e+01,1...</td>\n",
       "      <td>[1.2181e-01,1.2303e-01,6.9494e-02,8.3929e-02,6...</td>\n",
       "    </tr>\n",
       "    <tr>\n",
       "      <th>4</th>\n",
       "      <td>0.533168</td>\n",
       "      <td>0.343659</td>\n",
       "      <td>[3.0000e+00,1.3872e+01,2.8699e+01,5.5722e+01,9...</td>\n",
       "      <td>[2.9563e-02,5.4805e-02,2.3345e-02,1.7169e-01,5...</td>\n",
       "    </tr>\n",
       "    <tr>\n",
       "      <th>...</th>\n",
       "      <td>...</td>\n",
       "      <td>...</td>\n",
       "      <td>...</td>\n",
       "      <td>...</td>\n",
       "    </tr>\n",
       "    <tr>\n",
       "      <th>245</th>\n",
       "      <td>0.018504</td>\n",
       "      <td>0.236397</td>\n",
       "      <td>[3.0000e+00,1.7329e+01,4.0684e+01,9.1622e+01,1...</td>\n",
       "      <td>[3.5029e-02,7.6161e-02,9.8830e-02,2.7422e-02,1...</td>\n",
       "    </tr>\n",
       "    <tr>\n",
       "      <th>246</th>\n",
       "      <td>0.183638</td>\n",
       "      <td>0.371210</td>\n",
       "      <td>[3.0000e+00,3.3838e+01,1.0217e+02,2.4462e+02,4...</td>\n",
       "      <td>[5.3251e-02,9.8350e-02,3.7443e-02,2.2209e-02,1...</td>\n",
       "    </tr>\n",
       "    <tr>\n",
       "      <th>247</th>\n",
       "      <td>0.097239</td>\n",
       "      <td>0.421748</td>\n",
       "      <td>[3.0000e+00,5.7375e+01,2.0121e+02,4.4055e+02,5...</td>\n",
       "      <td>[2.2518e-02,4.6346e-02,2.5197e-02,5.0298e-02,4...</td>\n",
       "    </tr>\n",
       "    <tr>\n",
       "      <th>248</th>\n",
       "      <td>0.790416</td>\n",
       "      <td>0.309533</td>\n",
       "      <td>[3.0000e+00,6.4540e+00,9.3210e+00,1.3244e+01,1...</td>\n",
       "      <td>[6.6862e-02,4.2194e-02,5.7831e-02,3.8413e-02,3...</td>\n",
       "    </tr>\n",
       "    <tr>\n",
       "      <th>249</th>\n",
       "      <td>0.498675</td>\n",
       "      <td>0.419194</td>\n",
       "      <td>[3.0000e+00,2.5851e+01,6.8293e+01,1.4792e+02,2...</td>\n",
       "      <td>[2.1645e-02,1.3017e-02,1.2058e-01,4.5645e-02,5...</td>\n",
       "    </tr>\n",
       "  </tbody>\n",
       "</table>\n",
       "<p>250 rows × 4 columns</p>\n",
       "</div>"
      ],
      "text/plain": [
       "        alpha      beta                                                  I  \\\n",
       "0    0.556824  0.432547  [3.0000e+00,2.5413e+01,6.6242e+01,1.4076e+02,2...   \n",
       "1    0.917183  0.617733  [3.0000e+00,4.6435e+01,1.2668e+02,1.8865e+02,1...   \n",
       "2    0.222595  0.684092  [3.0000e+00,2.3207e+02,5.2139e+02,5.1127e+02,4...   \n",
       "3    0.513685  0.231400  [3.0000e+00,6.2250e+00,8.8920e+00,1.2593e+01,1...   \n",
       "4    0.533168  0.343659  [3.0000e+00,1.3872e+01,2.8699e+01,5.5722e+01,9...   \n",
       "..        ...       ...                                                ...   \n",
       "245  0.018504  0.236397  [3.0000e+00,1.7329e+01,4.0684e+01,9.1622e+01,1...   \n",
       "246  0.183638  0.371210  [3.0000e+00,3.3838e+01,1.0217e+02,2.4462e+02,4...   \n",
       "247  0.097239  0.421748  [3.0000e+00,5.7375e+01,2.0121e+02,4.4055e+02,5...   \n",
       "248  0.790416  0.309533  [3.0000e+00,6.4540e+00,9.3210e+00,1.3244e+01,1...   \n",
       "249  0.498675  0.419194  [3.0000e+00,2.5851e+01,6.8293e+01,1.4792e+02,2...   \n",
       "\n",
       "                                                    li  \n",
       "0    [3.5465e-02,6.0205e-02,5.2629e-02,1.9994e-02,3...  \n",
       "1    [4.6994e-02,6.1737e-02,5.9416e-02,6.5321e-02,3...  \n",
       "2    [3.8465e-02,1.4980e-02,4.3391e-02,8.0108e-02,6...  \n",
       "3    [1.2181e-01,1.2303e-01,6.9494e-02,8.3929e-02,6...  \n",
       "4    [2.9563e-02,5.4805e-02,2.3345e-02,1.7169e-01,5...  \n",
       "..                                                 ...  \n",
       "245  [3.5029e-02,7.6161e-02,9.8830e-02,2.7422e-02,1...  \n",
       "246  [5.3251e-02,9.8350e-02,3.7443e-02,2.2209e-02,1...  \n",
       "247  [2.2518e-02,4.6346e-02,2.5197e-02,5.0298e-02,4...  \n",
       "248  [6.6862e-02,4.2194e-02,5.7831e-02,3.8413e-02,3...  \n",
       "249  [2.1645e-02,1.3017e-02,1.2058e-01,4.5645e-02,5...  \n",
       "\n",
       "[250 rows x 4 columns]"
      ]
     },
     "execution_count": 4,
     "metadata": {},
     "output_type": "execute_result"
    }
   ],
   "source": [
    "SIR_data = pd.read_csv('../../data/SIR_data.csv.gz')\n",
    "SIR_data"
   ]
  },
  {
   "cell_type": "code",
   "execution_count": 5,
   "id": "133d42b2-11f7-4757-a70b-67e44b430728",
   "metadata": {},
   "outputs": [
    {
     "name": "stdout",
     "output_type": "stream",
     "text": [
      "alpha in [0.00, 1.00]\n",
      "beta in [0.20, 0.70]\n"
     ]
    }
   ],
   "source": [
    "print('alpha in [%.2f, %.2f]' % (SIR_data['alpha'].min(), SIR_data['alpha'].max()))\n",
    "print('beta in [%.2f, %.2f]' % (SIR_data['beta'].min(), SIR_data['beta'].max()))"
   ]
  },
  {
   "cell_type": "code",
   "execution_count": 6,
   "id": "4f758a45-c0ac-416a-b76d-af803d15edb0",
   "metadata": {},
   "outputs": [],
   "source": [
    "def cdf(lst, x):\n",
    "\n",
    "    count = sum(1 for num in lst if num <= x)\n",
    "    return count / len(lst)\n",
    "\n",
    "\n",
    "def flatten_SIR_data(df):\n",
    "    \"\"\" and add cdf column\"\"\"\n",
    "    alpha_l = []\n",
    "    beta_l = []\n",
    "    Infected_l = []\n",
    "    li_l = []\n",
    "    true_CDF_l=[]\n",
    "    for rowind, row in df.iterrows():\n",
    "        li = eval(row['li'])\n",
    "        \n",
    "        for lambda_val in li:\n",
    "            true_CDF_l.append(cdf(li, lambda_val))\n",
    "    \n",
    "    for rowind, row in df.iterrows():\n",
    "    #     Infected = eval(row['I'])\n",
    "    #     Infected_l.append(Infected)\n",
    "        \n",
    "        li = eval(row['li'])\n",
    "        li_l.append(li)\n",
    "\n",
    "        \n",
    "        alpha_r = np.full_like(li, row['alpha'])\n",
    "        alpha_l.append(alpha_r)\n",
    "        \n",
    "        beta_r = np.full_like(li, row['beta'])\n",
    "        beta_l.append(beta_r)\n",
    "        \n",
    "        \n",
    "    \n",
    "    # for arr in [alpha_l, beta_l, Infected_l, li_l]:\n",
    "    #     arr = np.array(arr).flatten()\n",
    "    alpha_l = np.array(alpha_l).flatten()\n",
    "    beta_l = np.array(beta_l).flatten()\n",
    "    # Infected_l = np.array(Infected_l).flatten()\n",
    "    li_l = np.array(li_l).flatten()\n",
    "    true_CDF_l = np.array(true_CDF_l).flatten()\n",
    "    \n",
    "    data_flat = pd.DataFrame({\n",
    "        'alpha':alpha_l,\n",
    "        'beta': beta_l,\n",
    "        # 'I' :Infected_l,\n",
    "        'li':li_l,\n",
    "        'true_CDF':true_CDF_l \n",
    "    })\n",
    "    \n",
    "    return data_flat"
   ]
  },
  {
   "cell_type": "code",
   "execution_count": 7,
   "id": "1535c4e2-bf1b-43a7-8846-af18e9c87884",
   "metadata": {},
   "outputs": [
    {
     "data": {
      "text/html": [
       "<div>\n",
       "<style scoped>\n",
       "    .dataframe tbody tr th:only-of-type {\n",
       "        vertical-align: middle;\n",
       "    }\n",
       "\n",
       "    .dataframe tbody tr th {\n",
       "        vertical-align: top;\n",
       "    }\n",
       "\n",
       "    .dataframe thead th {\n",
       "        text-align: right;\n",
       "    }\n",
       "</style>\n",
       "<table border=\"1\" class=\"dataframe\">\n",
       "  <thead>\n",
       "    <tr style=\"text-align: right;\">\n",
       "      <th></th>\n",
       "      <th>alpha</th>\n",
       "      <th>beta</th>\n",
       "      <th>li</th>\n",
       "      <th>true_CDF</th>\n",
       "    </tr>\n",
       "  </thead>\n",
       "  <tbody>\n",
       "    <tr>\n",
       "      <th>0</th>\n",
       "      <td>0.556824</td>\n",
       "      <td>0.432547</td>\n",
       "      <td>0.035465</td>\n",
       "      <td>0.3400</td>\n",
       "    </tr>\n",
       "    <tr>\n",
       "      <th>1</th>\n",
       "      <td>0.556824</td>\n",
       "      <td>0.432547</td>\n",
       "      <td>0.060205</td>\n",
       "      <td>0.6125</td>\n",
       "    </tr>\n",
       "    <tr>\n",
       "      <th>2</th>\n",
       "      <td>0.556824</td>\n",
       "      <td>0.432547</td>\n",
       "      <td>0.052629</td>\n",
       "      <td>0.5350</td>\n",
       "    </tr>\n",
       "    <tr>\n",
       "      <th>3</th>\n",
       "      <td>0.556824</td>\n",
       "      <td>0.432547</td>\n",
       "      <td>0.019994</td>\n",
       "      <td>0.0725</td>\n",
       "    </tr>\n",
       "    <tr>\n",
       "      <th>4</th>\n",
       "      <td>0.556824</td>\n",
       "      <td>0.432547</td>\n",
       "      <td>0.035213</td>\n",
       "      <td>0.3300</td>\n",
       "    </tr>\n",
       "    <tr>\n",
       "      <th>...</th>\n",
       "      <td>...</td>\n",
       "      <td>...</td>\n",
       "      <td>...</td>\n",
       "      <td>...</td>\n",
       "    </tr>\n",
       "    <tr>\n",
       "      <th>99995</th>\n",
       "      <td>0.498675</td>\n",
       "      <td>0.419194</td>\n",
       "      <td>0.077266</td>\n",
       "      <td>0.7225</td>\n",
       "    </tr>\n",
       "    <tr>\n",
       "      <th>99996</th>\n",
       "      <td>0.498675</td>\n",
       "      <td>0.419194</td>\n",
       "      <td>0.043796</td>\n",
       "      <td>0.4475</td>\n",
       "    </tr>\n",
       "    <tr>\n",
       "      <th>99997</th>\n",
       "      <td>0.498675</td>\n",
       "      <td>0.419194</td>\n",
       "      <td>0.014526</td>\n",
       "      <td>0.0250</td>\n",
       "    </tr>\n",
       "    <tr>\n",
       "      <th>99998</th>\n",
       "      <td>0.498675</td>\n",
       "      <td>0.419194</td>\n",
       "      <td>0.055118</td>\n",
       "      <td>0.5675</td>\n",
       "    </tr>\n",
       "    <tr>\n",
       "      <th>99999</th>\n",
       "      <td>0.498675</td>\n",
       "      <td>0.419194</td>\n",
       "      <td>0.054795</td>\n",
       "      <td>0.5650</td>\n",
       "    </tr>\n",
       "  </tbody>\n",
       "</table>\n",
       "<p>100000 rows × 4 columns</p>\n",
       "</div>"
      ],
      "text/plain": [
       "          alpha      beta        li  true_CDF\n",
       "0      0.556824  0.432547  0.035465    0.3400\n",
       "1      0.556824  0.432547  0.060205    0.6125\n",
       "2      0.556824  0.432547  0.052629    0.5350\n",
       "3      0.556824  0.432547  0.019994    0.0725\n",
       "4      0.556824  0.432547  0.035213    0.3300\n",
       "...         ...       ...       ...       ...\n",
       "99995  0.498675  0.419194  0.077266    0.7225\n",
       "99996  0.498675  0.419194  0.043796    0.4475\n",
       "99997  0.498675  0.419194  0.014526    0.0250\n",
       "99998  0.498675  0.419194  0.055118    0.5675\n",
       "99999  0.498675  0.419194  0.054795    0.5650\n",
       "\n",
       "[100000 rows x 4 columns]"
      ]
     },
     "execution_count": 7,
     "metadata": {},
     "output_type": "execute_result"
    }
   ],
   "source": [
    "SIR_data_flat = flatten_SIR_data(SIR_data)\n",
    "SIR_data_flat"
   ]
  },
  {
   "cell_type": "code",
   "execution_count": 8,
   "id": "193db865-54e9-4eee-9d59-2116cae187a1",
   "metadata": {},
   "outputs": [],
   "source": [
    "def split_t_x(df, target, source):\n",
    "    # change from pandas dataframe format to a numpy \n",
    "    # array of the specified types\n",
    "    t = np.array(df[target])\n",
    "    x = np.array(df[source])\n",
    "    return t, x\n",
    "\n",
    "def get_bootstrap(train_x, train_t):\n",
    "    from copy import deepcopy\n",
    "    N = len(train_x)\n",
    "    arr =np.arange(0,N-1)\n",
    "    select =[]\n",
    "    for i in range(N):\n",
    "        integer = np.random.randint(0,N-1)\n",
    "        select.append(integer)\n",
    "        \n",
    "    return deepcopy(train_x[select]), deepcopy(train_t[select])\n",
    "\n",
    "def getwholedata_delta_SIR():\n",
    "    \"\"\" Get train test split arrays\"\"\"\n",
    "    \n",
    "    data = SIR_data_flat\n",
    "        \n",
    "    train_data, test_data = train_test_split(data, test_size=0.1)\n",
    "    #split the train data (0.8 of whole set) again into 0.8*0.8=0.64 of whole set\n",
    "    \n",
    "\n",
    "    train_data = train_data.reset_index(drop=True)\n",
    "    test_data  = test_data.reset_index(drop=True)\n",
    "\n",
    "    target='true_CDF'\n",
    "    # target='y'\n",
    "    # source = ['theta','nu','theta_hat','N','M']\n",
    "\n",
    "    # source = ['theta', 'nu', 'lambda', 'true_CDF']\n",
    "    source = ['alpha', 'beta', 'li']\n",
    "\n",
    "    train_t, train_x = split_t_x(train_data, target=target, source=source)\n",
    "    test_t,  test_x  = split_t_x(test_data,  target=target, source=source)\n",
    "    print('train_t shape = ', train_t.shape, '\\n')\n",
    "    print('train_x shape = ', train_x.shape, '\\n')\n",
    "    \n",
    "    # if valid:\n",
    "        #if you want to also make a validation data set\n",
    "    train_data, valid_data = train_test_split(train_data, test_size=0.015)\n",
    "    valid_data = valid_data.reset_index(drop=True)\n",
    "    valid_t, valid_x = split_t_x(valid_data, target=target, source=source)\n",
    "\n",
    "        \n",
    "    # train_x, train_t = get_bootstrap(train_x, train_t)\n",
    "    \n",
    "    return train_t, train_x, test_t,  test_x, valid_t, valid_x"
   ]
  },
  {
   "cell_type": "code",
   "execution_count": 9,
   "id": "288be0c4-3ecc-42ef-a7dc-582b1da8b768",
   "metadata": {},
   "outputs": [
    {
     "name": "stdout",
     "output_type": "stream",
     "text": [
      "train_t shape =  (90000,) \n",
      "\n",
      "train_x shape =  (90000, 3) \n",
      "\n"
     ]
    }
   ],
   "source": [
    "train_t, train_x, test_t,  test_x, valid_t, valid_x = getwholedata_delta_SIR()\n",
    "N_Features = train_x.shape[1]"
   ]
  },
  {
   "cell_type": "code",
   "execution_count": 10,
   "id": "aea5f805-3c2c-4ed8-b845-9d9fe2bc5230",
   "metadata": {},
   "outputs": [],
   "source": [
    "def get_features_training_batch(x, t, batch_size):\n",
    "    # the numpy function choice(length, number)\n",
    "    # selects at random \"batch_size\" integers from \n",
    "    # the range [0, length-1] corresponding to the\n",
    "    # row indices.\n",
    "    rows    = np.random.choice(len(x), batch_size)\n",
    "    batch_x = x[rows]\n",
    "    batch_t = t[rows]\n",
    "    # batch_x.T[-1] = np.random.uniform(0, 1, batch_size)\n",
    "    return (batch_x, batch_t)\n",
    "\n",
    "from torch.autograd import Variable\n",
    "\n",
    "class SinActivation(torch.nn.Module):\n",
    "    def __init__(self):\n",
    "        super(SinActivation, self).__init__()\n",
    "        \n",
    "    def forward(self, x):\n",
    "        return torch.sin(x)\n",
    "    \n",
    "    \n",
    "def RMS(v):\n",
    "    return (torch.mean(v**2)) ** 0.5\n",
    "\n",
    "def average_quadratic_loss(f, t, x):\n",
    "    # f and t must be of the same shape\n",
    "\n",
    "    # inv = torch.where(t !=0, 1/torch.abs(t), 1)\n",
    "    \n",
    "    # inv_RMS = torch.where(t !=0, 1/RMS(t), 1)\n",
    "    \n",
    "    return  torch.mean(  (f - t)**2)\n",
    "\n",
    "# Huber loss function\n",
    "def huber_loss(f, t, x):\n",
    "    delta=torch.Tensor([1.0])\n",
    "    huber_mse = 0.5*(f-t)**2\n",
    "    huber_mae = delta * (torch.abs(t - f) - 0.5 * delta)\n",
    "    return torch.where(torch.abs(t - f) <= delta, huber_mse, huber_mae)\n",
    "    \n",
    "def Huber_loss(f, t, x):\n",
    "    return torch.nn.functional.huber_loss(f,t, delta=0.7)\n",
    "\n",
    "def absolute_error(f,t,x):\n",
    "    return torch.mean(torch.abs(f-t) )\n",
    "\n",
    "def kl_divergence_loss(q, p, x):\n",
    "    criterion = torch.nn.KLDivLoss(reduction='batchmean')\n",
    "    loss = criterion(torch.log(p), q)\n",
    "    return loss\n",
    "\n",
    "\n",
    "def validate(model, avloss, inputs, targets):\n",
    "    # make sure we set evaluation mode so that any training specific\n",
    "    # operations are disabled.\n",
    "    model.eval() # evaluation mode\n",
    "    \n",
    "    with torch.no_grad(): # no need to compute gradients wrt. x and t\n",
    "        x = torch.from_numpy(inputs).float().to(device)\n",
    "        t = torch.from_numpy(targets).float().to(device)\n",
    "        # remember to reshape!\n",
    "        o = model(x).reshape(t.shape)\n",
    "    return avloss(o, t, x)"
   ]
  },
  {
   "cell_type": "code",
   "execution_count": 11,
   "id": "4312929e-2d6c-4edb-b9e3-13c2b26a0400",
   "metadata": {},
   "outputs": [],
   "source": [
    "class SIRModel(nn.Module):\n",
    "    \"\"\"Used for hyperparameter tuning\"\"\"\n",
    "\n",
    "    # inherit from the super class\n",
    "    def __init__(\n",
    "        self,\n",
    "        nfeatures,\n",
    "        ntargets,\n",
    "        nlayers,\n",
    "        hidden_size,\n",
    "        activation,\n",
    "    ):\n",
    "        super().__init__()\n",
    "        layers = []\n",
    "        for i in range(nlayers):\n",
    "            if len(layers) == 0:\n",
    "                # nlayers is number of hidden layers+1, since there is always an input layer and an output layer\n",
    "                # INPUT LAYER\n",
    "                # inital layer has to have size of (input features, output_nodes),\n",
    "                # its output layer can have any size but it must match the size of the input layer of the next linear layer\n",
    "                # here we choose its output layer as the hidden size (fully connected)\n",
    "                # ALPHA DROPOUT\n",
    "                # layers.append(nn.AlphaDropout(dropout_1))\n",
    "\n",
    "                layer = nn.Linear(nfeatures, hidden_size)\n",
    "                # torch.nn.init.xavier_uniform_(layer.weight)\n",
    "                layers.append(layer)\n",
    "                # batch normalization\n",
    "                # layers.append(nn.BatchNorm1d(hidden_size))\n",
    "                # dropout should have higher values in deeper layers\n",
    "                # layers.append(nn.Dropout(dropout_1))#Use small dropout for 1st layers & larger dropout for later layers. In both cases, the larger he model the larger the dropout.\n",
    "                # When model is in training, apply dropout. When using model for inference, dont use dropout\n",
    "\n",
    "                # ReLU activation\n",
    "                if activation == \"LeakyReLU\":\n",
    "                    layers.append(nn.LeakyReLU(negative_slope=0.3))\n",
    "                elif activation == \"PReLU\":\n",
    "                    layers.append(nn.PReLU())\n",
    "                elif activation == \"ReLU6\":\n",
    "                    layers.append(nn.ReLU6())\n",
    "                elif activation == \"ELU\":\n",
    "                    layers.append(nn.ELU())\n",
    "                elif activation == \"SELU\":\n",
    "                    layers.append(nn.SELU())\n",
    "                elif activation == \"CELU\":\n",
    "                    layers.append(nn.CELU())\n",
    "\n",
    "            else:\n",
    "                # if this is not the first layer (we dont have layers)\n",
    "                layer = nn.Linear(hidden_size, hidden_size)\n",
    "                # torch.nn.init.xavier_uniform_(layer.weight)\n",
    "                layers.append(layer)\n",
    "                # layers.append(nn.Dropout(dropout_2))\n",
    "                # layers.append(nn.BatchNorm1d(hidden_size))\n",
    "\n",
    "                if activation == \"LeakyReLU\":\n",
    "                    layers.append(nn.LeakyReLU(negative_slope=0.3))\n",
    "                elif activation == \"PReLU\":\n",
    "                    layers.append(nn.PReLU())\n",
    "                elif activation == \"ReLU6\":\n",
    "                    layers.append(nn.ReLU6())\n",
    "                elif activation == \"ELU\":\n",
    "                    layers.append(nn.ELU())\n",
    "                elif activation == \"SELU\":\n",
    "                    layers.append(nn.SELU())\n",
    "                elif activation == \"CELU\":\n",
    "                    layers.append(nn.CELU())\n",
    "\n",
    "        # output layer:\n",
    "        output_layer = nn.Linear(hidden_size, ntargets)\n",
    "        # torch.nn.init.xavier_uniform_(output_layer.weight)\n",
    "        layers.append(output_layer)\n",
    "\n",
    "        # only for classification add sigmoid\n",
    "        # layers.append(nn.Sigmoid()) or softmax\n",
    "        # we have defined sequential model using the layers in oulist\n",
    "        self.model = nn.Sequential(*layers)\n",
    "        \n",
    "    def forward(self, x):\n",
    "        return self.model(x)\n"
   ]
  },
  {
   "cell_type": "code",
   "execution_count": 12,
   "id": "847c8c75-c728-457e-8825-986f17fe35ba",
   "metadata": {},
   "outputs": [],
   "source": [
    "class HyperTrainer():\n",
    "    \"\"\"loss, training and evaluation\"\"\"\n",
    "    def __init__(self, model, optimizer, batch_size):\n",
    "                 #, device):\n",
    "        self.model = model\n",
    "        #self.device= device\n",
    "        self.optimizer = optimizer\n",
    "        self.batch_size=batch_size\n",
    "        # N_epochs X N_train_examples = N_iterations X batch_size\n",
    "        # So for 1 epoch,\n",
    "        # \n",
    "        self.n_iterations_tune=int(50) # number of iterations to train on per optuna trial\n",
    "\n",
    "        #the loss function returns the loss function. It is a static method so it doesn't need self\n",
    "        # @staticmethod\n",
    "        # def loss_fun(targets, outputs):\n",
    "        #   tau = torch.rand(outputs.shape)\n",
    "        #   return torch.mean(torch.where(targets >= outputs, \n",
    "        #                                   tau * (targets - outputs), \n",
    "        #                                   (1 - tau)*(outputs - targets)))\n",
    "\n",
    "        #     This loss combines a Sigmoid layer and the BCELoss in one single class. This version is more numerically stable than using a plain Sigmoid followed by a BCELoss as, \n",
    "        #     by combining the operations into one layer\n",
    "\n",
    "    def train(self, x, t):\n",
    "\n",
    "        self.model.train()\n",
    "        final_loss = 0\n",
    "        for iteration in range(self.n_iterations_tune):\n",
    "            self.optimizer.zero_grad()\n",
    "            batch_x, batch_t = get_features_training_batch(x, t,  self.batch_size)#x and t are train_x and train_t\n",
    "\n",
    "            with torch.no_grad():\n",
    "                inputs=torch.from_numpy(batch_x).float()\n",
    "                targets=torch.from_numpy(batch_t).float()\n",
    "            outputs = self.model(inputs)\n",
    "            loss = average_quadratic_loss(outputs, targets, inputs)\n",
    "            loss.backward()\n",
    "            self.optimizer.step()\n",
    "            final_loss += loss.item()\n",
    "\n",
    "        return final_loss / self.batch_size\n",
    "\n",
    "    def evaluate(self, x, t):\n",
    "\n",
    "        self.model.eval()\n",
    "        final_loss = 0\n",
    "        for iteration in range(self.n_iterations_tune):\n",
    "            batch_x, batch_t = get_features_training_batch(x, t,  self.batch_size)#x and t are train_x and train_t\n",
    "\n",
    "            with torch.no_grad():            \n",
    "                inputs=torch.from_numpy(batch_x).float()\n",
    "                targets=torch.from_numpy(batch_t).float()\n",
    "            outputs = self.model(inputs)\n",
    "            loss =average_quadratic_loss(outputs, targets, inputs)\n",
    "            final_loss += loss.item()\n",
    "        return final_loss / self.batch_size\n",
    "\n",
    "\n",
    "#########################################################################\n",
    "# N_epochs X N_train_examples = N_iterations X batch_size\n",
    "EPOCHS=1\n",
    "def run_train(params, save_model=False):\n",
    "    \"\"\"For tuning the parameters\"\"\"\n",
    "\n",
    "    model =  SIRModel(\n",
    "              nfeatures=train_x.shape[1], \n",
    "                ntargets=1,\n",
    "                nlayers=params[\"nlayers\"], \n",
    "                hidden_size=params[\"hidden_size\"],\n",
    "                activation=params[\"activation\"]\n",
    "                )\n",
    "    # print(model)\n",
    "    \n",
    "\n",
    "    learning_rate= params[\"learning_rate\"]\n",
    "    optimizer_name = params[\"optimizer_name\"]\n",
    "    \n",
    "    # optimizer = torch.optim.Adam(model.parameters(), lr=params[\"learning_rate\"]) \n",
    "    \n",
    "    optimizer = getattr(torch.optim, optimizer_name)(model.parameters(), \n",
    "                            lr=learning_rate, \n",
    "                            # momentum = params[\"momentum\"]\n",
    "                                                    )\n",
    "    \n",
    "    trainer=HyperTrainer(model, optimizer, batch_size=params[\"batch_size\"])\n",
    "    best_loss = np.inf\n",
    "    early_stopping_iter=10#stop after 10 iteractions of not improving loss\n",
    "    early_stopping_coutner=0\n",
    "    EPOCHS=1\n",
    "    \n",
    "    for epoch in range(EPOCHS):\n",
    "        train_loss = trainer.train(train_x, train_t)\n",
    "        test_loss = trainer.evaluate(test_x, test_t)\n",
    "\n",
    "        # # Early stopping logic (if needed)\n",
    "        # if test_loss < best_loss:\n",
    "        #     best_loss = test_loss\n",
    "        #     early_stopping_counter = 0\n",
    "        # else:\n",
    "        #     early_stopping_counter += 1\n",
    "        #     if early_stopping_counter > early_stopping_iter:\n",
    "        #         break\n",
    "\n",
    "    return test_loss"
   ]
  },
  {
   "cell_type": "code",
   "execution_count": 20,
   "id": "736afef3-95ad-4ff9-935f-25f0e63b9f42",
   "metadata": {},
   "outputs": [],
   "source": [
    "def objective(trial):\n",
    "    CLUSTER=False\n",
    "    #cluster has greater memory than my laptop, which allows higher max values in hyperparam. search space\n",
    "    if CLUSTER:\n",
    "        nlayers_max,n_hidden_max, batch_size_max=int(24),int(350), int(2e5)\n",
    "    else:\n",
    "        nlayers_max,n_hidden_max, batch_size_max=int(6),int(64), int(3e3)\n",
    "\n",
    "    #hyperparameter search space:\n",
    "    params = {\n",
    "          \"nlayers\": trial.suggest_int(\"nlayers\",1,nlayers_max),      \n",
    "          \"hidden_size\": trial.suggest_int(\"hidden_size\", 1, n_hidden_max),\n",
    "          \"optimizer_name\" : trial.suggest_categorical(\"optimizer_name\", [\"RMSprop\", \"SGD\"]),\n",
    "          \"learning_rate\": trial.suggest_float(\"learning_rate\", 1e-6, 1e-2),\n",
    "          \"batch_size\": trial.suggest_int(\"batch_size\", 500, batch_size_max),\n",
    "        \"activation\" : trial.suggest_categorical(\"activation\", [\"LeakyReLU\", \"PReLU\"])\n",
    "\n",
    "        }\n",
    "    \n",
    "    for step in range(10):\n",
    "\n",
    "        temp_loss = run_train(params,save_model=False)\n",
    "        trial.report(temp_loss, step)\n",
    "        #activate pruning (early stopping if the current step in the trial has unpromising results)\n",
    "        #instead of doing lots of iterations, do less iterations and more steps in each trial,  \n",
    "        #such that a trial is terminated if a step yields an unpromising loss.\n",
    "        \n",
    "        if trial.should_prune():\n",
    "            raise optuna.TrialPruned()\n",
    "    \n",
    "    return temp_loss\n",
    "\n",
    "\n",
    "def tune_hyperparameters(save_best_params,n_trials=10):\n",
    "    \n",
    "\n",
    "    sampler=False#use different sampling technique than the defualt one if sampler=True.\n",
    "    if sampler:\n",
    "        #choose a different sampling strategy (https://optuna.readthedocs.io/en/stable/reference/samplers/generated/optuna.samplers.CmaEsSampler.html#optuna.samplers.CmaEsSampler)\n",
    "        # sampler=optuna.samplers.RandomSampler()\n",
    "        study=optuna.create_study(direction='minimize',\n",
    "                                  pruner=optuna.pruners.MedianPruner(), sampler=sampler)\n",
    "    else:\n",
    "        #but the default sampler is usually better - no need to change it!\n",
    "        study=optuna.create_study(direction='minimize',\n",
    "                                  # pruner=optuna.pruners.HyperbandPruner()\n",
    "                                 )\n",
    "    \n",
    "    study.optimize(objective, n_trials=n_trials)\n",
    "    best_trial = study.best_trial\n",
    "    print('best model parameters', best_trial.params)\n",
    "\n",
    "    best_params=best_trial.params#this is a dictionary\n",
    "    #save best hyperapameters in a pandas dataframe as a .csv\n",
    "    if save_best_params:\n",
    "        tuned_dir = 'SIR_models'\n",
    "        filename=os.path.join(tuned_dir,'best_params_SIR_avg_quad_loss_%s_trials.csv' % str(int(n_trials)))\n",
    "        print(f'saving file named: {filename}')\n",
    "        param_df=pd.DataFrame({\n",
    "                                'n_layers':best_params[\"nlayers\"], \n",
    "                                'hidden_size':best_params[\"hidden_size\"], \n",
    "                                'optimizer_name':best_params[\"optimizer_name\"],\n",
    "                                'learning_rate': best_params[\"learning_rate\"], \n",
    "                                'batch_size':best_params[\"batch_size\"],\n",
    "                                'activation': best_params[\"activation\"]\n",
    "        },\n",
    "                                        index=[0]\n",
    "        )\n",
    "\n",
    "        param_df.to_csv(filename)   \n",
    "    return study"
   ]
  },
  {
   "cell_type": "code",
   "execution_count": 24,
   "id": "6ca4d913-15e9-4acc-923d-301d864a2b49",
   "metadata": {},
   "outputs": [
    {
     "name": "stderr",
     "output_type": "stream",
     "text": [
      "[I 2024-10-18 12:30:22,555] A new study created in memory with name: no-name-03bacdb9-6df6-4bad-90d1-29a5b3ebbd53\n",
      "[I 2024-10-18 12:30:28,926] Trial 0 finished with value: 0.003231116191957612 and parameters: {'nlayers': 3, 'hidden_size': 39, 'optimizer_name': 'RMSprop', 'learning_rate': 0.0008970738079470246, 'batch_size': 1294, 'activation': 'LeakyReLU'}. Best is trial 0 with value: 0.003231116191957612.\n",
      "[I 2024-10-18 12:30:48,400] Trial 1 finished with value: 0.0022689777393090096 and parameters: {'nlayers': 3, 'hidden_size': 32, 'optimizer_name': 'SGD', 'learning_rate': 0.008154681240954226, 'batch_size': 2375, 'activation': 'LeakyReLU'}. Best is trial 1 with value: 0.0022689777393090096.\n"
     ]
    },
    {
     "name": "stdout",
     "output_type": "stream",
     "text": [
      "best model parameters {'nlayers': 3, 'hidden_size': 32, 'optimizer_name': 'SGD', 'learning_rate': 0.008154681240954226, 'batch_size': 2375, 'activation': 'LeakyReLU'}\n",
      "saving file named: SIR_models/best_params_SIR_avg_quad_loss_2_trials.csv\n"
     ]
    }
   ],
   "source": [
    "NTRIALS = 2\n",
    "study= tune_hyperparameters(save_best_params=True, n_trials=NTRIALS)"
   ]
  },
  {
   "cell_type": "code",
   "execution_count": 22,
   "id": "538ef767-3661-4ae4-ba02-b165119be173",
   "metadata": {},
   "outputs": [
    {
     "data": {
      "application/vnd.plotly.v1+json": {
       "config": {
        "plotlyServerURL": "https://plot.ly"
       },
       "data": [
        {
         "mode": "markers",
         "name": "Objective Value",
         "type": "scatter",
         "x": [
          0,
          1
         ],
         "y": [
          0.0018440080601664385,
          0.0026160789530076316
         ]
        },
        {
         "mode": "lines",
         "name": "Best Value",
         "type": "scatter",
         "x": [
          0,
          1
         ],
         "y": [
          0.0018440080601664385,
          0.0018440080601664385
         ]
        },
        {
         "marker": {
          "color": "#cccccc"
         },
         "mode": "markers",
         "name": "Infeasible Trial",
         "showlegend": false,
         "type": "scatter",
         "x": [],
         "y": []
        }
       ],
       "layout": {
        "autosize": true,
        "template": {
         "data": {
          "bar": [
           {
            "error_x": {
             "color": "#2a3f5f"
            },
            "error_y": {
             "color": "#2a3f5f"
            },
            "marker": {
             "line": {
              "color": "#E5ECF6",
              "width": 0.5
             },
             "pattern": {
              "fillmode": "overlay",
              "size": 10,
              "solidity": 0.2
             }
            },
            "type": "bar"
           }
          ],
          "barpolar": [
           {
            "marker": {
             "line": {
              "color": "#E5ECF6",
              "width": 0.5
             },
             "pattern": {
              "fillmode": "overlay",
              "size": 10,
              "solidity": 0.2
             }
            },
            "type": "barpolar"
           }
          ],
          "carpet": [
           {
            "aaxis": {
             "endlinecolor": "#2a3f5f",
             "gridcolor": "white",
             "linecolor": "white",
             "minorgridcolor": "white",
             "startlinecolor": "#2a3f5f"
            },
            "baxis": {
             "endlinecolor": "#2a3f5f",
             "gridcolor": "white",
             "linecolor": "white",
             "minorgridcolor": "white",
             "startlinecolor": "#2a3f5f"
            },
            "type": "carpet"
           }
          ],
          "choropleth": [
           {
            "colorbar": {
             "outlinewidth": 0,
             "ticks": ""
            },
            "type": "choropleth"
           }
          ],
          "contour": [
           {
            "colorbar": {
             "outlinewidth": 0,
             "ticks": ""
            },
            "colorscale": [
             [
              0,
              "#0d0887"
             ],
             [
              0.1111111111111111,
              "#46039f"
             ],
             [
              0.2222222222222222,
              "#7201a8"
             ],
             [
              0.3333333333333333,
              "#9c179e"
             ],
             [
              0.4444444444444444,
              "#bd3786"
             ],
             [
              0.5555555555555556,
              "#d8576b"
             ],
             [
              0.6666666666666666,
              "#ed7953"
             ],
             [
              0.7777777777777778,
              "#fb9f3a"
             ],
             [
              0.8888888888888888,
              "#fdca26"
             ],
             [
              1,
              "#f0f921"
             ]
            ],
            "type": "contour"
           }
          ],
          "contourcarpet": [
           {
            "colorbar": {
             "outlinewidth": 0,
             "ticks": ""
            },
            "type": "contourcarpet"
           }
          ],
          "heatmap": [
           {
            "colorbar": {
             "outlinewidth": 0,
             "ticks": ""
            },
            "colorscale": [
             [
              0,
              "#0d0887"
             ],
             [
              0.1111111111111111,
              "#46039f"
             ],
             [
              0.2222222222222222,
              "#7201a8"
             ],
             [
              0.3333333333333333,
              "#9c179e"
             ],
             [
              0.4444444444444444,
              "#bd3786"
             ],
             [
              0.5555555555555556,
              "#d8576b"
             ],
             [
              0.6666666666666666,
              "#ed7953"
             ],
             [
              0.7777777777777778,
              "#fb9f3a"
             ],
             [
              0.8888888888888888,
              "#fdca26"
             ],
             [
              1,
              "#f0f921"
             ]
            ],
            "type": "heatmap"
           }
          ],
          "heatmapgl": [
           {
            "colorbar": {
             "outlinewidth": 0,
             "ticks": ""
            },
            "colorscale": [
             [
              0,
              "#0d0887"
             ],
             [
              0.1111111111111111,
              "#46039f"
             ],
             [
              0.2222222222222222,
              "#7201a8"
             ],
             [
              0.3333333333333333,
              "#9c179e"
             ],
             [
              0.4444444444444444,
              "#bd3786"
             ],
             [
              0.5555555555555556,
              "#d8576b"
             ],
             [
              0.6666666666666666,
              "#ed7953"
             ],
             [
              0.7777777777777778,
              "#fb9f3a"
             ],
             [
              0.8888888888888888,
              "#fdca26"
             ],
             [
              1,
              "#f0f921"
             ]
            ],
            "type": "heatmapgl"
           }
          ],
          "histogram": [
           {
            "marker": {
             "pattern": {
              "fillmode": "overlay",
              "size": 10,
              "solidity": 0.2
             }
            },
            "type": "histogram"
           }
          ],
          "histogram2d": [
           {
            "colorbar": {
             "outlinewidth": 0,
             "ticks": ""
            },
            "colorscale": [
             [
              0,
              "#0d0887"
             ],
             [
              0.1111111111111111,
              "#46039f"
             ],
             [
              0.2222222222222222,
              "#7201a8"
             ],
             [
              0.3333333333333333,
              "#9c179e"
             ],
             [
              0.4444444444444444,
              "#bd3786"
             ],
             [
              0.5555555555555556,
              "#d8576b"
             ],
             [
              0.6666666666666666,
              "#ed7953"
             ],
             [
              0.7777777777777778,
              "#fb9f3a"
             ],
             [
              0.8888888888888888,
              "#fdca26"
             ],
             [
              1,
              "#f0f921"
             ]
            ],
            "type": "histogram2d"
           }
          ],
          "histogram2dcontour": [
           {
            "colorbar": {
             "outlinewidth": 0,
             "ticks": ""
            },
            "colorscale": [
             [
              0,
              "#0d0887"
             ],
             [
              0.1111111111111111,
              "#46039f"
             ],
             [
              0.2222222222222222,
              "#7201a8"
             ],
             [
              0.3333333333333333,
              "#9c179e"
             ],
             [
              0.4444444444444444,
              "#bd3786"
             ],
             [
              0.5555555555555556,
              "#d8576b"
             ],
             [
              0.6666666666666666,
              "#ed7953"
             ],
             [
              0.7777777777777778,
              "#fb9f3a"
             ],
             [
              0.8888888888888888,
              "#fdca26"
             ],
             [
              1,
              "#f0f921"
             ]
            ],
            "type": "histogram2dcontour"
           }
          ],
          "mesh3d": [
           {
            "colorbar": {
             "outlinewidth": 0,
             "ticks": ""
            },
            "type": "mesh3d"
           }
          ],
          "parcoords": [
           {
            "line": {
             "colorbar": {
              "outlinewidth": 0,
              "ticks": ""
             }
            },
            "type": "parcoords"
           }
          ],
          "pie": [
           {
            "automargin": true,
            "type": "pie"
           }
          ],
          "scatter": [
           {
            "fillpattern": {
             "fillmode": "overlay",
             "size": 10,
             "solidity": 0.2
            },
            "type": "scatter"
           }
          ],
          "scatter3d": [
           {
            "line": {
             "colorbar": {
              "outlinewidth": 0,
              "ticks": ""
             }
            },
            "marker": {
             "colorbar": {
              "outlinewidth": 0,
              "ticks": ""
             }
            },
            "type": "scatter3d"
           }
          ],
          "scattercarpet": [
           {
            "marker": {
             "colorbar": {
              "outlinewidth": 0,
              "ticks": ""
             }
            },
            "type": "scattercarpet"
           }
          ],
          "scattergeo": [
           {
            "marker": {
             "colorbar": {
              "outlinewidth": 0,
              "ticks": ""
             }
            },
            "type": "scattergeo"
           }
          ],
          "scattergl": [
           {
            "marker": {
             "colorbar": {
              "outlinewidth": 0,
              "ticks": ""
             }
            },
            "type": "scattergl"
           }
          ],
          "scattermapbox": [
           {
            "marker": {
             "colorbar": {
              "outlinewidth": 0,
              "ticks": ""
             }
            },
            "type": "scattermapbox"
           }
          ],
          "scatterpolar": [
           {
            "marker": {
             "colorbar": {
              "outlinewidth": 0,
              "ticks": ""
             }
            },
            "type": "scatterpolar"
           }
          ],
          "scatterpolargl": [
           {
            "marker": {
             "colorbar": {
              "outlinewidth": 0,
              "ticks": ""
             }
            },
            "type": "scatterpolargl"
           }
          ],
          "scatterternary": [
           {
            "marker": {
             "colorbar": {
              "outlinewidth": 0,
              "ticks": ""
             }
            },
            "type": "scatterternary"
           }
          ],
          "surface": [
           {
            "colorbar": {
             "outlinewidth": 0,
             "ticks": ""
            },
            "colorscale": [
             [
              0,
              "#0d0887"
             ],
             [
              0.1111111111111111,
              "#46039f"
             ],
             [
              0.2222222222222222,
              "#7201a8"
             ],
             [
              0.3333333333333333,
              "#9c179e"
             ],
             [
              0.4444444444444444,
              "#bd3786"
             ],
             [
              0.5555555555555556,
              "#d8576b"
             ],
             [
              0.6666666666666666,
              "#ed7953"
             ],
             [
              0.7777777777777778,
              "#fb9f3a"
             ],
             [
              0.8888888888888888,
              "#fdca26"
             ],
             [
              1,
              "#f0f921"
             ]
            ],
            "type": "surface"
           }
          ],
          "table": [
           {
            "cells": {
             "fill": {
              "color": "#EBF0F8"
             },
             "line": {
              "color": "white"
             }
            },
            "header": {
             "fill": {
              "color": "#C8D4E3"
             },
             "line": {
              "color": "white"
             }
            },
            "type": "table"
           }
          ]
         },
         "layout": {
          "annotationdefaults": {
           "arrowcolor": "#2a3f5f",
           "arrowhead": 0,
           "arrowwidth": 1
          },
          "autotypenumbers": "strict",
          "coloraxis": {
           "colorbar": {
            "outlinewidth": 0,
            "ticks": ""
           }
          },
          "colorscale": {
           "diverging": [
            [
             0,
             "#8e0152"
            ],
            [
             0.1,
             "#c51b7d"
            ],
            [
             0.2,
             "#de77ae"
            ],
            [
             0.3,
             "#f1b6da"
            ],
            [
             0.4,
             "#fde0ef"
            ],
            [
             0.5,
             "#f7f7f7"
            ],
            [
             0.6,
             "#e6f5d0"
            ],
            [
             0.7,
             "#b8e186"
            ],
            [
             0.8,
             "#7fbc41"
            ],
            [
             0.9,
             "#4d9221"
            ],
            [
             1,
             "#276419"
            ]
           ],
           "sequential": [
            [
             0,
             "#0d0887"
            ],
            [
             0.1111111111111111,
             "#46039f"
            ],
            [
             0.2222222222222222,
             "#7201a8"
            ],
            [
             0.3333333333333333,
             "#9c179e"
            ],
            [
             0.4444444444444444,
             "#bd3786"
            ],
            [
             0.5555555555555556,
             "#d8576b"
            ],
            [
             0.6666666666666666,
             "#ed7953"
            ],
            [
             0.7777777777777778,
             "#fb9f3a"
            ],
            [
             0.8888888888888888,
             "#fdca26"
            ],
            [
             1,
             "#f0f921"
            ]
           ],
           "sequentialminus": [
            [
             0,
             "#0d0887"
            ],
            [
             0.1111111111111111,
             "#46039f"
            ],
            [
             0.2222222222222222,
             "#7201a8"
            ],
            [
             0.3333333333333333,
             "#9c179e"
            ],
            [
             0.4444444444444444,
             "#bd3786"
            ],
            [
             0.5555555555555556,
             "#d8576b"
            ],
            [
             0.6666666666666666,
             "#ed7953"
            ],
            [
             0.7777777777777778,
             "#fb9f3a"
            ],
            [
             0.8888888888888888,
             "#fdca26"
            ],
            [
             1,
             "#f0f921"
            ]
           ]
          },
          "colorway": [
           "#636efa",
           "#EF553B",
           "#00cc96",
           "#ab63fa",
           "#FFA15A",
           "#19d3f3",
           "#FF6692",
           "#B6E880",
           "#FF97FF",
           "#FECB52"
          ],
          "font": {
           "color": "#2a3f5f"
          },
          "geo": {
           "bgcolor": "white",
           "lakecolor": "white",
           "landcolor": "#E5ECF6",
           "showlakes": true,
           "showland": true,
           "subunitcolor": "white"
          },
          "hoverlabel": {
           "align": "left"
          },
          "hovermode": "closest",
          "mapbox": {
           "style": "light"
          },
          "paper_bgcolor": "white",
          "plot_bgcolor": "#E5ECF6",
          "polar": {
           "angularaxis": {
            "gridcolor": "white",
            "linecolor": "white",
            "ticks": ""
           },
           "bgcolor": "#E5ECF6",
           "radialaxis": {
            "gridcolor": "white",
            "linecolor": "white",
            "ticks": ""
           }
          },
          "scene": {
           "xaxis": {
            "backgroundcolor": "#E5ECF6",
            "gridcolor": "white",
            "gridwidth": 2,
            "linecolor": "white",
            "showbackground": true,
            "ticks": "",
            "zerolinecolor": "white"
           },
           "yaxis": {
            "backgroundcolor": "#E5ECF6",
            "gridcolor": "white",
            "gridwidth": 2,
            "linecolor": "white",
            "showbackground": true,
            "ticks": "",
            "zerolinecolor": "white"
           },
           "zaxis": {
            "backgroundcolor": "#E5ECF6",
            "gridcolor": "white",
            "gridwidth": 2,
            "linecolor": "white",
            "showbackground": true,
            "ticks": "",
            "zerolinecolor": "white"
           }
          },
          "shapedefaults": {
           "line": {
            "color": "#2a3f5f"
           }
          },
          "ternary": {
           "aaxis": {
            "gridcolor": "white",
            "linecolor": "white",
            "ticks": ""
           },
           "baxis": {
            "gridcolor": "white",
            "linecolor": "white",
            "ticks": ""
           },
           "bgcolor": "#E5ECF6",
           "caxis": {
            "gridcolor": "white",
            "linecolor": "white",
            "ticks": ""
           }
          },
          "title": {
           "x": 0.05
          },
          "xaxis": {
           "automargin": true,
           "gridcolor": "white",
           "linecolor": "white",
           "ticks": "",
           "title": {
            "standoff": 15
           },
           "zerolinecolor": "white",
           "zerolinewidth": 2
          },
          "yaxis": {
           "automargin": true,
           "gridcolor": "white",
           "linecolor": "white",
           "ticks": "",
           "title": {
            "standoff": 15
           },
           "zerolinecolor": "white",
           "zerolinewidth": 2
          }
         }
        },
        "title": {
         "text": "Optimization History Plot"
        },
        "xaxis": {
         "autorange": true,
         "range": [
          -0.07278742762613731,
          1.0727874276261373
         ],
         "title": {
          "text": "Trial"
         },
         "type": "linear"
        },
        "yaxis": {
         "autorange": true,
         "range": [
          0.0017802934719222624,
          0.002679793541251808
         ],
         "title": {
          "text": "Objective Value"
         },
         "type": "linear"
        }
       }
      },
      "image/png": "[encoded data removed]",
      "text/html": [
       "<div>                            <div id=\"4c8494dd-7b89-4651-8783-a826a01692a6\" class=\"plotly-graph-div\" style=\"height:525px; width:100%;\"></div>            <script type=\"text/javascript\">                require([\"plotly\"], function(Plotly) {                    window.PLOTLYENV=window.PLOTLYENV || {};                                    if (document.getElementById(\"4c8494dd-7b89-4651-8783-a826a01692a6\")) {                    Plotly.newPlot(                        \"4c8494dd-7b89-4651-8783-a826a01692a6\",                        [{\"mode\":\"markers\",\"name\":\"Objective Value\",\"x\":[0,1],\"y\":[0.0018440080601664385,0.0026160789530076316],\"type\":\"scatter\"},{\"mode\":\"lines\",\"name\":\"Best Value\",\"x\":[0,1],\"y\":[0.0018440080601664385,0.0018440080601664385],\"type\":\"scatter\"},{\"marker\":{\"color\":\"#cccccc\"},\"mode\":\"markers\",\"name\":\"Infeasible Trial\",\"showlegend\":false,\"x\":[],\"y\":[],\"type\":\"scatter\"}],                        {\"title\":{\"text\":\"Optimization History Plot\"},\"xaxis\":{\"title\":{\"text\":\"Trial\"}},\"yaxis\":{\"title\":{\"text\":\"Objective Value\"}},\"template\":{\"data\":{\"histogram2dcontour\":[{\"type\":\"histogram2dcontour\",\"colorbar\":{\"outlinewidth\":0,\"ticks\":\"\"},\"colorscale\":[[0.0,\"#0d0887\"],[0.1111111111111111,\"#46039f\"],[0.2222222222222222,\"#7201a8\"],[0.3333333333333333,\"#9c179e\"],[0.4444444444444444,\"#bd3786\"],[0.5555555555555556,\"#d8576b\"],[0.6666666666666666,\"#ed7953\"],[0.7777777777777778,\"#fb9f3a\"],[0.8888888888888888,\"#fdca26\"],[1.0,\"#f0f921\"]]}],\"choropleth\":[{\"type\":\"choropleth\",\"colorbar\":{\"outlinewidth\":0,\"ticks\":\"\"}}],\"histogram2d\":[{\"type\":\"histogram2d\",\"colorbar\":{\"outlinewidth\":0,\"ticks\":\"\"},\"colorscale\":[[0.0,\"#0d0887\"],[0.1111111111111111,\"#46039f\"],[0.2222222222222222,\"#7201a8\"],[0.3333333333333333,\"#9c179e\"],[0.4444444444444444,\"#bd3786\"],[0.5555555555555556,\"#d8576b\"],[0.6666666666666666,\"#ed7953\"],[0.7777777777777778,\"#fb9f3a\"],[0.8888888888888888,\"#fdca26\"],[1.0,\"#f0f921\"]]}],\"heatmap\":[{\"type\":\"heatmap\",\"colorbar\":{\"outlinewidth\":0,\"ticks\":\"\"},\"colorscale\":[[0.0,\"#0d0887\"],[0.1111111111111111,\"#46039f\"],[0.2222222222222222,\"#7201a8\"],[0.3333333333333333,\"#9c179e\"],[0.4444444444444444,\"#bd3786\"],[0.5555555555555556,\"#d8576b\"],[0.6666666666666666,\"#ed7953\"],[0.7777777777777778,\"#fb9f3a\"],[0.8888888888888888,\"#fdca26\"],[1.0,\"#f0f921\"]]}],\"heatmapgl\":[{\"type\":\"heatmapgl\",\"colorbar\":{\"outlinewidth\":0,\"ticks\":\"\"},\"colorscale\":[[0.0,\"#0d0887\"],[0.1111111111111111,\"#46039f\"],[0.2222222222222222,\"#7201a8\"],[0.3333333333333333,\"#9c179e\"],[0.4444444444444444,\"#bd3786\"],[0.5555555555555556,\"#d8576b\"],[0.6666666666666666,\"#ed7953\"],[0.7777777777777778,\"#fb9f3a\"],[0.8888888888888888,\"#fdca26\"],[1.0,\"#f0f921\"]]}],\"contourcarpet\":[{\"type\":\"contourcarpet\",\"colorbar\":{\"outlinewidth\":0,\"ticks\":\"\"}}],\"contour\":[{\"type\":\"contour\",\"colorbar\":{\"outlinewidth\":0,\"ticks\":\"\"},\"colorscale\":[[0.0,\"#0d0887\"],[0.1111111111111111,\"#46039f\"],[0.2222222222222222,\"#7201a8\"],[0.3333333333333333,\"#9c179e\"],[0.4444444444444444,\"#bd3786\"],[0.5555555555555556,\"#d8576b\"],[0.6666666666666666,\"#ed7953\"],[0.7777777777777778,\"#fb9f3a\"],[0.8888888888888888,\"#fdca26\"],[1.0,\"#f0f921\"]]}],\"surface\":[{\"type\":\"surface\",\"colorbar\":{\"outlinewidth\":0,\"ticks\":\"\"},\"colorscale\":[[0.0,\"#0d0887\"],[0.1111111111111111,\"#46039f\"],[0.2222222222222222,\"#7201a8\"],[0.3333333333333333,\"#9c179e\"],[0.4444444444444444,\"#bd3786\"],[0.5555555555555556,\"#d8576b\"],[0.6666666666666666,\"#ed7953\"],[0.7777777777777778,\"#fb9f3a\"],[0.8888888888888888,\"#fdca26\"],[1.0,\"#f0f921\"]]}],\"mesh3d\":[{\"type\":\"mesh3d\",\"colorbar\":{\"outlinewidth\":0,\"ticks\":\"\"}}],\"scatter\":[{\"fillpattern\":{\"fillmode\":\"overlay\",\"size\":10,\"solidity\":0.2},\"type\":\"scatter\"}],\"parcoords\":[{\"type\":\"parcoords\",\"line\":{\"colorbar\":{\"outlinewidth\":0,\"ticks\":\"\"}}}],\"scatterpolargl\":[{\"type\":\"scatterpolargl\",\"marker\":{\"colorbar\":{\"outlinewidth\":0,\"ticks\":\"\"}}}],\"bar\":[{\"error_x\":{\"color\":\"#2a3f5f\"},\"error_y\":{\"color\":\"#2a3f5f\"},\"marker\":{\"line\":{\"color\":\"#E5ECF6\",\"width\":0.5},\"pattern\":{\"fillmode\":\"overlay\",\"size\":10,\"solidity\":0.2}},\"type\":\"bar\"}],\"scattergeo\":[{\"type\":\"scattergeo\",\"marker\":{\"colorbar\":{\"outlinewidth\":0,\"ticks\":\"\"}}}],\"scatterpolar\":[{\"type\":\"scatterpolar\",\"marker\":{\"colorbar\":{\"outlinewidth\":0,\"ticks\":\"\"}}}],\"histogram\":[{\"marker\":{\"pattern\":{\"fillmode\":\"overlay\",\"size\":10,\"solidity\":0.2}},\"type\":\"histogram\"}],\"scattergl\":[{\"type\":\"scattergl\",\"marker\":{\"colorbar\":{\"outlinewidth\":0,\"ticks\":\"\"}}}],\"scatter3d\":[{\"type\":\"scatter3d\",\"line\":{\"colorbar\":{\"outlinewidth\":0,\"ticks\":\"\"}},\"marker\":{\"colorbar\":{\"outlinewidth\":0,\"ticks\":\"\"}}}],\"scattermapbox\":[{\"type\":\"scattermapbox\",\"marker\":{\"colorbar\":{\"outlinewidth\":0,\"ticks\":\"\"}}}],\"scatterternary\":[{\"type\":\"scatterternary\",\"marker\":{\"colorbar\":{\"outlinewidth\":0,\"ticks\":\"\"}}}],\"scattercarpet\":[{\"type\":\"scattercarpet\",\"marker\":{\"colorbar\":{\"outlinewidth\":0,\"ticks\":\"\"}}}],\"carpet\":[{\"aaxis\":{\"endlinecolor\":\"#2a3f5f\",\"gridcolor\":\"white\",\"linecolor\":\"white\",\"minorgridcolor\":\"white\",\"startlinecolor\":\"#2a3f5f\"},\"baxis\":{\"endlinecolor\":\"#2a3f5f\",\"gridcolor\":\"white\",\"linecolor\":\"white\",\"minorgridcolor\":\"white\",\"startlinecolor\":\"#2a3f5f\"},\"type\":\"carpet\"}],\"table\":[{\"cells\":{\"fill\":{\"color\":\"#EBF0F8\"},\"line\":{\"color\":\"white\"}},\"header\":{\"fill\":{\"color\":\"#C8D4E3\"},\"line\":{\"color\":\"white\"}},\"type\":\"table\"}],\"barpolar\":[{\"marker\":{\"line\":{\"color\":\"#E5ECF6\",\"width\":0.5},\"pattern\":{\"fillmode\":\"overlay\",\"size\":10,\"solidity\":0.2}},\"type\":\"barpolar\"}],\"pie\":[{\"automargin\":true,\"type\":\"pie\"}]},\"layout\":{\"autotypenumbers\":\"strict\",\"colorway\":[\"#636efa\",\"#EF553B\",\"#00cc96\",\"#ab63fa\",\"#FFA15A\",\"#19d3f3\",\"#FF6692\",\"#B6E880\",\"#FF97FF\",\"#FECB52\"],\"font\":{\"color\":\"#2a3f5f\"},\"hovermode\":\"closest\",\"hoverlabel\":{\"align\":\"left\"},\"paper_bgcolor\":\"white\",\"plot_bgcolor\":\"#E5ECF6\",\"polar\":{\"bgcolor\":\"#E5ECF6\",\"angularaxis\":{\"gridcolor\":\"white\",\"linecolor\":\"white\",\"ticks\":\"\"},\"radialaxis\":{\"gridcolor\":\"white\",\"linecolor\":\"white\",\"ticks\":\"\"}},\"ternary\":{\"bgcolor\":\"#E5ECF6\",\"aaxis\":{\"gridcolor\":\"white\",\"linecolor\":\"white\",\"ticks\":\"\"},\"baxis\":{\"gridcolor\":\"white\",\"linecolor\":\"white\",\"ticks\":\"\"},\"caxis\":{\"gridcolor\":\"white\",\"linecolor\":\"white\",\"ticks\":\"\"}},\"coloraxis\":{\"colorbar\":{\"outlinewidth\":0,\"ticks\":\"\"}},\"colorscale\":{\"sequential\":[[0.0,\"#0d0887\"],[0.1111111111111111,\"#46039f\"],[0.2222222222222222,\"#7201a8\"],[0.3333333333333333,\"#9c179e\"],[0.4444444444444444,\"#bd3786\"],[0.5555555555555556,\"#d8576b\"],[0.6666666666666666,\"#ed7953\"],[0.7777777777777778,\"#fb9f3a\"],[0.8888888888888888,\"#fdca26\"],[1.0,\"#f0f921\"]],\"sequentialminus\":[[0.0,\"#0d0887\"],[0.1111111111111111,\"#46039f\"],[0.2222222222222222,\"#7201a8\"],[0.3333333333333333,\"#9c179e\"],[0.4444444444444444,\"#bd3786\"],[0.5555555555555556,\"#d8576b\"],[0.6666666666666666,\"#ed7953\"],[0.7777777777777778,\"#fb9f3a\"],[0.8888888888888888,\"#fdca26\"],[1.0,\"#f0f921\"]],\"diverging\":[[0,\"#8e0152\"],[0.1,\"#c51b7d\"],[0.2,\"#de77ae\"],[0.3,\"#f1b6da\"],[0.4,\"#fde0ef\"],[0.5,\"#f7f7f7\"],[0.6,\"#e6f5d0\"],[0.7,\"#b8e186\"],[0.8,\"#7fbc41\"],[0.9,\"#4d9221\"],[1,\"#276419\"]]},\"xaxis\":{\"gridcolor\":\"white\",\"linecolor\":\"white\",\"ticks\":\"\",\"title\":{\"standoff\":15},\"zerolinecolor\":\"white\",\"automargin\":true,\"zerolinewidth\":2},\"yaxis\":{\"gridcolor\":\"white\",\"linecolor\":\"white\",\"ticks\":\"\",\"title\":{\"standoff\":15},\"zerolinecolor\":\"white\",\"automargin\":true,\"zerolinewidth\":2},\"scene\":{\"xaxis\":{\"backgroundcolor\":\"#E5ECF6\",\"gridcolor\":\"white\",\"linecolor\":\"white\",\"showbackground\":true,\"ticks\":\"\",\"zerolinecolor\":\"white\",\"gridwidth\":2},\"yaxis\":{\"backgroundcolor\":\"#E5ECF6\",\"gridcolor\":\"white\",\"linecolor\":\"white\",\"showbackground\":true,\"ticks\":\"\",\"zerolinecolor\":\"white\",\"gridwidth\":2},\"zaxis\":{\"backgroundcolor\":\"#E5ECF6\",\"gridcolor\":\"white\",\"linecolor\":\"white\",\"showbackground\":true,\"ticks\":\"\",\"zerolinecolor\":\"white\",\"gridwidth\":2}},\"shapedefaults\":{\"line\":{\"color\":\"#2a3f5f\"}},\"annotationdefaults\":{\"arrowcolor\":\"#2a3f5f\",\"arrowhead\":0,\"arrowwidth\":1},\"geo\":{\"bgcolor\":\"white\",\"landcolor\":\"#E5ECF6\",\"subunitcolor\":\"white\",\"showland\":true,\"showlakes\":true,\"lakecolor\":\"white\"},\"title\":{\"x\":0.05},\"mapbox\":{\"style\":\"light\"}}}},                        {\"responsive\": true}                    ).then(function(){\n",
       "                            \n",
       "var gd = document.getElementById('4c8494dd-7b89-4651-8783-a826a01692a6');\n",
       "var x = new MutationObserver(function (mutations, observer) {{\n",
       "        var display = window.getComputedStyle(gd).display;\n",
       "        if (!display || display === 'none') {{\n",
       "            console.log([gd, 'removed!']);\n",
       "            Plotly.purge(gd);\n",
       "            observer.disconnect();\n",
       "        }}\n",
       "}});\n",
       "\n",
       "// Listen for the removal of the full notebook cells\n",
       "var notebookContainer = gd.closest('#notebook-container');\n",
       "if (notebookContainer) {{\n",
       "    x.observe(notebookContainer, {childList: true});\n",
       "}}\n",
       "\n",
       "// Listen for the clearing of the current output cell\n",
       "var outputEl = gd.closest('.output');\n",
       "if (outputEl) {{\n",
       "    x.observe(outputEl, {childList: true});\n",
       "}}\n",
       "\n",
       "                        })                };                });            </script>        </div>"
      ]
     },
     "metadata": {},
     "output_type": "display_data"
    }
   ],
   "source": [
    "plot_optimization_history(study)"
   ]
  },
  {
   "cell_type": "code",
   "execution_count": 16,
   "id": "0bf4c3e6-8185-4498-a01f-a29ac3e0fa6c",
   "metadata": {},
   "outputs": [
    {
     "data": {
      "application/vnd.plotly.v1+json": {
       "config": {
        "plotlyServerURL": "https://plot.ly"
       },
       "data": [
        {
         "marker": {
          "maxdisplayed": 10
         },
         "mode": "lines+markers",
         "name": "Trial0",
         "type": "scatter",
         "x": [
          0,
          1,
          2,
          3,
          4,
          5,
          6,
          7,
          8,
          9
         ],
         "y": [
          0.032563814565316956,
          0.008431184125035556,
          0.019672685572460515,
          0.006649129526383841,
          0.01542099856618625,
          0.007126781644661035,
          0.011466373414246004,
          0.0062643685225230545,
          0.015532437189301447,
          0.009967890081565772
         ]
        },
        {
         "marker": {
          "maxdisplayed": 10
         },
         "mode": "lines+markers",
         "name": "Trial1",
         "type": "scatter",
         "x": [
          0,
          1,
          2,
          3,
          4,
          5,
          6,
          7,
          8,
          9
         ],
         "y": [
          0.006578140971412418,
          0.0065130141772306305,
          0.006548643476485454,
          0.006510463998614801,
          0.006571199004582426,
          0.006599802418086055,
          0.006525173501261401,
          0.006540419821765521,
          0.006533056004002267,
          0.006631388602196606
         ]
        },
        {
         "marker": {
          "maxdisplayed": 10
         },
         "mode": "lines+markers",
         "name": "Trial2",
         "type": "scatter",
         "x": [
          0,
          1,
          2,
          3,
          4,
          5,
          6,
          7,
          8,
          9
         ],
         "y": [
          0.023570115318970204,
          0.017185566739093536,
          0.02048764624241047,
          0.027410011789570116,
          0.0162244844751582,
          0.02245780694391396,
          0.01836328593368866,
          0.027701750018591983,
          0.026402490071354548,
          0.03136351634611589
         ]
        },
        {
         "marker": {
          "maxdisplayed": 10
         },
         "mode": "lines+markers",
         "name": "Trial3",
         "type": "scatter",
         "x": [
          0,
          1,
          2,
          3,
          4,
          5,
          6,
          7,
          8,
          9
         ],
         "y": [
          0.007123850261295217,
          0.005944264703623295,
          0.004688811292300374,
          0.006223057237628285,
          0.008266174242172273,
          0.009281877026727938,
          0.007544679514705443,
          0.007539916851528446,
          0.0054129392378168125,
          0.009331022773809101
         ]
        },
        {
         "marker": {
          "maxdisplayed": 10
         },
         "mode": "lines+markers",
         "name": "Trial4",
         "type": "scatter",
         "x": [
          0,
          1,
          2,
          3,
          4,
          5,
          6,
          7,
          8,
          9
         ],
         "y": [
          0.0029276352526022877,
          0.02390292647537912,
          0.00882734477477806,
          0.003956896341910028,
          0.002940269855430425,
          0.02576350840962026,
          0.002938137296784962,
          0.008085404031679972,
          0.005711104016901328,
          0.0069133908252554084
         ]
        },
        {
         "marker": {
          "maxdisplayed": 10
         },
         "mode": "lines+markers",
         "name": "Trial5",
         "type": "scatter",
         "x": [
          0,
          1,
          2,
          3,
          4,
          5,
          6,
          7,
          8,
          9
         ],
         "y": [
          0.0033086416799397696,
          0.0042584370895628896,
          0.003276605632097002,
          0.0039461263869371675,
          0.0038970006881133903,
          0.004094681953863492,
          0.002907318621134711,
          0.003944158191896147,
          0.0038617033186176468,
          0.003009425417061836
         ]
        },
        {
         "marker": {
          "maxdisplayed": 10
         },
         "mode": "lines+markers",
         "name": "Trial6",
         "type": "scatter",
         "x": [
          0,
          1,
          2,
          3,
          4,
          5,
          6,
          7,
          8,
          9
         ],
         "y": [
          0.0016864015329163145,
          0.0016960953125509165,
          0.001676173948346847,
          0.0017040229528011864,
          0.001709477484370548,
          0.001689559349352742,
          0.0016835257050200178,
          0.0016860845976052888,
          0.001676722888964814,
          0.0016737091832337984
         ]
        },
        {
         "marker": {
          "maxdisplayed": 10
         },
         "mode": "lines+markers",
         "name": "Trial7",
         "type": "scatter",
         "x": [
          0,
          1,
          2,
          3,
          4,
          5,
          6,
          7,
          8,
          9
         ],
         "y": [
          0.0024780580389505624,
          0.002218271276612451,
          0.0025990058494352927,
          0.0032357281369009595,
          0.0034076951626597018,
          0.0023854156394769763,
          0.0022075055339287543,
          0.0021318699652585075,
          0.0026863323694941163,
          0.0023150240508155308
         ]
        },
        {
         "marker": {
          "maxdisplayed": 10
         },
         "mode": "lines+markers",
         "name": "Trial8",
         "type": "scatter",
         "x": [
          0,
          1,
          2,
          3,
          4,
          5,
          6,
          7,
          8,
          9
         ],
         "y": [
          0.002250940902429877,
          0.0020696614190791416,
          0.002126126899157913,
          0.0022139935455854657,
          0.0021529542300307634,
          0.0024347877726682184,
          0.002101847507710596,
          0.0022016458828183053,
          0.0025269672057582336,
          0.0022391047328710555
         ]
        },
        {
         "marker": {
          "maxdisplayed": 10
         },
         "mode": "lines+markers",
         "name": "Trial9",
         "type": "scatter",
         "x": [
          0,
          1,
          2,
          3,
          4,
          5,
          6,
          7,
          8,
          9
         ],
         "y": [
          0.0015244194056352727,
          0.008865441888689263,
          0.010164774881617274,
          0.007173279874541073,
          0.0025835757517065003,
          0.0017024324819806425,
          0.0022938550326382164,
          0.0020166578644399916,
          0.0017832337539033162,
          0.00198307938747213
         ]
        }
       ],
       "layout": {
        "autosize": true,
        "showlegend": false,
        "template": {
         "data": {
          "bar": [
           {
            "error_x": {
             "color": "#2a3f5f"
            },
            "error_y": {
             "color": "#2a3f5f"
            },
            "marker": {
             "line": {
              "color": "#E5ECF6",
              "width": 0.5
             },
             "pattern": {
              "fillmode": "overlay",
              "size": 10,
              "solidity": 0.2
             }
            },
            "type": "bar"
           }
          ],
          "barpolar": [
           {
            "marker": {
             "line": {
              "color": "#E5ECF6",
              "width": 0.5
             },
             "pattern": {
              "fillmode": "overlay",
              "size": 10,
              "solidity": 0.2
             }
            },
            "type": "barpolar"
           }
          ],
          "carpet": [
           {
            "aaxis": {
             "endlinecolor": "#2a3f5f",
             "gridcolor": "white",
             "linecolor": "white",
             "minorgridcolor": "white",
             "startlinecolor": "#2a3f5f"
            },
            "baxis": {
             "endlinecolor": "#2a3f5f",
             "gridcolor": "white",
             "linecolor": "white",
             "minorgridcolor": "white",
             "startlinecolor": "#2a3f5f"
            },
            "type": "carpet"
           }
          ],
          "choropleth": [
           {
            "colorbar": {
             "outlinewidth": 0,
             "ticks": ""
            },
            "type": "choropleth"
           }
          ],
          "contour": [
           {
            "colorbar": {
             "outlinewidth": 0,
             "ticks": ""
            },
            "colorscale": [
             [
              0,
              "#0d0887"
             ],
             [
              0.1111111111111111,
              "#46039f"
             ],
             [
              0.2222222222222222,
              "#7201a8"
             ],
             [
              0.3333333333333333,
              "#9c179e"
             ],
             [
              0.4444444444444444,
              "#bd3786"
             ],
             [
              0.5555555555555556,
              "#d8576b"
             ],
             [
              0.6666666666666666,
              "#ed7953"
             ],
             [
              0.7777777777777778,
              "#fb9f3a"
             ],
             [
              0.8888888888888888,
              "#fdca26"
             ],
             [
              1,
              "#f0f921"
             ]
            ],
            "type": "contour"
           }
          ],
          "contourcarpet": [
           {
            "colorbar": {
             "outlinewidth": 0,
             "ticks": ""
            },
            "type": "contourcarpet"
           }
          ],
          "heatmap": [
           {
            "colorbar": {
             "outlinewidth": 0,
             "ticks": ""
            },
            "colorscale": [
             [
              0,
              "#0d0887"
             ],
             [
              0.1111111111111111,
              "#46039f"
             ],
             [
              0.2222222222222222,
              "#7201a8"
             ],
             [
              0.3333333333333333,
              "#9c179e"
             ],
             [
              0.4444444444444444,
              "#bd3786"
             ],
             [
              0.5555555555555556,
              "#d8576b"
             ],
             [
              0.6666666666666666,
              "#ed7953"
             ],
             [
              0.7777777777777778,
              "#fb9f3a"
             ],
             [
              0.8888888888888888,
              "#fdca26"
             ],
             [
              1,
              "#f0f921"
             ]
            ],
            "type": "heatmap"
           }
          ],
          "heatmapgl": [
           {
            "colorbar": {
             "outlinewidth": 0,
             "ticks": ""
            },
            "colorscale": [
             [
              0,
              "#0d0887"
             ],
             [
              0.1111111111111111,
              "#46039f"
             ],
             [
              0.2222222222222222,
              "#7201a8"
             ],
             [
              0.3333333333333333,
              "#9c179e"
             ],
             [
              0.4444444444444444,
              "#bd3786"
             ],
             [
              0.5555555555555556,
              "#d8576b"
             ],
             [
              0.6666666666666666,
              "#ed7953"
             ],
             [
              0.7777777777777778,
              "#fb9f3a"
             ],
             [
              0.8888888888888888,
              "#fdca26"
             ],
             [
              1,
              "#f0f921"
             ]
            ],
            "type": "heatmapgl"
           }
          ],
          "histogram": [
           {
            "marker": {
             "pattern": {
              "fillmode": "overlay",
              "size": 10,
              "solidity": 0.2
             }
            },
            "type": "histogram"
           }
          ],
          "histogram2d": [
           {
            "colorbar": {
             "outlinewidth": 0,
             "ticks": ""
            },
            "colorscale": [
             [
              0,
              "#0d0887"
             ],
             [
              0.1111111111111111,
              "#46039f"
             ],
             [
              0.2222222222222222,
              "#7201a8"
             ],
             [
              0.3333333333333333,
              "#9c179e"
             ],
             [
              0.4444444444444444,
              "#bd3786"
             ],
             [
              0.5555555555555556,
              "#d8576b"
             ],
             [
              0.6666666666666666,
              "#ed7953"
             ],
             [
              0.7777777777777778,
              "#fb9f3a"
             ],
             [
              0.8888888888888888,
              "#fdca26"
             ],
             [
              1,
              "#f0f921"
             ]
            ],
            "type": "histogram2d"
           }
          ],
          "histogram2dcontour": [
           {
            "colorbar": {
             "outlinewidth": 0,
             "ticks": ""
            },
            "colorscale": [
             [
              0,
              "#0d0887"
             ],
             [
              0.1111111111111111,
              "#46039f"
             ],
             [
              0.2222222222222222,
              "#7201a8"
             ],
             [
              0.3333333333333333,
              "#9c179e"
             ],
             [
              0.4444444444444444,
              "#bd3786"
             ],
             [
              0.5555555555555556,
              "#d8576b"
             ],
             [
              0.6666666666666666,
              "#ed7953"
             ],
             [
              0.7777777777777778,
              "#fb9f3a"
             ],
             [
              0.8888888888888888,
              "#fdca26"
             ],
             [
              1,
              "#f0f921"
             ]
            ],
            "type": "histogram2dcontour"
           }
          ],
          "mesh3d": [
           {
            "colorbar": {
             "outlinewidth": 0,
             "ticks": ""
            },
            "type": "mesh3d"
           }
          ],
          "parcoords": [
           {
            "line": {
             "colorbar": {
              "outlinewidth": 0,
              "ticks": ""
             }
            },
            "type": "parcoords"
           }
          ],
          "pie": [
           {
            "automargin": true,
            "type": "pie"
           }
          ],
          "scatter": [
           {
            "fillpattern": {
             "fillmode": "overlay",
             "size": 10,
             "solidity": 0.2
            },
            "type": "scatter"
           }
          ],
          "scatter3d": [
           {
            "line": {
             "colorbar": {
              "outlinewidth": 0,
              "ticks": ""
             }
            },
            "marker": {
             "colorbar": {
              "outlinewidth": 0,
              "ticks": ""
             }
            },
            "type": "scatter3d"
           }
          ],
          "scattercarpet": [
           {
            "marker": {
             "colorbar": {
              "outlinewidth": 0,
              "ticks": ""
             }
            },
            "type": "scattercarpet"
           }
          ],
          "scattergeo": [
           {
            "marker": {
             "colorbar": {
              "outlinewidth": 0,
              "ticks": ""
             }
            },
            "type": "scattergeo"
           }
          ],
          "scattergl": [
           {
            "marker": {
             "colorbar": {
              "outlinewidth": 0,
              "ticks": ""
             }
            },
            "type": "scattergl"
           }
          ],
          "scattermapbox": [
           {
            "marker": {
             "colorbar": {
              "outlinewidth": 0,
              "ticks": ""
             }
            },
            "type": "scattermapbox"
           }
          ],
          "scatterpolar": [
           {
            "marker": {
             "colorbar": {
              "outlinewidth": 0,
              "ticks": ""
             }
            },
            "type": "scatterpolar"
           }
          ],
          "scatterpolargl": [
           {
            "marker": {
             "colorbar": {
              "outlinewidth": 0,
              "ticks": ""
             }
            },
            "type": "scatterpolargl"
           }
          ],
          "scatterternary": [
           {
            "marker": {
             "colorbar": {
              "outlinewidth": 0,
              "ticks": ""
             }
            },
            "type": "scatterternary"
           }
          ],
          "surface": [
           {
            "colorbar": {
             "outlinewidth": 0,
             "ticks": ""
            },
            "colorscale": [
             [
              0,
              "#0d0887"
             ],
             [
              0.1111111111111111,
              "#46039f"
             ],
             [
              0.2222222222222222,
              "#7201a8"
             ],
             [
              0.3333333333333333,
              "#9c179e"
             ],
             [
              0.4444444444444444,
              "#bd3786"
             ],
             [
              0.5555555555555556,
              "#d8576b"
             ],
             [
              0.6666666666666666,
              "#ed7953"
             ],
             [
              0.7777777777777778,
              "#fb9f3a"
             ],
             [
              0.8888888888888888,
              "#fdca26"
             ],
             [
              1,
              "#f0f921"
             ]
            ],
            "type": "surface"
           }
          ],
          "table": [
           {
            "cells": {
             "fill": {
              "color": "#EBF0F8"
             },
             "line": {
              "color": "white"
             }
            },
            "header": {
             "fill": {
              "color": "#C8D4E3"
             },
             "line": {
              "color": "white"
             }
            },
            "type": "table"
           }
          ]
         },
         "layout": {
          "annotationdefaults": {
           "arrowcolor": "#2a3f5f",
           "arrowhead": 0,
           "arrowwidth": 1
          },
          "autotypenumbers": "strict",
          "coloraxis": {
           "colorbar": {
            "outlinewidth": 0,
            "ticks": ""
           }
          },
          "colorscale": {
           "diverging": [
            [
             0,
             "#8e0152"
            ],
            [
             0.1,
             "#c51b7d"
            ],
            [
             0.2,
             "#de77ae"
            ],
            [
             0.3,
             "#f1b6da"
            ],
            [
             0.4,
             "#fde0ef"
            ],
            [
             0.5,
             "#f7f7f7"
            ],
            [
             0.6,
             "#e6f5d0"
            ],
            [
             0.7,
             "#b8e186"
            ],
            [
             0.8,
             "#7fbc41"
            ],
            [
             0.9,
             "#4d9221"
            ],
            [
             1,
             "#276419"
            ]
           ],
           "sequential": [
            [
             0,
             "#0d0887"
            ],
            [
             0.1111111111111111,
             "#46039f"
            ],
            [
             0.2222222222222222,
             "#7201a8"
            ],
            [
             0.3333333333333333,
             "#9c179e"
            ],
            [
             0.4444444444444444,
             "#bd3786"
            ],
            [
             0.5555555555555556,
             "#d8576b"
            ],
            [
             0.6666666666666666,
             "#ed7953"
            ],
            [
             0.7777777777777778,
             "#fb9f3a"
            ],
            [
             0.8888888888888888,
             "#fdca26"
            ],
            [
             1,
             "#f0f921"
            ]
           ],
           "sequentialminus": [
            [
             0,
             "#0d0887"
            ],
            [
             0.1111111111111111,
             "#46039f"
            ],
            [
             0.2222222222222222,
             "#7201a8"
            ],
            [
             0.3333333333333333,
             "#9c179e"
            ],
            [
             0.4444444444444444,
             "#bd3786"
            ],
            [
             0.5555555555555556,
             "#d8576b"
            ],
            [
             0.6666666666666666,
             "#ed7953"
            ],
            [
             0.7777777777777778,
             "#fb9f3a"
            ],
            [
             0.8888888888888888,
             "#fdca26"
            ],
            [
             1,
             "#f0f921"
            ]
           ]
          },
          "colorway": [
           "#636efa",
           "#EF553B",
           "#00cc96",
           "#ab63fa",
           "#FFA15A",
           "#19d3f3",
           "#FF6692",
           "#B6E880",
           "#FF97FF",
           "#FECB52"
          ],
          "font": {
           "color": "#2a3f5f"
          },
          "geo": {
           "bgcolor": "white",
           "lakecolor": "white",
           "landcolor": "#E5ECF6",
           "showlakes": true,
           "showland": true,
           "subunitcolor": "white"
          },
          "hoverlabel": {
           "align": "left"
          },
          "hovermode": "closest",
          "mapbox": {
           "style": "light"
          },
          "paper_bgcolor": "white",
          "plot_bgcolor": "#E5ECF6",
          "polar": {
           "angularaxis": {
            "gridcolor": "white",
            "linecolor": "white",
            "ticks": ""
           },
           "bgcolor": "#E5ECF6",
           "radialaxis": {
            "gridcolor": "white",
            "linecolor": "white",
            "ticks": ""
           }
          },
          "scene": {
           "xaxis": {
            "backgroundcolor": "#E5ECF6",
            "gridcolor": "white",
            "gridwidth": 2,
            "linecolor": "white",
            "showbackground": true,
            "ticks": "",
            "zerolinecolor": "white"
           },
           "yaxis": {
            "backgroundcolor": "#E5ECF6",
            "gridcolor": "white",
            "gridwidth": 2,
            "linecolor": "white",
            "showbackground": true,
            "ticks": "",
            "zerolinecolor": "white"
           },
           "zaxis": {
            "backgroundcolor": "#E5ECF6",
            "gridcolor": "white",
            "gridwidth": 2,
            "linecolor": "white",
            "showbackground": true,
            "ticks": "",
            "zerolinecolor": "white"
           }
          },
          "shapedefaults": {
           "line": {
            "color": "#2a3f5f"
           }
          },
          "ternary": {
           "aaxis": {
            "gridcolor": "white",
            "linecolor": "white",
            "ticks": ""
           },
           "baxis": {
            "gridcolor": "white",
            "linecolor": "white",
            "ticks": ""
           },
           "bgcolor": "#E5ECF6",
           "caxis": {
            "gridcolor": "white",
            "linecolor": "white",
            "ticks": ""
           }
          },
          "title": {
           "x": 0.05
          },
          "xaxis": {
           "automargin": true,
           "gridcolor": "white",
           "linecolor": "white",
           "ticks": "",
           "title": {
            "standoff": 15
           },
           "zerolinecolor": "white",
           "zerolinewidth": 2
          },
          "yaxis": {
           "automargin": true,
           "gridcolor": "white",
           "linecolor": "white",
           "ticks": "",
           "title": {
            "standoff": 15
           },
           "zerolinecolor": "white",
           "zerolinewidth": 2
          }
         }
        },
        "title": {
         "text": "Intermediate Values Plot"
        },
        "xaxis": {
         "autorange": true,
         "range": [
          -0.6241310824230386,
          9.62413108242304
         ],
         "title": {
          "text": "Step"
         },
         "type": "linear"
        },
        "yaxis": {
         "autorange": true,
         "range": [
          -0.0010370840784161284,
          0.03512531804936836
         ],
         "title": {
          "text": "Intermediate Value"
         },
         "type": "linear"
        }
       }
      },
      "image/png": "[encoded data removed]",
      "text/html": [
       "<div>                            <div id=\"b9aa5fab-d867-411f-83ac-642eb8bc077c\" class=\"plotly-graph-div\" style=\"height:525px; width:100%;\"></div>            <script type=\"text/javascript\">                require([\"plotly\"], function(Plotly) {                    window.PLOTLYENV=window.PLOTLYENV || {};                                    if (document.getElementById(\"b9aa5fab-d867-411f-83ac-642eb8bc077c\")) {                    Plotly.newPlot(                        \"b9aa5fab-d867-411f-83ac-642eb8bc077c\",                        [{\"marker\":{\"maxdisplayed\":10},\"mode\":\"lines+markers\",\"name\":\"Trial0\",\"x\":[0,1,2,3,4,5,6,7,8,9],\"y\":[0.032563814565316956,0.008431184125035556,0.019672685572460515,0.006649129526383841,0.01542099856618625,0.007126781644661035,0.011466373414246004,0.0062643685225230545,0.015532437189301447,0.009967890081565772],\"type\":\"scatter\"},{\"marker\":{\"maxdisplayed\":10},\"mode\":\"lines+markers\",\"name\":\"Trial1\",\"x\":[0,1,2,3,4,5,6,7,8,9],\"y\":[0.006578140971412418,0.0065130141772306305,0.006548643476485454,0.006510463998614801,0.006571199004582426,0.006599802418086055,0.006525173501261401,0.006540419821765521,0.006533056004002267,0.006631388602196606],\"type\":\"scatter\"},{\"marker\":{\"maxdisplayed\":10},\"mode\":\"lines+markers\",\"name\":\"Trial2\",\"x\":[0,1,2,3,4,5,6,7,8,9],\"y\":[0.023570115318970204,0.017185566739093536,0.02048764624241047,0.027410011789570116,0.0162244844751582,0.02245780694391396,0.01836328593368866,0.027701750018591983,0.026402490071354548,0.03136351634611589],\"type\":\"scatter\"},{\"marker\":{\"maxdisplayed\":10},\"mode\":\"lines+markers\",\"name\":\"Trial3\",\"x\":[0,1,2,3,4,5,6,7,8,9],\"y\":[0.007123850261295217,0.005944264703623295,0.004688811292300374,0.006223057237628285,0.008266174242172273,0.009281877026727938,0.007544679514705443,0.007539916851528446,0.0054129392378168125,0.009331022773809101],\"type\":\"scatter\"},{\"marker\":{\"maxdisplayed\":10},\"mode\":\"lines+markers\",\"name\":\"Trial4\",\"x\":[0,1,2,3,4,5,6,7,8,9],\"y\":[0.0029276352526022877,0.02390292647537912,0.00882734477477806,0.003956896341910028,0.002940269855430425,0.02576350840962026,0.002938137296784962,0.008085404031679972,0.005711104016901328,0.0069133908252554084],\"type\":\"scatter\"},{\"marker\":{\"maxdisplayed\":10},\"mode\":\"lines+markers\",\"name\":\"Trial5\",\"x\":[0,1,2,3,4,5,6,7,8,9],\"y\":[0.0033086416799397696,0.0042584370895628896,0.003276605632097002,0.0039461263869371675,0.0038970006881133903,0.004094681953863492,0.002907318621134711,0.003944158191896147,0.0038617033186176468,0.003009425417061836],\"type\":\"scatter\"},{\"marker\":{\"maxdisplayed\":10},\"mode\":\"lines+markers\",\"name\":\"Trial6\",\"x\":[0,1,2,3,4,5,6,7,8,9],\"y\":[0.0016864015329163145,0.0016960953125509165,0.001676173948346847,0.0017040229528011864,0.001709477484370548,0.001689559349352742,0.0016835257050200178,0.0016860845976052888,0.001676722888964814,0.0016737091832337984],\"type\":\"scatter\"},{\"marker\":{\"maxdisplayed\":10},\"mode\":\"lines+markers\",\"name\":\"Trial7\",\"x\":[0,1,2,3,4,5,6,7,8,9],\"y\":[0.0024780580389505624,0.002218271276612451,0.0025990058494352927,0.0032357281369009595,0.0034076951626597018,0.0023854156394769763,0.0022075055339287543,0.0021318699652585075,0.0026863323694941163,0.0023150240508155308],\"type\":\"scatter\"},{\"marker\":{\"maxdisplayed\":10},\"mode\":\"lines+markers\",\"name\":\"Trial8\",\"x\":[0,1,2,3,4,5,6,7,8,9],\"y\":[0.002250940902429877,0.0020696614190791416,0.002126126899157913,0.0022139935455854657,0.0021529542300307634,0.0024347877726682184,0.002101847507710596,0.0022016458828183053,0.0025269672057582336,0.0022391047328710555],\"type\":\"scatter\"},{\"marker\":{\"maxdisplayed\":10},\"mode\":\"lines+markers\",\"name\":\"Trial9\",\"x\":[0,1,2,3,4,5,6,7,8,9],\"y\":[0.0015244194056352727,0.008865441888689263,0.010164774881617274,0.007173279874541073,0.0025835757517065003,0.0017024324819806425,0.0022938550326382164,0.0020166578644399916,0.0017832337539033162,0.00198307938747213],\"type\":\"scatter\"}],                        {\"showlegend\":false,\"title\":{\"text\":\"Intermediate Values Plot\"},\"xaxis\":{\"title\":{\"text\":\"Step\"}},\"yaxis\":{\"title\":{\"text\":\"Intermediate Value\"}},\"template\":{\"data\":{\"histogram2dcontour\":[{\"type\":\"histogram2dcontour\",\"colorbar\":{\"outlinewidth\":0,\"ticks\":\"\"},\"colorscale\":[[0.0,\"#0d0887\"],[0.1111111111111111,\"#46039f\"],[0.2222222222222222,\"#7201a8\"],[0.3333333333333333,\"#9c179e\"],[0.4444444444444444,\"#bd3786\"],[0.5555555555555556,\"#d8576b\"],[0.6666666666666666,\"#ed7953\"],[0.7777777777777778,\"#fb9f3a\"],[0.8888888888888888,\"#fdca26\"],[1.0,\"#f0f921\"]]}],\"choropleth\":[{\"type\":\"choropleth\",\"colorbar\":{\"outlinewidth\":0,\"ticks\":\"\"}}],\"histogram2d\":[{\"type\":\"histogram2d\",\"colorbar\":{\"outlinewidth\":0,\"ticks\":\"\"},\"colorscale\":[[0.0,\"#0d0887\"],[0.1111111111111111,\"#46039f\"],[0.2222222222222222,\"#7201a8\"],[0.3333333333333333,\"#9c179e\"],[0.4444444444444444,\"#bd3786\"],[0.5555555555555556,\"#d8576b\"],[0.6666666666666666,\"#ed7953\"],[0.7777777777777778,\"#fb9f3a\"],[0.8888888888888888,\"#fdca26\"],[1.0,\"#f0f921\"]]}],\"heatmap\":[{\"type\":\"heatmap\",\"colorbar\":{\"outlinewidth\":0,\"ticks\":\"\"},\"colorscale\":[[0.0,\"#0d0887\"],[0.1111111111111111,\"#46039f\"],[0.2222222222222222,\"#7201a8\"],[0.3333333333333333,\"#9c179e\"],[0.4444444444444444,\"#bd3786\"],[0.5555555555555556,\"#d8576b\"],[0.6666666666666666,\"#ed7953\"],[0.7777777777777778,\"#fb9f3a\"],[0.8888888888888888,\"#fdca26\"],[1.0,\"#f0f921\"]]}],\"heatmapgl\":[{\"type\":\"heatmapgl\",\"colorbar\":{\"outlinewidth\":0,\"ticks\":\"\"},\"colorscale\":[[0.0,\"#0d0887\"],[0.1111111111111111,\"#46039f\"],[0.2222222222222222,\"#7201a8\"],[0.3333333333333333,\"#9c179e\"],[0.4444444444444444,\"#bd3786\"],[0.5555555555555556,\"#d8576b\"],[0.6666666666666666,\"#ed7953\"],[0.7777777777777778,\"#fb9f3a\"],[0.8888888888888888,\"#fdca26\"],[1.0,\"#f0f921\"]]}],\"contourcarpet\":[{\"type\":\"contourcarpet\",\"colorbar\":{\"outlinewidth\":0,\"ticks\":\"\"}}],\"contour\":[{\"type\":\"contour\",\"colorbar\":{\"outlinewidth\":0,\"ticks\":\"\"},\"colorscale\":[[0.0,\"#0d0887\"],[0.1111111111111111,\"#46039f\"],[0.2222222222222222,\"#7201a8\"],[0.3333333333333333,\"#9c179e\"],[0.4444444444444444,\"#bd3786\"],[0.5555555555555556,\"#d8576b\"],[0.6666666666666666,\"#ed7953\"],[0.7777777777777778,\"#fb9f3a\"],[0.8888888888888888,\"#fdca26\"],[1.0,\"#f0f921\"]]}],\"surface\":[{\"type\":\"surface\",\"colorbar\":{\"outlinewidth\":0,\"ticks\":\"\"},\"colorscale\":[[0.0,\"#0d0887\"],[0.1111111111111111,\"#46039f\"],[0.2222222222222222,\"#7201a8\"],[0.3333333333333333,\"#9c179e\"],[0.4444444444444444,\"#bd3786\"],[0.5555555555555556,\"#d8576b\"],[0.6666666666666666,\"#ed7953\"],[0.7777777777777778,\"#fb9f3a\"],[0.8888888888888888,\"#fdca26\"],[1.0,\"#f0f921\"]]}],\"mesh3d\":[{\"type\":\"mesh3d\",\"colorbar\":{\"outlinewidth\":0,\"ticks\":\"\"}}],\"scatter\":[{\"fillpattern\":{\"fillmode\":\"overlay\",\"size\":10,\"solidity\":0.2},\"type\":\"scatter\"}],\"parcoords\":[{\"type\":\"parcoords\",\"line\":{\"colorbar\":{\"outlinewidth\":0,\"ticks\":\"\"}}}],\"scatterpolargl\":[{\"type\":\"scatterpolargl\",\"marker\":{\"colorbar\":{\"outlinewidth\":0,\"ticks\":\"\"}}}],\"bar\":[{\"error_x\":{\"color\":\"#2a3f5f\"},\"error_y\":{\"color\":\"#2a3f5f\"},\"marker\":{\"line\":{\"color\":\"#E5ECF6\",\"width\":0.5},\"pattern\":{\"fillmode\":\"overlay\",\"size\":10,\"solidity\":0.2}},\"type\":\"bar\"}],\"scattergeo\":[{\"type\":\"scattergeo\",\"marker\":{\"colorbar\":{\"outlinewidth\":0,\"ticks\":\"\"}}}],\"scatterpolar\":[{\"type\":\"scatterpolar\",\"marker\":{\"colorbar\":{\"outlinewidth\":0,\"ticks\":\"\"}}}],\"histogram\":[{\"marker\":{\"pattern\":{\"fillmode\":\"overlay\",\"size\":10,\"solidity\":0.2}},\"type\":\"histogram\"}],\"scattergl\":[{\"type\":\"scattergl\",\"marker\":{\"colorbar\":{\"outlinewidth\":0,\"ticks\":\"\"}}}],\"scatter3d\":[{\"type\":\"scatter3d\",\"line\":{\"colorbar\":{\"outlinewidth\":0,\"ticks\":\"\"}},\"marker\":{\"colorbar\":{\"outlinewidth\":0,\"ticks\":\"\"}}}],\"scattermapbox\":[{\"type\":\"scattermapbox\",\"marker\":{\"colorbar\":{\"outlinewidth\":0,\"ticks\":\"\"}}}],\"scatterternary\":[{\"type\":\"scatterternary\",\"marker\":{\"colorbar\":{\"outlinewidth\":0,\"ticks\":\"\"}}}],\"scattercarpet\":[{\"type\":\"scattercarpet\",\"marker\":{\"colorbar\":{\"outlinewidth\":0,\"ticks\":\"\"}}}],\"carpet\":[{\"aaxis\":{\"endlinecolor\":\"#2a3f5f\",\"gridcolor\":\"white\",\"linecolor\":\"white\",\"minorgridcolor\":\"white\",\"startlinecolor\":\"#2a3f5f\"},\"baxis\":{\"endlinecolor\":\"#2a3f5f\",\"gridcolor\":\"white\",\"linecolor\":\"white\",\"minorgridcolor\":\"white\",\"startlinecolor\":\"#2a3f5f\"},\"type\":\"carpet\"}],\"table\":[{\"cells\":{\"fill\":{\"color\":\"#EBF0F8\"},\"line\":{\"color\":\"white\"}},\"header\":{\"fill\":{\"color\":\"#C8D4E3\"},\"line\":{\"color\":\"white\"}},\"type\":\"table\"}],\"barpolar\":[{\"marker\":{\"line\":{\"color\":\"#E5ECF6\",\"width\":0.5},\"pattern\":{\"fillmode\":\"overlay\",\"size\":10,\"solidity\":0.2}},\"type\":\"barpolar\"}],\"pie\":[{\"automargin\":true,\"type\":\"pie\"}]},\"layout\":{\"autotypenumbers\":\"strict\",\"colorway\":[\"#636efa\",\"#EF553B\",\"#00cc96\",\"#ab63fa\",\"#FFA15A\",\"#19d3f3\",\"#FF6692\",\"#B6E880\",\"#FF97FF\",\"#FECB52\"],\"font\":{\"color\":\"#2a3f5f\"},\"hovermode\":\"closest\",\"hoverlabel\":{\"align\":\"left\"},\"paper_bgcolor\":\"white\",\"plot_bgcolor\":\"#E5ECF6\",\"polar\":{\"bgcolor\":\"#E5ECF6\",\"angularaxis\":{\"gridcolor\":\"white\",\"linecolor\":\"white\",\"ticks\":\"\"},\"radialaxis\":{\"gridcolor\":\"white\",\"linecolor\":\"white\",\"ticks\":\"\"}},\"ternary\":{\"bgcolor\":\"#E5ECF6\",\"aaxis\":{\"gridcolor\":\"white\",\"linecolor\":\"white\",\"ticks\":\"\"},\"baxis\":{\"gridcolor\":\"white\",\"linecolor\":\"white\",\"ticks\":\"\"},\"caxis\":{\"gridcolor\":\"white\",\"linecolor\":\"white\",\"ticks\":\"\"}},\"coloraxis\":{\"colorbar\":{\"outlinewidth\":0,\"ticks\":\"\"}},\"colorscale\":{\"sequential\":[[0.0,\"#0d0887\"],[0.1111111111111111,\"#46039f\"],[0.2222222222222222,\"#7201a8\"],[0.3333333333333333,\"#9c179e\"],[0.4444444444444444,\"#bd3786\"],[0.5555555555555556,\"#d8576b\"],[0.6666666666666666,\"#ed7953\"],[0.7777777777777778,\"#fb9f3a\"],[0.8888888888888888,\"#fdca26\"],[1.0,\"#f0f921\"]],\"sequentialminus\":[[0.0,\"#0d0887\"],[0.1111111111111111,\"#46039f\"],[0.2222222222222222,\"#7201a8\"],[0.3333333333333333,\"#9c179e\"],[0.4444444444444444,\"#bd3786\"],[0.5555555555555556,\"#d8576b\"],[0.6666666666666666,\"#ed7953\"],[0.7777777777777778,\"#fb9f3a\"],[0.8888888888888888,\"#fdca26\"],[1.0,\"#f0f921\"]],\"diverging\":[[0,\"#8e0152\"],[0.1,\"#c51b7d\"],[0.2,\"#de77ae\"],[0.3,\"#f1b6da\"],[0.4,\"#fde0ef\"],[0.5,\"#f7f7f7\"],[0.6,\"#e6f5d0\"],[0.7,\"#b8e186\"],[0.8,\"#7fbc41\"],[0.9,\"#4d9221\"],[1,\"#276419\"]]},\"xaxis\":{\"gridcolor\":\"white\",\"linecolor\":\"white\",\"ticks\":\"\",\"title\":{\"standoff\":15},\"zerolinecolor\":\"white\",\"automargin\":true,\"zerolinewidth\":2},\"yaxis\":{\"gridcolor\":\"white\",\"linecolor\":\"white\",\"ticks\":\"\",\"title\":{\"standoff\":15},\"zerolinecolor\":\"white\",\"automargin\":true,\"zerolinewidth\":2},\"scene\":{\"xaxis\":{\"backgroundcolor\":\"#E5ECF6\",\"gridcolor\":\"white\",\"linecolor\":\"white\",\"showbackground\":true,\"ticks\":\"\",\"zerolinecolor\":\"white\",\"gridwidth\":2},\"yaxis\":{\"backgroundcolor\":\"#E5ECF6\",\"gridcolor\":\"white\",\"linecolor\":\"white\",\"showbackground\":true,\"ticks\":\"\",\"zerolinecolor\":\"white\",\"gridwidth\":2},\"zaxis\":{\"backgroundcolor\":\"#E5ECF6\",\"gridcolor\":\"white\",\"linecolor\":\"white\",\"showbackground\":true,\"ticks\":\"\",\"zerolinecolor\":\"white\",\"gridwidth\":2}},\"shapedefaults\":{\"line\":{\"color\":\"#2a3f5f\"}},\"annotationdefaults\":{\"arrowcolor\":\"#2a3f5f\",\"arrowhead\":0,\"arrowwidth\":1},\"geo\":{\"bgcolor\":\"white\",\"landcolor\":\"#E5ECF6\",\"subunitcolor\":\"white\",\"showland\":true,\"showlakes\":true,\"lakecolor\":\"white\"},\"title\":{\"x\":0.05},\"mapbox\":{\"style\":\"light\"}}}},                        {\"responsive\": true}                    ).then(function(){\n",
       "                            \n",
       "var gd = document.getElementById('b9aa5fab-d867-411f-83ac-642eb8bc077c');\n",
       "var x = new MutationObserver(function (mutations, observer) {{\n",
       "        var display = window.getComputedStyle(gd).display;\n",
       "        if (!display || display === 'none') {{\n",
       "            console.log([gd, 'removed!']);\n",
       "            Plotly.purge(gd);\n",
       "            observer.disconnect();\n",
       "        }}\n",
       "}});\n",
       "\n",
       "// Listen for the removal of the full notebook cells\n",
       "var notebookContainer = gd.closest('#notebook-container');\n",
       "if (notebookContainer) {{\n",
       "    x.observe(notebookContainer, {childList: true});\n",
       "}}\n",
       "\n",
       "// Listen for the clearing of the current output cell\n",
       "var outputEl = gd.closest('.output');\n",
       "if (outputEl) {{\n",
       "    x.observe(outputEl, {childList: true});\n",
       "}}\n",
       "\n",
       "                        })                };                });            </script>        </div>"
      ]
     },
     "metadata": {},
     "output_type": "display_data"
    }
   ],
   "source": [
    "plot_intermediate_values(study)"
   ]
  },
  {
   "cell_type": "code",
   "execution_count": 19,
   "id": "f87b1e5e-192a-4678-bf68-f76684fbdd92",
   "metadata": {},
   "outputs": [
    {
     "data": {
      "application/vnd.plotly.v1+json": {
       "config": {
        "plotlyServerURL": "https://plot.ly"
       },
       "data": [
        {
         "marker": {
          "maxdisplayed": 10
         },
         "mode": "lines+markers",
         "name": "Trial0",
         "type": "scatter",
         "x": [
          0,
          1,
          2,
          3,
          4,
          5,
          6,
          7,
          8,
          9
         ],
         "y": [
          0.032563814565316956,
          0.008431184125035556,
          0.019672685572460515,
          0.006649129526383841,
          0.01542099856618625,
          0.007126781644661035,
          0.011466373414246004,
          0.0062643685225230545,
          0.015532437189301447,
          0.009967890081565772
         ]
        },
        {
         "marker": {
          "maxdisplayed": 10
         },
         "mode": "lines+markers",
         "name": "Trial1",
         "type": "scatter",
         "x": [
          0,
          1,
          2,
          3,
          4,
          5,
          6,
          7,
          8,
          9
         ],
         "y": [
          0.006578140971412418,
          0.0065130141772306305,
          0.006548643476485454,
          0.006510463998614801,
          0.006571199004582426,
          0.006599802418086055,
          0.006525173501261401,
          0.006540419821765521,
          0.006533056004002267,
          0.006631388602196606
         ]
        },
        {
         "marker": {
          "maxdisplayed": 10
         },
         "mode": "lines+markers",
         "name": "Trial2",
         "type": "scatter",
         "x": [
          0,
          1,
          2,
          3,
          4,
          5,
          6,
          7,
          8,
          9
         ],
         "y": [
          0.023570115318970204,
          0.017185566739093536,
          0.02048764624241047,
          0.027410011789570116,
          0.0162244844751582,
          0.02245780694391396,
          0.01836328593368866,
          0.027701750018591983,
          0.026402490071354548,
          0.03136351634611589
         ]
        },
        {
         "marker": {
          "maxdisplayed": 10
         },
         "mode": "lines+markers",
         "name": "Trial3",
         "type": "scatter",
         "x": [
          0,
          1,
          2,
          3,
          4,
          5,
          6,
          7,
          8,
          9
         ],
         "y": [
          0.007123850261295217,
          0.005944264703623295,
          0.004688811292300374,
          0.006223057237628285,
          0.008266174242172273,
          0.009281877026727938,
          0.007544679514705443,
          0.007539916851528446,
          0.0054129392378168125,
          0.009331022773809101
         ]
        },
        {
         "marker": {
          "maxdisplayed": 10
         },
         "mode": "lines+markers",
         "name": "Trial4",
         "type": "scatter",
         "x": [
          0,
          1,
          2,
          3,
          4,
          5,
          6,
          7,
          8,
          9
         ],
         "y": [
          0.0029276352526022877,
          0.02390292647537912,
          0.00882734477477806,
          0.003956896341910028,
          0.002940269855430425,
          0.02576350840962026,
          0.002938137296784962,
          0.008085404031679972,
          0.005711104016901328,
          0.0069133908252554084
         ]
        },
        {
         "marker": {
          "maxdisplayed": 10
         },
         "mode": "lines+markers",
         "name": "Trial5",
         "type": "scatter",
         "x": [
          0,
          1,
          2,
          3,
          4,
          5,
          6,
          7,
          8,
          9
         ],
         "y": [
          0.0033086416799397696,
          0.0042584370895628896,
          0.003276605632097002,
          0.0039461263869371675,
          0.0038970006881133903,
          0.004094681953863492,
          0.002907318621134711,
          0.003944158191896147,
          0.0038617033186176468,
          0.003009425417061836
         ]
        },
        {
         "marker": {
          "maxdisplayed": 10
         },
         "mode": "lines+markers",
         "name": "Trial6",
         "type": "scatter",
         "x": [
          0,
          1,
          2,
          3,
          4,
          5,
          6,
          7,
          8,
          9
         ],
         "y": [
          0.0016864015329163145,
          0.0016960953125509165,
          0.001676173948346847,
          0.0017040229528011864,
          0.001709477484370548,
          0.001689559349352742,
          0.0016835257050200178,
          0.0016860845976052888,
          0.001676722888964814,
          0.0016737091832337984
         ]
        },
        {
         "marker": {
          "maxdisplayed": 10
         },
         "mode": "lines+markers",
         "name": "Trial7",
         "type": "scatter",
         "x": [
          0,
          1,
          2,
          3,
          4,
          5,
          6,
          7,
          8,
          9
         ],
         "y": [
          0.0024780580389505624,
          0.002218271276612451,
          0.0025990058494352927,
          0.0032357281369009595,
          0.0034076951626597018,
          0.0023854156394769763,
          0.0022075055339287543,
          0.0021318699652585075,
          0.0026863323694941163,
          0.0023150240508155308
         ]
        },
        {
         "marker": {
          "maxdisplayed": 10
         },
         "mode": "lines+markers",
         "name": "Trial8",
         "type": "scatter",
         "x": [
          0,
          1,
          2,
          3,
          4,
          5,
          6,
          7,
          8,
          9
         ],
         "y": [
          0.002250940902429877,
          0.0020696614190791416,
          0.002126126899157913,
          0.0022139935455854657,
          0.0021529542300307634,
          0.0024347877726682184,
          0.002101847507710596,
          0.0022016458828183053,
          0.0025269672057582336,
          0.0022391047328710555
         ]
        },
        {
         "marker": {
          "maxdisplayed": 10
         },
         "mode": "lines+markers",
         "name": "Trial9",
         "type": "scatter",
         "x": [
          0,
          1,
          2,
          3,
          4,
          5,
          6,
          7,
          8,
          9
         ],
         "y": [
          0.0015244194056352727,
          0.008865441888689263,
          0.010164774881617274,
          0.007173279874541073,
          0.0025835757517065003,
          0.0017024324819806425,
          0.0022938550326382164,
          0.0020166578644399916,
          0.0017832337539033162,
          0.00198307938747213
         ]
        }
       ],
       "layout": {
        "autosize": true,
        "showlegend": false,
        "template": {
         "data": {
          "bar": [
           {
            "error_x": {
             "color": "#2a3f5f"
            },
            "error_y": {
             "color": "#2a3f5f"
            },
            "marker": {
             "line": {
              "color": "#E5ECF6",
              "width": 0.5
             },
             "pattern": {
              "fillmode": "overlay",
              "size": 10,
              "solidity": 0.2
             }
            },
            "type": "bar"
           }
          ],
          "barpolar": [
           {
            "marker": {
             "line": {
              "color": "#E5ECF6",
              "width": 0.5
             },
             "pattern": {
              "fillmode": "overlay",
              "size": 10,
              "solidity": 0.2
             }
            },
            "type": "barpolar"
           }
          ],
          "carpet": [
           {
            "aaxis": {
             "endlinecolor": "#2a3f5f",
             "gridcolor": "white",
             "linecolor": "white",
             "minorgridcolor": "white",
             "startlinecolor": "#2a3f5f"
            },
            "baxis": {
             "endlinecolor": "#2a3f5f",
             "gridcolor": "white",
             "linecolor": "white",
             "minorgridcolor": "white",
             "startlinecolor": "#2a3f5f"
            },
            "type": "carpet"
           }
          ],
          "choropleth": [
           {
            "colorbar": {
             "outlinewidth": 0,
             "ticks": ""
            },
            "type": "choropleth"
           }
          ],
          "contour": [
           {
            "colorbar": {
             "outlinewidth": 0,
             "ticks": ""
            },
            "colorscale": [
             [
              0,
              "#0d0887"
             ],
             [
              0.1111111111111111,
              "#46039f"
             ],
             [
              0.2222222222222222,
              "#7201a8"
             ],
             [
              0.3333333333333333,
              "#9c179e"
             ],
             [
              0.4444444444444444,
              "#bd3786"
             ],
             [
              0.5555555555555556,
              "#d8576b"
             ],
             [
              0.6666666666666666,
              "#ed7953"
             ],
             [
              0.7777777777777778,
              "#fb9f3a"
             ],
             [
              0.8888888888888888,
              "#fdca26"
             ],
             [
              1,
              "#f0f921"
             ]
            ],
            "type": "contour"
           }
          ],
          "contourcarpet": [
           {
            "colorbar": {
             "outlinewidth": 0,
             "ticks": ""
            },
            "type": "contourcarpet"
           }
          ],
          "heatmap": [
           {
            "colorbar": {
             "outlinewidth": 0,
             "ticks": ""
            },
            "colorscale": [
             [
              0,
              "#0d0887"
             ],
             [
              0.1111111111111111,
              "#46039f"
             ],
             [
              0.2222222222222222,
              "#7201a8"
             ],
             [
              0.3333333333333333,
              "#9c179e"
             ],
             [
              0.4444444444444444,
              "#bd3786"
             ],
             [
              0.5555555555555556,
              "#d8576b"
             ],
             [
              0.6666666666666666,
              "#ed7953"
             ],
             [
              0.7777777777777778,
              "#fb9f3a"
             ],
             [
              0.8888888888888888,
              "#fdca26"
             ],
             [
              1,
              "#f0f921"
             ]
            ],
            "type": "heatmap"
           }
          ],
          "heatmapgl": [
           {
            "colorbar": {
             "outlinewidth": 0,
             "ticks": ""
            },
            "colorscale": [
             [
              0,
              "#0d0887"
             ],
             [
              0.1111111111111111,
              "#46039f"
             ],
             [
              0.2222222222222222,
              "#7201a8"
             ],
             [
              0.3333333333333333,
              "#9c179e"
             ],
             [
              0.4444444444444444,
              "#bd3786"
             ],
             [
              0.5555555555555556,
              "#d8576b"
             ],
             [
              0.6666666666666666,
              "#ed7953"
             ],
             [
              0.7777777777777778,
              "#fb9f3a"
             ],
             [
              0.8888888888888888,
              "#fdca26"
             ],
             [
              1,
              "#f0f921"
             ]
            ],
            "type": "heatmapgl"
           }
          ],
          "histogram": [
           {
            "marker": {
             "pattern": {
              "fillmode": "overlay",
              "size": 10,
              "solidity": 0.2
             }
            },
            "type": "histogram"
           }
          ],
          "histogram2d": [
           {
            "colorbar": {
             "outlinewidth": 0,
             "ticks": ""
            },
            "colorscale": [
             [
              0,
              "#0d0887"
             ],
             [
              0.1111111111111111,
              "#46039f"
             ],
             [
              0.2222222222222222,
              "#7201a8"
             ],
             [
              0.3333333333333333,
              "#9c179e"
             ],
             [
              0.4444444444444444,
              "#bd3786"
             ],
             [
              0.5555555555555556,
              "#d8576b"
             ],
             [
              0.6666666666666666,
              "#ed7953"
             ],
             [
              0.7777777777777778,
              "#fb9f3a"
             ],
             [
              0.8888888888888888,
              "#fdca26"
             ],
             [
              1,
              "#f0f921"
             ]
            ],
            "type": "histogram2d"
           }
          ],
          "histogram2dcontour": [
           {
            "colorbar": {
             "outlinewidth": 0,
             "ticks": ""
            },
            "colorscale": [
             [
              0,
              "#0d0887"
             ],
             [
              0.1111111111111111,
              "#46039f"
             ],
             [
              0.2222222222222222,
              "#7201a8"
             ],
             [
              0.3333333333333333,
              "#9c179e"
             ],
             [
              0.4444444444444444,
              "#bd3786"
             ],
             [
              0.5555555555555556,
              "#d8576b"
             ],
             [
              0.6666666666666666,
              "#ed7953"
             ],
             [
              0.7777777777777778,
              "#fb9f3a"
             ],
             [
              0.8888888888888888,
              "#fdca26"
             ],
             [
              1,
              "#f0f921"
             ]
            ],
            "type": "histogram2dcontour"
           }
          ],
          "mesh3d": [
           {
            "colorbar": {
             "outlinewidth": 0,
             "ticks": ""
            },
            "type": "mesh3d"
           }
          ],
          "parcoords": [
           {
            "line": {
             "colorbar": {
              "outlinewidth": 0,
              "ticks": ""
             }
            },
            "type": "parcoords"
           }
          ],
          "pie": [
           {
            "automargin": true,
            "type": "pie"
           }
          ],
          "scatter": [
           {
            "fillpattern": {
             "fillmode": "overlay",
             "size": 10,
             "solidity": 0.2
            },
            "type": "scatter"
           }
          ],
          "scatter3d": [
           {
            "line": {
             "colorbar": {
              "outlinewidth": 0,
              "ticks": ""
             }
            },
            "marker": {
             "colorbar": {
              "outlinewidth": 0,
              "ticks": ""
             }
            },
            "type": "scatter3d"
           }
          ],
          "scattercarpet": [
           {
            "marker": {
             "colorbar": {
              "outlinewidth": 0,
              "ticks": ""
             }
            },
            "type": "scattercarpet"
           }
          ],
          "scattergeo": [
           {
            "marker": {
             "colorbar": {
              "outlinewidth": 0,
              "ticks": ""
             }
            },
            "type": "scattergeo"
           }
          ],
          "scattergl": [
           {
            "marker": {
             "colorbar": {
              "outlinewidth": 0,
              "ticks": ""
             }
            },
            "type": "scattergl"
           }
          ],
          "scattermapbox": [
           {
            "marker": {
             "colorbar": {
              "outlinewidth": 0,
              "ticks": ""
             }
            },
            "type": "scattermapbox"
           }
          ],
          "scatterpolar": [
           {
            "marker": {
             "colorbar": {
              "outlinewidth": 0,
              "ticks": ""
             }
            },
            "type": "scatterpolar"
           }
          ],
          "scatterpolargl": [
           {
            "marker": {
             "colorbar": {
              "outlinewidth": 0,
              "ticks": ""
             }
            },
            "type": "scatterpolargl"
           }
          ],
          "scatterternary": [
           {
            "marker": {
             "colorbar": {
              "outlinewidth": 0,
              "ticks": ""
             }
            },
            "type": "scatterternary"
           }
          ],
          "surface": [
           {
            "colorbar": {
             "outlinewidth": 0,
             "ticks": ""
            },
            "colorscale": [
             [
              0,
              "#0d0887"
             ],
             [
              0.1111111111111111,
              "#46039f"
             ],
             [
              0.2222222222222222,
              "#7201a8"
             ],
             [
              0.3333333333333333,
              "#9c179e"
             ],
             [
              0.4444444444444444,
              "#bd3786"
             ],
             [
              0.5555555555555556,
              "#d8576b"
             ],
             [
              0.6666666666666666,
              "#ed7953"
             ],
             [
              0.7777777777777778,
              "#fb9f3a"
             ],
             [
              0.8888888888888888,
              "#fdca26"
             ],
             [
              1,
              "#f0f921"
             ]
            ],
            "type": "surface"
           }
          ],
          "table": [
           {
            "cells": {
             "fill": {
              "color": "#EBF0F8"
             },
             "line": {
              "color": "white"
             }
            },
            "header": {
             "fill": {
              "color": "#C8D4E3"
             },
             "line": {
              "color": "white"
             }
            },
            "type": "table"
           }
          ]
         },
         "layout": {
          "annotationdefaults": {
           "arrowcolor": "#2a3f5f",
           "arrowhead": 0,
           "arrowwidth": 1
          },
          "autotypenumbers": "strict",
          "coloraxis": {
           "colorbar": {
            "outlinewidth": 0,
            "ticks": ""
           }
          },
          "colorscale": {
           "diverging": [
            [
             0,
             "#8e0152"
            ],
            [
             0.1,
             "#c51b7d"
            ],
            [
             0.2,
             "#de77ae"
            ],
            [
             0.3,
             "#f1b6da"
            ],
            [
             0.4,
             "#fde0ef"
            ],
            [
             0.5,
             "#f7f7f7"
            ],
            [
             0.6,
             "#e6f5d0"
            ],
            [
             0.7,
             "#b8e186"
            ],
            [
             0.8,
             "#7fbc41"
            ],
            [
             0.9,
             "#4d9221"
            ],
            [
             1,
             "#276419"
            ]
           ],
           "sequential": [
            [
             0,
             "#0d0887"
            ],
            [
             0.1111111111111111,
             "#46039f"
            ],
            [
             0.2222222222222222,
             "#7201a8"
            ],
            [
             0.3333333333333333,
             "#9c179e"
            ],
            [
             0.4444444444444444,
             "#bd3786"
            ],
            [
             0.5555555555555556,
             "#d8576b"
            ],
            [
             0.6666666666666666,
             "#ed7953"
            ],
            [
             0.7777777777777778,
             "#fb9f3a"
            ],
            [
             0.8888888888888888,
             "#fdca26"
            ],
            [
             1,
             "#f0f921"
            ]
           ],
           "sequentialminus": [
            [
             0,
             "#0d0887"
            ],
            [
             0.1111111111111111,
             "#46039f"
            ],
            [
             0.2222222222222222,
             "#7201a8"
            ],
            [
             0.3333333333333333,
             "#9c179e"
            ],
            [
             0.4444444444444444,
             "#bd3786"
            ],
            [
             0.5555555555555556,
             "#d8576b"
            ],
            [
             0.6666666666666666,
             "#ed7953"
            ],
            [
             0.7777777777777778,
             "#fb9f3a"
            ],
            [
             0.8888888888888888,
             "#fdca26"
            ],
            [
             1,
             "#f0f921"
            ]
           ]
          },
          "colorway": [
           "#636efa",
           "#EF553B",
           "#00cc96",
           "#ab63fa",
           "#FFA15A",
           "#19d3f3",
           "#FF6692",
           "#B6E880",
           "#FF97FF",
           "#FECB52"
          ],
          "font": {
           "color": "#2a3f5f"
          },
          "geo": {
           "bgcolor": "white",
           "lakecolor": "white",
           "landcolor": "#E5ECF6",
           "showlakes": true,
           "showland": true,
           "subunitcolor": "white"
          },
          "hoverlabel": {
           "align": "left"
          },
          "hovermode": "closest",
          "mapbox": {
           "style": "light"
          },
          "paper_bgcolor": "white",
          "plot_bgcolor": "#E5ECF6",
          "polar": {
           "angularaxis": {
            "gridcolor": "white",
            "linecolor": "white",
            "ticks": ""
           },
           "bgcolor": "#E5ECF6",
           "radialaxis": {
            "gridcolor": "white",
            "linecolor": "white",
            "ticks": ""
           }
          },
          "scene": {
           "xaxis": {
            "backgroundcolor": "#E5ECF6",
            "gridcolor": "white",
            "gridwidth": 2,
            "linecolor": "white",
            "showbackground": true,
            "ticks": "",
            "zerolinecolor": "white"
           },
           "yaxis": {
            "backgroundcolor": "#E5ECF6",
            "gridcolor": "white",
            "gridwidth": 2,
            "linecolor": "white",
            "showbackground": true,
            "ticks": "",
            "zerolinecolor": "white"
           },
           "zaxis": {
            "backgroundcolor": "#E5ECF6",
            "gridcolor": "white",
            "gridwidth": 2,
            "linecolor": "white",
            "showbackground": true,
            "ticks": "",
            "zerolinecolor": "white"
           }
          },
          "shapedefaults": {
           "line": {
            "color": "#2a3f5f"
           }
          },
          "ternary": {
           "aaxis": {
            "gridcolor": "white",
            "linecolor": "white",
            "ticks": ""
           },
           "baxis": {
            "gridcolor": "white",
            "linecolor": "white",
            "ticks": ""
           },
           "bgcolor": "#E5ECF6",
           "caxis": {
            "gridcolor": "white",
            "linecolor": "white",
            "ticks": ""
           }
          },
          "title": {
           "x": 0.05
          },
          "xaxis": {
           "automargin": true,
           "gridcolor": "white",
           "linecolor": "white",
           "ticks": "",
           "title": {
            "standoff": 15
           },
           "zerolinecolor": "white",
           "zerolinewidth": 2
          },
          "yaxis": {
           "automargin": true,
           "gridcolor": "white",
           "linecolor": "white",
           "ticks": "",
           "title": {
            "standoff": 15
           },
           "zerolinecolor": "white",
           "zerolinewidth": 2
          }
         }
        },
        "title": {
         "text": "Hyperparameter optimization for SIR with Average Quadratic Loss"
        },
        "xaxis": {
         "autorange": true,
         "range": [
          -0.6241310824230386,
          9.62413108242304
         ],
         "title": {
          "text": "Epoch"
         },
         "type": "linear"
        },
        "yaxis": {
         "autorange": true,
         "range": [
          -0.0010370840784161284,
          0.03512531804936836
         ],
         "title": {
          "text": "Validation Accuracy"
         },
         "type": "linear"
        }
       }
      },
      "image/png": "[encoded data removed]",
      "text/html": [
       "<div>                            <div id=\"953461e9-0db6-4b34-a7c9-574225287262\" class=\"plotly-graph-div\" style=\"height:525px; width:100%;\"></div>            <script type=\"text/javascript\">                require([\"plotly\"], function(Plotly) {                    window.PLOTLYENV=window.PLOTLYENV || {};                                    if (document.getElementById(\"953461e9-0db6-4b34-a7c9-574225287262\")) {                    Plotly.newPlot(                        \"953461e9-0db6-4b34-a7c9-574225287262\",                        [{\"marker\":{\"maxdisplayed\":10},\"mode\":\"lines+markers\",\"name\":\"Trial0\",\"x\":[0,1,2,3,4,5,6,7,8,9],\"y\":[0.032563814565316956,0.008431184125035556,0.019672685572460515,0.006649129526383841,0.01542099856618625,0.007126781644661035,0.011466373414246004,0.0062643685225230545,0.015532437189301447,0.009967890081565772],\"type\":\"scatter\"},{\"marker\":{\"maxdisplayed\":10},\"mode\":\"lines+markers\",\"name\":\"Trial1\",\"x\":[0,1,2,3,4,5,6,7,8,9],\"y\":[0.006578140971412418,0.0065130141772306305,0.006548643476485454,0.006510463998614801,0.006571199004582426,0.006599802418086055,0.006525173501261401,0.006540419821765521,0.006533056004002267,0.006631388602196606],\"type\":\"scatter\"},{\"marker\":{\"maxdisplayed\":10},\"mode\":\"lines+markers\",\"name\":\"Trial2\",\"x\":[0,1,2,3,4,5,6,7,8,9],\"y\":[0.023570115318970204,0.017185566739093536,0.02048764624241047,0.027410011789570116,0.0162244844751582,0.02245780694391396,0.01836328593368866,0.027701750018591983,0.026402490071354548,0.03136351634611589],\"type\":\"scatter\"},{\"marker\":{\"maxdisplayed\":10},\"mode\":\"lines+markers\",\"name\":\"Trial3\",\"x\":[0,1,2,3,4,5,6,7,8,9],\"y\":[0.007123850261295217,0.005944264703623295,0.004688811292300374,0.006223057237628285,0.008266174242172273,0.009281877026727938,0.007544679514705443,0.007539916851528446,0.0054129392378168125,0.009331022773809101],\"type\":\"scatter\"},{\"marker\":{\"maxdisplayed\":10},\"mode\":\"lines+markers\",\"name\":\"Trial4\",\"x\":[0,1,2,3,4,5,6,7,8,9],\"y\":[0.0029276352526022877,0.02390292647537912,0.00882734477477806,0.003956896341910028,0.002940269855430425,0.02576350840962026,0.002938137296784962,0.008085404031679972,0.005711104016901328,0.0069133908252554084],\"type\":\"scatter\"},{\"marker\":{\"maxdisplayed\":10},\"mode\":\"lines+markers\",\"name\":\"Trial5\",\"x\":[0,1,2,3,4,5,6,7,8,9],\"y\":[0.0033086416799397696,0.0042584370895628896,0.003276605632097002,0.0039461263869371675,0.0038970006881133903,0.004094681953863492,0.002907318621134711,0.003944158191896147,0.0038617033186176468,0.003009425417061836],\"type\":\"scatter\"},{\"marker\":{\"maxdisplayed\":10},\"mode\":\"lines+markers\",\"name\":\"Trial6\",\"x\":[0,1,2,3,4,5,6,7,8,9],\"y\":[0.0016864015329163145,0.0016960953125509165,0.001676173948346847,0.0017040229528011864,0.001709477484370548,0.001689559349352742,0.0016835257050200178,0.0016860845976052888,0.001676722888964814,0.0016737091832337984],\"type\":\"scatter\"},{\"marker\":{\"maxdisplayed\":10},\"mode\":\"lines+markers\",\"name\":\"Trial7\",\"x\":[0,1,2,3,4,5,6,7,8,9],\"y\":[0.0024780580389505624,0.002218271276612451,0.0025990058494352927,0.0032357281369009595,0.0034076951626597018,0.0023854156394769763,0.0022075055339287543,0.0021318699652585075,0.0026863323694941163,0.0023150240508155308],\"type\":\"scatter\"},{\"marker\":{\"maxdisplayed\":10},\"mode\":\"lines+markers\",\"name\":\"Trial8\",\"x\":[0,1,2,3,4,5,6,7,8,9],\"y\":[0.002250940902429877,0.0020696614190791416,0.002126126899157913,0.0022139935455854657,0.0021529542300307634,0.0024347877726682184,0.002101847507710596,0.0022016458828183053,0.0025269672057582336,0.0022391047328710555],\"type\":\"scatter\"},{\"marker\":{\"maxdisplayed\":10},\"mode\":\"lines+markers\",\"name\":\"Trial9\",\"x\":[0,1,2,3,4,5,6,7,8,9],\"y\":[0.0015244194056352727,0.008865441888689263,0.010164774881617274,0.007173279874541073,0.0025835757517065003,0.0017024324819806425,0.0022938550326382164,0.0020166578644399916,0.0017832337539033162,0.00198307938747213],\"type\":\"scatter\"}],                        {\"showlegend\":false,\"title\":{\"text\":\"Hyperparameter optimization for SIR with Average Quadratic Loss\"},\"xaxis\":{\"title\":{\"text\":\"Epoch\"}},\"yaxis\":{\"title\":{\"text\":\"Validation Accuracy\"}},\"template\":{\"data\":{\"histogram2dcontour\":[{\"type\":\"histogram2dcontour\",\"colorbar\":{\"outlinewidth\":0,\"ticks\":\"\"},\"colorscale\":[[0.0,\"#0d0887\"],[0.1111111111111111,\"#46039f\"],[0.2222222222222222,\"#7201a8\"],[0.3333333333333333,\"#9c179e\"],[0.4444444444444444,\"#bd3786\"],[0.5555555555555556,\"#d8576b\"],[0.6666666666666666,\"#ed7953\"],[0.7777777777777778,\"#fb9f3a\"],[0.8888888888888888,\"#fdca26\"],[1.0,\"#f0f921\"]]}],\"choropleth\":[{\"type\":\"choropleth\",\"colorbar\":{\"outlinewidth\":0,\"ticks\":\"\"}}],\"histogram2d\":[{\"type\":\"histogram2d\",\"colorbar\":{\"outlinewidth\":0,\"ticks\":\"\"},\"colorscale\":[[0.0,\"#0d0887\"],[0.1111111111111111,\"#46039f\"],[0.2222222222222222,\"#7201a8\"],[0.3333333333333333,\"#9c179e\"],[0.4444444444444444,\"#bd3786\"],[0.5555555555555556,\"#d8576b\"],[0.6666666666666666,\"#ed7953\"],[0.7777777777777778,\"#fb9f3a\"],[0.8888888888888888,\"#fdca26\"],[1.0,\"#f0f921\"]]}],\"heatmap\":[{\"type\":\"heatmap\",\"colorbar\":{\"outlinewidth\":0,\"ticks\":\"\"},\"colorscale\":[[0.0,\"#0d0887\"],[0.1111111111111111,\"#46039f\"],[0.2222222222222222,\"#7201a8\"],[0.3333333333333333,\"#9c179e\"],[0.4444444444444444,\"#bd3786\"],[0.5555555555555556,\"#d8576b\"],[0.6666666666666666,\"#ed7953\"],[0.7777777777777778,\"#fb9f3a\"],[0.8888888888888888,\"#fdca26\"],[1.0,\"#f0f921\"]]}],\"heatmapgl\":[{\"type\":\"heatmapgl\",\"colorbar\":{\"outlinewidth\":0,\"ticks\":\"\"},\"colorscale\":[[0.0,\"#0d0887\"],[0.1111111111111111,\"#46039f\"],[0.2222222222222222,\"#7201a8\"],[0.3333333333333333,\"#9c179e\"],[0.4444444444444444,\"#bd3786\"],[0.5555555555555556,\"#d8576b\"],[0.6666666666666666,\"#ed7953\"],[0.7777777777777778,\"#fb9f3a\"],[0.8888888888888888,\"#fdca26\"],[1.0,\"#f0f921\"]]}],\"contourcarpet\":[{\"type\":\"contourcarpet\",\"colorbar\":{\"outlinewidth\":0,\"ticks\":\"\"}}],\"contour\":[{\"type\":\"contour\",\"colorbar\":{\"outlinewidth\":0,\"ticks\":\"\"},\"colorscale\":[[0.0,\"#0d0887\"],[0.1111111111111111,\"#46039f\"],[0.2222222222222222,\"#7201a8\"],[0.3333333333333333,\"#9c179e\"],[0.4444444444444444,\"#bd3786\"],[0.5555555555555556,\"#d8576b\"],[0.6666666666666666,\"#ed7953\"],[0.7777777777777778,\"#fb9f3a\"],[0.8888888888888888,\"#fdca26\"],[1.0,\"#f0f921\"]]}],\"surface\":[{\"type\":\"surface\",\"colorbar\":{\"outlinewidth\":0,\"ticks\":\"\"},\"colorscale\":[[0.0,\"#0d0887\"],[0.1111111111111111,\"#46039f\"],[0.2222222222222222,\"#7201a8\"],[0.3333333333333333,\"#9c179e\"],[0.4444444444444444,\"#bd3786\"],[0.5555555555555556,\"#d8576b\"],[0.6666666666666666,\"#ed7953\"],[0.7777777777777778,\"#fb9f3a\"],[0.8888888888888888,\"#fdca26\"],[1.0,\"#f0f921\"]]}],\"mesh3d\":[{\"type\":\"mesh3d\",\"colorbar\":{\"outlinewidth\":0,\"ticks\":\"\"}}],\"scatter\":[{\"fillpattern\":{\"fillmode\":\"overlay\",\"size\":10,\"solidity\":0.2},\"type\":\"scatter\"}],\"parcoords\":[{\"type\":\"parcoords\",\"line\":{\"colorbar\":{\"outlinewidth\":0,\"ticks\":\"\"}}}],\"scatterpolargl\":[{\"type\":\"scatterpolargl\",\"marker\":{\"colorbar\":{\"outlinewidth\":0,\"ticks\":\"\"}}}],\"bar\":[{\"error_x\":{\"color\":\"#2a3f5f\"},\"error_y\":{\"color\":\"#2a3f5f\"},\"marker\":{\"line\":{\"color\":\"#E5ECF6\",\"width\":0.5},\"pattern\":{\"fillmode\":\"overlay\",\"size\":10,\"solidity\":0.2}},\"type\":\"bar\"}],\"scattergeo\":[{\"type\":\"scattergeo\",\"marker\":{\"colorbar\":{\"outlinewidth\":0,\"ticks\":\"\"}}}],\"scatterpolar\":[{\"type\":\"scatterpolar\",\"marker\":{\"colorbar\":{\"outlinewidth\":0,\"ticks\":\"\"}}}],\"histogram\":[{\"marker\":{\"pattern\":{\"fillmode\":\"overlay\",\"size\":10,\"solidity\":0.2}},\"type\":\"histogram\"}],\"scattergl\":[{\"type\":\"scattergl\",\"marker\":{\"colorbar\":{\"outlinewidth\":0,\"ticks\":\"\"}}}],\"scatter3d\":[{\"type\":\"scatter3d\",\"line\":{\"colorbar\":{\"outlinewidth\":0,\"ticks\":\"\"}},\"marker\":{\"colorbar\":{\"outlinewidth\":0,\"ticks\":\"\"}}}],\"scattermapbox\":[{\"type\":\"scattermapbox\",\"marker\":{\"colorbar\":{\"outlinewidth\":0,\"ticks\":\"\"}}}],\"scatterternary\":[{\"type\":\"scatterternary\",\"marker\":{\"colorbar\":{\"outlinewidth\":0,\"ticks\":\"\"}}}],\"scattercarpet\":[{\"type\":\"scattercarpet\",\"marker\":{\"colorbar\":{\"outlinewidth\":0,\"ticks\":\"\"}}}],\"carpet\":[{\"aaxis\":{\"endlinecolor\":\"#2a3f5f\",\"gridcolor\":\"white\",\"linecolor\":\"white\",\"minorgridcolor\":\"white\",\"startlinecolor\":\"#2a3f5f\"},\"baxis\":{\"endlinecolor\":\"#2a3f5f\",\"gridcolor\":\"white\",\"linecolor\":\"white\",\"minorgridcolor\":\"white\",\"startlinecolor\":\"#2a3f5f\"},\"type\":\"carpet\"}],\"table\":[{\"cells\":{\"fill\":{\"color\":\"#EBF0F8\"},\"line\":{\"color\":\"white\"}},\"header\":{\"fill\":{\"color\":\"#C8D4E3\"},\"line\":{\"color\":\"white\"}},\"type\":\"table\"}],\"barpolar\":[{\"marker\":{\"line\":{\"color\":\"#E5ECF6\",\"width\":0.5},\"pattern\":{\"fillmode\":\"overlay\",\"size\":10,\"solidity\":0.2}},\"type\":\"barpolar\"}],\"pie\":[{\"automargin\":true,\"type\":\"pie\"}]},\"layout\":{\"autotypenumbers\":\"strict\",\"colorway\":[\"#636efa\",\"#EF553B\",\"#00cc96\",\"#ab63fa\",\"#FFA15A\",\"#19d3f3\",\"#FF6692\",\"#B6E880\",\"#FF97FF\",\"#FECB52\"],\"font\":{\"color\":\"#2a3f5f\"},\"hovermode\":\"closest\",\"hoverlabel\":{\"align\":\"left\"},\"paper_bgcolor\":\"white\",\"plot_bgcolor\":\"#E5ECF6\",\"polar\":{\"bgcolor\":\"#E5ECF6\",\"angularaxis\":{\"gridcolor\":\"white\",\"linecolor\":\"white\",\"ticks\":\"\"},\"radialaxis\":{\"gridcolor\":\"white\",\"linecolor\":\"white\",\"ticks\":\"\"}},\"ternary\":{\"bgcolor\":\"#E5ECF6\",\"aaxis\":{\"gridcolor\":\"white\",\"linecolor\":\"white\",\"ticks\":\"\"},\"baxis\":{\"gridcolor\":\"white\",\"linecolor\":\"white\",\"ticks\":\"\"},\"caxis\":{\"gridcolor\":\"white\",\"linecolor\":\"white\",\"ticks\":\"\"}},\"coloraxis\":{\"colorbar\":{\"outlinewidth\":0,\"ticks\":\"\"}},\"colorscale\":{\"sequential\":[[0.0,\"#0d0887\"],[0.1111111111111111,\"#46039f\"],[0.2222222222222222,\"#7201a8\"],[0.3333333333333333,\"#9c179e\"],[0.4444444444444444,\"#bd3786\"],[0.5555555555555556,\"#d8576b\"],[0.6666666666666666,\"#ed7953\"],[0.7777777777777778,\"#fb9f3a\"],[0.8888888888888888,\"#fdca26\"],[1.0,\"#f0f921\"]],\"sequentialminus\":[[0.0,\"#0d0887\"],[0.1111111111111111,\"#46039f\"],[0.2222222222222222,\"#7201a8\"],[0.3333333333333333,\"#9c179e\"],[0.4444444444444444,\"#bd3786\"],[0.5555555555555556,\"#d8576b\"],[0.6666666666666666,\"#ed7953\"],[0.7777777777777778,\"#fb9f3a\"],[0.8888888888888888,\"#fdca26\"],[1.0,\"#f0f921\"]],\"diverging\":[[0,\"#8e0152\"],[0.1,\"#c51b7d\"],[0.2,\"#de77ae\"],[0.3,\"#f1b6da\"],[0.4,\"#fde0ef\"],[0.5,\"#f7f7f7\"],[0.6,\"#e6f5d0\"],[0.7,\"#b8e186\"],[0.8,\"#7fbc41\"],[0.9,\"#4d9221\"],[1,\"#276419\"]]},\"xaxis\":{\"gridcolor\":\"white\",\"linecolor\":\"white\",\"ticks\":\"\",\"title\":{\"standoff\":15},\"zerolinecolor\":\"white\",\"automargin\":true,\"zerolinewidth\":2},\"yaxis\":{\"gridcolor\":\"white\",\"linecolor\":\"white\",\"ticks\":\"\",\"title\":{\"standoff\":15},\"zerolinecolor\":\"white\",\"automargin\":true,\"zerolinewidth\":2},\"scene\":{\"xaxis\":{\"backgroundcolor\":\"#E5ECF6\",\"gridcolor\":\"white\",\"linecolor\":\"white\",\"showbackground\":true,\"ticks\":\"\",\"zerolinecolor\":\"white\",\"gridwidth\":2},\"yaxis\":{\"backgroundcolor\":\"#E5ECF6\",\"gridcolor\":\"white\",\"linecolor\":\"white\",\"showbackground\":true,\"ticks\":\"\",\"zerolinecolor\":\"white\",\"gridwidth\":2},\"zaxis\":{\"backgroundcolor\":\"#E5ECF6\",\"gridcolor\":\"white\",\"linecolor\":\"white\",\"showbackground\":true,\"ticks\":\"\",\"zerolinecolor\":\"white\",\"gridwidth\":2}},\"shapedefaults\":{\"line\":{\"color\":\"#2a3f5f\"}},\"annotationdefaults\":{\"arrowcolor\":\"#2a3f5f\",\"arrowhead\":0,\"arrowwidth\":1},\"geo\":{\"bgcolor\":\"white\",\"landcolor\":\"#E5ECF6\",\"subunitcolor\":\"white\",\"showland\":true,\"showlakes\":true,\"lakecolor\":\"white\"},\"title\":{\"x\":0.05},\"mapbox\":{\"style\":\"light\"}}}},                        {\"responsive\": true}                    ).then(function(){\n",
       "                            \n",
       "var gd = document.getElementById('953461e9-0db6-4b34-a7c9-574225287262');\n",
       "var x = new MutationObserver(function (mutations, observer) {{\n",
       "        var display = window.getComputedStyle(gd).display;\n",
       "        if (!display || display === 'none') {{\n",
       "            console.log([gd, 'removed!']);\n",
       "            Plotly.purge(gd);\n",
       "            observer.disconnect();\n",
       "        }}\n",
       "}});\n",
       "\n",
       "// Listen for the removal of the full notebook cells\n",
       "var notebookContainer = gd.closest('#notebook-container');\n",
       "if (notebookContainer) {{\n",
       "    x.observe(notebookContainer, {childList: true});\n",
       "}}\n",
       "\n",
       "// Listen for the clearing of the current output cell\n",
       "var outputEl = gd.closest('.output');\n",
       "if (outputEl) {{\n",
       "    x.observe(outputEl, {childList: true});\n",
       "}}\n",
       "\n",
       "                        })                };                });            </script>        </div>"
      ]
     },
     "metadata": {},
     "output_type": "display_data"
    }
   ],
   "source": [
    "fig = plot_intermediate_values(study)\n",
    "fig.update_layout(\n",
    "    title=\"Hyperparameter optimization for SIR with Average Quadratic Loss\",\n",
    "    xaxis_title=\"Epoch\",\n",
    "    yaxis_title=\"Validation Accuracy\",\n",
    ")"
   ]
  },
  {
   "cell_type": "code",
   "execution_count": 17,
   "id": "c997ff09-539c-43d6-a52c-cd2d5eb08cc4",
   "metadata": {},
   "outputs": [
    {
     "data": {
      "application/vnd.plotly.v1+json": {
       "config": {
        "plotlyServerURL": "https://plot.ly"
       },
       "data": [
        {
         "cliponaxis": false,
         "hovertemplate": [
          "activation (CategoricalDistribution): 0.0019385853966689625<extra></extra>",
          "optimizer_name (CategoricalDistribution): 0.011931848194514314<extra></extra>",
          "nlayers (IntDistribution): 0.01671663433616175<extra></extra>",
          "hidden_size (IntDistribution): 0.02319935767864957<extra></extra>",
          "learning_rate (FloatDistribution): 0.30050237844545863<extra></extra>",
          "batch_size (IntDistribution): 0.6457111959485469<extra></extra>"
         ],
         "name": "Objective Value",
         "orientation": "h",
         "text": [
          "<0.01",
          "0.01",
          "0.02",
          "0.02",
          "0.30",
          "0.65"
         ],
         "textposition": "outside",
         "type": "bar",
         "x": [
          0.0019385853966689625,
          0.011931848194514314,
          0.01671663433616175,
          0.02319935767864957,
          0.30050237844545863,
          0.6457111959485469
         ],
         "y": [
          "activation",
          "optimizer_name",
          "nlayers",
          "hidden_size",
          "learning_rate",
          "batch_size"
         ]
        }
       ],
       "layout": {
        "autosize": true,
        "template": {
         "data": {
          "bar": [
           {
            "error_x": {
             "color": "#2a3f5f"
            },
            "error_y": {
             "color": "#2a3f5f"
            },
            "marker": {
             "line": {
              "color": "#E5ECF6",
              "width": 0.5
             },
             "pattern": {
              "fillmode": "overlay",
              "size": 10,
              "solidity": 0.2
             }
            },
            "type": "bar"
           }
          ],
          "barpolar": [
           {
            "marker": {
             "line": {
              "color": "#E5ECF6",
              "width": 0.5
             },
             "pattern": {
              "fillmode": "overlay",
              "size": 10,
              "solidity": 0.2
             }
            },
            "type": "barpolar"
           }
          ],
          "carpet": [
           {
            "aaxis": {
             "endlinecolor": "#2a3f5f",
             "gridcolor": "white",
             "linecolor": "white",
             "minorgridcolor": "white",
             "startlinecolor": "#2a3f5f"
            },
            "baxis": {
             "endlinecolor": "#2a3f5f",
             "gridcolor": "white",
             "linecolor": "white",
             "minorgridcolor": "white",
             "startlinecolor": "#2a3f5f"
            },
            "type": "carpet"
           }
          ],
          "choropleth": [
           {
            "colorbar": {
             "outlinewidth": 0,
             "ticks": ""
            },
            "type": "choropleth"
           }
          ],
          "contour": [
           {
            "colorbar": {
             "outlinewidth": 0,
             "ticks": ""
            },
            "colorscale": [
             [
              0,
              "#0d0887"
             ],
             [
              0.1111111111111111,
              "#46039f"
             ],
             [
              0.2222222222222222,
              "#7201a8"
             ],
             [
              0.3333333333333333,
              "#9c179e"
             ],
             [
              0.4444444444444444,
              "#bd3786"
             ],
             [
              0.5555555555555556,
              "#d8576b"
             ],
             [
              0.6666666666666666,
              "#ed7953"
             ],
             [
              0.7777777777777778,
              "#fb9f3a"
             ],
             [
              0.8888888888888888,
              "#fdca26"
             ],
             [
              1,
              "#f0f921"
             ]
            ],
            "type": "contour"
           }
          ],
          "contourcarpet": [
           {
            "colorbar": {
             "outlinewidth": 0,
             "ticks": ""
            },
            "type": "contourcarpet"
           }
          ],
          "heatmap": [
           {
            "colorbar": {
             "outlinewidth": 0,
             "ticks": ""
            },
            "colorscale": [
             [
              0,
              "#0d0887"
             ],
             [
              0.1111111111111111,
              "#46039f"
             ],
             [
              0.2222222222222222,
              "#7201a8"
             ],
             [
              0.3333333333333333,
              "#9c179e"
             ],
             [
              0.4444444444444444,
              "#bd3786"
             ],
             [
              0.5555555555555556,
              "#d8576b"
             ],
             [
              0.6666666666666666,
              "#ed7953"
             ],
             [
              0.7777777777777778,
              "#fb9f3a"
             ],
             [
              0.8888888888888888,
              "#fdca26"
             ],
             [
              1,
              "#f0f921"
             ]
            ],
            "type": "heatmap"
           }
          ],
          "heatmapgl": [
           {
            "colorbar": {
             "outlinewidth": 0,
             "ticks": ""
            },
            "colorscale": [
             [
              0,
              "#0d0887"
             ],
             [
              0.1111111111111111,
              "#46039f"
             ],
             [
              0.2222222222222222,
              "#7201a8"
             ],
             [
              0.3333333333333333,
              "#9c179e"
             ],
             [
              0.4444444444444444,
              "#bd3786"
             ],
             [
              0.5555555555555556,
              "#d8576b"
             ],
             [
              0.6666666666666666,
              "#ed7953"
             ],
             [
              0.7777777777777778,
              "#fb9f3a"
             ],
             [
              0.8888888888888888,
              "#fdca26"
             ],
             [
              1,
              "#f0f921"
             ]
            ],
            "type": "heatmapgl"
           }
          ],
          "histogram": [
           {
            "marker": {
             "pattern": {
              "fillmode": "overlay",
              "size": 10,
              "solidity": 0.2
             }
            },
            "type": "histogram"
           }
          ],
          "histogram2d": [
           {
            "colorbar": {
             "outlinewidth": 0,
             "ticks": ""
            },
            "colorscale": [
             [
              0,
              "#0d0887"
             ],
             [
              0.1111111111111111,
              "#46039f"
             ],
             [
              0.2222222222222222,
              "#7201a8"
             ],
             [
              0.3333333333333333,
              "#9c179e"
             ],
             [
              0.4444444444444444,
              "#bd3786"
             ],
             [
              0.5555555555555556,
              "#d8576b"
             ],
             [
              0.6666666666666666,
              "#ed7953"
             ],
             [
              0.7777777777777778,
              "#fb9f3a"
             ],
             [
              0.8888888888888888,
              "#fdca26"
             ],
             [
              1,
              "#f0f921"
             ]
            ],
            "type": "histogram2d"
           }
          ],
          "histogram2dcontour": [
           {
            "colorbar": {
             "outlinewidth": 0,
             "ticks": ""
            },
            "colorscale": [
             [
              0,
              "#0d0887"
             ],
             [
              0.1111111111111111,
              "#46039f"
             ],
             [
              0.2222222222222222,
              "#7201a8"
             ],
             [
              0.3333333333333333,
              "#9c179e"
             ],
             [
              0.4444444444444444,
              "#bd3786"
             ],
             [
              0.5555555555555556,
              "#d8576b"
             ],
             [
              0.6666666666666666,
              "#ed7953"
             ],
             [
              0.7777777777777778,
              "#fb9f3a"
             ],
             [
              0.8888888888888888,
              "#fdca26"
             ],
             [
              1,
              "#f0f921"
             ]
            ],
            "type": "histogram2dcontour"
           }
          ],
          "mesh3d": [
           {
            "colorbar": {
             "outlinewidth": 0,
             "ticks": ""
            },
            "type": "mesh3d"
           }
          ],
          "parcoords": [
           {
            "line": {
             "colorbar": {
              "outlinewidth": 0,
              "ticks": ""
             }
            },
            "type": "parcoords"
           }
          ],
          "pie": [
           {
            "automargin": true,
            "type": "pie"
           }
          ],
          "scatter": [
           {
            "fillpattern": {
             "fillmode": "overlay",
             "size": 10,
             "solidity": 0.2
            },
            "type": "scatter"
           }
          ],
          "scatter3d": [
           {
            "line": {
             "colorbar": {
              "outlinewidth": 0,
              "ticks": ""
             }
            },
            "marker": {
             "colorbar": {
              "outlinewidth": 0,
              "ticks": ""
             }
            },
            "type": "scatter3d"
           }
          ],
          "scattercarpet": [
           {
            "marker": {
             "colorbar": {
              "outlinewidth": 0,
              "ticks": ""
             }
            },
            "type": "scattercarpet"
           }
          ],
          "scattergeo": [
           {
            "marker": {
             "colorbar": {
              "outlinewidth": 0,
              "ticks": ""
             }
            },
            "type": "scattergeo"
           }
          ],
          "scattergl": [
           {
            "marker": {
             "colorbar": {
              "outlinewidth": 0,
              "ticks": ""
             }
            },
            "type": "scattergl"
           }
          ],
          "scattermapbox": [
           {
            "marker": {
             "colorbar": {
              "outlinewidth": 0,
              "ticks": ""
             }
            },
            "type": "scattermapbox"
           }
          ],
          "scatterpolar": [
           {
            "marker": {
             "colorbar": {
              "outlinewidth": 0,
              "ticks": ""
             }
            },
            "type": "scatterpolar"
           }
          ],
          "scatterpolargl": [
           {
            "marker": {
             "colorbar": {
              "outlinewidth": 0,
              "ticks": ""
             }
            },
            "type": "scatterpolargl"
           }
          ],
          "scatterternary": [
           {
            "marker": {
             "colorbar": {
              "outlinewidth": 0,
              "ticks": ""
             }
            },
            "type": "scatterternary"
           }
          ],
          "surface": [
           {
            "colorbar": {
             "outlinewidth": 0,
             "ticks": ""
            },
            "colorscale": [
             [
              0,
              "#0d0887"
             ],
             [
              0.1111111111111111,
              "#46039f"
             ],
             [
              0.2222222222222222,
              "#7201a8"
             ],
             [
              0.3333333333333333,
              "#9c179e"
             ],
             [
              0.4444444444444444,
              "#bd3786"
             ],
             [
              0.5555555555555556,
              "#d8576b"
             ],
             [
              0.6666666666666666,
              "#ed7953"
             ],
             [
              0.7777777777777778,
              "#fb9f3a"
             ],
             [
              0.8888888888888888,
              "#fdca26"
             ],
             [
              1,
              "#f0f921"
             ]
            ],
            "type": "surface"
           }
          ],
          "table": [
           {
            "cells": {
             "fill": {
              "color": "#EBF0F8"
             },
             "line": {
              "color": "white"
             }
            },
            "header": {
             "fill": {
              "color": "#C8D4E3"
             },
             "line": {
              "color": "white"
             }
            },
            "type": "table"
           }
          ]
         },
         "layout": {
          "annotationdefaults": {
           "arrowcolor": "#2a3f5f",
           "arrowhead": 0,
           "arrowwidth": 1
          },
          "autotypenumbers": "strict",
          "coloraxis": {
           "colorbar": {
            "outlinewidth": 0,
            "ticks": ""
           }
          },
          "colorscale": {
           "diverging": [
            [
             0,
             "#8e0152"
            ],
            [
             0.1,
             "#c51b7d"
            ],
            [
             0.2,
             "#de77ae"
            ],
            [
             0.3,
             "#f1b6da"
            ],
            [
             0.4,
             "#fde0ef"
            ],
            [
             0.5,
             "#f7f7f7"
            ],
            [
             0.6,
             "#e6f5d0"
            ],
            [
             0.7,
             "#b8e186"
            ],
            [
             0.8,
             "#7fbc41"
            ],
            [
             0.9,
             "#4d9221"
            ],
            [
             1,
             "#276419"
            ]
           ],
           "sequential": [
            [
             0,
             "#0d0887"
            ],
            [
             0.1111111111111111,
             "#46039f"
            ],
            [
             0.2222222222222222,
             "#7201a8"
            ],
            [
             0.3333333333333333,
             "#9c179e"
            ],
            [
             0.4444444444444444,
             "#bd3786"
            ],
            [
             0.5555555555555556,
             "#d8576b"
            ],
            [
             0.6666666666666666,
             "#ed7953"
            ],
            [
             0.7777777777777778,
             "#fb9f3a"
            ],
            [
             0.8888888888888888,
             "#fdca26"
            ],
            [
             1,
             "#f0f921"
            ]
           ],
           "sequentialminus": [
            [
             0,
             "#0d0887"
            ],
            [
             0.1111111111111111,
             "#46039f"
            ],
            [
             0.2222222222222222,
             "#7201a8"
            ],
            [
             0.3333333333333333,
             "#9c179e"
            ],
            [
             0.4444444444444444,
             "#bd3786"
            ],
            [
             0.5555555555555556,
             "#d8576b"
            ],
            [
             0.6666666666666666,
             "#ed7953"
            ],
            [
             0.7777777777777778,
             "#fb9f3a"
            ],
            [
             0.8888888888888888,
             "#fdca26"
            ],
            [
             1,
             "#f0f921"
            ]
           ]
          },
          "colorway": [
           "#636efa",
           "#EF553B",
           "#00cc96",
           "#ab63fa",
           "#FFA15A",
           "#19d3f3",
           "#FF6692",
           "#B6E880",
           "#FF97FF",
           "#FECB52"
          ],
          "font": {
           "color": "#2a3f5f"
          },
          "geo": {
           "bgcolor": "white",
           "lakecolor": "white",
           "landcolor": "#E5ECF6",
           "showlakes": true,
           "showland": true,
           "subunitcolor": "white"
          },
          "hoverlabel": {
           "align": "left"
          },
          "hovermode": "closest",
          "mapbox": {
           "style": "light"
          },
          "paper_bgcolor": "white",
          "plot_bgcolor": "#E5ECF6",
          "polar": {
           "angularaxis": {
            "gridcolor": "white",
            "linecolor": "white",
            "ticks": ""
           },
           "bgcolor": "#E5ECF6",
           "radialaxis": {
            "gridcolor": "white",
            "linecolor": "white",
            "ticks": ""
           }
          },
          "scene": {
           "xaxis": {
            "backgroundcolor": "#E5ECF6",
            "gridcolor": "white",
            "gridwidth": 2,
            "linecolor": "white",
            "showbackground": true,
            "ticks": "",
            "zerolinecolor": "white"
           },
           "yaxis": {
            "backgroundcolor": "#E5ECF6",
            "gridcolor": "white",
            "gridwidth": 2,
            "linecolor": "white",
            "showbackground": true,
            "ticks": "",
            "zerolinecolor": "white"
           },
           "zaxis": {
            "backgroundcolor": "#E5ECF6",
            "gridcolor": "white",
            "gridwidth": 2,
            "linecolor": "white",
            "showbackground": true,
            "ticks": "",
            "zerolinecolor": "white"
           }
          },
          "shapedefaults": {
           "line": {
            "color": "#2a3f5f"
           }
          },
          "ternary": {
           "aaxis": {
            "gridcolor": "white",
            "linecolor": "white",
            "ticks": ""
           },
           "baxis": {
            "gridcolor": "white",
            "linecolor": "white",
            "ticks": ""
           },
           "bgcolor": "#E5ECF6",
           "caxis": {
            "gridcolor": "white",
            "linecolor": "white",
            "ticks": ""
           }
          },
          "title": {
           "x": 0.05
          },
          "xaxis": {
           "automargin": true,
           "gridcolor": "white",
           "linecolor": "white",
           "ticks": "",
           "title": {
            "standoff": 15
           },
           "zerolinecolor": "white",
           "zerolinewidth": 2
          },
          "yaxis": {
           "automargin": true,
           "gridcolor": "white",
           "linecolor": "white",
           "ticks": "",
           "title": {
            "standoff": 15
           },
           "zerolinecolor": "white",
           "zerolinewidth": 2
          }
         }
        },
        "title": {
         "text": "Hyperparameter Importances"
        },
        "xaxis": {
         "autorange": true,
         "range": [
          0,
          0.6796959957353125
         ],
         "title": {
          "text": "Hyperparameter Importance"
         },
         "type": "linear"
        },
        "yaxis": {
         "autorange": true,
         "range": [
          -0.5,
          5.5
         ],
         "title": {
          "text": "Hyperparameter"
         },
         "type": "category"
        }
       }
      },
      "image/png": "[encoded data removed]",
      "text/html": [
       "<div>                            <div id=\"00023951-4fee-4259-9fcb-c75ea97d7a0e\" class=\"plotly-graph-div\" style=\"height:525px; width:100%;\"></div>            <script type=\"text/javascript\">                require([\"plotly\"], function(Plotly) {                    window.PLOTLYENV=window.PLOTLYENV || {};                                    if (document.getElementById(\"00023951-4fee-4259-9fcb-c75ea97d7a0e\")) {                    Plotly.newPlot(                        \"00023951-4fee-4259-9fcb-c75ea97d7a0e\",                        [{\"cliponaxis\":false,\"hovertemplate\":[\"activation (CategoricalDistribution): 0.0019385853966689625<extra></extra>\",\"optimizer_name (CategoricalDistribution): 0.011931848194514314<extra></extra>\",\"nlayers (IntDistribution): 0.01671663433616175<extra></extra>\",\"hidden_size (IntDistribution): 0.02319935767864957<extra></extra>\",\"learning_rate (FloatDistribution): 0.30050237844545863<extra></extra>\",\"batch_size (IntDistribution): 0.6457111959485469<extra></extra>\"],\"name\":\"Objective Value\",\"orientation\":\"h\",\"text\":[\"<0.01\",\"0.01\",\"0.02\",\"0.02\",\"0.30\",\"0.65\"],\"textposition\":\"outside\",\"x\":[0.0019385853966689625,0.011931848194514314,0.01671663433616175,0.02319935767864957,0.30050237844545863,0.6457111959485469],\"y\":[\"activation\",\"optimizer_name\",\"nlayers\",\"hidden_size\",\"learning_rate\",\"batch_size\"],\"type\":\"bar\"}],                        {\"title\":{\"text\":\"Hyperparameter Importances\"},\"xaxis\":{\"title\":{\"text\":\"Hyperparameter Importance\"}},\"yaxis\":{\"title\":{\"text\":\"Hyperparameter\"}},\"template\":{\"data\":{\"histogram2dcontour\":[{\"type\":\"histogram2dcontour\",\"colorbar\":{\"outlinewidth\":0,\"ticks\":\"\"},\"colorscale\":[[0.0,\"#0d0887\"],[0.1111111111111111,\"#46039f\"],[0.2222222222222222,\"#7201a8\"],[0.3333333333333333,\"#9c179e\"],[0.4444444444444444,\"#bd3786\"],[0.5555555555555556,\"#d8576b\"],[0.6666666666666666,\"#ed7953\"],[0.7777777777777778,\"#fb9f3a\"],[0.8888888888888888,\"#fdca26\"],[1.0,\"#f0f921\"]]}],\"choropleth\":[{\"type\":\"choropleth\",\"colorbar\":{\"outlinewidth\":0,\"ticks\":\"\"}}],\"histogram2d\":[{\"type\":\"histogram2d\",\"colorbar\":{\"outlinewidth\":0,\"ticks\":\"\"},\"colorscale\":[[0.0,\"#0d0887\"],[0.1111111111111111,\"#46039f\"],[0.2222222222222222,\"#7201a8\"],[0.3333333333333333,\"#9c179e\"],[0.4444444444444444,\"#bd3786\"],[0.5555555555555556,\"#d8576b\"],[0.6666666666666666,\"#ed7953\"],[0.7777777777777778,\"#fb9f3a\"],[0.8888888888888888,\"#fdca26\"],[1.0,\"#f0f921\"]]}],\"heatmap\":[{\"type\":\"heatmap\",\"colorbar\":{\"outlinewidth\":0,\"ticks\":\"\"},\"colorscale\":[[0.0,\"#0d0887\"],[0.1111111111111111,\"#46039f\"],[0.2222222222222222,\"#7201a8\"],[0.3333333333333333,\"#9c179e\"],[0.4444444444444444,\"#bd3786\"],[0.5555555555555556,\"#d8576b\"],[0.6666666666666666,\"#ed7953\"],[0.7777777777777778,\"#fb9f3a\"],[0.8888888888888888,\"#fdca26\"],[1.0,\"#f0f921\"]]}],\"heatmapgl\":[{\"type\":\"heatmapgl\",\"colorbar\":{\"outlinewidth\":0,\"ticks\":\"\"},\"colorscale\":[[0.0,\"#0d0887\"],[0.1111111111111111,\"#46039f\"],[0.2222222222222222,\"#7201a8\"],[0.3333333333333333,\"#9c179e\"],[0.4444444444444444,\"#bd3786\"],[0.5555555555555556,\"#d8576b\"],[0.6666666666666666,\"#ed7953\"],[0.7777777777777778,\"#fb9f3a\"],[0.8888888888888888,\"#fdca26\"],[1.0,\"#f0f921\"]]}],\"contourcarpet\":[{\"type\":\"contourcarpet\",\"colorbar\":{\"outlinewidth\":0,\"ticks\":\"\"}}],\"contour\":[{\"type\":\"contour\",\"colorbar\":{\"outlinewidth\":0,\"ticks\":\"\"},\"colorscale\":[[0.0,\"#0d0887\"],[0.1111111111111111,\"#46039f\"],[0.2222222222222222,\"#7201a8\"],[0.3333333333333333,\"#9c179e\"],[0.4444444444444444,\"#bd3786\"],[0.5555555555555556,\"#d8576b\"],[0.6666666666666666,\"#ed7953\"],[0.7777777777777778,\"#fb9f3a\"],[0.8888888888888888,\"#fdca26\"],[1.0,\"#f0f921\"]]}],\"surface\":[{\"type\":\"surface\",\"colorbar\":{\"outlinewidth\":0,\"ticks\":\"\"},\"colorscale\":[[0.0,\"#0d0887\"],[0.1111111111111111,\"#46039f\"],[0.2222222222222222,\"#7201a8\"],[0.3333333333333333,\"#9c179e\"],[0.4444444444444444,\"#bd3786\"],[0.5555555555555556,\"#d8576b\"],[0.6666666666666666,\"#ed7953\"],[0.7777777777777778,\"#fb9f3a\"],[0.8888888888888888,\"#fdca26\"],[1.0,\"#f0f921\"]]}],\"mesh3d\":[{\"type\":\"mesh3d\",\"colorbar\":{\"outlinewidth\":0,\"ticks\":\"\"}}],\"scatter\":[{\"fillpattern\":{\"fillmode\":\"overlay\",\"size\":10,\"solidity\":0.2},\"type\":\"scatter\"}],\"parcoords\":[{\"type\":\"parcoords\",\"line\":{\"colorbar\":{\"outlinewidth\":0,\"ticks\":\"\"}}}],\"scatterpolargl\":[{\"type\":\"scatterpolargl\",\"marker\":{\"colorbar\":{\"outlinewidth\":0,\"ticks\":\"\"}}}],\"bar\":[{\"error_x\":{\"color\":\"#2a3f5f\"},\"error_y\":{\"color\":\"#2a3f5f\"},\"marker\":{\"line\":{\"color\":\"#E5ECF6\",\"width\":0.5},\"pattern\":{\"fillmode\":\"overlay\",\"size\":10,\"solidity\":0.2}},\"type\":\"bar\"}],\"scattergeo\":[{\"type\":\"scattergeo\",\"marker\":{\"colorbar\":{\"outlinewidth\":0,\"ticks\":\"\"}}}],\"scatterpolar\":[{\"type\":\"scatterpolar\",\"marker\":{\"colorbar\":{\"outlinewidth\":0,\"ticks\":\"\"}}}],\"histogram\":[{\"marker\":{\"pattern\":{\"fillmode\":\"overlay\",\"size\":10,\"solidity\":0.2}},\"type\":\"histogram\"}],\"scattergl\":[{\"type\":\"scattergl\",\"marker\":{\"colorbar\":{\"outlinewidth\":0,\"ticks\":\"\"}}}],\"scatter3d\":[{\"type\":\"scatter3d\",\"line\":{\"colorbar\":{\"outlinewidth\":0,\"ticks\":\"\"}},\"marker\":{\"colorbar\":{\"outlinewidth\":0,\"ticks\":\"\"}}}],\"scattermapbox\":[{\"type\":\"scattermapbox\",\"marker\":{\"colorbar\":{\"outlinewidth\":0,\"ticks\":\"\"}}}],\"scatterternary\":[{\"type\":\"scatterternary\",\"marker\":{\"colorbar\":{\"outlinewidth\":0,\"ticks\":\"\"}}}],\"scattercarpet\":[{\"type\":\"scattercarpet\",\"marker\":{\"colorbar\":{\"outlinewidth\":0,\"ticks\":\"\"}}}],\"carpet\":[{\"aaxis\":{\"endlinecolor\":\"#2a3f5f\",\"gridcolor\":\"white\",\"linecolor\":\"white\",\"minorgridcolor\":\"white\",\"startlinecolor\":\"#2a3f5f\"},\"baxis\":{\"endlinecolor\":\"#2a3f5f\",\"gridcolor\":\"white\",\"linecolor\":\"white\",\"minorgridcolor\":\"white\",\"startlinecolor\":\"#2a3f5f\"},\"type\":\"carpet\"}],\"table\":[{\"cells\":{\"fill\":{\"color\":\"#EBF0F8\"},\"line\":{\"color\":\"white\"}},\"header\":{\"fill\":{\"color\":\"#C8D4E3\"},\"line\":{\"color\":\"white\"}},\"type\":\"table\"}],\"barpolar\":[{\"marker\":{\"line\":{\"color\":\"#E5ECF6\",\"width\":0.5},\"pattern\":{\"fillmode\":\"overlay\",\"size\":10,\"solidity\":0.2}},\"type\":\"barpolar\"}],\"pie\":[{\"automargin\":true,\"type\":\"pie\"}]},\"layout\":{\"autotypenumbers\":\"strict\",\"colorway\":[\"#636efa\",\"#EF553B\",\"#00cc96\",\"#ab63fa\",\"#FFA15A\",\"#19d3f3\",\"#FF6692\",\"#B6E880\",\"#FF97FF\",\"#FECB52\"],\"font\":{\"color\":\"#2a3f5f\"},\"hovermode\":\"closest\",\"hoverlabel\":{\"align\":\"left\"},\"paper_bgcolor\":\"white\",\"plot_bgcolor\":\"#E5ECF6\",\"polar\":{\"bgcolor\":\"#E5ECF6\",\"angularaxis\":{\"gridcolor\":\"white\",\"linecolor\":\"white\",\"ticks\":\"\"},\"radialaxis\":{\"gridcolor\":\"white\",\"linecolor\":\"white\",\"ticks\":\"\"}},\"ternary\":{\"bgcolor\":\"#E5ECF6\",\"aaxis\":{\"gridcolor\":\"white\",\"linecolor\":\"white\",\"ticks\":\"\"},\"baxis\":{\"gridcolor\":\"white\",\"linecolor\":\"white\",\"ticks\":\"\"},\"caxis\":{\"gridcolor\":\"white\",\"linecolor\":\"white\",\"ticks\":\"\"}},\"coloraxis\":{\"colorbar\":{\"outlinewidth\":0,\"ticks\":\"\"}},\"colorscale\":{\"sequential\":[[0.0,\"#0d0887\"],[0.1111111111111111,\"#46039f\"],[0.2222222222222222,\"#7201a8\"],[0.3333333333333333,\"#9c179e\"],[0.4444444444444444,\"#bd3786\"],[0.5555555555555556,\"#d8576b\"],[0.6666666666666666,\"#ed7953\"],[0.7777777777777778,\"#fb9f3a\"],[0.8888888888888888,\"#fdca26\"],[1.0,\"#f0f921\"]],\"sequentialminus\":[[0.0,\"#0d0887\"],[0.1111111111111111,\"#46039f\"],[0.2222222222222222,\"#7201a8\"],[0.3333333333333333,\"#9c179e\"],[0.4444444444444444,\"#bd3786\"],[0.5555555555555556,\"#d8576b\"],[0.6666666666666666,\"#ed7953\"],[0.7777777777777778,\"#fb9f3a\"],[0.8888888888888888,\"#fdca26\"],[1.0,\"#f0f921\"]],\"diverging\":[[0,\"#8e0152\"],[0.1,\"#c51b7d\"],[0.2,\"#de77ae\"],[0.3,\"#f1b6da\"],[0.4,\"#fde0ef\"],[0.5,\"#f7f7f7\"],[0.6,\"#e6f5d0\"],[0.7,\"#b8e186\"],[0.8,\"#7fbc41\"],[0.9,\"#4d9221\"],[1,\"#276419\"]]},\"xaxis\":{\"gridcolor\":\"white\",\"linecolor\":\"white\",\"ticks\":\"\",\"title\":{\"standoff\":15},\"zerolinecolor\":\"white\",\"automargin\":true,\"zerolinewidth\":2},\"yaxis\":{\"gridcolor\":\"white\",\"linecolor\":\"white\",\"ticks\":\"\",\"title\":{\"standoff\":15},\"zerolinecolor\":\"white\",\"automargin\":true,\"zerolinewidth\":2},\"scene\":{\"xaxis\":{\"backgroundcolor\":\"#E5ECF6\",\"gridcolor\":\"white\",\"linecolor\":\"white\",\"showbackground\":true,\"ticks\":\"\",\"zerolinecolor\":\"white\",\"gridwidth\":2},\"yaxis\":{\"backgroundcolor\":\"#E5ECF6\",\"gridcolor\":\"white\",\"linecolor\":\"white\",\"showbackground\":true,\"ticks\":\"\",\"zerolinecolor\":\"white\",\"gridwidth\":2},\"zaxis\":{\"backgroundcolor\":\"#E5ECF6\",\"gridcolor\":\"white\",\"linecolor\":\"white\",\"showbackground\":true,\"ticks\":\"\",\"zerolinecolor\":\"white\",\"gridwidth\":2}},\"shapedefaults\":{\"line\":{\"color\":\"#2a3f5f\"}},\"annotationdefaults\":{\"arrowcolor\":\"#2a3f5f\",\"arrowhead\":0,\"arrowwidth\":1},\"geo\":{\"bgcolor\":\"white\",\"landcolor\":\"#E5ECF6\",\"subunitcolor\":\"white\",\"showland\":true,\"showlakes\":true,\"lakecolor\":\"white\"},\"title\":{\"x\":0.05},\"mapbox\":{\"style\":\"light\"}}}},                        {\"responsive\": true}                    ).then(function(){\n",
       "                            \n",
       "var gd = document.getElementById('00023951-4fee-4259-9fcb-c75ea97d7a0e');\n",
       "var x = new MutationObserver(function (mutations, observer) {{\n",
       "        var display = window.getComputedStyle(gd).display;\n",
       "        if (!display || display === 'none') {{\n",
       "            console.log([gd, 'removed!']);\n",
       "            Plotly.purge(gd);\n",
       "            observer.disconnect();\n",
       "        }}\n",
       "}});\n",
       "\n",
       "// Listen for the removal of the full notebook cells\n",
       "var notebookContainer = gd.closest('#notebook-container');\n",
       "if (notebookContainer) {{\n",
       "    x.observe(notebookContainer, {childList: true});\n",
       "}}\n",
       "\n",
       "// Listen for the clearing of the current output cell\n",
       "var outputEl = gd.closest('.output');\n",
       "if (outputEl) {{\n",
       "    x.observe(outputEl, {childList: true});\n",
       "}}\n",
       "\n",
       "                        })                };                });            </script>        </div>"
      ]
     },
     "metadata": {},
     "output_type": "display_data"
    }
   ],
   "source": [
    "plot_param_importances(study)"
   ]
  },
  {
   "cell_type": "code",
   "execution_count": 18,
   "id": "9ee10d91-0fc4-4b4f-a37f-837685590227",
   "metadata": {},
   "outputs": [
    {
     "data": {
      "application/vnd.plotly.v1+json": {
       "config": {
        "plotlyServerURL": "https://plot.ly"
       },
       "data": [
        {
         "hovertemplate": "%{hovertext}<extra></extra>",
         "hovertext": [
          "Trial #0<br>nlayers: 4<br>hidden_size: 3<br>optimizer_name: SGD<br>learning_rate: 0.004411101706036235<br>batch_size: 670<br>activation: PReLU<br><b>Objective Value: 0.009967890081565772</b>",
          "Trial #1<br>nlayers: 3<br>hidden_size: 57<br>optimizer_name: RMSprop<br>learning_rate: 0.003965332289175691<br>batch_size: 634<br>activation: PReLU<br><b>Objective Value: 0.006631388602196606</b>",
          "Trial #2<br>nlayers: 5<br>hidden_size: 41<br>optimizer_name: SGD<br>learning_rate: 0.001705750989213183<br>batch_size: 511<br>activation: PReLU<br><b>Objective Value: 0.03136351634611589</b>",
          "Trial #3<br>nlayers: 2<br>hidden_size: 57<br>optimizer_name: SGD<br>learning_rate: 0.001839058010253875<br>batch_size: 1206<br>activation: PReLU<br><b>Objective Value: 0.009331022773809101</b>",
          "Trial #4<br>nlayers: 5<br>hidden_size: 1<br>optimizer_name: RMSprop<br>learning_rate: 0.001921553915883699<br>batch_size: 1413<br>activation: PReLU<br><b>Objective Value: 0.0069133908252554084</b>",
          "Trial #5<br>nlayers: 5<br>hidden_size: 41<br>optimizer_name: SGD<br>learning_rate: 0.004248005583275175<br>batch_size: 2016<br>activation: LeakyReLU<br><b>Objective Value: 0.003009425417061836</b>",
          "Trial #6<br>nlayers: 1<br>hidden_size: 48<br>optimizer_name: RMSprop<br>learning_rate: 0.001760534713381132<br>batch_size: 2478<br>activation: PReLU<br><b>Objective Value: 0.0016737091832337984</b>",
          "Trial #7<br>nlayers: 3<br>hidden_size: 8<br>optimizer_name: SGD<br>learning_rate: 0.009537520587256125<br>batch_size: 2001<br>activation: PReLU<br><b>Objective Value: 0.0023150240508155308</b>",
          "Trial #8<br>nlayers: 2<br>hidden_size: 51<br>optimizer_name: SGD<br>learning_rate: 0.005949905799153901<br>batch_size: 2060<br>activation: LeakyReLU<br><b>Objective Value: 0.0022391047328710555</b>",
          "Trial #9<br>nlayers: 6<br>hidden_size: 1<br>optimizer_name: SGD<br>learning_rate: 0.006511673013711062<br>batch_size: 2767<br>activation: PReLU<br><b>Objective Value: 0.00198307938747213</b>"
         ],
         "marker": {
          "color": [
           "rgb(218.0, 55.0, 42.0)",
           "rgb(254.0, 238.0, 165.0)",
           "rgb(165.0, 0.0, 38.0)",
           "rgb(246.0, 123.0, 74.0)",
           "rgb(253.0, 191.0, 113.0)",
           "rgb(238.0, 248.0, 223.0)",
           "rgb(49.0, 54.0, 149.0)",
           "rgb(189.0, 226.0, 238.0)",
           "rgb(128.0, 183.0, 214.0)",
           "rgb(74.0, 123.0, 183.0)"
          ],
          "line": {
           "color": "Grey",
           "width": 0.5
          }
         },
         "mode": "markers",
         "showlegend": false,
         "type": "scatter",
         "x": [
          "PReLU",
          "PReLU",
          "PReLU",
          "PReLU",
          "PReLU",
          "LeakyReLU",
          "PReLU",
          "PReLU",
          "LeakyReLU",
          "PReLU"
         ],
         "xaxis": "x",
         "y": [
          "PReLU",
          "PReLU",
          "PReLU",
          "PReLU",
          "PReLU",
          "LeakyReLU",
          "PReLU",
          "PReLU",
          "LeakyReLU",
          "PReLU"
         ],
         "yaxis": "y"
        },
        {
         "hovertemplate": "%{hovertext}<extra></extra>",
         "hovertext": [
          "Trial #0<br>nlayers: 4<br>hidden_size: 3<br>optimizer_name: SGD<br>learning_rate: 0.004411101706036235<br>batch_size: 670<br>activation: PReLU<br><b>Objective Value: 0.009967890081565772</b>",
          "Trial #1<br>nlayers: 3<br>hidden_size: 57<br>optimizer_name: RMSprop<br>learning_rate: 0.003965332289175691<br>batch_size: 634<br>activation: PReLU<br><b>Objective Value: 0.006631388602196606</b>",
          "Trial #2<br>nlayers: 5<br>hidden_size: 41<br>optimizer_name: SGD<br>learning_rate: 0.001705750989213183<br>batch_size: 511<br>activation: PReLU<br><b>Objective Value: 0.03136351634611589</b>",
          "Trial #3<br>nlayers: 2<br>hidden_size: 57<br>optimizer_name: SGD<br>learning_rate: 0.001839058010253875<br>batch_size: 1206<br>activation: PReLU<br><b>Objective Value: 0.009331022773809101</b>",
          "Trial #4<br>nlayers: 5<br>hidden_size: 1<br>optimizer_name: RMSprop<br>learning_rate: 0.001921553915883699<br>batch_size: 1413<br>activation: PReLU<br><b>Objective Value: 0.0069133908252554084</b>",
          "Trial #5<br>nlayers: 5<br>hidden_size: 41<br>optimizer_name: SGD<br>learning_rate: 0.004248005583275175<br>batch_size: 2016<br>activation: LeakyReLU<br><b>Objective Value: 0.003009425417061836</b>",
          "Trial #6<br>nlayers: 1<br>hidden_size: 48<br>optimizer_name: RMSprop<br>learning_rate: 0.001760534713381132<br>batch_size: 2478<br>activation: PReLU<br><b>Objective Value: 0.0016737091832337984</b>",
          "Trial #7<br>nlayers: 3<br>hidden_size: 8<br>optimizer_name: SGD<br>learning_rate: 0.009537520587256125<br>batch_size: 2001<br>activation: PReLU<br><b>Objective Value: 0.0023150240508155308</b>",
          "Trial #8<br>nlayers: 2<br>hidden_size: 51<br>optimizer_name: SGD<br>learning_rate: 0.005949905799153901<br>batch_size: 2060<br>activation: LeakyReLU<br><b>Objective Value: 0.0022391047328710555</b>",
          "Trial #9<br>nlayers: 6<br>hidden_size: 1<br>optimizer_name: SGD<br>learning_rate: 0.006511673013711062<br>batch_size: 2767<br>activation: PReLU<br><b>Objective Value: 0.00198307938747213</b>"
         ],
         "marker": {
          "color": [
           "rgb(218.0, 55.0, 42.0)",
           "rgb(254.0, 238.0, 165.0)",
           "rgb(165.0, 0.0, 38.0)",
           "rgb(246.0, 123.0, 74.0)",
           "rgb(253.0, 191.0, 113.0)",
           "rgb(238.0, 248.0, 223.0)",
           "rgb(49.0, 54.0, 149.0)",
           "rgb(189.0, 226.0, 238.0)",
           "rgb(128.0, 183.0, 214.0)",
           "rgb(74.0, 123.0, 183.0)"
          ],
          "line": {
           "color": "Grey",
           "width": 0.5
          }
         },
         "mode": "markers",
         "showlegend": false,
         "type": "scatter",
         "x": [
          "PReLU",
          "PReLU",
          "PReLU",
          "PReLU",
          "PReLU",
          "LeakyReLU",
          "PReLU",
          "PReLU",
          "LeakyReLU",
          "PReLU"
         ],
         "xaxis": "x7",
         "y": [
          670,
          634,
          511,
          1206,
          1413,
          2016,
          2478,
          2001,
          2060,
          2767
         ],
         "yaxis": "y7"
        },
        {
         "hovertemplate": "%{hovertext}<extra></extra>",
         "hovertext": [
          "Trial #0<br>nlayers: 4<br>hidden_size: 3<br>optimizer_name: SGD<br>learning_rate: 0.004411101706036235<br>batch_size: 670<br>activation: PReLU<br><b>Objective Value: 0.009967890081565772</b>",
          "Trial #1<br>nlayers: 3<br>hidden_size: 57<br>optimizer_name: RMSprop<br>learning_rate: 0.003965332289175691<br>batch_size: 634<br>activation: PReLU<br><b>Objective Value: 0.006631388602196606</b>",
          "Trial #2<br>nlayers: 5<br>hidden_size: 41<br>optimizer_name: SGD<br>learning_rate: 0.001705750989213183<br>batch_size: 511<br>activation: PReLU<br><b>Objective Value: 0.03136351634611589</b>",
          "Trial #3<br>nlayers: 2<br>hidden_size: 57<br>optimizer_name: SGD<br>learning_rate: 0.001839058010253875<br>batch_size: 1206<br>activation: PReLU<br><b>Objective Value: 0.009331022773809101</b>",
          "Trial #4<br>nlayers: 5<br>hidden_size: 1<br>optimizer_name: RMSprop<br>learning_rate: 0.001921553915883699<br>batch_size: 1413<br>activation: PReLU<br><b>Objective Value: 0.0069133908252554084</b>",
          "Trial #5<br>nlayers: 5<br>hidden_size: 41<br>optimizer_name: SGD<br>learning_rate: 0.004248005583275175<br>batch_size: 2016<br>activation: LeakyReLU<br><b>Objective Value: 0.003009425417061836</b>",
          "Trial #6<br>nlayers: 1<br>hidden_size: 48<br>optimizer_name: RMSprop<br>learning_rate: 0.001760534713381132<br>batch_size: 2478<br>activation: PReLU<br><b>Objective Value: 0.0016737091832337984</b>",
          "Trial #7<br>nlayers: 3<br>hidden_size: 8<br>optimizer_name: SGD<br>learning_rate: 0.009537520587256125<br>batch_size: 2001<br>activation: PReLU<br><b>Objective Value: 0.0023150240508155308</b>",
          "Trial #8<br>nlayers: 2<br>hidden_size: 51<br>optimizer_name: SGD<br>learning_rate: 0.005949905799153901<br>batch_size: 2060<br>activation: LeakyReLU<br><b>Objective Value: 0.0022391047328710555</b>",
          "Trial #9<br>nlayers: 6<br>hidden_size: 1<br>optimizer_name: SGD<br>learning_rate: 0.006511673013711062<br>batch_size: 2767<br>activation: PReLU<br><b>Objective Value: 0.00198307938747213</b>"
         ],
         "marker": {
          "color": [
           "rgb(218.0, 55.0, 42.0)",
           "rgb(254.0, 238.0, 165.0)",
           "rgb(165.0, 0.0, 38.0)",
           "rgb(246.0, 123.0, 74.0)",
           "rgb(253.0, 191.0, 113.0)",
           "rgb(238.0, 248.0, 223.0)",
           "rgb(49.0, 54.0, 149.0)",
           "rgb(189.0, 226.0, 238.0)",
           "rgb(128.0, 183.0, 214.0)",
           "rgb(74.0, 123.0, 183.0)"
          ],
          "line": {
           "color": "Grey",
           "width": 0.5
          }
         },
         "mode": "markers",
         "showlegend": false,
         "type": "scatter",
         "x": [
          "PReLU",
          "PReLU",
          "PReLU",
          "PReLU",
          "PReLU",
          "LeakyReLU",
          "PReLU",
          "PReLU",
          "LeakyReLU",
          "PReLU"
         ],
         "xaxis": "x13",
         "y": [
          3,
          57,
          41,
          57,
          1,
          41,
          48,
          8,
          51,
          1
         ],
         "yaxis": "y13"
        },
        {
         "hovertemplate": "%{hovertext}<extra></extra>",
         "hovertext": [
          "Trial #0<br>nlayers: 4<br>hidden_size: 3<br>optimizer_name: SGD<br>learning_rate: 0.004411101706036235<br>batch_size: 670<br>activation: PReLU<br><b>Objective Value: 0.009967890081565772</b>",
          "Trial #1<br>nlayers: 3<br>hidden_size: 57<br>optimizer_name: RMSprop<br>learning_rate: 0.003965332289175691<br>batch_size: 634<br>activation: PReLU<br><b>Objective Value: 0.006631388602196606</b>",
          "Trial #2<br>nlayers: 5<br>hidden_size: 41<br>optimizer_name: SGD<br>learning_rate: 0.001705750989213183<br>batch_size: 511<br>activation: PReLU<br><b>Objective Value: 0.03136351634611589</b>",
          "Trial #3<br>nlayers: 2<br>hidden_size: 57<br>optimizer_name: SGD<br>learning_rate: 0.001839058010253875<br>batch_size: 1206<br>activation: PReLU<br><b>Objective Value: 0.009331022773809101</b>",
          "Trial #4<br>nlayers: 5<br>hidden_size: 1<br>optimizer_name: RMSprop<br>learning_rate: 0.001921553915883699<br>batch_size: 1413<br>activation: PReLU<br><b>Objective Value: 0.0069133908252554084</b>",
          "Trial #5<br>nlayers: 5<br>hidden_size: 41<br>optimizer_name: SGD<br>learning_rate: 0.004248005583275175<br>batch_size: 2016<br>activation: LeakyReLU<br><b>Objective Value: 0.003009425417061836</b>",
          "Trial #6<br>nlayers: 1<br>hidden_size: 48<br>optimizer_name: RMSprop<br>learning_rate: 0.001760534713381132<br>batch_size: 2478<br>activation: PReLU<br><b>Objective Value: 0.0016737091832337984</b>",
          "Trial #7<br>nlayers: 3<br>hidden_size: 8<br>optimizer_name: SGD<br>learning_rate: 0.009537520587256125<br>batch_size: 2001<br>activation: PReLU<br><b>Objective Value: 0.0023150240508155308</b>",
          "Trial #8<br>nlayers: 2<br>hidden_size: 51<br>optimizer_name: SGD<br>learning_rate: 0.005949905799153901<br>batch_size: 2060<br>activation: LeakyReLU<br><b>Objective Value: 0.0022391047328710555</b>",
          "Trial #9<br>nlayers: 6<br>hidden_size: 1<br>optimizer_name: SGD<br>learning_rate: 0.006511673013711062<br>batch_size: 2767<br>activation: PReLU<br><b>Objective Value: 0.00198307938747213</b>"
         ],
         "marker": {
          "color": [
           "rgb(218.0, 55.0, 42.0)",
           "rgb(254.0, 238.0, 165.0)",
           "rgb(165.0, 0.0, 38.0)",
           "rgb(246.0, 123.0, 74.0)",
           "rgb(253.0, 191.0, 113.0)",
           "rgb(238.0, 248.0, 223.0)",
           "rgb(49.0, 54.0, 149.0)",
           "rgb(189.0, 226.0, 238.0)",
           "rgb(128.0, 183.0, 214.0)",
           "rgb(74.0, 123.0, 183.0)"
          ],
          "line": {
           "color": "Grey",
           "width": 0.5
          }
         },
         "mode": "markers",
         "showlegend": false,
         "type": "scatter",
         "x": [
          "PReLU",
          "PReLU",
          "PReLU",
          "PReLU",
          "PReLU",
          "LeakyReLU",
          "PReLU",
          "PReLU",
          "LeakyReLU",
          "PReLU"
         ],
         "xaxis": "x19",
         "y": [
          0.004411101706036235,
          0.003965332289175691,
          0.001705750989213183,
          0.001839058010253875,
          0.001921553915883699,
          0.004248005583275175,
          0.001760534713381132,
          0.009537520587256125,
          0.005949905799153901,
          0.006511673013711062
         ],
         "yaxis": "y19"
        },
        {
         "hovertemplate": "%{hovertext}<extra></extra>",
         "hovertext": [
          "Trial #0<br>nlayers: 4<br>hidden_size: 3<br>optimizer_name: SGD<br>learning_rate: 0.004411101706036235<br>batch_size: 670<br>activation: PReLU<br><b>Objective Value: 0.009967890081565772</b>",
          "Trial #1<br>nlayers: 3<br>hidden_size: 57<br>optimizer_name: RMSprop<br>learning_rate: 0.003965332289175691<br>batch_size: 634<br>activation: PReLU<br><b>Objective Value: 0.006631388602196606</b>",
          "Trial #2<br>nlayers: 5<br>hidden_size: 41<br>optimizer_name: SGD<br>learning_rate: 0.001705750989213183<br>batch_size: 511<br>activation: PReLU<br><b>Objective Value: 0.03136351634611589</b>",
          "Trial #3<br>nlayers: 2<br>hidden_size: 57<br>optimizer_name: SGD<br>learning_rate: 0.001839058010253875<br>batch_size: 1206<br>activation: PReLU<br><b>Objective Value: 0.009331022773809101</b>",
          "Trial #4<br>nlayers: 5<br>hidden_size: 1<br>optimizer_name: RMSprop<br>learning_rate: 0.001921553915883699<br>batch_size: 1413<br>activation: PReLU<br><b>Objective Value: 0.0069133908252554084</b>",
          "Trial #5<br>nlayers: 5<br>hidden_size: 41<br>optimizer_name: SGD<br>learning_rate: 0.004248005583275175<br>batch_size: 2016<br>activation: LeakyReLU<br><b>Objective Value: 0.003009425417061836</b>",
          "Trial #6<br>nlayers: 1<br>hidden_size: 48<br>optimizer_name: RMSprop<br>learning_rate: 0.001760534713381132<br>batch_size: 2478<br>activation: PReLU<br><b>Objective Value: 0.0016737091832337984</b>",
          "Trial #7<br>nlayers: 3<br>hidden_size: 8<br>optimizer_name: SGD<br>learning_rate: 0.009537520587256125<br>batch_size: 2001<br>activation: PReLU<br><b>Objective Value: 0.0023150240508155308</b>",
          "Trial #8<br>nlayers: 2<br>hidden_size: 51<br>optimizer_name: SGD<br>learning_rate: 0.005949905799153901<br>batch_size: 2060<br>activation: LeakyReLU<br><b>Objective Value: 0.0022391047328710555</b>",
          "Trial #9<br>nlayers: 6<br>hidden_size: 1<br>optimizer_name: SGD<br>learning_rate: 0.006511673013711062<br>batch_size: 2767<br>activation: PReLU<br><b>Objective Value: 0.00198307938747213</b>"
         ],
         "marker": {
          "color": [
           "rgb(218.0, 55.0, 42.0)",
           "rgb(254.0, 238.0, 165.0)",
           "rgb(165.0, 0.0, 38.0)",
           "rgb(246.0, 123.0, 74.0)",
           "rgb(253.0, 191.0, 113.0)",
           "rgb(238.0, 248.0, 223.0)",
           "rgb(49.0, 54.0, 149.0)",
           "rgb(189.0, 226.0, 238.0)",
           "rgb(128.0, 183.0, 214.0)",
           "rgb(74.0, 123.0, 183.0)"
          ],
          "line": {
           "color": "Grey",
           "width": 0.5
          }
         },
         "mode": "markers",
         "showlegend": false,
         "type": "scatter",
         "x": [
          "PReLU",
          "PReLU",
          "PReLU",
          "PReLU",
          "PReLU",
          "LeakyReLU",
          "PReLU",
          "PReLU",
          "LeakyReLU",
          "PReLU"
         ],
         "xaxis": "x25",
         "y": [
          4,
          3,
          5,
          2,
          5,
          5,
          1,
          3,
          2,
          6
         ],
         "yaxis": "y25"
        },
        {
         "hovertemplate": "%{hovertext}<extra></extra>",
         "hovertext": [
          "Trial #0<br>nlayers: 4<br>hidden_size: 3<br>optimizer_name: SGD<br>learning_rate: 0.004411101706036235<br>batch_size: 670<br>activation: PReLU<br><b>Objective Value: 0.009967890081565772</b>",
          "Trial #1<br>nlayers: 3<br>hidden_size: 57<br>optimizer_name: RMSprop<br>learning_rate: 0.003965332289175691<br>batch_size: 634<br>activation: PReLU<br><b>Objective Value: 0.006631388602196606</b>",
          "Trial #2<br>nlayers: 5<br>hidden_size: 41<br>optimizer_name: SGD<br>learning_rate: 0.001705750989213183<br>batch_size: 511<br>activation: PReLU<br><b>Objective Value: 0.03136351634611589</b>",
          "Trial #3<br>nlayers: 2<br>hidden_size: 57<br>optimizer_name: SGD<br>learning_rate: 0.001839058010253875<br>batch_size: 1206<br>activation: PReLU<br><b>Objective Value: 0.009331022773809101</b>",
          "Trial #4<br>nlayers: 5<br>hidden_size: 1<br>optimizer_name: RMSprop<br>learning_rate: 0.001921553915883699<br>batch_size: 1413<br>activation: PReLU<br><b>Objective Value: 0.0069133908252554084</b>",
          "Trial #5<br>nlayers: 5<br>hidden_size: 41<br>optimizer_name: SGD<br>learning_rate: 0.004248005583275175<br>batch_size: 2016<br>activation: LeakyReLU<br><b>Objective Value: 0.003009425417061836</b>",
          "Trial #6<br>nlayers: 1<br>hidden_size: 48<br>optimizer_name: RMSprop<br>learning_rate: 0.001760534713381132<br>batch_size: 2478<br>activation: PReLU<br><b>Objective Value: 0.0016737091832337984</b>",
          "Trial #7<br>nlayers: 3<br>hidden_size: 8<br>optimizer_name: SGD<br>learning_rate: 0.009537520587256125<br>batch_size: 2001<br>activation: PReLU<br><b>Objective Value: 0.0023150240508155308</b>",
          "Trial #8<br>nlayers: 2<br>hidden_size: 51<br>optimizer_name: SGD<br>learning_rate: 0.005949905799153901<br>batch_size: 2060<br>activation: LeakyReLU<br><b>Objective Value: 0.0022391047328710555</b>",
          "Trial #9<br>nlayers: 6<br>hidden_size: 1<br>optimizer_name: SGD<br>learning_rate: 0.006511673013711062<br>batch_size: 2767<br>activation: PReLU<br><b>Objective Value: 0.00198307938747213</b>"
         ],
         "marker": {
          "color": [
           "rgb(218.0, 55.0, 42.0)",
           "rgb(254.0, 238.0, 165.0)",
           "rgb(165.0, 0.0, 38.0)",
           "rgb(246.0, 123.0, 74.0)",
           "rgb(253.0, 191.0, 113.0)",
           "rgb(238.0, 248.0, 223.0)",
           "rgb(49.0, 54.0, 149.0)",
           "rgb(189.0, 226.0, 238.0)",
           "rgb(128.0, 183.0, 214.0)",
           "rgb(74.0, 123.0, 183.0)"
          ],
          "line": {
           "color": "Grey",
           "width": 0.5
          }
         },
         "mode": "markers",
         "showlegend": false,
         "type": "scatter",
         "x": [
          "PReLU",
          "PReLU",
          "PReLU",
          "PReLU",
          "PReLU",
          "LeakyReLU",
          "PReLU",
          "PReLU",
          "LeakyReLU",
          "PReLU"
         ],
         "xaxis": "x31",
         "y": [
          "SGD",
          "RMSprop",
          "SGD",
          "SGD",
          "RMSprop",
          "SGD",
          "RMSprop",
          "SGD",
          "SGD",
          "SGD"
         ],
         "yaxis": "y31"
        },
        {
         "hovertemplate": "%{hovertext}<extra></extra>",
         "hovertext": [
          "Trial #0<br>nlayers: 4<br>hidden_size: 3<br>optimizer_name: SGD<br>learning_rate: 0.004411101706036235<br>batch_size: 670<br>activation: PReLU<br><b>Objective Value: 0.009967890081565772</b>",
          "Trial #1<br>nlayers: 3<br>hidden_size: 57<br>optimizer_name: RMSprop<br>learning_rate: 0.003965332289175691<br>batch_size: 634<br>activation: PReLU<br><b>Objective Value: 0.006631388602196606</b>",
          "Trial #2<br>nlayers: 5<br>hidden_size: 41<br>optimizer_name: SGD<br>learning_rate: 0.001705750989213183<br>batch_size: 511<br>activation: PReLU<br><b>Objective Value: 0.03136351634611589</b>",
          "Trial #3<br>nlayers: 2<br>hidden_size: 57<br>optimizer_name: SGD<br>learning_rate: 0.001839058010253875<br>batch_size: 1206<br>activation: PReLU<br><b>Objective Value: 0.009331022773809101</b>",
          "Trial #4<br>nlayers: 5<br>hidden_size: 1<br>optimizer_name: RMSprop<br>learning_rate: 0.001921553915883699<br>batch_size: 1413<br>activation: PReLU<br><b>Objective Value: 0.0069133908252554084</b>",
          "Trial #5<br>nlayers: 5<br>hidden_size: 41<br>optimizer_name: SGD<br>learning_rate: 0.004248005583275175<br>batch_size: 2016<br>activation: LeakyReLU<br><b>Objective Value: 0.003009425417061836</b>",
          "Trial #6<br>nlayers: 1<br>hidden_size: 48<br>optimizer_name: RMSprop<br>learning_rate: 0.001760534713381132<br>batch_size: 2478<br>activation: PReLU<br><b>Objective Value: 0.0016737091832337984</b>",
          "Trial #7<br>nlayers: 3<br>hidden_size: 8<br>optimizer_name: SGD<br>learning_rate: 0.009537520587256125<br>batch_size: 2001<br>activation: PReLU<br><b>Objective Value: 0.0023150240508155308</b>",
          "Trial #8<br>nlayers: 2<br>hidden_size: 51<br>optimizer_name: SGD<br>learning_rate: 0.005949905799153901<br>batch_size: 2060<br>activation: LeakyReLU<br><b>Objective Value: 0.0022391047328710555</b>",
          "Trial #9<br>nlayers: 6<br>hidden_size: 1<br>optimizer_name: SGD<br>learning_rate: 0.006511673013711062<br>batch_size: 2767<br>activation: PReLU<br><b>Objective Value: 0.00198307938747213</b>"
         ],
         "marker": {
          "color": [
           "rgb(218.0, 55.0, 42.0)",
           "rgb(254.0, 238.0, 165.0)",
           "rgb(165.0, 0.0, 38.0)",
           "rgb(246.0, 123.0, 74.0)",
           "rgb(253.0, 191.0, 113.0)",
           "rgb(238.0, 248.0, 223.0)",
           "rgb(49.0, 54.0, 149.0)",
           "rgb(189.0, 226.0, 238.0)",
           "rgb(128.0, 183.0, 214.0)",
           "rgb(74.0, 123.0, 183.0)"
          ],
          "line": {
           "color": "Grey",
           "width": 0.5
          }
         },
         "mode": "markers",
         "showlegend": false,
         "type": "scatter",
         "x": [
          670,
          634,
          511,
          1206,
          1413,
          2016,
          2478,
          2001,
          2060,
          2767
         ],
         "xaxis": "x2",
         "y": [
          "PReLU",
          "PReLU",
          "PReLU",
          "PReLU",
          "PReLU",
          "LeakyReLU",
          "PReLU",
          "PReLU",
          "LeakyReLU",
          "PReLU"
         ],
         "yaxis": "y2"
        },
        {
         "hovertemplate": "%{hovertext}<extra></extra>",
         "hovertext": [
          "Trial #0<br>nlayers: 4<br>hidden_size: 3<br>optimizer_name: SGD<br>learning_rate: 0.004411101706036235<br>batch_size: 670<br>activation: PReLU<br><b>Objective Value: 0.009967890081565772</b>",
          "Trial #1<br>nlayers: 3<br>hidden_size: 57<br>optimizer_name: RMSprop<br>learning_rate: 0.003965332289175691<br>batch_size: 634<br>activation: PReLU<br><b>Objective Value: 0.006631388602196606</b>",
          "Trial #2<br>nlayers: 5<br>hidden_size: 41<br>optimizer_name: SGD<br>learning_rate: 0.001705750989213183<br>batch_size: 511<br>activation: PReLU<br><b>Objective Value: 0.03136351634611589</b>",
          "Trial #3<br>nlayers: 2<br>hidden_size: 57<br>optimizer_name: SGD<br>learning_rate: 0.001839058010253875<br>batch_size: 1206<br>activation: PReLU<br><b>Objective Value: 0.009331022773809101</b>",
          "Trial #4<br>nlayers: 5<br>hidden_size: 1<br>optimizer_name: RMSprop<br>learning_rate: 0.001921553915883699<br>batch_size: 1413<br>activation: PReLU<br><b>Objective Value: 0.0069133908252554084</b>",
          "Trial #5<br>nlayers: 5<br>hidden_size: 41<br>optimizer_name: SGD<br>learning_rate: 0.004248005583275175<br>batch_size: 2016<br>activation: LeakyReLU<br><b>Objective Value: 0.003009425417061836</b>",
          "Trial #6<br>nlayers: 1<br>hidden_size: 48<br>optimizer_name: RMSprop<br>learning_rate: 0.001760534713381132<br>batch_size: 2478<br>activation: PReLU<br><b>Objective Value: 0.0016737091832337984</b>",
          "Trial #7<br>nlayers: 3<br>hidden_size: 8<br>optimizer_name: SGD<br>learning_rate: 0.009537520587256125<br>batch_size: 2001<br>activation: PReLU<br><b>Objective Value: 0.0023150240508155308</b>",
          "Trial #8<br>nlayers: 2<br>hidden_size: 51<br>optimizer_name: SGD<br>learning_rate: 0.005949905799153901<br>batch_size: 2060<br>activation: LeakyReLU<br><b>Objective Value: 0.0022391047328710555</b>",
          "Trial #9<br>nlayers: 6<br>hidden_size: 1<br>optimizer_name: SGD<br>learning_rate: 0.006511673013711062<br>batch_size: 2767<br>activation: PReLU<br><b>Objective Value: 0.00198307938747213</b>"
         ],
         "marker": {
          "color": [
           "rgb(218.0, 55.0, 42.0)",
           "rgb(254.0, 238.0, 165.0)",
           "rgb(165.0, 0.0, 38.0)",
           "rgb(246.0, 123.0, 74.0)",
           "rgb(253.0, 191.0, 113.0)",
           "rgb(238.0, 248.0, 223.0)",
           "rgb(49.0, 54.0, 149.0)",
           "rgb(189.0, 226.0, 238.0)",
           "rgb(128.0, 183.0, 214.0)",
           "rgb(74.0, 123.0, 183.0)"
          ],
          "line": {
           "color": "Grey",
           "width": 0.5
          }
         },
         "mode": "markers",
         "showlegend": false,
         "type": "scatter",
         "x": [
          670,
          634,
          511,
          1206,
          1413,
          2016,
          2478,
          2001,
          2060,
          2767
         ],
         "xaxis": "x8",
         "y": [
          670,
          634,
          511,
          1206,
          1413,
          2016,
          2478,
          2001,
          2060,
          2767
         ],
         "yaxis": "y8"
        },
        {
         "hovertemplate": "%{hovertext}<extra></extra>",
         "hovertext": [
          "Trial #0<br>nlayers: 4<br>hidden_size: 3<br>optimizer_name: SGD<br>learning_rate: 0.004411101706036235<br>batch_size: 670<br>activation: PReLU<br><b>Objective Value: 0.009967890081565772</b>",
          "Trial #1<br>nlayers: 3<br>hidden_size: 57<br>optimizer_name: RMSprop<br>learning_rate: 0.003965332289175691<br>batch_size: 634<br>activation: PReLU<br><b>Objective Value: 0.006631388602196606</b>",
          "Trial #2<br>nlayers: 5<br>hidden_size: 41<br>optimizer_name: SGD<br>learning_rate: 0.001705750989213183<br>batch_size: 511<br>activation: PReLU<br><b>Objective Value: 0.03136351634611589</b>",
          "Trial #3<br>nlayers: 2<br>hidden_size: 57<br>optimizer_name: SGD<br>learning_rate: 0.001839058010253875<br>batch_size: 1206<br>activation: PReLU<br><b>Objective Value: 0.009331022773809101</b>",
          "Trial #4<br>nlayers: 5<br>hidden_size: 1<br>optimizer_name: RMSprop<br>learning_rate: 0.001921553915883699<br>batch_size: 1413<br>activation: PReLU<br><b>Objective Value: 0.0069133908252554084</b>",
          "Trial #5<br>nlayers: 5<br>hidden_size: 41<br>optimizer_name: SGD<br>learning_rate: 0.004248005583275175<br>batch_size: 2016<br>activation: LeakyReLU<br><b>Objective Value: 0.003009425417061836</b>",
          "Trial #6<br>nlayers: 1<br>hidden_size: 48<br>optimizer_name: RMSprop<br>learning_rate: 0.001760534713381132<br>batch_size: 2478<br>activation: PReLU<br><b>Objective Value: 0.0016737091832337984</b>",
          "Trial #7<br>nlayers: 3<br>hidden_size: 8<br>optimizer_name: SGD<br>learning_rate: 0.009537520587256125<br>batch_size: 2001<br>activation: PReLU<br><b>Objective Value: 0.0023150240508155308</b>",
          "Trial #8<br>nlayers: 2<br>hidden_size: 51<br>optimizer_name: SGD<br>learning_rate: 0.005949905799153901<br>batch_size: 2060<br>activation: LeakyReLU<br><b>Objective Value: 0.0022391047328710555</b>",
          "Trial #9<br>nlayers: 6<br>hidden_size: 1<br>optimizer_name: SGD<br>learning_rate: 0.006511673013711062<br>batch_size: 2767<br>activation: PReLU<br><b>Objective Value: 0.00198307938747213</b>"
         ],
         "marker": {
          "color": [
           "rgb(218.0, 55.0, 42.0)",
           "rgb(254.0, 238.0, 165.0)",
           "rgb(165.0, 0.0, 38.0)",
           "rgb(246.0, 123.0, 74.0)",
           "rgb(253.0, 191.0, 113.0)",
           "rgb(238.0, 248.0, 223.0)",
           "rgb(49.0, 54.0, 149.0)",
           "rgb(189.0, 226.0, 238.0)",
           "rgb(128.0, 183.0, 214.0)",
           "rgb(74.0, 123.0, 183.0)"
          ],
          "line": {
           "color": "Grey",
           "width": 0.5
          }
         },
         "mode": "markers",
         "showlegend": false,
         "type": "scatter",
         "x": [
          670,
          634,
          511,
          1206,
          1413,
          2016,
          2478,
          2001,
          2060,
          2767
         ],
         "xaxis": "x14",
         "y": [
          3,
          57,
          41,
          57,
          1,
          41,
          48,
          8,
          51,
          1
         ],
         "yaxis": "y14"
        },
        {
         "hovertemplate": "%{hovertext}<extra></extra>",
         "hovertext": [
          "Trial #0<br>nlayers: 4<br>hidden_size: 3<br>optimizer_name: SGD<br>learning_rate: 0.004411101706036235<br>batch_size: 670<br>activation: PReLU<br><b>Objective Value: 0.009967890081565772</b>",
          "Trial #1<br>nlayers: 3<br>hidden_size: 57<br>optimizer_name: RMSprop<br>learning_rate: 0.003965332289175691<br>batch_size: 634<br>activation: PReLU<br><b>Objective Value: 0.006631388602196606</b>",
          "Trial #2<br>nlayers: 5<br>hidden_size: 41<br>optimizer_name: SGD<br>learning_rate: 0.001705750989213183<br>batch_size: 511<br>activation: PReLU<br><b>Objective Value: 0.03136351634611589</b>",
          "Trial #3<br>nlayers: 2<br>hidden_size: 57<br>optimizer_name: SGD<br>learning_rate: 0.001839058010253875<br>batch_size: 1206<br>activation: PReLU<br><b>Objective Value: 0.009331022773809101</b>",
          "Trial #4<br>nlayers: 5<br>hidden_size: 1<br>optimizer_name: RMSprop<br>learning_rate: 0.001921553915883699<br>batch_size: 1413<br>activation: PReLU<br><b>Objective Value: 0.0069133908252554084</b>",
          "Trial #5<br>nlayers: 5<br>hidden_size: 41<br>optimizer_name: SGD<br>learning_rate: 0.004248005583275175<br>batch_size: 2016<br>activation: LeakyReLU<br><b>Objective Value: 0.003009425417061836</b>",
          "Trial #6<br>nlayers: 1<br>hidden_size: 48<br>optimizer_name: RMSprop<br>learning_rate: 0.001760534713381132<br>batch_size: 2478<br>activation: PReLU<br><b>Objective Value: 0.0016737091832337984</b>",
          "Trial #7<br>nlayers: 3<br>hidden_size: 8<br>optimizer_name: SGD<br>learning_rate: 0.009537520587256125<br>batch_size: 2001<br>activation: PReLU<br><b>Objective Value: 0.0023150240508155308</b>",
          "Trial #8<br>nlayers: 2<br>hidden_size: 51<br>optimizer_name: SGD<br>learning_rate: 0.005949905799153901<br>batch_size: 2060<br>activation: LeakyReLU<br><b>Objective Value: 0.0022391047328710555</b>",
          "Trial #9<br>nlayers: 6<br>hidden_size: 1<br>optimizer_name: SGD<br>learning_rate: 0.006511673013711062<br>batch_size: 2767<br>activation: PReLU<br><b>Objective Value: 0.00198307938747213</b>"
         ],
         "marker": {
          "color": [
           "rgb(218.0, 55.0, 42.0)",
           "rgb(254.0, 238.0, 165.0)",
           "rgb(165.0, 0.0, 38.0)",
           "rgb(246.0, 123.0, 74.0)",
           "rgb(253.0, 191.0, 113.0)",
           "rgb(238.0, 248.0, 223.0)",
           "rgb(49.0, 54.0, 149.0)",
           "rgb(189.0, 226.0, 238.0)",
           "rgb(128.0, 183.0, 214.0)",
           "rgb(74.0, 123.0, 183.0)"
          ],
          "line": {
           "color": "Grey",
           "width": 0.5
          }
         },
         "mode": "markers",
         "showlegend": false,
         "type": "scatter",
         "x": [
          670,
          634,
          511,
          1206,
          1413,
          2016,
          2478,
          2001,
          2060,
          2767
         ],
         "xaxis": "x20",
         "y": [
          0.004411101706036235,
          0.003965332289175691,
          0.001705750989213183,
          0.001839058010253875,
          0.001921553915883699,
          0.004248005583275175,
          0.001760534713381132,
          0.009537520587256125,
          0.005949905799153901,
          0.006511673013711062
         ],
         "yaxis": "y20"
        },
        {
         "hovertemplate": "%{hovertext}<extra></extra>",
         "hovertext": [
          "Trial #0<br>nlayers: 4<br>hidden_size: 3<br>optimizer_name: SGD<br>learning_rate: 0.004411101706036235<br>batch_size: 670<br>activation: PReLU<br><b>Objective Value: 0.009967890081565772</b>",
          "Trial #1<br>nlayers: 3<br>hidden_size: 57<br>optimizer_name: RMSprop<br>learning_rate: 0.003965332289175691<br>batch_size: 634<br>activation: PReLU<br><b>Objective Value: 0.006631388602196606</b>",
          "Trial #2<br>nlayers: 5<br>hidden_size: 41<br>optimizer_name: SGD<br>learning_rate: 0.001705750989213183<br>batch_size: 511<br>activation: PReLU<br><b>Objective Value: 0.03136351634611589</b>",
          "Trial #3<br>nlayers: 2<br>hidden_size: 57<br>optimizer_name: SGD<br>learning_rate: 0.001839058010253875<br>batch_size: 1206<br>activation: PReLU<br><b>Objective Value: 0.009331022773809101</b>",
          "Trial #4<br>nlayers: 5<br>hidden_size: 1<br>optimizer_name: RMSprop<br>learning_rate: 0.001921553915883699<br>batch_size: 1413<br>activation: PReLU<br><b>Objective Value: 0.0069133908252554084</b>",
          "Trial #5<br>nlayers: 5<br>hidden_size: 41<br>optimizer_name: SGD<br>learning_rate: 0.004248005583275175<br>batch_size: 2016<br>activation: LeakyReLU<br><b>Objective Value: 0.003009425417061836</b>",
          "Trial #6<br>nlayers: 1<br>hidden_size: 48<br>optimizer_name: RMSprop<br>learning_rate: 0.001760534713381132<br>batch_size: 2478<br>activation: PReLU<br><b>Objective Value: 0.0016737091832337984</b>",
          "Trial #7<br>nlayers: 3<br>hidden_size: 8<br>optimizer_name: SGD<br>learning_rate: 0.009537520587256125<br>batch_size: 2001<br>activation: PReLU<br><b>Objective Value: 0.0023150240508155308</b>",
          "Trial #8<br>nlayers: 2<br>hidden_size: 51<br>optimizer_name: SGD<br>learning_rate: 0.005949905799153901<br>batch_size: 2060<br>activation: LeakyReLU<br><b>Objective Value: 0.0022391047328710555</b>",
          "Trial #9<br>nlayers: 6<br>hidden_size: 1<br>optimizer_name: SGD<br>learning_rate: 0.006511673013711062<br>batch_size: 2767<br>activation: PReLU<br><b>Objective Value: 0.00198307938747213</b>"
         ],
         "marker": {
          "color": [
           "rgb(218.0, 55.0, 42.0)",
           "rgb(254.0, 238.0, 165.0)",
           "rgb(165.0, 0.0, 38.0)",
           "rgb(246.0, 123.0, 74.0)",
           "rgb(253.0, 191.0, 113.0)",
           "rgb(238.0, 248.0, 223.0)",
           "rgb(49.0, 54.0, 149.0)",
           "rgb(189.0, 226.0, 238.0)",
           "rgb(128.0, 183.0, 214.0)",
           "rgb(74.0, 123.0, 183.0)"
          ],
          "line": {
           "color": "Grey",
           "width": 0.5
          }
         },
         "mode": "markers",
         "showlegend": false,
         "type": "scatter",
         "x": [
          670,
          634,
          511,
          1206,
          1413,
          2016,
          2478,
          2001,
          2060,
          2767
         ],
         "xaxis": "x26",
         "y": [
          4,
          3,
          5,
          2,
          5,
          5,
          1,
          3,
          2,
          6
         ],
         "yaxis": "y26"
        },
        {
         "hovertemplate": "%{hovertext}<extra></extra>",
         "hovertext": [
          "Trial #0<br>nlayers: 4<br>hidden_size: 3<br>optimizer_name: SGD<br>learning_rate: 0.004411101706036235<br>batch_size: 670<br>activation: PReLU<br><b>Objective Value: 0.009967890081565772</b>",
          "Trial #1<br>nlayers: 3<br>hidden_size: 57<br>optimizer_name: RMSprop<br>learning_rate: 0.003965332289175691<br>batch_size: 634<br>activation: PReLU<br><b>Objective Value: 0.006631388602196606</b>",
          "Trial #2<br>nlayers: 5<br>hidden_size: 41<br>optimizer_name: SGD<br>learning_rate: 0.001705750989213183<br>batch_size: 511<br>activation: PReLU<br><b>Objective Value: 0.03136351634611589</b>",
          "Trial #3<br>nlayers: 2<br>hidden_size: 57<br>optimizer_name: SGD<br>learning_rate: 0.001839058010253875<br>batch_size: 1206<br>activation: PReLU<br><b>Objective Value: 0.009331022773809101</b>",
          "Trial #4<br>nlayers: 5<br>hidden_size: 1<br>optimizer_name: RMSprop<br>learning_rate: 0.001921553915883699<br>batch_size: 1413<br>activation: PReLU<br><b>Objective Value: 0.0069133908252554084</b>",
          "Trial #5<br>nlayers: 5<br>hidden_size: 41<br>optimizer_name: SGD<br>learning_rate: 0.004248005583275175<br>batch_size: 2016<br>activation: LeakyReLU<br><b>Objective Value: 0.003009425417061836</b>",
          "Trial #6<br>nlayers: 1<br>hidden_size: 48<br>optimizer_name: RMSprop<br>learning_rate: 0.001760534713381132<br>batch_size: 2478<br>activation: PReLU<br><b>Objective Value: 0.0016737091832337984</b>",
          "Trial #7<br>nlayers: 3<br>hidden_size: 8<br>optimizer_name: SGD<br>learning_rate: 0.009537520587256125<br>batch_size: 2001<br>activation: PReLU<br><b>Objective Value: 0.0023150240508155308</b>",
          "Trial #8<br>nlayers: 2<br>hidden_size: 51<br>optimizer_name: SGD<br>learning_rate: 0.005949905799153901<br>batch_size: 2060<br>activation: LeakyReLU<br><b>Objective Value: 0.0022391047328710555</b>",
          "Trial #9<br>nlayers: 6<br>hidden_size: 1<br>optimizer_name: SGD<br>learning_rate: 0.006511673013711062<br>batch_size: 2767<br>activation: PReLU<br><b>Objective Value: 0.00198307938747213</b>"
         ],
         "marker": {
          "color": [
           "rgb(218.0, 55.0, 42.0)",
           "rgb(254.0, 238.0, 165.0)",
           "rgb(165.0, 0.0, 38.0)",
           "rgb(246.0, 123.0, 74.0)",
           "rgb(253.0, 191.0, 113.0)",
           "rgb(238.0, 248.0, 223.0)",
           "rgb(49.0, 54.0, 149.0)",
           "rgb(189.0, 226.0, 238.0)",
           "rgb(128.0, 183.0, 214.0)",
           "rgb(74.0, 123.0, 183.0)"
          ],
          "line": {
           "color": "Grey",
           "width": 0.5
          }
         },
         "mode": "markers",
         "showlegend": false,
         "type": "scatter",
         "x": [
          670,
          634,
          511,
          1206,
          1413,
          2016,
          2478,
          2001,
          2060,
          2767
         ],
         "xaxis": "x32",
         "y": [
          "SGD",
          "RMSprop",
          "SGD",
          "SGD",
          "RMSprop",
          "SGD",
          "RMSprop",
          "SGD",
          "SGD",
          "SGD"
         ],
         "yaxis": "y32"
        },
        {
         "hovertemplate": "%{hovertext}<extra></extra>",
         "hovertext": [
          "Trial #0<br>nlayers: 4<br>hidden_size: 3<br>optimizer_name: SGD<br>learning_rate: 0.004411101706036235<br>batch_size: 670<br>activation: PReLU<br><b>Objective Value: 0.009967890081565772</b>",
          "Trial #1<br>nlayers: 3<br>hidden_size: 57<br>optimizer_name: RMSprop<br>learning_rate: 0.003965332289175691<br>batch_size: 634<br>activation: PReLU<br><b>Objective Value: 0.006631388602196606</b>",
          "Trial #2<br>nlayers: 5<br>hidden_size: 41<br>optimizer_name: SGD<br>learning_rate: 0.001705750989213183<br>batch_size: 511<br>activation: PReLU<br><b>Objective Value: 0.03136351634611589</b>",
          "Trial #3<br>nlayers: 2<br>hidden_size: 57<br>optimizer_name: SGD<br>learning_rate: 0.001839058010253875<br>batch_size: 1206<br>activation: PReLU<br><b>Objective Value: 0.009331022773809101</b>",
          "Trial #4<br>nlayers: 5<br>hidden_size: 1<br>optimizer_name: RMSprop<br>learning_rate: 0.001921553915883699<br>batch_size: 1413<br>activation: PReLU<br><b>Objective Value: 0.0069133908252554084</b>",
          "Trial #5<br>nlayers: 5<br>hidden_size: 41<br>optimizer_name: SGD<br>learning_rate: 0.004248005583275175<br>batch_size: 2016<br>activation: LeakyReLU<br><b>Objective Value: 0.003009425417061836</b>",
          "Trial #6<br>nlayers: 1<br>hidden_size: 48<br>optimizer_name: RMSprop<br>learning_rate: 0.001760534713381132<br>batch_size: 2478<br>activation: PReLU<br><b>Objective Value: 0.0016737091832337984</b>",
          "Trial #7<br>nlayers: 3<br>hidden_size: 8<br>optimizer_name: SGD<br>learning_rate: 0.009537520587256125<br>batch_size: 2001<br>activation: PReLU<br><b>Objective Value: 0.0023150240508155308</b>",
          "Trial #8<br>nlayers: 2<br>hidden_size: 51<br>optimizer_name: SGD<br>learning_rate: 0.005949905799153901<br>batch_size: 2060<br>activation: LeakyReLU<br><b>Objective Value: 0.0022391047328710555</b>",
          "Trial #9<br>nlayers: 6<br>hidden_size: 1<br>optimizer_name: SGD<br>learning_rate: 0.006511673013711062<br>batch_size: 2767<br>activation: PReLU<br><b>Objective Value: 0.00198307938747213</b>"
         ],
         "marker": {
          "color": [
           "rgb(218.0, 55.0, 42.0)",
           "rgb(254.0, 238.0, 165.0)",
           "rgb(165.0, 0.0, 38.0)",
           "rgb(246.0, 123.0, 74.0)",
           "rgb(253.0, 191.0, 113.0)",
           "rgb(238.0, 248.0, 223.0)",
           "rgb(49.0, 54.0, 149.0)",
           "rgb(189.0, 226.0, 238.0)",
           "rgb(128.0, 183.0, 214.0)",
           "rgb(74.0, 123.0, 183.0)"
          ],
          "line": {
           "color": "Grey",
           "width": 0.5
          }
         },
         "mode": "markers",
         "showlegend": false,
         "type": "scatter",
         "x": [
          3,
          57,
          41,
          57,
          1,
          41,
          48,
          8,
          51,
          1
         ],
         "xaxis": "x3",
         "y": [
          "PReLU",
          "PReLU",
          "PReLU",
          "PReLU",
          "PReLU",
          "LeakyReLU",
          "PReLU",
          "PReLU",
          "LeakyReLU",
          "PReLU"
         ],
         "yaxis": "y3"
        },
        {
         "hovertemplate": "%{hovertext}<extra></extra>",
         "hovertext": [
          "Trial #0<br>nlayers: 4<br>hidden_size: 3<br>optimizer_name: SGD<br>learning_rate: 0.004411101706036235<br>batch_size: 670<br>activation: PReLU<br><b>Objective Value: 0.009967890081565772</b>",
          "Trial #1<br>nlayers: 3<br>hidden_size: 57<br>optimizer_name: RMSprop<br>learning_rate: 0.003965332289175691<br>batch_size: 634<br>activation: PReLU<br><b>Objective Value: 0.006631388602196606</b>",
          "Trial #2<br>nlayers: 5<br>hidden_size: 41<br>optimizer_name: SGD<br>learning_rate: 0.001705750989213183<br>batch_size: 511<br>activation: PReLU<br><b>Objective Value: 0.03136351634611589</b>",
          "Trial #3<br>nlayers: 2<br>hidden_size: 57<br>optimizer_name: SGD<br>learning_rate: 0.001839058010253875<br>batch_size: 1206<br>activation: PReLU<br><b>Objective Value: 0.009331022773809101</b>",
          "Trial #4<br>nlayers: 5<br>hidden_size: 1<br>optimizer_name: RMSprop<br>learning_rate: 0.001921553915883699<br>batch_size: 1413<br>activation: PReLU<br><b>Objective Value: 0.0069133908252554084</b>",
          "Trial #5<br>nlayers: 5<br>hidden_size: 41<br>optimizer_name: SGD<br>learning_rate: 0.004248005583275175<br>batch_size: 2016<br>activation: LeakyReLU<br><b>Objective Value: 0.003009425417061836</b>",
          "Trial #6<br>nlayers: 1<br>hidden_size: 48<br>optimizer_name: RMSprop<br>learning_rate: 0.001760534713381132<br>batch_size: 2478<br>activation: PReLU<br><b>Objective Value: 0.0016737091832337984</b>",
          "Trial #7<br>nlayers: 3<br>hidden_size: 8<br>optimizer_name: SGD<br>learning_rate: 0.009537520587256125<br>batch_size: 2001<br>activation: PReLU<br><b>Objective Value: 0.0023150240508155308</b>",
          "Trial #8<br>nlayers: 2<br>hidden_size: 51<br>optimizer_name: SGD<br>learning_rate: 0.005949905799153901<br>batch_size: 2060<br>activation: LeakyReLU<br><b>Objective Value: 0.0022391047328710555</b>",
          "Trial #9<br>nlayers: 6<br>hidden_size: 1<br>optimizer_name: SGD<br>learning_rate: 0.006511673013711062<br>batch_size: 2767<br>activation: PReLU<br><b>Objective Value: 0.00198307938747213</b>"
         ],
         "marker": {
          "color": [
           "rgb(218.0, 55.0, 42.0)",
           "rgb(254.0, 238.0, 165.0)",
           "rgb(165.0, 0.0, 38.0)",
           "rgb(246.0, 123.0, 74.0)",
           "rgb(253.0, 191.0, 113.0)",
           "rgb(238.0, 248.0, 223.0)",
           "rgb(49.0, 54.0, 149.0)",
           "rgb(189.0, 226.0, 238.0)",
           "rgb(128.0, 183.0, 214.0)",
           "rgb(74.0, 123.0, 183.0)"
          ],
          "line": {
           "color": "Grey",
           "width": 0.5
          }
         },
         "mode": "markers",
         "showlegend": false,
         "type": "scatter",
         "x": [
          3,
          57,
          41,
          57,
          1,
          41,
          48,
          8,
          51,
          1
         ],
         "xaxis": "x9",
         "y": [
          670,
          634,
          511,
          1206,
          1413,
          2016,
          2478,
          2001,
          2060,
          2767
         ],
         "yaxis": "y9"
        },
        {
         "hovertemplate": "%{hovertext}<extra></extra>",
         "hovertext": [
          "Trial #0<br>nlayers: 4<br>hidden_size: 3<br>optimizer_name: SGD<br>learning_rate: 0.004411101706036235<br>batch_size: 670<br>activation: PReLU<br><b>Objective Value: 0.009967890081565772</b>",
          "Trial #1<br>nlayers: 3<br>hidden_size: 57<br>optimizer_name: RMSprop<br>learning_rate: 0.003965332289175691<br>batch_size: 634<br>activation: PReLU<br><b>Objective Value: 0.006631388602196606</b>",
          "Trial #2<br>nlayers: 5<br>hidden_size: 41<br>optimizer_name: SGD<br>learning_rate: 0.001705750989213183<br>batch_size: 511<br>activation: PReLU<br><b>Objective Value: 0.03136351634611589</b>",
          "Trial #3<br>nlayers: 2<br>hidden_size: 57<br>optimizer_name: SGD<br>learning_rate: 0.001839058010253875<br>batch_size: 1206<br>activation: PReLU<br><b>Objective Value: 0.009331022773809101</b>",
          "Trial #4<br>nlayers: 5<br>hidden_size: 1<br>optimizer_name: RMSprop<br>learning_rate: 0.001921553915883699<br>batch_size: 1413<br>activation: PReLU<br><b>Objective Value: 0.0069133908252554084</b>",
          "Trial #5<br>nlayers: 5<br>hidden_size: 41<br>optimizer_name: SGD<br>learning_rate: 0.004248005583275175<br>batch_size: 2016<br>activation: LeakyReLU<br><b>Objective Value: 0.003009425417061836</b>",
          "Trial #6<br>nlayers: 1<br>hidden_size: 48<br>optimizer_name: RMSprop<br>learning_rate: 0.001760534713381132<br>batch_size: 2478<br>activation: PReLU<br><b>Objective Value: 0.0016737091832337984</b>",
          "Trial #7<br>nlayers: 3<br>hidden_size: 8<br>optimizer_name: SGD<br>learning_rate: 0.009537520587256125<br>batch_size: 2001<br>activation: PReLU<br><b>Objective Value: 0.0023150240508155308</b>",
          "Trial #8<br>nlayers: 2<br>hidden_size: 51<br>optimizer_name: SGD<br>learning_rate: 0.005949905799153901<br>batch_size: 2060<br>activation: LeakyReLU<br><b>Objective Value: 0.0022391047328710555</b>",
          "Trial #9<br>nlayers: 6<br>hidden_size: 1<br>optimizer_name: SGD<br>learning_rate: 0.006511673013711062<br>batch_size: 2767<br>activation: PReLU<br><b>Objective Value: 0.00198307938747213</b>"
         ],
         "marker": {
          "color": [
           "rgb(218.0, 55.0, 42.0)",
           "rgb(254.0, 238.0, 165.0)",
           "rgb(165.0, 0.0, 38.0)",
           "rgb(246.0, 123.0, 74.0)",
           "rgb(253.0, 191.0, 113.0)",
           "rgb(238.0, 248.0, 223.0)",
           "rgb(49.0, 54.0, 149.0)",
           "rgb(189.0, 226.0, 238.0)",
           "rgb(128.0, 183.0, 214.0)",
           "rgb(74.0, 123.0, 183.0)"
          ],
          "line": {
           "color": "Grey",
           "width": 0.5
          }
         },
         "mode": "markers",
         "showlegend": false,
         "type": "scatter",
         "x": [
          3,
          57,
          41,
          57,
          1,
          41,
          48,
          8,
          51,
          1
         ],
         "xaxis": "x15",
         "y": [
          3,
          57,
          41,
          57,
          1,
          41,
          48,
          8,
          51,
          1
         ],
         "yaxis": "y15"
        },
        {
         "hovertemplate": "%{hovertext}<extra></extra>",
         "hovertext": [
          "Trial #0<br>nlayers: 4<br>hidden_size: 3<br>optimizer_name: SGD<br>learning_rate: 0.004411101706036235<br>batch_size: 670<br>activation: PReLU<br><b>Objective Value: 0.009967890081565772</b>",
          "Trial #1<br>nlayers: 3<br>hidden_size: 57<br>optimizer_name: RMSprop<br>learning_rate: 0.003965332289175691<br>batch_size: 634<br>activation: PReLU<br><b>Objective Value: 0.006631388602196606</b>",
          "Trial #2<br>nlayers: 5<br>hidden_size: 41<br>optimizer_name: SGD<br>learning_rate: 0.001705750989213183<br>batch_size: 511<br>activation: PReLU<br><b>Objective Value: 0.03136351634611589</b>",
          "Trial #3<br>nlayers: 2<br>hidden_size: 57<br>optimizer_name: SGD<br>learning_rate: 0.001839058010253875<br>batch_size: 1206<br>activation: PReLU<br><b>Objective Value: 0.009331022773809101</b>",
          "Trial #4<br>nlayers: 5<br>hidden_size: 1<br>optimizer_name: RMSprop<br>learning_rate: 0.001921553915883699<br>batch_size: 1413<br>activation: PReLU<br><b>Objective Value: 0.0069133908252554084</b>",
          "Trial #5<br>nlayers: 5<br>hidden_size: 41<br>optimizer_name: SGD<br>learning_rate: 0.004248005583275175<br>batch_size: 2016<br>activation: LeakyReLU<br><b>Objective Value: 0.003009425417061836</b>",
          "Trial #6<br>nlayers: 1<br>hidden_size: 48<br>optimizer_name: RMSprop<br>learning_rate: 0.001760534713381132<br>batch_size: 2478<br>activation: PReLU<br><b>Objective Value: 0.0016737091832337984</b>",
          "Trial #7<br>nlayers: 3<br>hidden_size: 8<br>optimizer_name: SGD<br>learning_rate: 0.009537520587256125<br>batch_size: 2001<br>activation: PReLU<br><b>Objective Value: 0.0023150240508155308</b>",
          "Trial #8<br>nlayers: 2<br>hidden_size: 51<br>optimizer_name: SGD<br>learning_rate: 0.005949905799153901<br>batch_size: 2060<br>activation: LeakyReLU<br><b>Objective Value: 0.0022391047328710555</b>",
          "Trial #9<br>nlayers: 6<br>hidden_size: 1<br>optimizer_name: SGD<br>learning_rate: 0.006511673013711062<br>batch_size: 2767<br>activation: PReLU<br><b>Objective Value: 0.00198307938747213</b>"
         ],
         "marker": {
          "color": [
           "rgb(218.0, 55.0, 42.0)",
           "rgb(254.0, 238.0, 165.0)",
           "rgb(165.0, 0.0, 38.0)",
           "rgb(246.0, 123.0, 74.0)",
           "rgb(253.0, 191.0, 113.0)",
           "rgb(238.0, 248.0, 223.0)",
           "rgb(49.0, 54.0, 149.0)",
           "rgb(189.0, 226.0, 238.0)",
           "rgb(128.0, 183.0, 214.0)",
           "rgb(74.0, 123.0, 183.0)"
          ],
          "line": {
           "color": "Grey",
           "width": 0.5
          }
         },
         "mode": "markers",
         "showlegend": false,
         "type": "scatter",
         "x": [
          3,
          57,
          41,
          57,
          1,
          41,
          48,
          8,
          51,
          1
         ],
         "xaxis": "x21",
         "y": [
          0.004411101706036235,
          0.003965332289175691,
          0.001705750989213183,
          0.001839058010253875,
          0.001921553915883699,
          0.004248005583275175,
          0.001760534713381132,
          0.009537520587256125,
          0.005949905799153901,
          0.006511673013711062
         ],
         "yaxis": "y21"
        },
        {
         "hovertemplate": "%{hovertext}<extra></extra>",
         "hovertext": [
          "Trial #0<br>nlayers: 4<br>hidden_size: 3<br>optimizer_name: SGD<br>learning_rate: 0.004411101706036235<br>batch_size: 670<br>activation: PReLU<br><b>Objective Value: 0.009967890081565772</b>",
          "Trial #1<br>nlayers: 3<br>hidden_size: 57<br>optimizer_name: RMSprop<br>learning_rate: 0.003965332289175691<br>batch_size: 634<br>activation: PReLU<br><b>Objective Value: 0.006631388602196606</b>",
          "Trial #2<br>nlayers: 5<br>hidden_size: 41<br>optimizer_name: SGD<br>learning_rate: 0.001705750989213183<br>batch_size: 511<br>activation: PReLU<br><b>Objective Value: 0.03136351634611589</b>",
          "Trial #3<br>nlayers: 2<br>hidden_size: 57<br>optimizer_name: SGD<br>learning_rate: 0.001839058010253875<br>batch_size: 1206<br>activation: PReLU<br><b>Objective Value: 0.009331022773809101</b>",
          "Trial #4<br>nlayers: 5<br>hidden_size: 1<br>optimizer_name: RMSprop<br>learning_rate: 0.001921553915883699<br>batch_size: 1413<br>activation: PReLU<br><b>Objective Value: 0.0069133908252554084</b>",
          "Trial #5<br>nlayers: 5<br>hidden_size: 41<br>optimizer_name: SGD<br>learning_rate: 0.004248005583275175<br>batch_size: 2016<br>activation: LeakyReLU<br><b>Objective Value: 0.003009425417061836</b>",
          "Trial #6<br>nlayers: 1<br>hidden_size: 48<br>optimizer_name: RMSprop<br>learning_rate: 0.001760534713381132<br>batch_size: 2478<br>activation: PReLU<br><b>Objective Value: 0.0016737091832337984</b>",
          "Trial #7<br>nlayers: 3<br>hidden_size: 8<br>optimizer_name: SGD<br>learning_rate: 0.009537520587256125<br>batch_size: 2001<br>activation: PReLU<br><b>Objective Value: 0.0023150240508155308</b>",
          "Trial #8<br>nlayers: 2<br>hidden_size: 51<br>optimizer_name: SGD<br>learning_rate: 0.005949905799153901<br>batch_size: 2060<br>activation: LeakyReLU<br><b>Objective Value: 0.0022391047328710555</b>",
          "Trial #9<br>nlayers: 6<br>hidden_size: 1<br>optimizer_name: SGD<br>learning_rate: 0.006511673013711062<br>batch_size: 2767<br>activation: PReLU<br><b>Objective Value: 0.00198307938747213</b>"
         ],
         "marker": {
          "color": [
           "rgb(218.0, 55.0, 42.0)",
           "rgb(254.0, 238.0, 165.0)",
           "rgb(165.0, 0.0, 38.0)",
           "rgb(246.0, 123.0, 74.0)",
           "rgb(253.0, 191.0, 113.0)",
           "rgb(238.0, 248.0, 223.0)",
           "rgb(49.0, 54.0, 149.0)",
           "rgb(189.0, 226.0, 238.0)",
           "rgb(128.0, 183.0, 214.0)",
           "rgb(74.0, 123.0, 183.0)"
          ],
          "line": {
           "color": "Grey",
           "width": 0.5
          }
         },
         "mode": "markers",
         "showlegend": false,
         "type": "scatter",
         "x": [
          3,
          57,
          41,
          57,
          1,
          41,
          48,
          8,
          51,
          1
         ],
         "xaxis": "x27",
         "y": [
          4,
          3,
          5,
          2,
          5,
          5,
          1,
          3,
          2,
          6
         ],
         "yaxis": "y27"
        },
        {
         "hovertemplate": "%{hovertext}<extra></extra>",
         "hovertext": [
          "Trial #0<br>nlayers: 4<br>hidden_size: 3<br>optimizer_name: SGD<br>learning_rate: 0.004411101706036235<br>batch_size: 670<br>activation: PReLU<br><b>Objective Value: 0.009967890081565772</b>",
          "Trial #1<br>nlayers: 3<br>hidden_size: 57<br>optimizer_name: RMSprop<br>learning_rate: 0.003965332289175691<br>batch_size: 634<br>activation: PReLU<br><b>Objective Value: 0.006631388602196606</b>",
          "Trial #2<br>nlayers: 5<br>hidden_size: 41<br>optimizer_name: SGD<br>learning_rate: 0.001705750989213183<br>batch_size: 511<br>activation: PReLU<br><b>Objective Value: 0.03136351634611589</b>",
          "Trial #3<br>nlayers: 2<br>hidden_size: 57<br>optimizer_name: SGD<br>learning_rate: 0.001839058010253875<br>batch_size: 1206<br>activation: PReLU<br><b>Objective Value: 0.009331022773809101</b>",
          "Trial #4<br>nlayers: 5<br>hidden_size: 1<br>optimizer_name: RMSprop<br>learning_rate: 0.001921553915883699<br>batch_size: 1413<br>activation: PReLU<br><b>Objective Value: 0.0069133908252554084</b>",
          "Trial #5<br>nlayers: 5<br>hidden_size: 41<br>optimizer_name: SGD<br>learning_rate: 0.004248005583275175<br>batch_size: 2016<br>activation: LeakyReLU<br><b>Objective Value: 0.003009425417061836</b>",
          "Trial #6<br>nlayers: 1<br>hidden_size: 48<br>optimizer_name: RMSprop<br>learning_rate: 0.001760534713381132<br>batch_size: 2478<br>activation: PReLU<br><b>Objective Value: 0.0016737091832337984</b>",
          "Trial #7<br>nlayers: 3<br>hidden_size: 8<br>optimizer_name: SGD<br>learning_rate: 0.009537520587256125<br>batch_size: 2001<br>activation: PReLU<br><b>Objective Value: 0.0023150240508155308</b>",
          "Trial #8<br>nlayers: 2<br>hidden_size: 51<br>optimizer_name: SGD<br>learning_rate: 0.005949905799153901<br>batch_size: 2060<br>activation: LeakyReLU<br><b>Objective Value: 0.0022391047328710555</b>",
          "Trial #9<br>nlayers: 6<br>hidden_size: 1<br>optimizer_name: SGD<br>learning_rate: 0.006511673013711062<br>batch_size: 2767<br>activation: PReLU<br><b>Objective Value: 0.00198307938747213</b>"
         ],
         "marker": {
          "color": [
           "rgb(218.0, 55.0, 42.0)",
           "rgb(254.0, 238.0, 165.0)",
           "rgb(165.0, 0.0, 38.0)",
           "rgb(246.0, 123.0, 74.0)",
           "rgb(253.0, 191.0, 113.0)",
           "rgb(238.0, 248.0, 223.0)",
           "rgb(49.0, 54.0, 149.0)",
           "rgb(189.0, 226.0, 238.0)",
           "rgb(128.0, 183.0, 214.0)",
           "rgb(74.0, 123.0, 183.0)"
          ],
          "line": {
           "color": "Grey",
           "width": 0.5
          }
         },
         "mode": "markers",
         "showlegend": false,
         "type": "scatter",
         "x": [
          3,
          57,
          41,
          57,
          1,
          41,
          48,
          8,
          51,
          1
         ],
         "xaxis": "x33",
         "y": [
          "SGD",
          "RMSprop",
          "SGD",
          "SGD",
          "RMSprop",
          "SGD",
          "RMSprop",
          "SGD",
          "SGD",
          "SGD"
         ],
         "yaxis": "y33"
        },
        {
         "hovertemplate": "%{hovertext}<extra></extra>",
         "hovertext": [
          "Trial #0<br>nlayers: 4<br>hidden_size: 3<br>optimizer_name: SGD<br>learning_rate: 0.004411101706036235<br>batch_size: 670<br>activation: PReLU<br><b>Objective Value: 0.009967890081565772</b>",
          "Trial #1<br>nlayers: 3<br>hidden_size: 57<br>optimizer_name: RMSprop<br>learning_rate: 0.003965332289175691<br>batch_size: 634<br>activation: PReLU<br><b>Objective Value: 0.006631388602196606</b>",
          "Trial #2<br>nlayers: 5<br>hidden_size: 41<br>optimizer_name: SGD<br>learning_rate: 0.001705750989213183<br>batch_size: 511<br>activation: PReLU<br><b>Objective Value: 0.03136351634611589</b>",
          "Trial #3<br>nlayers: 2<br>hidden_size: 57<br>optimizer_name: SGD<br>learning_rate: 0.001839058010253875<br>batch_size: 1206<br>activation: PReLU<br><b>Objective Value: 0.009331022773809101</b>",
          "Trial #4<br>nlayers: 5<br>hidden_size: 1<br>optimizer_name: RMSprop<br>learning_rate: 0.001921553915883699<br>batch_size: 1413<br>activation: PReLU<br><b>Objective Value: 0.0069133908252554084</b>",
          "Trial #5<br>nlayers: 5<br>hidden_size: 41<br>optimizer_name: SGD<br>learning_rate: 0.004248005583275175<br>batch_size: 2016<br>activation: LeakyReLU<br><b>Objective Value: 0.003009425417061836</b>",
          "Trial #6<br>nlayers: 1<br>hidden_size: 48<br>optimizer_name: RMSprop<br>learning_rate: 0.001760534713381132<br>batch_size: 2478<br>activation: PReLU<br><b>Objective Value: 0.0016737091832337984</b>",
          "Trial #7<br>nlayers: 3<br>hidden_size: 8<br>optimizer_name: SGD<br>learning_rate: 0.009537520587256125<br>batch_size: 2001<br>activation: PReLU<br><b>Objective Value: 0.0023150240508155308</b>",
          "Trial #8<br>nlayers: 2<br>hidden_size: 51<br>optimizer_name: SGD<br>learning_rate: 0.005949905799153901<br>batch_size: 2060<br>activation: LeakyReLU<br><b>Objective Value: 0.0022391047328710555</b>",
          "Trial #9<br>nlayers: 6<br>hidden_size: 1<br>optimizer_name: SGD<br>learning_rate: 0.006511673013711062<br>batch_size: 2767<br>activation: PReLU<br><b>Objective Value: 0.00198307938747213</b>"
         ],
         "marker": {
          "color": [
           "rgb(218.0, 55.0, 42.0)",
           "rgb(254.0, 238.0, 165.0)",
           "rgb(165.0, 0.0, 38.0)",
           "rgb(246.0, 123.0, 74.0)",
           "rgb(253.0, 191.0, 113.0)",
           "rgb(238.0, 248.0, 223.0)",
           "rgb(49.0, 54.0, 149.0)",
           "rgb(189.0, 226.0, 238.0)",
           "rgb(128.0, 183.0, 214.0)",
           "rgb(74.0, 123.0, 183.0)"
          ],
          "line": {
           "color": "Grey",
           "width": 0.5
          }
         },
         "mode": "markers",
         "showlegend": false,
         "type": "scatter",
         "x": [
          0.004411101706036235,
          0.003965332289175691,
          0.001705750989213183,
          0.001839058010253875,
          0.001921553915883699,
          0.004248005583275175,
          0.001760534713381132,
          0.009537520587256125,
          0.005949905799153901,
          0.006511673013711062
         ],
         "xaxis": "x4",
         "y": [
          "PReLU",
          "PReLU",
          "PReLU",
          "PReLU",
          "PReLU",
          "LeakyReLU",
          "PReLU",
          "PReLU",
          "LeakyReLU",
          "PReLU"
         ],
         "yaxis": "y4"
        },
        {
         "hovertemplate": "%{hovertext}<extra></extra>",
         "hovertext": [
          "Trial #0<br>nlayers: 4<br>hidden_size: 3<br>optimizer_name: SGD<br>learning_rate: 0.004411101706036235<br>batch_size: 670<br>activation: PReLU<br><b>Objective Value: 0.009967890081565772</b>",
          "Trial #1<br>nlayers: 3<br>hidden_size: 57<br>optimizer_name: RMSprop<br>learning_rate: 0.003965332289175691<br>batch_size: 634<br>activation: PReLU<br><b>Objective Value: 0.006631388602196606</b>",
          "Trial #2<br>nlayers: 5<br>hidden_size: 41<br>optimizer_name: SGD<br>learning_rate: 0.001705750989213183<br>batch_size: 511<br>activation: PReLU<br><b>Objective Value: 0.03136351634611589</b>",
          "Trial #3<br>nlayers: 2<br>hidden_size: 57<br>optimizer_name: SGD<br>learning_rate: 0.001839058010253875<br>batch_size: 1206<br>activation: PReLU<br><b>Objective Value: 0.009331022773809101</b>",
          "Trial #4<br>nlayers: 5<br>hidden_size: 1<br>optimizer_name: RMSprop<br>learning_rate: 0.001921553915883699<br>batch_size: 1413<br>activation: PReLU<br><b>Objective Value: 0.0069133908252554084</b>",
          "Trial #5<br>nlayers: 5<br>hidden_size: 41<br>optimizer_name: SGD<br>learning_rate: 0.004248005583275175<br>batch_size: 2016<br>activation: LeakyReLU<br><b>Objective Value: 0.003009425417061836</b>",
          "Trial #6<br>nlayers: 1<br>hidden_size: 48<br>optimizer_name: RMSprop<br>learning_rate: 0.001760534713381132<br>batch_size: 2478<br>activation: PReLU<br><b>Objective Value: 0.0016737091832337984</b>",
          "Trial #7<br>nlayers: 3<br>hidden_size: 8<br>optimizer_name: SGD<br>learning_rate: 0.009537520587256125<br>batch_size: 2001<br>activation: PReLU<br><b>Objective Value: 0.0023150240508155308</b>",
          "Trial #8<br>nlayers: 2<br>hidden_size: 51<br>optimizer_name: SGD<br>learning_rate: 0.005949905799153901<br>batch_size: 2060<br>activation: LeakyReLU<br><b>Objective Value: 0.0022391047328710555</b>",
          "Trial #9<br>nlayers: 6<br>hidden_size: 1<br>optimizer_name: SGD<br>learning_rate: 0.006511673013711062<br>batch_size: 2767<br>activation: PReLU<br><b>Objective Value: 0.00198307938747213</b>"
         ],
         "marker": {
          "color": [
           "rgb(218.0, 55.0, 42.0)",
           "rgb(254.0, 238.0, 165.0)",
           "rgb(165.0, 0.0, 38.0)",
           "rgb(246.0, 123.0, 74.0)",
           "rgb(253.0, 191.0, 113.0)",
           "rgb(238.0, 248.0, 223.0)",
           "rgb(49.0, 54.0, 149.0)",
           "rgb(189.0, 226.0, 238.0)",
           "rgb(128.0, 183.0, 214.0)",
           "rgb(74.0, 123.0, 183.0)"
          ],
          "line": {
           "color": "Grey",
           "width": 0.5
          }
         },
         "mode": "markers",
         "showlegend": false,
         "type": "scatter",
         "x": [
          0.004411101706036235,
          0.003965332289175691,
          0.001705750989213183,
          0.001839058010253875,
          0.001921553915883699,
          0.004248005583275175,
          0.001760534713381132,
          0.009537520587256125,
          0.005949905799153901,
          0.006511673013711062
         ],
         "xaxis": "x10",
         "y": [
          670,
          634,
          511,
          1206,
          1413,
          2016,
          2478,
          2001,
          2060,
          2767
         ],
         "yaxis": "y10"
        },
        {
         "hovertemplate": "%{hovertext}<extra></extra>",
         "hovertext": [
          "Trial #0<br>nlayers: 4<br>hidden_size: 3<br>optimizer_name: SGD<br>learning_rate: 0.004411101706036235<br>batch_size: 670<br>activation: PReLU<br><b>Objective Value: 0.009967890081565772</b>",
          "Trial #1<br>nlayers: 3<br>hidden_size: 57<br>optimizer_name: RMSprop<br>learning_rate: 0.003965332289175691<br>batch_size: 634<br>activation: PReLU<br><b>Objective Value: 0.006631388602196606</b>",
          "Trial #2<br>nlayers: 5<br>hidden_size: 41<br>optimizer_name: SGD<br>learning_rate: 0.001705750989213183<br>batch_size: 511<br>activation: PReLU<br><b>Objective Value: 0.03136351634611589</b>",
          "Trial #3<br>nlayers: 2<br>hidden_size: 57<br>optimizer_name: SGD<br>learning_rate: 0.001839058010253875<br>batch_size: 1206<br>activation: PReLU<br><b>Objective Value: 0.009331022773809101</b>",
          "Trial #4<br>nlayers: 5<br>hidden_size: 1<br>optimizer_name: RMSprop<br>learning_rate: 0.001921553915883699<br>batch_size: 1413<br>activation: PReLU<br><b>Objective Value: 0.0069133908252554084</b>",
          "Trial #5<br>nlayers: 5<br>hidden_size: 41<br>optimizer_name: SGD<br>learning_rate: 0.004248005583275175<br>batch_size: 2016<br>activation: LeakyReLU<br><b>Objective Value: 0.003009425417061836</b>",
          "Trial #6<br>nlayers: 1<br>hidden_size: 48<br>optimizer_name: RMSprop<br>learning_rate: 0.001760534713381132<br>batch_size: 2478<br>activation: PReLU<br><b>Objective Value: 0.0016737091832337984</b>",
          "Trial #7<br>nlayers: 3<br>hidden_size: 8<br>optimizer_name: SGD<br>learning_rate: 0.009537520587256125<br>batch_size: 2001<br>activation: PReLU<br><b>Objective Value: 0.0023150240508155308</b>",
          "Trial #8<br>nlayers: 2<br>hidden_size: 51<br>optimizer_name: SGD<br>learning_rate: 0.005949905799153901<br>batch_size: 2060<br>activation: LeakyReLU<br><b>Objective Value: 0.0022391047328710555</b>",
          "Trial #9<br>nlayers: 6<br>hidden_size: 1<br>optimizer_name: SGD<br>learning_rate: 0.006511673013711062<br>batch_size: 2767<br>activation: PReLU<br><b>Objective Value: 0.00198307938747213</b>"
         ],
         "marker": {
          "color": [
           "rgb(218.0, 55.0, 42.0)",
           "rgb(254.0, 238.0, 165.0)",
           "rgb(165.0, 0.0, 38.0)",
           "rgb(246.0, 123.0, 74.0)",
           "rgb(253.0, 191.0, 113.0)",
           "rgb(238.0, 248.0, 223.0)",
           "rgb(49.0, 54.0, 149.0)",
           "rgb(189.0, 226.0, 238.0)",
           "rgb(128.0, 183.0, 214.0)",
           "rgb(74.0, 123.0, 183.0)"
          ],
          "line": {
           "color": "Grey",
           "width": 0.5
          }
         },
         "mode": "markers",
         "showlegend": false,
         "type": "scatter",
         "x": [
          0.004411101706036235,
          0.003965332289175691,
          0.001705750989213183,
          0.001839058010253875,
          0.001921553915883699,
          0.004248005583275175,
          0.001760534713381132,
          0.009537520587256125,
          0.005949905799153901,
          0.006511673013711062
         ],
         "xaxis": "x16",
         "y": [
          3,
          57,
          41,
          57,
          1,
          41,
          48,
          8,
          51,
          1
         ],
         "yaxis": "y16"
        },
        {
         "hovertemplate": "%{hovertext}<extra></extra>",
         "hovertext": [
          "Trial #0<br>nlayers: 4<br>hidden_size: 3<br>optimizer_name: SGD<br>learning_rate: 0.004411101706036235<br>batch_size: 670<br>activation: PReLU<br><b>Objective Value: 0.009967890081565772</b>",
          "Trial #1<br>nlayers: 3<br>hidden_size: 57<br>optimizer_name: RMSprop<br>learning_rate: 0.003965332289175691<br>batch_size: 634<br>activation: PReLU<br><b>Objective Value: 0.006631388602196606</b>",
          "Trial #2<br>nlayers: 5<br>hidden_size: 41<br>optimizer_name: SGD<br>learning_rate: 0.001705750989213183<br>batch_size: 511<br>activation: PReLU<br><b>Objective Value: 0.03136351634611589</b>",
          "Trial #3<br>nlayers: 2<br>hidden_size: 57<br>optimizer_name: SGD<br>learning_rate: 0.001839058010253875<br>batch_size: 1206<br>activation: PReLU<br><b>Objective Value: 0.009331022773809101</b>",
          "Trial #4<br>nlayers: 5<br>hidden_size: 1<br>optimizer_name: RMSprop<br>learning_rate: 0.001921553915883699<br>batch_size: 1413<br>activation: PReLU<br><b>Objective Value: 0.0069133908252554084</b>",
          "Trial #5<br>nlayers: 5<br>hidden_size: 41<br>optimizer_name: SGD<br>learning_rate: 0.004248005583275175<br>batch_size: 2016<br>activation: LeakyReLU<br><b>Objective Value: 0.003009425417061836</b>",
          "Trial #6<br>nlayers: 1<br>hidden_size: 48<br>optimizer_name: RMSprop<br>learning_rate: 0.001760534713381132<br>batch_size: 2478<br>activation: PReLU<br><b>Objective Value: 0.0016737091832337984</b>",
          "Trial #7<br>nlayers: 3<br>hidden_size: 8<br>optimizer_name: SGD<br>learning_rate: 0.009537520587256125<br>batch_size: 2001<br>activation: PReLU<br><b>Objective Value: 0.0023150240508155308</b>",
          "Trial #8<br>nlayers: 2<br>hidden_size: 51<br>optimizer_name: SGD<br>learning_rate: 0.005949905799153901<br>batch_size: 2060<br>activation: LeakyReLU<br><b>Objective Value: 0.0022391047328710555</b>",
          "Trial #9<br>nlayers: 6<br>hidden_size: 1<br>optimizer_name: SGD<br>learning_rate: 0.006511673013711062<br>batch_size: 2767<br>activation: PReLU<br><b>Objective Value: 0.00198307938747213</b>"
         ],
         "marker": {
          "color": [
           "rgb(218.0, 55.0, 42.0)",
           "rgb(254.0, 238.0, 165.0)",
           "rgb(165.0, 0.0, 38.0)",
           "rgb(246.0, 123.0, 74.0)",
           "rgb(253.0, 191.0, 113.0)",
           "rgb(238.0, 248.0, 223.0)",
           "rgb(49.0, 54.0, 149.0)",
           "rgb(189.0, 226.0, 238.0)",
           "rgb(128.0, 183.0, 214.0)",
           "rgb(74.0, 123.0, 183.0)"
          ],
          "line": {
           "color": "Grey",
           "width": 0.5
          }
         },
         "mode": "markers",
         "showlegend": false,
         "type": "scatter",
         "x": [
          0.004411101706036235,
          0.003965332289175691,
          0.001705750989213183,
          0.001839058010253875,
          0.001921553915883699,
          0.004248005583275175,
          0.001760534713381132,
          0.009537520587256125,
          0.005949905799153901,
          0.006511673013711062
         ],
         "xaxis": "x22",
         "y": [
          0.004411101706036235,
          0.003965332289175691,
          0.001705750989213183,
          0.001839058010253875,
          0.001921553915883699,
          0.004248005583275175,
          0.001760534713381132,
          0.009537520587256125,
          0.005949905799153901,
          0.006511673013711062
         ],
         "yaxis": "y22"
        },
        {
         "hovertemplate": "%{hovertext}<extra></extra>",
         "hovertext": [
          "Trial #0<br>nlayers: 4<br>hidden_size: 3<br>optimizer_name: SGD<br>learning_rate: 0.004411101706036235<br>batch_size: 670<br>activation: PReLU<br><b>Objective Value: 0.009967890081565772</b>",
          "Trial #1<br>nlayers: 3<br>hidden_size: 57<br>optimizer_name: RMSprop<br>learning_rate: 0.003965332289175691<br>batch_size: 634<br>activation: PReLU<br><b>Objective Value: 0.006631388602196606</b>",
          "Trial #2<br>nlayers: 5<br>hidden_size: 41<br>optimizer_name: SGD<br>learning_rate: 0.001705750989213183<br>batch_size: 511<br>activation: PReLU<br><b>Objective Value: 0.03136351634611589</b>",
          "Trial #3<br>nlayers: 2<br>hidden_size: 57<br>optimizer_name: SGD<br>learning_rate: 0.001839058010253875<br>batch_size: 1206<br>activation: PReLU<br><b>Objective Value: 0.009331022773809101</b>",
          "Trial #4<br>nlayers: 5<br>hidden_size: 1<br>optimizer_name: RMSprop<br>learning_rate: 0.001921553915883699<br>batch_size: 1413<br>activation: PReLU<br><b>Objective Value: 0.0069133908252554084</b>",
          "Trial #5<br>nlayers: 5<br>hidden_size: 41<br>optimizer_name: SGD<br>learning_rate: 0.004248005583275175<br>batch_size: 2016<br>activation: LeakyReLU<br><b>Objective Value: 0.003009425417061836</b>",
          "Trial #6<br>nlayers: 1<br>hidden_size: 48<br>optimizer_name: RMSprop<br>learning_rate: 0.001760534713381132<br>batch_size: 2478<br>activation: PReLU<br><b>Objective Value: 0.0016737091832337984</b>",
          "Trial #7<br>nlayers: 3<br>hidden_size: 8<br>optimizer_name: SGD<br>learning_rate: 0.009537520587256125<br>batch_size: 2001<br>activation: PReLU<br><b>Objective Value: 0.0023150240508155308</b>",
          "Trial #8<br>nlayers: 2<br>hidden_size: 51<br>optimizer_name: SGD<br>learning_rate: 0.005949905799153901<br>batch_size: 2060<br>activation: LeakyReLU<br><b>Objective Value: 0.0022391047328710555</b>",
          "Trial #9<br>nlayers: 6<br>hidden_size: 1<br>optimizer_name: SGD<br>learning_rate: 0.006511673013711062<br>batch_size: 2767<br>activation: PReLU<br><b>Objective Value: 0.00198307938747213</b>"
         ],
         "marker": {
          "color": [
           "rgb(218.0, 55.0, 42.0)",
           "rgb(254.0, 238.0, 165.0)",
           "rgb(165.0, 0.0, 38.0)",
           "rgb(246.0, 123.0, 74.0)",
           "rgb(253.0, 191.0, 113.0)",
           "rgb(238.0, 248.0, 223.0)",
           "rgb(49.0, 54.0, 149.0)",
           "rgb(189.0, 226.0, 238.0)",
           "rgb(128.0, 183.0, 214.0)",
           "rgb(74.0, 123.0, 183.0)"
          ],
          "line": {
           "color": "Grey",
           "width": 0.5
          }
         },
         "mode": "markers",
         "showlegend": false,
         "type": "scatter",
         "x": [
          0.004411101706036235,
          0.003965332289175691,
          0.001705750989213183,
          0.001839058010253875,
          0.001921553915883699,
          0.004248005583275175,
          0.001760534713381132,
          0.009537520587256125,
          0.005949905799153901,
          0.006511673013711062
         ],
         "xaxis": "x28",
         "y": [
          4,
          3,
          5,
          2,
          5,
          5,
          1,
          3,
          2,
          6
         ],
         "yaxis": "y28"
        },
        {
         "hovertemplate": "%{hovertext}<extra></extra>",
         "hovertext": [
          "Trial #0<br>nlayers: 4<br>hidden_size: 3<br>optimizer_name: SGD<br>learning_rate: 0.004411101706036235<br>batch_size: 670<br>activation: PReLU<br><b>Objective Value: 0.009967890081565772</b>",
          "Trial #1<br>nlayers: 3<br>hidden_size: 57<br>optimizer_name: RMSprop<br>learning_rate: 0.003965332289175691<br>batch_size: 634<br>activation: PReLU<br><b>Objective Value: 0.006631388602196606</b>",
          "Trial #2<br>nlayers: 5<br>hidden_size: 41<br>optimizer_name: SGD<br>learning_rate: 0.001705750989213183<br>batch_size: 511<br>activation: PReLU<br><b>Objective Value: 0.03136351634611589</b>",
          "Trial #3<br>nlayers: 2<br>hidden_size: 57<br>optimizer_name: SGD<br>learning_rate: 0.001839058010253875<br>batch_size: 1206<br>activation: PReLU<br><b>Objective Value: 0.009331022773809101</b>",
          "Trial #4<br>nlayers: 5<br>hidden_size: 1<br>optimizer_name: RMSprop<br>learning_rate: 0.001921553915883699<br>batch_size: 1413<br>activation: PReLU<br><b>Objective Value: 0.0069133908252554084</b>",
          "Trial #5<br>nlayers: 5<br>hidden_size: 41<br>optimizer_name: SGD<br>learning_rate: 0.004248005583275175<br>batch_size: 2016<br>activation: LeakyReLU<br><b>Objective Value: 0.003009425417061836</b>",
          "Trial #6<br>nlayers: 1<br>hidden_size: 48<br>optimizer_name: RMSprop<br>learning_rate: 0.001760534713381132<br>batch_size: 2478<br>activation: PReLU<br><b>Objective Value: 0.0016737091832337984</b>",
          "Trial #7<br>nlayers: 3<br>hidden_size: 8<br>optimizer_name: SGD<br>learning_rate: 0.009537520587256125<br>batch_size: 2001<br>activation: PReLU<br><b>Objective Value: 0.0023150240508155308</b>",
          "Trial #8<br>nlayers: 2<br>hidden_size: 51<br>optimizer_name: SGD<br>learning_rate: 0.005949905799153901<br>batch_size: 2060<br>activation: LeakyReLU<br><b>Objective Value: 0.0022391047328710555</b>",
          "Trial #9<br>nlayers: 6<br>hidden_size: 1<br>optimizer_name: SGD<br>learning_rate: 0.006511673013711062<br>batch_size: 2767<br>activation: PReLU<br><b>Objective Value: 0.00198307938747213</b>"
         ],
         "marker": {
          "color": [
           "rgb(218.0, 55.0, 42.0)",
           "rgb(254.0, 238.0, 165.0)",
           "rgb(165.0, 0.0, 38.0)",
           "rgb(246.0, 123.0, 74.0)",
           "rgb(253.0, 191.0, 113.0)",
           "rgb(238.0, 248.0, 223.0)",
           "rgb(49.0, 54.0, 149.0)",
           "rgb(189.0, 226.0, 238.0)",
           "rgb(128.0, 183.0, 214.0)",
           "rgb(74.0, 123.0, 183.0)"
          ],
          "line": {
           "color": "Grey",
           "width": 0.5
          }
         },
         "mode": "markers",
         "showlegend": false,
         "type": "scatter",
         "x": [
          0.004411101706036235,
          0.003965332289175691,
          0.001705750989213183,
          0.001839058010253875,
          0.001921553915883699,
          0.004248005583275175,
          0.001760534713381132,
          0.009537520587256125,
          0.005949905799153901,
          0.006511673013711062
         ],
         "xaxis": "x34",
         "y": [
          "SGD",
          "RMSprop",
          "SGD",
          "SGD",
          "RMSprop",
          "SGD",
          "RMSprop",
          "SGD",
          "SGD",
          "SGD"
         ],
         "yaxis": "y34"
        },
        {
         "hovertemplate": "%{hovertext}<extra></extra>",
         "hovertext": [
          "Trial #0<br>nlayers: 4<br>hidden_size: 3<br>optimizer_name: SGD<br>learning_rate: 0.004411101706036235<br>batch_size: 670<br>activation: PReLU<br><b>Objective Value: 0.009967890081565772</b>",
          "Trial #1<br>nlayers: 3<br>hidden_size: 57<br>optimizer_name: RMSprop<br>learning_rate: 0.003965332289175691<br>batch_size: 634<br>activation: PReLU<br><b>Objective Value: 0.006631388602196606</b>",
          "Trial #2<br>nlayers: 5<br>hidden_size: 41<br>optimizer_name: SGD<br>learning_rate: 0.001705750989213183<br>batch_size: 511<br>activation: PReLU<br><b>Objective Value: 0.03136351634611589</b>",
          "Trial #3<br>nlayers: 2<br>hidden_size: 57<br>optimizer_name: SGD<br>learning_rate: 0.001839058010253875<br>batch_size: 1206<br>activation: PReLU<br><b>Objective Value: 0.009331022773809101</b>",
          "Trial #4<br>nlayers: 5<br>hidden_size: 1<br>optimizer_name: RMSprop<br>learning_rate: 0.001921553915883699<br>batch_size: 1413<br>activation: PReLU<br><b>Objective Value: 0.0069133908252554084</b>",
          "Trial #5<br>nlayers: 5<br>hidden_size: 41<br>optimizer_name: SGD<br>learning_rate: 0.004248005583275175<br>batch_size: 2016<br>activation: LeakyReLU<br><b>Objective Value: 0.003009425417061836</b>",
          "Trial #6<br>nlayers: 1<br>hidden_size: 48<br>optimizer_name: RMSprop<br>learning_rate: 0.001760534713381132<br>batch_size: 2478<br>activation: PReLU<br><b>Objective Value: 0.0016737091832337984</b>",
          "Trial #7<br>nlayers: 3<br>hidden_size: 8<br>optimizer_name: SGD<br>learning_rate: 0.009537520587256125<br>batch_size: 2001<br>activation: PReLU<br><b>Objective Value: 0.0023150240508155308</b>",
          "Trial #8<br>nlayers: 2<br>hidden_size: 51<br>optimizer_name: SGD<br>learning_rate: 0.005949905799153901<br>batch_size: 2060<br>activation: LeakyReLU<br><b>Objective Value: 0.0022391047328710555</b>",
          "Trial #9<br>nlayers: 6<br>hidden_size: 1<br>optimizer_name: SGD<br>learning_rate: 0.006511673013711062<br>batch_size: 2767<br>activation: PReLU<br><b>Objective Value: 0.00198307938747213</b>"
         ],
         "marker": {
          "color": [
           "rgb(218.0, 55.0, 42.0)",
           "rgb(254.0, 238.0, 165.0)",
           "rgb(165.0, 0.0, 38.0)",
           "rgb(246.0, 123.0, 74.0)",
           "rgb(253.0, 191.0, 113.0)",
           "rgb(238.0, 248.0, 223.0)",
           "rgb(49.0, 54.0, 149.0)",
           "rgb(189.0, 226.0, 238.0)",
           "rgb(128.0, 183.0, 214.0)",
           "rgb(74.0, 123.0, 183.0)"
          ],
          "line": {
           "color": "Grey",
           "width": 0.5
          }
         },
         "mode": "markers",
         "showlegend": false,
         "type": "scatter",
         "x": [
          4,
          3,
          5,
          2,
          5,
          5,
          1,
          3,
          2,
          6
         ],
         "xaxis": "x5",
         "y": [
          "PReLU",
          "PReLU",
          "PReLU",
          "PReLU",
          "PReLU",
          "LeakyReLU",
          "PReLU",
          "PReLU",
          "LeakyReLU",
          "PReLU"
         ],
         "yaxis": "y5"
        },
        {
         "hovertemplate": "%{hovertext}<extra></extra>",
         "hovertext": [
          "Trial #0<br>nlayers: 4<br>hidden_size: 3<br>optimizer_name: SGD<br>learning_rate: 0.004411101706036235<br>batch_size: 670<br>activation: PReLU<br><b>Objective Value: 0.009967890081565772</b>",
          "Trial #1<br>nlayers: 3<br>hidden_size: 57<br>optimizer_name: RMSprop<br>learning_rate: 0.003965332289175691<br>batch_size: 634<br>activation: PReLU<br><b>Objective Value: 0.006631388602196606</b>",
          "Trial #2<br>nlayers: 5<br>hidden_size: 41<br>optimizer_name: SGD<br>learning_rate: 0.001705750989213183<br>batch_size: 511<br>activation: PReLU<br><b>Objective Value: 0.03136351634611589</b>",
          "Trial #3<br>nlayers: 2<br>hidden_size: 57<br>optimizer_name: SGD<br>learning_rate: 0.001839058010253875<br>batch_size: 1206<br>activation: PReLU<br><b>Objective Value: 0.009331022773809101</b>",
          "Trial #4<br>nlayers: 5<br>hidden_size: 1<br>optimizer_name: RMSprop<br>learning_rate: 0.001921553915883699<br>batch_size: 1413<br>activation: PReLU<br><b>Objective Value: 0.0069133908252554084</b>",
          "Trial #5<br>nlayers: 5<br>hidden_size: 41<br>optimizer_name: SGD<br>learning_rate: 0.004248005583275175<br>batch_size: 2016<br>activation: LeakyReLU<br><b>Objective Value: 0.003009425417061836</b>",
          "Trial #6<br>nlayers: 1<br>hidden_size: 48<br>optimizer_name: RMSprop<br>learning_rate: 0.001760534713381132<br>batch_size: 2478<br>activation: PReLU<br><b>Objective Value: 0.0016737091832337984</b>",
          "Trial #7<br>nlayers: 3<br>hidden_size: 8<br>optimizer_name: SGD<br>learning_rate: 0.009537520587256125<br>batch_size: 2001<br>activation: PReLU<br><b>Objective Value: 0.0023150240508155308</b>",
          "Trial #8<br>nlayers: 2<br>hidden_size: 51<br>optimizer_name: SGD<br>learning_rate: 0.005949905799153901<br>batch_size: 2060<br>activation: LeakyReLU<br><b>Objective Value: 0.0022391047328710555</b>",
          "Trial #9<br>nlayers: 6<br>hidden_size: 1<br>optimizer_name: SGD<br>learning_rate: 0.006511673013711062<br>batch_size: 2767<br>activation: PReLU<br><b>Objective Value: 0.00198307938747213</b>"
         ],
         "marker": {
          "color": [
           "rgb(218.0, 55.0, 42.0)",
           "rgb(254.0, 238.0, 165.0)",
           "rgb(165.0, 0.0, 38.0)",
           "rgb(246.0, 123.0, 74.0)",
           "rgb(253.0, 191.0, 113.0)",
           "rgb(238.0, 248.0, 223.0)",
           "rgb(49.0, 54.0, 149.0)",
           "rgb(189.0, 226.0, 238.0)",
           "rgb(128.0, 183.0, 214.0)",
           "rgb(74.0, 123.0, 183.0)"
          ],
          "line": {
           "color": "Grey",
           "width": 0.5
          }
         },
         "mode": "markers",
         "showlegend": false,
         "type": "scatter",
         "x": [
          4,
          3,
          5,
          2,
          5,
          5,
          1,
          3,
          2,
          6
         ],
         "xaxis": "x11",
         "y": [
          670,
          634,
          511,
          1206,
          1413,
          2016,
          2478,
          2001,
          2060,
          2767
         ],
         "yaxis": "y11"
        },
        {
         "hovertemplate": "%{hovertext}<extra></extra>",
         "hovertext": [
          "Trial #0<br>nlayers: 4<br>hidden_size: 3<br>optimizer_name: SGD<br>learning_rate: 0.004411101706036235<br>batch_size: 670<br>activation: PReLU<br><b>Objective Value: 0.009967890081565772</b>",
          "Trial #1<br>nlayers: 3<br>hidden_size: 57<br>optimizer_name: RMSprop<br>learning_rate: 0.003965332289175691<br>batch_size: 634<br>activation: PReLU<br><b>Objective Value: 0.006631388602196606</b>",
          "Trial #2<br>nlayers: 5<br>hidden_size: 41<br>optimizer_name: SGD<br>learning_rate: 0.001705750989213183<br>batch_size: 511<br>activation: PReLU<br><b>Objective Value: 0.03136351634611589</b>",
          "Trial #3<br>nlayers: 2<br>hidden_size: 57<br>optimizer_name: SGD<br>learning_rate: 0.001839058010253875<br>batch_size: 1206<br>activation: PReLU<br><b>Objective Value: 0.009331022773809101</b>",
          "Trial #4<br>nlayers: 5<br>hidden_size: 1<br>optimizer_name: RMSprop<br>learning_rate: 0.001921553915883699<br>batch_size: 1413<br>activation: PReLU<br><b>Objective Value: 0.0069133908252554084</b>",
          "Trial #5<br>nlayers: 5<br>hidden_size: 41<br>optimizer_name: SGD<br>learning_rate: 0.004248005583275175<br>batch_size: 2016<br>activation: LeakyReLU<br><b>Objective Value: 0.003009425417061836</b>",
          "Trial #6<br>nlayers: 1<br>hidden_size: 48<br>optimizer_name: RMSprop<br>learning_rate: 0.001760534713381132<br>batch_size: 2478<br>activation: PReLU<br><b>Objective Value: 0.0016737091832337984</b>",
          "Trial #7<br>nlayers: 3<br>hidden_size: 8<br>optimizer_name: SGD<br>learning_rate: 0.009537520587256125<br>batch_size: 2001<br>activation: PReLU<br><b>Objective Value: 0.0023150240508155308</b>",
          "Trial #8<br>nlayers: 2<br>hidden_size: 51<br>optimizer_name: SGD<br>learning_rate: 0.005949905799153901<br>batch_size: 2060<br>activation: LeakyReLU<br><b>Objective Value: 0.0022391047328710555</b>",
          "Trial #9<br>nlayers: 6<br>hidden_size: 1<br>optimizer_name: SGD<br>learning_rate: 0.006511673013711062<br>batch_size: 2767<br>activation: PReLU<br><b>Objective Value: 0.00198307938747213</b>"
         ],
         "marker": {
          "color": [
           "rgb(218.0, 55.0, 42.0)",
           "rgb(254.0, 238.0, 165.0)",
           "rgb(165.0, 0.0, 38.0)",
           "rgb(246.0, 123.0, 74.0)",
           "rgb(253.0, 191.0, 113.0)",
           "rgb(238.0, 248.0, 223.0)",
           "rgb(49.0, 54.0, 149.0)",
           "rgb(189.0, 226.0, 238.0)",
           "rgb(128.0, 183.0, 214.0)",
           "rgb(74.0, 123.0, 183.0)"
          ],
          "line": {
           "color": "Grey",
           "width": 0.5
          }
         },
         "mode": "markers",
         "showlegend": false,
         "type": "scatter",
         "x": [
          4,
          3,
          5,
          2,
          5,
          5,
          1,
          3,
          2,
          6
         ],
         "xaxis": "x17",
         "y": [
          3,
          57,
          41,
          57,
          1,
          41,
          48,
          8,
          51,
          1
         ],
         "yaxis": "y17"
        },
        {
         "hovertemplate": "%{hovertext}<extra></extra>",
         "hovertext": [
          "Trial #0<br>nlayers: 4<br>hidden_size: 3<br>optimizer_name: SGD<br>learning_rate: 0.004411101706036235<br>batch_size: 670<br>activation: PReLU<br><b>Objective Value: 0.009967890081565772</b>",
          "Trial #1<br>nlayers: 3<br>hidden_size: 57<br>optimizer_name: RMSprop<br>learning_rate: 0.003965332289175691<br>batch_size: 634<br>activation: PReLU<br><b>Objective Value: 0.006631388602196606</b>",
          "Trial #2<br>nlayers: 5<br>hidden_size: 41<br>optimizer_name: SGD<br>learning_rate: 0.001705750989213183<br>batch_size: 511<br>activation: PReLU<br><b>Objective Value: 0.03136351634611589</b>",
          "Trial #3<br>nlayers: 2<br>hidden_size: 57<br>optimizer_name: SGD<br>learning_rate: 0.001839058010253875<br>batch_size: 1206<br>activation: PReLU<br><b>Objective Value: 0.009331022773809101</b>",
          "Trial #4<br>nlayers: 5<br>hidden_size: 1<br>optimizer_name: RMSprop<br>learning_rate: 0.001921553915883699<br>batch_size: 1413<br>activation: PReLU<br><b>Objective Value: 0.0069133908252554084</b>",
          "Trial #5<br>nlayers: 5<br>hidden_size: 41<br>optimizer_name: SGD<br>learning_rate: 0.004248005583275175<br>batch_size: 2016<br>activation: LeakyReLU<br><b>Objective Value: 0.003009425417061836</b>",
          "Trial #6<br>nlayers: 1<br>hidden_size: 48<br>optimizer_name: RMSprop<br>learning_rate: 0.001760534713381132<br>batch_size: 2478<br>activation: PReLU<br><b>Objective Value: 0.0016737091832337984</b>",
          "Trial #7<br>nlayers: 3<br>hidden_size: 8<br>optimizer_name: SGD<br>learning_rate: 0.009537520587256125<br>batch_size: 2001<br>activation: PReLU<br><b>Objective Value: 0.0023150240508155308</b>",
          "Trial #8<br>nlayers: 2<br>hidden_size: 51<br>optimizer_name: SGD<br>learning_rate: 0.005949905799153901<br>batch_size: 2060<br>activation: LeakyReLU<br><b>Objective Value: 0.0022391047328710555</b>",
          "Trial #9<br>nlayers: 6<br>hidden_size: 1<br>optimizer_name: SGD<br>learning_rate: 0.006511673013711062<br>batch_size: 2767<br>activation: PReLU<br><b>Objective Value: 0.00198307938747213</b>"
         ],
         "marker": {
          "color": [
           "rgb(218.0, 55.0, 42.0)",
           "rgb(254.0, 238.0, 165.0)",
           "rgb(165.0, 0.0, 38.0)",
           "rgb(246.0, 123.0, 74.0)",
           "rgb(253.0, 191.0, 113.0)",
           "rgb(238.0, 248.0, 223.0)",
           "rgb(49.0, 54.0, 149.0)",
           "rgb(189.0, 226.0, 238.0)",
           "rgb(128.0, 183.0, 214.0)",
           "rgb(74.0, 123.0, 183.0)"
          ],
          "line": {
           "color": "Grey",
           "width": 0.5
          }
         },
         "mode": "markers",
         "showlegend": false,
         "type": "scatter",
         "x": [
          4,
          3,
          5,
          2,
          5,
          5,
          1,
          3,
          2,
          6
         ],
         "xaxis": "x23",
         "y": [
          0.004411101706036235,
          0.003965332289175691,
          0.001705750989213183,
          0.001839058010253875,
          0.001921553915883699,
          0.004248005583275175,
          0.001760534713381132,
          0.009537520587256125,
          0.005949905799153901,
          0.006511673013711062
         ],
         "yaxis": "y23"
        },
        {
         "hovertemplate": "%{hovertext}<extra></extra>",
         "hovertext": [
          "Trial #0<br>nlayers: 4<br>hidden_size: 3<br>optimizer_name: SGD<br>learning_rate: 0.004411101706036235<br>batch_size: 670<br>activation: PReLU<br><b>Objective Value: 0.009967890081565772</b>",
          "Trial #1<br>nlayers: 3<br>hidden_size: 57<br>optimizer_name: RMSprop<br>learning_rate: 0.003965332289175691<br>batch_size: 634<br>activation: PReLU<br><b>Objective Value: 0.006631388602196606</b>",
          "Trial #2<br>nlayers: 5<br>hidden_size: 41<br>optimizer_name: SGD<br>learning_rate: 0.001705750989213183<br>batch_size: 511<br>activation: PReLU<br><b>Objective Value: 0.03136351634611589</b>",
          "Trial #3<br>nlayers: 2<br>hidden_size: 57<br>optimizer_name: SGD<br>learning_rate: 0.001839058010253875<br>batch_size: 1206<br>activation: PReLU<br><b>Objective Value: 0.009331022773809101</b>",
          "Trial #4<br>nlayers: 5<br>hidden_size: 1<br>optimizer_name: RMSprop<br>learning_rate: 0.001921553915883699<br>batch_size: 1413<br>activation: PReLU<br><b>Objective Value: 0.0069133908252554084</b>",
          "Trial #5<br>nlayers: 5<br>hidden_size: 41<br>optimizer_name: SGD<br>learning_rate: 0.004248005583275175<br>batch_size: 2016<br>activation: LeakyReLU<br><b>Objective Value: 0.003009425417061836</b>",
          "Trial #6<br>nlayers: 1<br>hidden_size: 48<br>optimizer_name: RMSprop<br>learning_rate: 0.001760534713381132<br>batch_size: 2478<br>activation: PReLU<br><b>Objective Value: 0.0016737091832337984</b>",
          "Trial #7<br>nlayers: 3<br>hidden_size: 8<br>optimizer_name: SGD<br>learning_rate: 0.009537520587256125<br>batch_size: 2001<br>activation: PReLU<br><b>Objective Value: 0.0023150240508155308</b>",
          "Trial #8<br>nlayers: 2<br>hidden_size: 51<br>optimizer_name: SGD<br>learning_rate: 0.005949905799153901<br>batch_size: 2060<br>activation: LeakyReLU<br><b>Objective Value: 0.0022391047328710555</b>",
          "Trial #9<br>nlayers: 6<br>hidden_size: 1<br>optimizer_name: SGD<br>learning_rate: 0.006511673013711062<br>batch_size: 2767<br>activation: PReLU<br><b>Objective Value: 0.00198307938747213</b>"
         ],
         "marker": {
          "color": [
           "rgb(218.0, 55.0, 42.0)",
           "rgb(254.0, 238.0, 165.0)",
           "rgb(165.0, 0.0, 38.0)",
           "rgb(246.0, 123.0, 74.0)",
           "rgb(253.0, 191.0, 113.0)",
           "rgb(238.0, 248.0, 223.0)",
           "rgb(49.0, 54.0, 149.0)",
           "rgb(189.0, 226.0, 238.0)",
           "rgb(128.0, 183.0, 214.0)",
           "rgb(74.0, 123.0, 183.0)"
          ],
          "line": {
           "color": "Grey",
           "width": 0.5
          }
         },
         "mode": "markers",
         "showlegend": false,
         "type": "scatter",
         "x": [
          4,
          3,
          5,
          2,
          5,
          5,
          1,
          3,
          2,
          6
         ],
         "xaxis": "x29",
         "y": [
          4,
          3,
          5,
          2,
          5,
          5,
          1,
          3,
          2,
          6
         ],
         "yaxis": "y29"
        },
        {
         "hovertemplate": "%{hovertext}<extra></extra>",
         "hovertext": [
          "Trial #0<br>nlayers: 4<br>hidden_size: 3<br>optimizer_name: SGD<br>learning_rate: 0.004411101706036235<br>batch_size: 670<br>activation: PReLU<br><b>Objective Value: 0.009967890081565772</b>",
          "Trial #1<br>nlayers: 3<br>hidden_size: 57<br>optimizer_name: RMSprop<br>learning_rate: 0.003965332289175691<br>batch_size: 634<br>activation: PReLU<br><b>Objective Value: 0.006631388602196606</b>",
          "Trial #2<br>nlayers: 5<br>hidden_size: 41<br>optimizer_name: SGD<br>learning_rate: 0.001705750989213183<br>batch_size: 511<br>activation: PReLU<br><b>Objective Value: 0.03136351634611589</b>",
          "Trial #3<br>nlayers: 2<br>hidden_size: 57<br>optimizer_name: SGD<br>learning_rate: 0.001839058010253875<br>batch_size: 1206<br>activation: PReLU<br><b>Objective Value: 0.009331022773809101</b>",
          "Trial #4<br>nlayers: 5<br>hidden_size: 1<br>optimizer_name: RMSprop<br>learning_rate: 0.001921553915883699<br>batch_size: 1413<br>activation: PReLU<br><b>Objective Value: 0.0069133908252554084</b>",
          "Trial #5<br>nlayers: 5<br>hidden_size: 41<br>optimizer_name: SGD<br>learning_rate: 0.004248005583275175<br>batch_size: 2016<br>activation: LeakyReLU<br><b>Objective Value: 0.003009425417061836</b>",
          "Trial #6<br>nlayers: 1<br>hidden_size: 48<br>optimizer_name: RMSprop<br>learning_rate: 0.001760534713381132<br>batch_size: 2478<br>activation: PReLU<br><b>Objective Value: 0.0016737091832337984</b>",
          "Trial #7<br>nlayers: 3<br>hidden_size: 8<br>optimizer_name: SGD<br>learning_rate: 0.009537520587256125<br>batch_size: 2001<br>activation: PReLU<br><b>Objective Value: 0.0023150240508155308</b>",
          "Trial #8<br>nlayers: 2<br>hidden_size: 51<br>optimizer_name: SGD<br>learning_rate: 0.005949905799153901<br>batch_size: 2060<br>activation: LeakyReLU<br><b>Objective Value: 0.0022391047328710555</b>",
          "Trial #9<br>nlayers: 6<br>hidden_size: 1<br>optimizer_name: SGD<br>learning_rate: 0.006511673013711062<br>batch_size: 2767<br>activation: PReLU<br><b>Objective Value: 0.00198307938747213</b>"
         ],
         "marker": {
          "color": [
           "rgb(218.0, 55.0, 42.0)",
           "rgb(254.0, 238.0, 165.0)",
           "rgb(165.0, 0.0, 38.0)",
           "rgb(246.0, 123.0, 74.0)",
           "rgb(253.0, 191.0, 113.0)",
           "rgb(238.0, 248.0, 223.0)",
           "rgb(49.0, 54.0, 149.0)",
           "rgb(189.0, 226.0, 238.0)",
           "rgb(128.0, 183.0, 214.0)",
           "rgb(74.0, 123.0, 183.0)"
          ],
          "line": {
           "color": "Grey",
           "width": 0.5
          }
         },
         "mode": "markers",
         "showlegend": false,
         "type": "scatter",
         "x": [
          4,
          3,
          5,
          2,
          5,
          5,
          1,
          3,
          2,
          6
         ],
         "xaxis": "x35",
         "y": [
          "SGD",
          "RMSprop",
          "SGD",
          "SGD",
          "RMSprop",
          "SGD",
          "RMSprop",
          "SGD",
          "SGD",
          "SGD"
         ],
         "yaxis": "y35"
        },
        {
         "hovertemplate": "%{hovertext}<extra></extra>",
         "hovertext": [
          "Trial #0<br>nlayers: 4<br>hidden_size: 3<br>optimizer_name: SGD<br>learning_rate: 0.004411101706036235<br>batch_size: 670<br>activation: PReLU<br><b>Objective Value: 0.009967890081565772</b>",
          "Trial #1<br>nlayers: 3<br>hidden_size: 57<br>optimizer_name: RMSprop<br>learning_rate: 0.003965332289175691<br>batch_size: 634<br>activation: PReLU<br><b>Objective Value: 0.006631388602196606</b>",
          "Trial #2<br>nlayers: 5<br>hidden_size: 41<br>optimizer_name: SGD<br>learning_rate: 0.001705750989213183<br>batch_size: 511<br>activation: PReLU<br><b>Objective Value: 0.03136351634611589</b>",
          "Trial #3<br>nlayers: 2<br>hidden_size: 57<br>optimizer_name: SGD<br>learning_rate: 0.001839058010253875<br>batch_size: 1206<br>activation: PReLU<br><b>Objective Value: 0.009331022773809101</b>",
          "Trial #4<br>nlayers: 5<br>hidden_size: 1<br>optimizer_name: RMSprop<br>learning_rate: 0.001921553915883699<br>batch_size: 1413<br>activation: PReLU<br><b>Objective Value: 0.0069133908252554084</b>",
          "Trial #5<br>nlayers: 5<br>hidden_size: 41<br>optimizer_name: SGD<br>learning_rate: 0.004248005583275175<br>batch_size: 2016<br>activation: LeakyReLU<br><b>Objective Value: 0.003009425417061836</b>",
          "Trial #6<br>nlayers: 1<br>hidden_size: 48<br>optimizer_name: RMSprop<br>learning_rate: 0.001760534713381132<br>batch_size: 2478<br>activation: PReLU<br><b>Objective Value: 0.0016737091832337984</b>",
          "Trial #7<br>nlayers: 3<br>hidden_size: 8<br>optimizer_name: SGD<br>learning_rate: 0.009537520587256125<br>batch_size: 2001<br>activation: PReLU<br><b>Objective Value: 0.0023150240508155308</b>",
          "Trial #8<br>nlayers: 2<br>hidden_size: 51<br>optimizer_name: SGD<br>learning_rate: 0.005949905799153901<br>batch_size: 2060<br>activation: LeakyReLU<br><b>Objective Value: 0.0022391047328710555</b>",
          "Trial #9<br>nlayers: 6<br>hidden_size: 1<br>optimizer_name: SGD<br>learning_rate: 0.006511673013711062<br>batch_size: 2767<br>activation: PReLU<br><b>Objective Value: 0.00198307938747213</b>"
         ],
         "marker": {
          "color": [
           "rgb(218.0, 55.0, 42.0)",
           "rgb(254.0, 238.0, 165.0)",
           "rgb(165.0, 0.0, 38.0)",
           "rgb(246.0, 123.0, 74.0)",
           "rgb(253.0, 191.0, 113.0)",
           "rgb(238.0, 248.0, 223.0)",
           "rgb(49.0, 54.0, 149.0)",
           "rgb(189.0, 226.0, 238.0)",
           "rgb(128.0, 183.0, 214.0)",
           "rgb(74.0, 123.0, 183.0)"
          ],
          "line": {
           "color": "Grey",
           "width": 0.5
          }
         },
         "mode": "markers",
         "showlegend": false,
         "type": "scatter",
         "x": [
          "SGD",
          "RMSprop",
          "SGD",
          "SGD",
          "RMSprop",
          "SGD",
          "RMSprop",
          "SGD",
          "SGD",
          "SGD"
         ],
         "xaxis": "x6",
         "y": [
          "PReLU",
          "PReLU",
          "PReLU",
          "PReLU",
          "PReLU",
          "LeakyReLU",
          "PReLU",
          "PReLU",
          "LeakyReLU",
          "PReLU"
         ],
         "yaxis": "y6"
        },
        {
         "hovertemplate": "%{hovertext}<extra></extra>",
         "hovertext": [
          "Trial #0<br>nlayers: 4<br>hidden_size: 3<br>optimizer_name: SGD<br>learning_rate: 0.004411101706036235<br>batch_size: 670<br>activation: PReLU<br><b>Objective Value: 0.009967890081565772</b>",
          "Trial #1<br>nlayers: 3<br>hidden_size: 57<br>optimizer_name: RMSprop<br>learning_rate: 0.003965332289175691<br>batch_size: 634<br>activation: PReLU<br><b>Objective Value: 0.006631388602196606</b>",
          "Trial #2<br>nlayers: 5<br>hidden_size: 41<br>optimizer_name: SGD<br>learning_rate: 0.001705750989213183<br>batch_size: 511<br>activation: PReLU<br><b>Objective Value: 0.03136351634611589</b>",
          "Trial #3<br>nlayers: 2<br>hidden_size: 57<br>optimizer_name: SGD<br>learning_rate: 0.001839058010253875<br>batch_size: 1206<br>activation: PReLU<br><b>Objective Value: 0.009331022773809101</b>",
          "Trial #4<br>nlayers: 5<br>hidden_size: 1<br>optimizer_name: RMSprop<br>learning_rate: 0.001921553915883699<br>batch_size: 1413<br>activation: PReLU<br><b>Objective Value: 0.0069133908252554084</b>",
          "Trial #5<br>nlayers: 5<br>hidden_size: 41<br>optimizer_name: SGD<br>learning_rate: 0.004248005583275175<br>batch_size: 2016<br>activation: LeakyReLU<br><b>Objective Value: 0.003009425417061836</b>",
          "Trial #6<br>nlayers: 1<br>hidden_size: 48<br>optimizer_name: RMSprop<br>learning_rate: 0.001760534713381132<br>batch_size: 2478<br>activation: PReLU<br><b>Objective Value: 0.0016737091832337984</b>",
          "Trial #7<br>nlayers: 3<br>hidden_size: 8<br>optimizer_name: SGD<br>learning_rate: 0.009537520587256125<br>batch_size: 2001<br>activation: PReLU<br><b>Objective Value: 0.0023150240508155308</b>",
          "Trial #8<br>nlayers: 2<br>hidden_size: 51<br>optimizer_name: SGD<br>learning_rate: 0.005949905799153901<br>batch_size: 2060<br>activation: LeakyReLU<br><b>Objective Value: 0.0022391047328710555</b>",
          "Trial #9<br>nlayers: 6<br>hidden_size: 1<br>optimizer_name: SGD<br>learning_rate: 0.006511673013711062<br>batch_size: 2767<br>activation: PReLU<br><b>Objective Value: 0.00198307938747213</b>"
         ],
         "marker": {
          "color": [
           "rgb(218.0, 55.0, 42.0)",
           "rgb(254.0, 238.0, 165.0)",
           "rgb(165.0, 0.0, 38.0)",
           "rgb(246.0, 123.0, 74.0)",
           "rgb(253.0, 191.0, 113.0)",
           "rgb(238.0, 248.0, 223.0)",
           "rgb(49.0, 54.0, 149.0)",
           "rgb(189.0, 226.0, 238.0)",
           "rgb(128.0, 183.0, 214.0)",
           "rgb(74.0, 123.0, 183.0)"
          ],
          "line": {
           "color": "Grey",
           "width": 0.5
          }
         },
         "mode": "markers",
         "showlegend": false,
         "type": "scatter",
         "x": [
          "SGD",
          "RMSprop",
          "SGD",
          "SGD",
          "RMSprop",
          "SGD",
          "RMSprop",
          "SGD",
          "SGD",
          "SGD"
         ],
         "xaxis": "x12",
         "y": [
          670,
          634,
          511,
          1206,
          1413,
          2016,
          2478,
          2001,
          2060,
          2767
         ],
         "yaxis": "y12"
        },
        {
         "hovertemplate": "%{hovertext}<extra></extra>",
         "hovertext": [
          "Trial #0<br>nlayers: 4<br>hidden_size: 3<br>optimizer_name: SGD<br>learning_rate: 0.004411101706036235<br>batch_size: 670<br>activation: PReLU<br><b>Objective Value: 0.009967890081565772</b>",
          "Trial #1<br>nlayers: 3<br>hidden_size: 57<br>optimizer_name: RMSprop<br>learning_rate: 0.003965332289175691<br>batch_size: 634<br>activation: PReLU<br><b>Objective Value: 0.006631388602196606</b>",
          "Trial #2<br>nlayers: 5<br>hidden_size: 41<br>optimizer_name: SGD<br>learning_rate: 0.001705750989213183<br>batch_size: 511<br>activation: PReLU<br><b>Objective Value: 0.03136351634611589</b>",
          "Trial #3<br>nlayers: 2<br>hidden_size: 57<br>optimizer_name: SGD<br>learning_rate: 0.001839058010253875<br>batch_size: 1206<br>activation: PReLU<br><b>Objective Value: 0.009331022773809101</b>",
          "Trial #4<br>nlayers: 5<br>hidden_size: 1<br>optimizer_name: RMSprop<br>learning_rate: 0.001921553915883699<br>batch_size: 1413<br>activation: PReLU<br><b>Objective Value: 0.0069133908252554084</b>",
          "Trial #5<br>nlayers: 5<br>hidden_size: 41<br>optimizer_name: SGD<br>learning_rate: 0.004248005583275175<br>batch_size: 2016<br>activation: LeakyReLU<br><b>Objective Value: 0.003009425417061836</b>",
          "Trial #6<br>nlayers: 1<br>hidden_size: 48<br>optimizer_name: RMSprop<br>learning_rate: 0.001760534713381132<br>batch_size: 2478<br>activation: PReLU<br><b>Objective Value: 0.0016737091832337984</b>",
          "Trial #7<br>nlayers: 3<br>hidden_size: 8<br>optimizer_name: SGD<br>learning_rate: 0.009537520587256125<br>batch_size: 2001<br>activation: PReLU<br><b>Objective Value: 0.0023150240508155308</b>",
          "Trial #8<br>nlayers: 2<br>hidden_size: 51<br>optimizer_name: SGD<br>learning_rate: 0.005949905799153901<br>batch_size: 2060<br>activation: LeakyReLU<br><b>Objective Value: 0.0022391047328710555</b>",
          "Trial #9<br>nlayers: 6<br>hidden_size: 1<br>optimizer_name: SGD<br>learning_rate: 0.006511673013711062<br>batch_size: 2767<br>activation: PReLU<br><b>Objective Value: 0.00198307938747213</b>"
         ],
         "marker": {
          "color": [
           "rgb(218.0, 55.0, 42.0)",
           "rgb(254.0, 238.0, 165.0)",
           "rgb(165.0, 0.0, 38.0)",
           "rgb(246.0, 123.0, 74.0)",
           "rgb(253.0, 191.0, 113.0)",
           "rgb(238.0, 248.0, 223.0)",
           "rgb(49.0, 54.0, 149.0)",
           "rgb(189.0, 226.0, 238.0)",
           "rgb(128.0, 183.0, 214.0)",
           "rgb(74.0, 123.0, 183.0)"
          ],
          "line": {
           "color": "Grey",
           "width": 0.5
          }
         },
         "mode": "markers",
         "showlegend": false,
         "type": "scatter",
         "x": [
          "SGD",
          "RMSprop",
          "SGD",
          "SGD",
          "RMSprop",
          "SGD",
          "RMSprop",
          "SGD",
          "SGD",
          "SGD"
         ],
         "xaxis": "x18",
         "y": [
          3,
          57,
          41,
          57,
          1,
          41,
          48,
          8,
          51,
          1
         ],
         "yaxis": "y18"
        },
        {
         "hovertemplate": "%{hovertext}<extra></extra>",
         "hovertext": [
          "Trial #0<br>nlayers: 4<br>hidden_size: 3<br>optimizer_name: SGD<br>learning_rate: 0.004411101706036235<br>batch_size: 670<br>activation: PReLU<br><b>Objective Value: 0.009967890081565772</b>",
          "Trial #1<br>nlayers: 3<br>hidden_size: 57<br>optimizer_name: RMSprop<br>learning_rate: 0.003965332289175691<br>batch_size: 634<br>activation: PReLU<br><b>Objective Value: 0.006631388602196606</b>",
          "Trial #2<br>nlayers: 5<br>hidden_size: 41<br>optimizer_name: SGD<br>learning_rate: 0.001705750989213183<br>batch_size: 511<br>activation: PReLU<br><b>Objective Value: 0.03136351634611589</b>",
          "Trial #3<br>nlayers: 2<br>hidden_size: 57<br>optimizer_name: SGD<br>learning_rate: 0.001839058010253875<br>batch_size: 1206<br>activation: PReLU<br><b>Objective Value: 0.009331022773809101</b>",
          "Trial #4<br>nlayers: 5<br>hidden_size: 1<br>optimizer_name: RMSprop<br>learning_rate: 0.001921553915883699<br>batch_size: 1413<br>activation: PReLU<br><b>Objective Value: 0.0069133908252554084</b>",
          "Trial #5<br>nlayers: 5<br>hidden_size: 41<br>optimizer_name: SGD<br>learning_rate: 0.004248005583275175<br>batch_size: 2016<br>activation: LeakyReLU<br><b>Objective Value: 0.003009425417061836</b>",
          "Trial #6<br>nlayers: 1<br>hidden_size: 48<br>optimizer_name: RMSprop<br>learning_rate: 0.001760534713381132<br>batch_size: 2478<br>activation: PReLU<br><b>Objective Value: 0.0016737091832337984</b>",
          "Trial #7<br>nlayers: 3<br>hidden_size: 8<br>optimizer_name: SGD<br>learning_rate: 0.009537520587256125<br>batch_size: 2001<br>activation: PReLU<br><b>Objective Value: 0.0023150240508155308</b>",
          "Trial #8<br>nlayers: 2<br>hidden_size: 51<br>optimizer_name: SGD<br>learning_rate: 0.005949905799153901<br>batch_size: 2060<br>activation: LeakyReLU<br><b>Objective Value: 0.0022391047328710555</b>",
          "Trial #9<br>nlayers: 6<br>hidden_size: 1<br>optimizer_name: SGD<br>learning_rate: 0.006511673013711062<br>batch_size: 2767<br>activation: PReLU<br><b>Objective Value: 0.00198307938747213</b>"
         ],
         "marker": {
          "color": [
           "rgb(218.0, 55.0, 42.0)",
           "rgb(254.0, 238.0, 165.0)",
           "rgb(165.0, 0.0, 38.0)",
           "rgb(246.0, 123.0, 74.0)",
           "rgb(253.0, 191.0, 113.0)",
           "rgb(238.0, 248.0, 223.0)",
           "rgb(49.0, 54.0, 149.0)",
           "rgb(189.0, 226.0, 238.0)",
           "rgb(128.0, 183.0, 214.0)",
           "rgb(74.0, 123.0, 183.0)"
          ],
          "line": {
           "color": "Grey",
           "width": 0.5
          }
         },
         "mode": "markers",
         "showlegend": false,
         "type": "scatter",
         "x": [
          "SGD",
          "RMSprop",
          "SGD",
          "SGD",
          "RMSprop",
          "SGD",
          "RMSprop",
          "SGD",
          "SGD",
          "SGD"
         ],
         "xaxis": "x24",
         "y": [
          0.004411101706036235,
          0.003965332289175691,
          0.001705750989213183,
          0.001839058010253875,
          0.001921553915883699,
          0.004248005583275175,
          0.001760534713381132,
          0.009537520587256125,
          0.005949905799153901,
          0.006511673013711062
         ],
         "yaxis": "y24"
        },
        {
         "hovertemplate": "%{hovertext}<extra></extra>",
         "hovertext": [
          "Trial #0<br>nlayers: 4<br>hidden_size: 3<br>optimizer_name: SGD<br>learning_rate: 0.004411101706036235<br>batch_size: 670<br>activation: PReLU<br><b>Objective Value: 0.009967890081565772</b>",
          "Trial #1<br>nlayers: 3<br>hidden_size: 57<br>optimizer_name: RMSprop<br>learning_rate: 0.003965332289175691<br>batch_size: 634<br>activation: PReLU<br><b>Objective Value: 0.006631388602196606</b>",
          "Trial #2<br>nlayers: 5<br>hidden_size: 41<br>optimizer_name: SGD<br>learning_rate: 0.001705750989213183<br>batch_size: 511<br>activation: PReLU<br><b>Objective Value: 0.03136351634611589</b>",
          "Trial #3<br>nlayers: 2<br>hidden_size: 57<br>optimizer_name: SGD<br>learning_rate: 0.001839058010253875<br>batch_size: 1206<br>activation: PReLU<br><b>Objective Value: 0.009331022773809101</b>",
          "Trial #4<br>nlayers: 5<br>hidden_size: 1<br>optimizer_name: RMSprop<br>learning_rate: 0.001921553915883699<br>batch_size: 1413<br>activation: PReLU<br><b>Objective Value: 0.0069133908252554084</b>",
          "Trial #5<br>nlayers: 5<br>hidden_size: 41<br>optimizer_name: SGD<br>learning_rate: 0.004248005583275175<br>batch_size: 2016<br>activation: LeakyReLU<br><b>Objective Value: 0.003009425417061836</b>",
          "Trial #6<br>nlayers: 1<br>hidden_size: 48<br>optimizer_name: RMSprop<br>learning_rate: 0.001760534713381132<br>batch_size: 2478<br>activation: PReLU<br><b>Objective Value: 0.0016737091832337984</b>",
          "Trial #7<br>nlayers: 3<br>hidden_size: 8<br>optimizer_name: SGD<br>learning_rate: 0.009537520587256125<br>batch_size: 2001<br>activation: PReLU<br><b>Objective Value: 0.0023150240508155308</b>",
          "Trial #8<br>nlayers: 2<br>hidden_size: 51<br>optimizer_name: SGD<br>learning_rate: 0.005949905799153901<br>batch_size: 2060<br>activation: LeakyReLU<br><b>Objective Value: 0.0022391047328710555</b>",
          "Trial #9<br>nlayers: 6<br>hidden_size: 1<br>optimizer_name: SGD<br>learning_rate: 0.006511673013711062<br>batch_size: 2767<br>activation: PReLU<br><b>Objective Value: 0.00198307938747213</b>"
         ],
         "marker": {
          "color": [
           "rgb(218.0, 55.0, 42.0)",
           "rgb(254.0, 238.0, 165.0)",
           "rgb(165.0, 0.0, 38.0)",
           "rgb(246.0, 123.0, 74.0)",
           "rgb(253.0, 191.0, 113.0)",
           "rgb(238.0, 248.0, 223.0)",
           "rgb(49.0, 54.0, 149.0)",
           "rgb(189.0, 226.0, 238.0)",
           "rgb(128.0, 183.0, 214.0)",
           "rgb(74.0, 123.0, 183.0)"
          ],
          "line": {
           "color": "Grey",
           "width": 0.5
          }
         },
         "mode": "markers",
         "showlegend": false,
         "type": "scatter",
         "x": [
          "SGD",
          "RMSprop",
          "SGD",
          "SGD",
          "RMSprop",
          "SGD",
          "RMSprop",
          "SGD",
          "SGD",
          "SGD"
         ],
         "xaxis": "x30",
         "y": [
          4,
          3,
          5,
          2,
          5,
          5,
          1,
          3,
          2,
          6
         ],
         "yaxis": "y30"
        },
        {
         "hovertemplate": "%{hovertext}<extra></extra>",
         "hovertext": [
          "Trial #0<br>nlayers: 4<br>hidden_size: 3<br>optimizer_name: SGD<br>learning_rate: 0.004411101706036235<br>batch_size: 670<br>activation: PReLU<br><b>Objective Value: 0.009967890081565772</b>",
          "Trial #1<br>nlayers: 3<br>hidden_size: 57<br>optimizer_name: RMSprop<br>learning_rate: 0.003965332289175691<br>batch_size: 634<br>activation: PReLU<br><b>Objective Value: 0.006631388602196606</b>",
          "Trial #2<br>nlayers: 5<br>hidden_size: 41<br>optimizer_name: SGD<br>learning_rate: 0.001705750989213183<br>batch_size: 511<br>activation: PReLU<br><b>Objective Value: 0.03136351634611589</b>",
          "Trial #3<br>nlayers: 2<br>hidden_size: 57<br>optimizer_name: SGD<br>learning_rate: 0.001839058010253875<br>batch_size: 1206<br>activation: PReLU<br><b>Objective Value: 0.009331022773809101</b>",
          "Trial #4<br>nlayers: 5<br>hidden_size: 1<br>optimizer_name: RMSprop<br>learning_rate: 0.001921553915883699<br>batch_size: 1413<br>activation: PReLU<br><b>Objective Value: 0.0069133908252554084</b>",
          "Trial #5<br>nlayers: 5<br>hidden_size: 41<br>optimizer_name: SGD<br>learning_rate: 0.004248005583275175<br>batch_size: 2016<br>activation: LeakyReLU<br><b>Objective Value: 0.003009425417061836</b>",
          "Trial #6<br>nlayers: 1<br>hidden_size: 48<br>optimizer_name: RMSprop<br>learning_rate: 0.001760534713381132<br>batch_size: 2478<br>activation: PReLU<br><b>Objective Value: 0.0016737091832337984</b>",
          "Trial #7<br>nlayers: 3<br>hidden_size: 8<br>optimizer_name: SGD<br>learning_rate: 0.009537520587256125<br>batch_size: 2001<br>activation: PReLU<br><b>Objective Value: 0.0023150240508155308</b>",
          "Trial #8<br>nlayers: 2<br>hidden_size: 51<br>optimizer_name: SGD<br>learning_rate: 0.005949905799153901<br>batch_size: 2060<br>activation: LeakyReLU<br><b>Objective Value: 0.0022391047328710555</b>",
          "Trial #9<br>nlayers: 6<br>hidden_size: 1<br>optimizer_name: SGD<br>learning_rate: 0.006511673013711062<br>batch_size: 2767<br>activation: PReLU<br><b>Objective Value: 0.00198307938747213</b>"
         ],
         "marker": {
          "color": [
           "rgb(218.0, 55.0, 42.0)",
           "rgb(254.0, 238.0, 165.0)",
           "rgb(165.0, 0.0, 38.0)",
           "rgb(246.0, 123.0, 74.0)",
           "rgb(253.0, 191.0, 113.0)",
           "rgb(238.0, 248.0, 223.0)",
           "rgb(49.0, 54.0, 149.0)",
           "rgb(189.0, 226.0, 238.0)",
           "rgb(128.0, 183.0, 214.0)",
           "rgb(74.0, 123.0, 183.0)"
          ],
          "line": {
           "color": "Grey",
           "width": 0.5
          }
         },
         "mode": "markers",
         "showlegend": false,
         "type": "scatter",
         "x": [
          "SGD",
          "RMSprop",
          "SGD",
          "SGD",
          "RMSprop",
          "SGD",
          "RMSprop",
          "SGD",
          "SGD",
          "SGD"
         ],
         "xaxis": "x36",
         "y": [
          "SGD",
          "RMSprop",
          "SGD",
          "SGD",
          "RMSprop",
          "SGD",
          "RMSprop",
          "SGD",
          "SGD",
          "SGD"
         ],
         "yaxis": "y36"
        },
        {
         "hoverinfo": "none",
         "marker": {
          "cmax": 1,
          "cmin": 0,
          "colorbar": {
           "thickness": 10,
           "ticktext": [
            "min. (0.00167371)",
            "25% (0.00225808)",
            "50% (0.00482041)",
            "75% (0.00872661)",
            "max. (0.0313635)"
           ],
           "tickvals": [
            0,
            0.25,
            0.5,
            0.75,
            1
           ]
          },
          "colorscale": [
           [
            0,
            "rgb(49,54,149)"
           ],
           [
            0.1,
            "rgb(69,117,180)"
           ],
           [
            0.2,
            "rgb(116,173,209)"
           ],
           [
            0.3,
            "rgb(171,217,233)"
           ],
           [
            0.4,
            "rgb(224,243,248)"
           ],
           [
            0.5,
            "rgb(255,255,191)"
           ],
           [
            0.6,
            "rgb(254,224,144)"
           ],
           [
            0.7,
            "rgb(253,174,97)"
           ],
           [
            0.8,
            "rgb(244,109,67)"
           ],
           [
            0.9,
            "rgb(215,48,39)"
           ],
           [
            1,
            "rgb(165,0,38)"
           ]
          ],
          "showscale": true
         },
         "mode": "markers",
         "showlegend": false,
         "type": "scatter",
         "x": [
          null
         ],
         "y": [
          null
         ]
        }
       ],
       "layout": {
        "autosize": true,
        "template": {
         "data": {
          "bar": [
           {
            "error_x": {
             "color": "#2a3f5f"
            },
            "error_y": {
             "color": "#2a3f5f"
            },
            "marker": {
             "line": {
              "color": "#E5ECF6",
              "width": 0.5
             },
             "pattern": {
              "fillmode": "overlay",
              "size": 10,
              "solidity": 0.2
             }
            },
            "type": "bar"
           }
          ],
          "barpolar": [
           {
            "marker": {
             "line": {
              "color": "#E5ECF6",
              "width": 0.5
             },
             "pattern": {
              "fillmode": "overlay",
              "size": 10,
              "solidity": 0.2
             }
            },
            "type": "barpolar"
           }
          ],
          "carpet": [
           {
            "aaxis": {
             "endlinecolor": "#2a3f5f",
             "gridcolor": "white",
             "linecolor": "white",
             "minorgridcolor": "white",
             "startlinecolor": "#2a3f5f"
            },
            "baxis": {
             "endlinecolor": "#2a3f5f",
             "gridcolor": "white",
             "linecolor": "white",
             "minorgridcolor": "white",
             "startlinecolor": "#2a3f5f"
            },
            "type": "carpet"
           }
          ],
          "choropleth": [
           {
            "colorbar": {
             "outlinewidth": 0,
             "ticks": ""
            },
            "type": "choropleth"
           }
          ],
          "contour": [
           {
            "colorbar": {
             "outlinewidth": 0,
             "ticks": ""
            },
            "colorscale": [
             [
              0,
              "#0d0887"
             ],
             [
              0.1111111111111111,
              "#46039f"
             ],
             [
              0.2222222222222222,
              "#7201a8"
             ],
             [
              0.3333333333333333,
              "#9c179e"
             ],
             [
              0.4444444444444444,
              "#bd3786"
             ],
             [
              0.5555555555555556,
              "#d8576b"
             ],
             [
              0.6666666666666666,
              "#ed7953"
             ],
             [
              0.7777777777777778,
              "#fb9f3a"
             ],
             [
              0.8888888888888888,
              "#fdca26"
             ],
             [
              1,
              "#f0f921"
             ]
            ],
            "type": "contour"
           }
          ],
          "contourcarpet": [
           {
            "colorbar": {
             "outlinewidth": 0,
             "ticks": ""
            },
            "type": "contourcarpet"
           }
          ],
          "heatmap": [
           {
            "colorbar": {
             "outlinewidth": 0,
             "ticks": ""
            },
            "colorscale": [
             [
              0,
              "#0d0887"
             ],
             [
              0.1111111111111111,
              "#46039f"
             ],
             [
              0.2222222222222222,
              "#7201a8"
             ],
             [
              0.3333333333333333,
              "#9c179e"
             ],
             [
              0.4444444444444444,
              "#bd3786"
             ],
             [
              0.5555555555555556,
              "#d8576b"
             ],
             [
              0.6666666666666666,
              "#ed7953"
             ],
             [
              0.7777777777777778,
              "#fb9f3a"
             ],
             [
              0.8888888888888888,
              "#fdca26"
             ],
             [
              1,
              "#f0f921"
             ]
            ],
            "type": "heatmap"
           }
          ],
          "heatmapgl": [
           {
            "colorbar": {
             "outlinewidth": 0,
             "ticks": ""
            },
            "colorscale": [
             [
              0,
              "#0d0887"
             ],
             [
              0.1111111111111111,
              "#46039f"
             ],
             [
              0.2222222222222222,
              "#7201a8"
             ],
             [
              0.3333333333333333,
              "#9c179e"
             ],
             [
              0.4444444444444444,
              "#bd3786"
             ],
             [
              0.5555555555555556,
              "#d8576b"
             ],
             [
              0.6666666666666666,
              "#ed7953"
             ],
             [
              0.7777777777777778,
              "#fb9f3a"
             ],
             [
              0.8888888888888888,
              "#fdca26"
             ],
             [
              1,
              "#f0f921"
             ]
            ],
            "type": "heatmapgl"
           }
          ],
          "histogram": [
           {
            "marker": {
             "pattern": {
              "fillmode": "overlay",
              "size": 10,
              "solidity": 0.2
             }
            },
            "type": "histogram"
           }
          ],
          "histogram2d": [
           {
            "colorbar": {
             "outlinewidth": 0,
             "ticks": ""
            },
            "colorscale": [
             [
              0,
              "#0d0887"
             ],
             [
              0.1111111111111111,
              "#46039f"
             ],
             [
              0.2222222222222222,
              "#7201a8"
             ],
             [
              0.3333333333333333,
              "#9c179e"
             ],
             [
              0.4444444444444444,
              "#bd3786"
             ],
             [
              0.5555555555555556,
              "#d8576b"
             ],
             [
              0.6666666666666666,
              "#ed7953"
             ],
             [
              0.7777777777777778,
              "#fb9f3a"
             ],
             [
              0.8888888888888888,
              "#fdca26"
             ],
             [
              1,
              "#f0f921"
             ]
            ],
            "type": "histogram2d"
           }
          ],
          "histogram2dcontour": [
           {
            "colorbar": {
             "outlinewidth": 0,
             "ticks": ""
            },
            "colorscale": [
             [
              0,
              "#0d0887"
             ],
             [
              0.1111111111111111,
              "#46039f"
             ],
             [
              0.2222222222222222,
              "#7201a8"
             ],
             [
              0.3333333333333333,
              "#9c179e"
             ],
             [
              0.4444444444444444,
              "#bd3786"
             ],
             [
              0.5555555555555556,
              "#d8576b"
             ],
             [
              0.6666666666666666,
              "#ed7953"
             ],
             [
              0.7777777777777778,
              "#fb9f3a"
             ],
             [
              0.8888888888888888,
              "#fdca26"
             ],
             [
              1,
              "#f0f921"
             ]
            ],
            "type": "histogram2dcontour"
           }
          ],
          "mesh3d": [
           {
            "colorbar": {
             "outlinewidth": 0,
             "ticks": ""
            },
            "type": "mesh3d"
           }
          ],
          "parcoords": [
           {
            "line": {
             "colorbar": {
              "outlinewidth": 0,
              "ticks": ""
             }
            },
            "type": "parcoords"
           }
          ],
          "pie": [
           {
            "automargin": true,
            "type": "pie"
           }
          ],
          "scatter": [
           {
            "fillpattern": {
             "fillmode": "overlay",
             "size": 10,
             "solidity": 0.2
            },
            "type": "scatter"
           }
          ],
          "scatter3d": [
           {
            "line": {
             "colorbar": {
              "outlinewidth": 0,
              "ticks": ""
             }
            },
            "marker": {
             "colorbar": {
              "outlinewidth": 0,
              "ticks": ""
             }
            },
            "type": "scatter3d"
           }
          ],
          "scattercarpet": [
           {
            "marker": {
             "colorbar": {
              "outlinewidth": 0,
              "ticks": ""
             }
            },
            "type": "scattercarpet"
           }
          ],
          "scattergeo": [
           {
            "marker": {
             "colorbar": {
              "outlinewidth": 0,
              "ticks": ""
             }
            },
            "type": "scattergeo"
           }
          ],
          "scattergl": [
           {
            "marker": {
             "colorbar": {
              "outlinewidth": 0,
              "ticks": ""
             }
            },
            "type": "scattergl"
           }
          ],
          "scattermapbox": [
           {
            "marker": {
             "colorbar": {
              "outlinewidth": 0,
              "ticks": ""
             }
            },
            "type": "scattermapbox"
           }
          ],
          "scatterpolar": [
           {
            "marker": {
             "colorbar": {
              "outlinewidth": 0,
              "ticks": ""
             }
            },
            "type": "scatterpolar"
           }
          ],
          "scatterpolargl": [
           {
            "marker": {
             "colorbar": {
              "outlinewidth": 0,
              "ticks": ""
             }
            },
            "type": "scatterpolargl"
           }
          ],
          "scatterternary": [
           {
            "marker": {
             "colorbar": {
              "outlinewidth": 0,
              "ticks": ""
             }
            },
            "type": "scatterternary"
           }
          ],
          "surface": [
           {
            "colorbar": {
             "outlinewidth": 0,
             "ticks": ""
            },
            "colorscale": [
             [
              0,
              "#0d0887"
             ],
             [
              0.1111111111111111,
              "#46039f"
             ],
             [
              0.2222222222222222,
              "#7201a8"
             ],
             [
              0.3333333333333333,
              "#9c179e"
             ],
             [
              0.4444444444444444,
              "#bd3786"
             ],
             [
              0.5555555555555556,
              "#d8576b"
             ],
             [
              0.6666666666666666,
              "#ed7953"
             ],
             [
              0.7777777777777778,
              "#fb9f3a"
             ],
             [
              0.8888888888888888,
              "#fdca26"
             ],
             [
              1,
              "#f0f921"
             ]
            ],
            "type": "surface"
           }
          ],
          "table": [
           {
            "cells": {
             "fill": {
              "color": "#EBF0F8"
             },
             "line": {
              "color": "white"
             }
            },
            "header": {
             "fill": {
              "color": "#C8D4E3"
             },
             "line": {
              "color": "white"
             }
            },
            "type": "table"
           }
          ]
         },
         "layout": {
          "annotationdefaults": {
           "arrowcolor": "#2a3f5f",
           "arrowhead": 0,
           "arrowwidth": 1
          },
          "autotypenumbers": "strict",
          "coloraxis": {
           "colorbar": {
            "outlinewidth": 0,
            "ticks": ""
           }
          },
          "colorscale": {
           "diverging": [
            [
             0,
             "#8e0152"
            ],
            [
             0.1,
             "#c51b7d"
            ],
            [
             0.2,
             "#de77ae"
            ],
            [
             0.3,
             "#f1b6da"
            ],
            [
             0.4,
             "#fde0ef"
            ],
            [
             0.5,
             "#f7f7f7"
            ],
            [
             0.6,
             "#e6f5d0"
            ],
            [
             0.7,
             "#b8e186"
            ],
            [
             0.8,
             "#7fbc41"
            ],
            [
             0.9,
             "#4d9221"
            ],
            [
             1,
             "#276419"
            ]
           ],
           "sequential": [
            [
             0,
             "#0d0887"
            ],
            [
             0.1111111111111111,
             "#46039f"
            ],
            [
             0.2222222222222222,
             "#7201a8"
            ],
            [
             0.3333333333333333,
             "#9c179e"
            ],
            [
             0.4444444444444444,
             "#bd3786"
            ],
            [
             0.5555555555555556,
             "#d8576b"
            ],
            [
             0.6666666666666666,
             "#ed7953"
            ],
            [
             0.7777777777777778,
             "#fb9f3a"
            ],
            [
             0.8888888888888888,
             "#fdca26"
            ],
            [
             1,
             "#f0f921"
            ]
           ],
           "sequentialminus": [
            [
             0,
             "#0d0887"
            ],
            [
             0.1111111111111111,
             "#46039f"
            ],
            [
             0.2222222222222222,
             "#7201a8"
            ],
            [
             0.3333333333333333,
             "#9c179e"
            ],
            [
             0.4444444444444444,
             "#bd3786"
            ],
            [
             0.5555555555555556,
             "#d8576b"
            ],
            [
             0.6666666666666666,
             "#ed7953"
            ],
            [
             0.7777777777777778,
             "#fb9f3a"
            ],
            [
             0.8888888888888888,
             "#fdca26"
            ],
            [
             1,
             "#f0f921"
            ]
           ]
          },
          "colorway": [
           "#636efa",
           "#EF553B",
           "#00cc96",
           "#ab63fa",
           "#FFA15A",
           "#19d3f3",
           "#FF6692",
           "#B6E880",
           "#FF97FF",
           "#FECB52"
          ],
          "font": {
           "color": "#2a3f5f"
          },
          "geo": {
           "bgcolor": "white",
           "lakecolor": "white",
           "landcolor": "#E5ECF6",
           "showlakes": true,
           "showland": true,
           "subunitcolor": "white"
          },
          "hoverlabel": {
           "align": "left"
          },
          "hovermode": "closest",
          "mapbox": {
           "style": "light"
          },
          "paper_bgcolor": "white",
          "plot_bgcolor": "#E5ECF6",
          "polar": {
           "angularaxis": {
            "gridcolor": "white",
            "linecolor": "white",
            "ticks": ""
           },
           "bgcolor": "#E5ECF6",
           "radialaxis": {
            "gridcolor": "white",
            "linecolor": "white",
            "ticks": ""
           }
          },
          "scene": {
           "xaxis": {
            "backgroundcolor": "#E5ECF6",
            "gridcolor": "white",
            "gridwidth": 2,
            "linecolor": "white",
            "showbackground": true,
            "ticks": "",
            "zerolinecolor": "white"
           },
           "yaxis": {
            "backgroundcolor": "#E5ECF6",
            "gridcolor": "white",
            "gridwidth": 2,
            "linecolor": "white",
            "showbackground": true,
            "ticks": "",
            "zerolinecolor": "white"
           },
           "zaxis": {
            "backgroundcolor": "#E5ECF6",
            "gridcolor": "white",
            "gridwidth": 2,
            "linecolor": "white",
            "showbackground": true,
            "ticks": "",
            "zerolinecolor": "white"
           }
          },
          "shapedefaults": {
           "line": {
            "color": "#2a3f5f"
           }
          },
          "ternary": {
           "aaxis": {
            "gridcolor": "white",
            "linecolor": "white",
            "ticks": ""
           },
           "baxis": {
            "gridcolor": "white",
            "linecolor": "white",
            "ticks": ""
           },
           "bgcolor": "#E5ECF6",
           "caxis": {
            "gridcolor": "white",
            "linecolor": "white",
            "ticks": ""
           }
          },
          "title": {
           "x": 0.05
          },
          "xaxis": {
           "automargin": true,
           "gridcolor": "white",
           "linecolor": "white",
           "ticks": "",
           "title": {
            "standoff": 15
           },
           "zerolinecolor": "white",
           "zerolinewidth": 2
          },
          "yaxis": {
           "automargin": true,
           "gridcolor": "white",
           "linecolor": "white",
           "ticks": "",
           "title": {
            "standoff": 15
           },
           "zerolinecolor": "white",
           "zerolinewidth": 2
          }
         }
        },
        "title": {
         "text": "Rank (Objective Value)"
        },
        "xaxis": {
         "anchor": "y",
         "domain": [
          0,
          0.15555555555555556
         ],
         "matches": "x31",
         "range": [
          -0.05,
          1.05
         ],
         "showticklabels": false,
         "type": "category"
        },
        "xaxis10": {
         "anchor": "y10",
         "domain": [
          0.5066666666666667,
          0.6622222222222223
         ],
         "matches": "x34",
         "range": [
          0.0013141625093110358,
          0.009929109067158272
         ],
         "showticklabels": false,
         "type": "linear"
        },
        "xaxis11": {
         "anchor": "y11",
         "domain": [
          0.6755555555555556,
          0.8311111111111111
         ],
         "matches": "x35",
         "range": [
          0.75,
          6.25
         ],
         "showticklabels": false,
         "type": "linear"
        },
        "xaxis12": {
         "anchor": "y12",
         "domain": [
          0.8444444444444444,
          1
         ],
         "matches": "x36",
         "range": [
          -0.05,
          1.05
         ],
         "showticklabels": false,
         "type": "category"
        },
        "xaxis13": {
         "anchor": "y13",
         "domain": [
          0,
          0.15555555555555556
         ],
         "matches": "x31",
         "range": [
          -0.05,
          1.05
         ],
         "showticklabels": false,
         "type": "category"
        },
        "xaxis14": {
         "anchor": "y14",
         "domain": [
          0.1688888888888889,
          0.3244444444444444
         ],
         "matches": "x32",
         "range": [
          398.2,
          2879.8
         ],
         "showticklabels": false,
         "type": "linear"
        },
        "xaxis15": {
         "anchor": "y15",
         "domain": [
          0.3377777777777778,
          0.49333333333333335
         ],
         "matches": "x33",
         "range": [
          -1.8000000000000003,
          59.8
         ],
         "showticklabels": false,
         "type": "linear"
        },
        "xaxis16": {
         "anchor": "y16",
         "domain": [
          0.5066666666666667,
          0.6622222222222223
         ],
         "matches": "x34",
         "range": [
          0.0013141625093110358,
          0.009929109067158272
         ],
         "showticklabels": false,
         "type": "linear"
        },
        "xaxis17": {
         "anchor": "y17",
         "domain": [
          0.6755555555555556,
          0.8311111111111111
         ],
         "matches": "x35",
         "range": [
          0.75,
          6.25
         ],
         "showticklabels": false,
         "type": "linear"
        },
        "xaxis18": {
         "anchor": "y18",
         "domain": [
          0.8444444444444444,
          1
         ],
         "matches": "x36",
         "range": [
          -0.05,
          1.05
         ],
         "showticklabels": false,
         "type": "category"
        },
        "xaxis19": {
         "anchor": "y19",
         "domain": [
          0,
          0.15555555555555556
         ],
         "matches": "x31",
         "range": [
          -0.05,
          1.05
         ],
         "showticklabels": false,
         "type": "category"
        },
        "xaxis2": {
         "anchor": "y2",
         "domain": [
          0.1688888888888889,
          0.3244444444444444
         ],
         "matches": "x32",
         "range": [
          398.2,
          2879.8
         ],
         "showticklabels": false,
         "type": "linear"
        },
        "xaxis20": {
         "anchor": "y20",
         "domain": [
          0.1688888888888889,
          0.3244444444444444
         ],
         "matches": "x32",
         "range": [
          398.2,
          2879.8
         ],
         "showticklabels": false,
         "type": "linear"
        },
        "xaxis21": {
         "anchor": "y21",
         "domain": [
          0.3377777777777778,
          0.49333333333333335
         ],
         "matches": "x33",
         "range": [
          -1.8000000000000003,
          59.8
         ],
         "showticklabels": false,
         "type": "linear"
        },
        "xaxis22": {
         "anchor": "y22",
         "domain": [
          0.5066666666666667,
          0.6622222222222223
         ],
         "matches": "x34",
         "range": [
          0.0013141625093110358,
          0.009929109067158272
         ],
         "showticklabels": false,
         "type": "linear"
        },
        "xaxis23": {
         "anchor": "y23",
         "domain": [
          0.6755555555555556,
          0.8311111111111111
         ],
         "matches": "x35",
         "range": [
          0.75,
          6.25
         ],
         "showticklabels": false,
         "type": "linear"
        },
        "xaxis24": {
         "anchor": "y24",
         "domain": [
          0.8444444444444444,
          1
         ],
         "matches": "x36",
         "range": [
          -0.05,
          1.05
         ],
         "showticklabels": false,
         "type": "category"
        },
        "xaxis25": {
         "anchor": "y25",
         "domain": [
          0,
          0.15555555555555556
         ],
         "matches": "x31",
         "range": [
          -0.05,
          1.05
         ],
         "showticklabels": false,
         "type": "category"
        },
        "xaxis26": {
         "anchor": "y26",
         "domain": [
          0.1688888888888889,
          0.3244444444444444
         ],
         "matches": "x32",
         "range": [
          398.2,
          2879.8
         ],
         "showticklabels": false,
         "type": "linear"
        },
        "xaxis27": {
         "anchor": "y27",
         "domain": [
          0.3377777777777778,
          0.49333333333333335
         ],
         "matches": "x33",
         "range": [
          -1.8000000000000003,
          59.8
         ],
         "showticklabels": false,
         "type": "linear"
        },
        "xaxis28": {
         "anchor": "y28",
         "domain": [
          0.5066666666666667,
          0.6622222222222223
         ],
         "matches": "x34",
         "range": [
          0.0013141625093110358,
          0.009929109067158272
         ],
         "showticklabels": false,
         "type": "linear"
        },
        "xaxis29": {
         "anchor": "y29",
         "domain": [
          0.6755555555555556,
          0.8311111111111111
         ],
         "matches": "x35",
         "range": [
          0.75,
          6.25
         ],
         "showticklabels": false,
         "type": "linear"
        },
        "xaxis3": {
         "anchor": "y3",
         "domain": [
          0.3377777777777778,
          0.49333333333333335
         ],
         "matches": "x33",
         "range": [
          -1.8000000000000003,
          59.8
         ],
         "showticklabels": false,
         "type": "linear"
        },
        "xaxis30": {
         "anchor": "y30",
         "domain": [
          0.8444444444444444,
          1
         ],
         "matches": "x36",
         "range": [
          -0.05,
          1.05
         ],
         "showticklabels": false,
         "type": "category"
        },
        "xaxis31": {
         "anchor": "y31",
         "domain": [
          0,
          0.15555555555555556
         ],
         "range": [
          -0.05,
          1.05
         ],
         "title": {
          "text": "activation"
         },
         "type": "category"
        },
        "xaxis32": {
         "anchor": "y32",
         "domain": [
          0.1688888888888889,
          0.3244444444444444
         ],
         "range": [
          398.2,
          2879.8
         ],
         "title": {
          "text": "batch_size"
         },
         "type": "linear"
        },
        "xaxis33": {
         "anchor": "y33",
         "domain": [
          0.3377777777777778,
          0.49333333333333335
         ],
         "range": [
          -1.8000000000000003,
          59.8
         ],
         "title": {
          "text": "hidden_size"
         },
         "type": "linear"
        },
        "xaxis34": {
         "anchor": "y34",
         "domain": [
          0.5066666666666667,
          0.6622222222222223
         ],
         "range": [
          0.0013141625093110358,
          0.009929109067158272
         ],
         "title": {
          "text": "learning_rate"
         },
         "type": "linear"
        },
        "xaxis35": {
         "anchor": "y35",
         "domain": [
          0.6755555555555556,
          0.8311111111111111
         ],
         "range": [
          0.75,
          6.25
         ],
         "title": {
          "text": "nlayers"
         },
         "type": "linear"
        },
        "xaxis36": {
         "anchor": "y36",
         "domain": [
          0.8444444444444444,
          1
         ],
         "range": [
          -0.05,
          1.05
         ],
         "title": {
          "text": "optimizer_name"
         },
         "type": "category"
        },
        "xaxis4": {
         "anchor": "y4",
         "domain": [
          0.5066666666666667,
          0.6622222222222223
         ],
         "matches": "x34",
         "range": [
          0.0013141625093110358,
          0.009929109067158272
         ],
         "showticklabels": false,
         "type": "linear"
        },
        "xaxis5": {
         "anchor": "y5",
         "domain": [
          0.6755555555555556,
          0.8311111111111111
         ],
         "matches": "x35",
         "range": [
          0.75,
          6.25
         ],
         "showticklabels": false,
         "type": "linear"
        },
        "xaxis6": {
         "anchor": "y6",
         "domain": [
          0.8444444444444444,
          1
         ],
         "matches": "x36",
         "range": [
          -0.05,
          1.05
         ],
         "showticklabels": false,
         "type": "category"
        },
        "xaxis7": {
         "anchor": "y7",
         "domain": [
          0,
          0.15555555555555556
         ],
         "matches": "x31",
         "range": [
          -0.05,
          1.05
         ],
         "showticklabels": false,
         "type": "category"
        },
        "xaxis8": {
         "anchor": "y8",
         "domain": [
          0.1688888888888889,
          0.3244444444444444
         ],
         "matches": "x32",
         "range": [
          398.2,
          2879.8
         ],
         "showticklabels": false,
         "type": "linear"
        },
        "xaxis9": {
         "anchor": "y9",
         "domain": [
          0.3377777777777778,
          0.49333333333333335
         ],
         "matches": "x33",
         "range": [
          -1.8000000000000003,
          59.8
         ],
         "showticklabels": false,
         "type": "linear"
        },
        "yaxis": {
         "anchor": "x",
         "domain": [
          0.8444444444444444,
          1
         ],
         "range": [
          -0.05,
          1.05
         ],
         "title": {
          "text": "activation"
         },
         "type": "category"
        },
        "yaxis10": {
         "anchor": "x10",
         "domain": [
          0.6755555555555556,
          0.8311111111111111
         ],
         "matches": "y7",
         "range": [
          398.2,
          2879.8
         ],
         "showticklabels": false,
         "type": "linear"
        },
        "yaxis11": {
         "anchor": "x11",
         "domain": [
          0.6755555555555556,
          0.8311111111111111
         ],
         "matches": "y7",
         "range": [
          398.2,
          2879.8
         ],
         "showticklabels": false,
         "type": "linear"
        },
        "yaxis12": {
         "anchor": "x12",
         "domain": [
          0.6755555555555556,
          0.8311111111111111
         ],
         "matches": "y7",
         "range": [
          398.2,
          2879.8
         ],
         "showticklabels": false,
         "type": "linear"
        },
        "yaxis13": {
         "anchor": "x13",
         "domain": [
          0.5066666666666667,
          0.6622222222222223
         ],
         "range": [
          -1.8000000000000003,
          59.8
         ],
         "title": {
          "text": "hidden_size"
         },
         "type": "linear"
        },
        "yaxis14": {
         "anchor": "x14",
         "domain": [
          0.5066666666666667,
          0.6622222222222223
         ],
         "matches": "y13",
         "range": [
          -1.8000000000000003,
          59.8
         ],
         "showticklabels": false,
         "type": "linear"
        },
        "yaxis15": {
         "anchor": "x15",
         "domain": [
          0.5066666666666667,
          0.6622222222222223
         ],
         "matches": "y13",
         "range": [
          -1.8000000000000003,
          59.8
         ],
         "showticklabels": false,
         "type": "linear"
        },
        "yaxis16": {
         "anchor": "x16",
         "domain": [
          0.5066666666666667,
          0.6622222222222223
         ],
         "matches": "y13",
         "range": [
          -1.8000000000000003,
          59.8
         ],
         "showticklabels": false,
         "type": "linear"
        },
        "yaxis17": {
         "anchor": "x17",
         "domain": [
          0.5066666666666667,
          0.6622222222222223
         ],
         "matches": "y13",
         "range": [
          -1.8000000000000003,
          59.8
         ],
         "showticklabels": false,
         "type": "linear"
        },
        "yaxis18": {
         "anchor": "x18",
         "domain": [
          0.5066666666666667,
          0.6622222222222223
         ],
         "matches": "y13",
         "range": [
          -1.8000000000000003,
          59.8
         ],
         "showticklabels": false,
         "type": "linear"
        },
        "yaxis19": {
         "anchor": "x19",
         "domain": [
          0.3377777777777778,
          0.49333333333333335
         ],
         "range": [
          0.0013141625093110358,
          0.009929109067158272
         ],
         "title": {
          "text": "learning_rate"
         },
         "type": "linear"
        },
        "yaxis2": {
         "anchor": "x2",
         "domain": [
          0.8444444444444444,
          1
         ],
         "matches": "y",
         "range": [
          -0.05,
          1.05
         ],
         "showticklabels": false,
         "type": "category"
        },
        "yaxis20": {
         "anchor": "x20",
         "domain": [
          0.3377777777777778,
          0.49333333333333335
         ],
         "matches": "y19",
         "range": [
          0.0013141625093110358,
          0.009929109067158272
         ],
         "showticklabels": false,
         "type": "linear"
        },
        "yaxis21": {
         "anchor": "x21",
         "domain": [
          0.3377777777777778,
          0.49333333333333335
         ],
         "matches": "y19",
         "range": [
          0.0013141625093110358,
          0.009929109067158272
         ],
         "showticklabels": false,
         "type": "linear"
        },
        "yaxis22": {
         "anchor": "x22",
         "domain": [
          0.3377777777777778,
          0.49333333333333335
         ],
         "matches": "y19",
         "range": [
          0.0013141625093110358,
          0.009929109067158272
         ],
         "showticklabels": false,
         "type": "linear"
        },
        "yaxis23": {
         "anchor": "x23",
         "domain": [
          0.3377777777777778,
          0.49333333333333335
         ],
         "matches": "y19",
         "range": [
          0.0013141625093110358,
          0.009929109067158272
         ],
         "showticklabels": false,
         "type": "linear"
        },
        "yaxis24": {
         "anchor": "x24",
         "domain": [
          0.3377777777777778,
          0.49333333333333335
         ],
         "matches": "y19",
         "range": [
          0.0013141625093110358,
          0.009929109067158272
         ],
         "showticklabels": false,
         "type": "linear"
        },
        "yaxis25": {
         "anchor": "x25",
         "domain": [
          0.1688888888888889,
          0.3244444444444444
         ],
         "range": [
          0.75,
          6.25
         ],
         "title": {
          "text": "nlayers"
         },
         "type": "linear"
        },
        "yaxis26": {
         "anchor": "x26",
         "domain": [
          0.1688888888888889,
          0.3244444444444444
         ],
         "matches": "y25",
         "range": [
          0.75,
          6.25
         ],
         "showticklabels": false,
         "type": "linear"
        },
        "yaxis27": {
         "anchor": "x27",
         "domain": [
          0.1688888888888889,
          0.3244444444444444
         ],
         "matches": "y25",
         "range": [
          0.75,
          6.25
         ],
         "showticklabels": false,
         "type": "linear"
        },
        "yaxis28": {
         "anchor": "x28",
         "domain": [
          0.1688888888888889,
          0.3244444444444444
         ],
         "matches": "y25",
         "range": [
          0.75,
          6.25
         ],
         "showticklabels": false,
         "type": "linear"
        },
        "yaxis29": {
         "anchor": "x29",
         "domain": [
          0.1688888888888889,
          0.3244444444444444
         ],
         "matches": "y25",
         "range": [
          0.75,
          6.25
         ],
         "showticklabels": false,
         "type": "linear"
        },
        "yaxis3": {
         "anchor": "x3",
         "domain": [
          0.8444444444444444,
          1
         ],
         "matches": "y",
         "range": [
          -0.05,
          1.05
         ],
         "showticklabels": false,
         "type": "category"
        },
        "yaxis30": {
         "anchor": "x30",
         "domain": [
          0.1688888888888889,
          0.3244444444444444
         ],
         "matches": "y25",
         "range": [
          0.75,
          6.25
         ],
         "showticklabels": false,
         "type": "linear"
        },
        "yaxis31": {
         "anchor": "x31",
         "domain": [
          0,
          0.15555555555555556
         ],
         "range": [
          -0.05,
          1.05
         ],
         "title": {
          "text": "optimizer_name"
         },
         "type": "category"
        },
        "yaxis32": {
         "anchor": "x32",
         "domain": [
          0,
          0.15555555555555556
         ],
         "matches": "y31",
         "range": [
          -0.05,
          1.05
         ],
         "showticklabels": false,
         "type": "category"
        },
        "yaxis33": {
         "anchor": "x33",
         "domain": [
          0,
          0.15555555555555556
         ],
         "matches": "y31",
         "range": [
          -0.05,
          1.05
         ],
         "showticklabels": false,
         "type": "category"
        },
        "yaxis34": {
         "anchor": "x34",
         "domain": [
          0,
          0.15555555555555556
         ],
         "matches": "y31",
         "range": [
          -0.05,
          1.05
         ],
         "showticklabels": false,
         "type": "category"
        },
        "yaxis35": {
         "anchor": "x35",
         "domain": [
          0,
          0.15555555555555556
         ],
         "matches": "y31",
         "range": [
          -0.05,
          1.05
         ],
         "showticklabels": false,
         "type": "category"
        },
        "yaxis36": {
         "anchor": "x36",
         "domain": [
          0,
          0.15555555555555556
         ],
         "matches": "y31",
         "range": [
          -0.05,
          1.05
         ],
         "showticklabels": false,
         "type": "category"
        },
        "yaxis4": {
         "anchor": "x4",
         "domain": [
          0.8444444444444444,
          1
         ],
         "matches": "y",
         "range": [
          -0.05,
          1.05
         ],
         "showticklabels": false,
         "type": "category"
        },
        "yaxis5": {
         "anchor": "x5",
         "domain": [
          0.8444444444444444,
          1
         ],
         "matches": "y",
         "range": [
          -0.05,
          1.05
         ],
         "showticklabels": false,
         "type": "category"
        },
        "yaxis6": {
         "anchor": "x6",
         "domain": [
          0.8444444444444444,
          1
         ],
         "matches": "y",
         "range": [
          -0.05,
          1.05
         ],
         "showticklabels": false,
         "type": "category"
        },
        "yaxis7": {
         "anchor": "x7",
         "domain": [
          0.6755555555555556,
          0.8311111111111111
         ],
         "range": [
          398.2,
          2879.8
         ],
         "title": {
          "text": "batch_size"
         },
         "type": "linear"
        },
        "yaxis8": {
         "anchor": "x8",
         "domain": [
          0.6755555555555556,
          0.8311111111111111
         ],
         "matches": "y7",
         "range": [
          398.2,
          2879.8
         ],
         "showticklabels": false,
         "type": "linear"
        },
        "yaxis9": {
         "anchor": "x9",
         "domain": [
          0.6755555555555556,
          0.8311111111111111
         ],
         "matches": "y7",
         "range": [
          398.2,
          2879.8
         ],
         "showticklabels": false,
         "type": "linear"
        }
       }
      },
      "image/png": "[encoded data removed]",
      "text/html": [
       "<div>                            <div id=\"b731fa1b-c6db-4eff-8fbd-eee52903c88e\" class=\"plotly-graph-div\" style=\"height:525px; width:100%;\"></div>            <script type=\"text/javascript\">                require([\"plotly\"], function(Plotly) {                    window.PLOTLYENV=window.PLOTLYENV || {};                                    if (document.getElementById(\"b731fa1b-c6db-4eff-8fbd-eee52903c88e\")) {                    Plotly.newPlot(                        \"b731fa1b-c6db-4eff-8fbd-eee52903c88e\",                        [{\"hovertemplate\":\"%{hovertext}<extra></extra>\",\"hovertext\":[\"Trial #0<br>nlayers: 4<br>hidden_size: 3<br>optimizer_name: SGD<br>learning_rate: 0.004411101706036235<br>batch_size: 670<br>activation: PReLU<br><b>Objective Value: 0.009967890081565772</b>\",\"Trial #1<br>nlayers: 3<br>hidden_size: 57<br>optimizer_name: RMSprop<br>learning_rate: 0.003965332289175691<br>batch_size: 634<br>activation: PReLU<br><b>Objective Value: 0.006631388602196606</b>\",\"Trial #2<br>nlayers: 5<br>hidden_size: 41<br>optimizer_name: SGD<br>learning_rate: 0.001705750989213183<br>batch_size: 511<br>activation: PReLU<br><b>Objective Value: 0.03136351634611589</b>\",\"Trial #3<br>nlayers: 2<br>hidden_size: 57<br>optimizer_name: SGD<br>learning_rate: 0.001839058010253875<br>batch_size: 1206<br>activation: PReLU<br><b>Objective Value: 0.009331022773809101</b>\",\"Trial #4<br>nlayers: 5<br>hidden_size: 1<br>optimizer_name: RMSprop<br>learning_rate: 0.001921553915883699<br>batch_size: 1413<br>activation: PReLU<br><b>Objective Value: 0.0069133908252554084</b>\",\"Trial #5<br>nlayers: 5<br>hidden_size: 41<br>optimizer_name: SGD<br>learning_rate: 0.004248005583275175<br>batch_size: 2016<br>activation: LeakyReLU<br><b>Objective Value: 0.003009425417061836</b>\",\"Trial #6<br>nlayers: 1<br>hidden_size: 48<br>optimizer_name: RMSprop<br>learning_rate: 0.001760534713381132<br>batch_size: 2478<br>activation: PReLU<br><b>Objective Value: 0.0016737091832337984</b>\",\"Trial #7<br>nlayers: 3<br>hidden_size: 8<br>optimizer_name: SGD<br>learning_rate: 0.009537520587256125<br>batch_size: 2001<br>activation: PReLU<br><b>Objective Value: 0.0023150240508155308</b>\",\"Trial #8<br>nlayers: 2<br>hidden_size: 51<br>optimizer_name: SGD<br>learning_rate: 0.005949905799153901<br>batch_size: 2060<br>activation: LeakyReLU<br><b>Objective Value: 0.0022391047328710555</b>\",\"Trial #9<br>nlayers: 6<br>hidden_size: 1<br>optimizer_name: SGD<br>learning_rate: 0.006511673013711062<br>batch_size: 2767<br>activation: PReLU<br><b>Objective Value: 0.00198307938747213</b>\"],\"marker\":{\"color\":[\"rgb(218.0, 55.0, 42.0)\",\"rgb(254.0, 238.0, 165.0)\",\"rgb(165.0, 0.0, 38.0)\",\"rgb(246.0, 123.0, 74.0)\",\"rgb(253.0, 191.0, 113.0)\",\"rgb(238.0, 248.0, 223.0)\",\"rgb(49.0, 54.0, 149.0)\",\"rgb(189.0, 226.0, 238.0)\",\"rgb(128.0, 183.0, 214.0)\",\"rgb(74.0, 123.0, 183.0)\"],\"line\":{\"color\":\"Grey\",\"width\":0.5}},\"mode\":\"markers\",\"showlegend\":false,\"x\":[\"PReLU\",\"PReLU\",\"PReLU\",\"PReLU\",\"PReLU\",\"LeakyReLU\",\"PReLU\",\"PReLU\",\"LeakyReLU\",\"PReLU\"],\"y\":[\"PReLU\",\"PReLU\",\"PReLU\",\"PReLU\",\"PReLU\",\"LeakyReLU\",\"PReLU\",\"PReLU\",\"LeakyReLU\",\"PReLU\"],\"type\":\"scatter\",\"xaxis\":\"x\",\"yaxis\":\"y\"},{\"hovertemplate\":\"%{hovertext}<extra></extra>\",\"hovertext\":[\"Trial #0<br>nlayers: 4<br>hidden_size: 3<br>optimizer_name: SGD<br>learning_rate: 0.004411101706036235<br>batch_size: 670<br>activation: PReLU<br><b>Objective Value: 0.009967890081565772</b>\",\"Trial #1<br>nlayers: 3<br>hidden_size: 57<br>optimizer_name: RMSprop<br>learning_rate: 0.003965332289175691<br>batch_size: 634<br>activation: PReLU<br><b>Objective Value: 0.006631388602196606</b>\",\"Trial #2<br>nlayers: 5<br>hidden_size: 41<br>optimizer_name: SGD<br>learning_rate: 0.001705750989213183<br>batch_size: 511<br>activation: PReLU<br><b>Objective Value: 0.03136351634611589</b>\",\"Trial #3<br>nlayers: 2<br>hidden_size: 57<br>optimizer_name: SGD<br>learning_rate: 0.001839058010253875<br>batch_size: 1206<br>activation: PReLU<br><b>Objective Value: 0.009331022773809101</b>\",\"Trial #4<br>nlayers: 5<br>hidden_size: 1<br>optimizer_name: RMSprop<br>learning_rate: 0.001921553915883699<br>batch_size: 1413<br>activation: PReLU<br><b>Objective Value: 0.0069133908252554084</b>\",\"Trial #5<br>nlayers: 5<br>hidden_size: 41<br>optimizer_name: SGD<br>learning_rate: 0.004248005583275175<br>batch_size: 2016<br>activation: LeakyReLU<br><b>Objective Value: 0.003009425417061836</b>\",\"Trial #6<br>nlayers: 1<br>hidden_size: 48<br>optimizer_name: RMSprop<br>learning_rate: 0.001760534713381132<br>batch_size: 2478<br>activation: PReLU<br><b>Objective Value: 0.0016737091832337984</b>\",\"Trial #7<br>nlayers: 3<br>hidden_size: 8<br>optimizer_name: SGD<br>learning_rate: 0.009537520587256125<br>batch_size: 2001<br>activation: PReLU<br><b>Objective Value: 0.0023150240508155308</b>\",\"Trial #8<br>nlayers: 2<br>hidden_size: 51<br>optimizer_name: SGD<br>learning_rate: 0.005949905799153901<br>batch_size: 2060<br>activation: LeakyReLU<br><b>Objective Value: 0.0022391047328710555</b>\",\"Trial #9<br>nlayers: 6<br>hidden_size: 1<br>optimizer_name: SGD<br>learning_rate: 0.006511673013711062<br>batch_size: 2767<br>activation: PReLU<br><b>Objective Value: 0.00198307938747213</b>\"],\"marker\":{\"color\":[\"rgb(218.0, 55.0, 42.0)\",\"rgb(254.0, 238.0, 165.0)\",\"rgb(165.0, 0.0, 38.0)\",\"rgb(246.0, 123.0, 74.0)\",\"rgb(253.0, 191.0, 113.0)\",\"rgb(238.0, 248.0, 223.0)\",\"rgb(49.0, 54.0, 149.0)\",\"rgb(189.0, 226.0, 238.0)\",\"rgb(128.0, 183.0, 214.0)\",\"rgb(74.0, 123.0, 183.0)\"],\"line\":{\"color\":\"Grey\",\"width\":0.5}},\"mode\":\"markers\",\"showlegend\":false,\"x\":[\"PReLU\",\"PReLU\",\"PReLU\",\"PReLU\",\"PReLU\",\"LeakyReLU\",\"PReLU\",\"PReLU\",\"LeakyReLU\",\"PReLU\"],\"y\":[670,634,511,1206,1413,2016,2478,2001,2060,2767],\"type\":\"scatter\",\"xaxis\":\"x7\",\"yaxis\":\"y7\"},{\"hovertemplate\":\"%{hovertext}<extra></extra>\",\"hovertext\":[\"Trial #0<br>nlayers: 4<br>hidden_size: 3<br>optimizer_name: SGD<br>learning_rate: 0.004411101706036235<br>batch_size: 670<br>activation: PReLU<br><b>Objective Value: 0.009967890081565772</b>\",\"Trial #1<br>nlayers: 3<br>hidden_size: 57<br>optimizer_name: RMSprop<br>learning_rate: 0.003965332289175691<br>batch_size: 634<br>activation: PReLU<br><b>Objective Value: 0.006631388602196606</b>\",\"Trial #2<br>nlayers: 5<br>hidden_size: 41<br>optimizer_name: SGD<br>learning_rate: 0.001705750989213183<br>batch_size: 511<br>activation: PReLU<br><b>Objective Value: 0.03136351634611589</b>\",\"Trial #3<br>nlayers: 2<br>hidden_size: 57<br>optimizer_name: SGD<br>learning_rate: 0.001839058010253875<br>batch_size: 1206<br>activation: PReLU<br><b>Objective Value: 0.009331022773809101</b>\",\"Trial #4<br>nlayers: 5<br>hidden_size: 1<br>optimizer_name: RMSprop<br>learning_rate: 0.001921553915883699<br>batch_size: 1413<br>activation: PReLU<br><b>Objective Value: 0.0069133908252554084</b>\",\"Trial #5<br>nlayers: 5<br>hidden_size: 41<br>optimizer_name: SGD<br>learning_rate: 0.004248005583275175<br>batch_size: 2016<br>activation: LeakyReLU<br><b>Objective Value: 0.003009425417061836</b>\",\"Trial #6<br>nlayers: 1<br>hidden_size: 48<br>optimizer_name: RMSprop<br>learning_rate: 0.001760534713381132<br>batch_size: 2478<br>activation: PReLU<br><b>Objective Value: 0.0016737091832337984</b>\",\"Trial #7<br>nlayers: 3<br>hidden_size: 8<br>optimizer_name: SGD<br>learning_rate: 0.009537520587256125<br>batch_size: 2001<br>activation: PReLU<br><b>Objective Value: 0.0023150240508155308</b>\",\"Trial #8<br>nlayers: 2<br>hidden_size: 51<br>optimizer_name: SGD<br>learning_rate: 0.005949905799153901<br>batch_size: 2060<br>activation: LeakyReLU<br><b>Objective Value: 0.0022391047328710555</b>\",\"Trial #9<br>nlayers: 6<br>hidden_size: 1<br>optimizer_name: SGD<br>learning_rate: 0.006511673013711062<br>batch_size: 2767<br>activation: PReLU<br><b>Objective Value: 0.00198307938747213</b>\"],\"marker\":{\"color\":[\"rgb(218.0, 55.0, 42.0)\",\"rgb(254.0, 238.0, 165.0)\",\"rgb(165.0, 0.0, 38.0)\",\"rgb(246.0, 123.0, 74.0)\",\"rgb(253.0, 191.0, 113.0)\",\"rgb(238.0, 248.0, 223.0)\",\"rgb(49.0, 54.0, 149.0)\",\"rgb(189.0, 226.0, 238.0)\",\"rgb(128.0, 183.0, 214.0)\",\"rgb(74.0, 123.0, 183.0)\"],\"line\":{\"color\":\"Grey\",\"width\":0.5}},\"mode\":\"markers\",\"showlegend\":false,\"x\":[\"PReLU\",\"PReLU\",\"PReLU\",\"PReLU\",\"PReLU\",\"LeakyReLU\",\"PReLU\",\"PReLU\",\"LeakyReLU\",\"PReLU\"],\"y\":[3,57,41,57,1,41,48,8,51,1],\"type\":\"scatter\",\"xaxis\":\"x13\",\"yaxis\":\"y13\"},{\"hovertemplate\":\"%{hovertext}<extra></extra>\",\"hovertext\":[\"Trial #0<br>nlayers: 4<br>hidden_size: 3<br>optimizer_name: SGD<br>learning_rate: 0.004411101706036235<br>batch_size: 670<br>activation: PReLU<br><b>Objective Value: 0.009967890081565772</b>\",\"Trial #1<br>nlayers: 3<br>hidden_size: 57<br>optimizer_name: RMSprop<br>learning_rate: 0.003965332289175691<br>batch_size: 634<br>activation: PReLU<br><b>Objective Value: 0.006631388602196606</b>\",\"Trial #2<br>nlayers: 5<br>hidden_size: 41<br>optimizer_name: SGD<br>learning_rate: 0.001705750989213183<br>batch_size: 511<br>activation: PReLU<br><b>Objective Value: 0.03136351634611589</b>\",\"Trial #3<br>nlayers: 2<br>hidden_size: 57<br>optimizer_name: SGD<br>learning_rate: 0.001839058010253875<br>batch_size: 1206<br>activation: PReLU<br><b>Objective Value: 0.009331022773809101</b>\",\"Trial #4<br>nlayers: 5<br>hidden_size: 1<br>optimizer_name: RMSprop<br>learning_rate: 0.001921553915883699<br>batch_size: 1413<br>activation: PReLU<br><b>Objective Value: 0.0069133908252554084</b>\",\"Trial #5<br>nlayers: 5<br>hidden_size: 41<br>optimizer_name: SGD<br>learning_rate: 0.004248005583275175<br>batch_size: 2016<br>activation: LeakyReLU<br><b>Objective Value: 0.003009425417061836</b>\",\"Trial #6<br>nlayers: 1<br>hidden_size: 48<br>optimizer_name: RMSprop<br>learning_rate: 0.001760534713381132<br>batch_size: 2478<br>activation: PReLU<br><b>Objective Value: 0.0016737091832337984</b>\",\"Trial #7<br>nlayers: 3<br>hidden_size: 8<br>optimizer_name: SGD<br>learning_rate: 0.009537520587256125<br>batch_size: 2001<br>activation: PReLU<br><b>Objective Value: 0.0023150240508155308</b>\",\"Trial #8<br>nlayers: 2<br>hidden_size: 51<br>optimizer_name: SGD<br>learning_rate: 0.005949905799153901<br>batch_size: 2060<br>activation: LeakyReLU<br><b>Objective Value: 0.0022391047328710555</b>\",\"Trial #9<br>nlayers: 6<br>hidden_size: 1<br>optimizer_name: SGD<br>learning_rate: 0.006511673013711062<br>batch_size: 2767<br>activation: PReLU<br><b>Objective Value: 0.00198307938747213</b>\"],\"marker\":{\"color\":[\"rgb(218.0, 55.0, 42.0)\",\"rgb(254.0, 238.0, 165.0)\",\"rgb(165.0, 0.0, 38.0)\",\"rgb(246.0, 123.0, 74.0)\",\"rgb(253.0, 191.0, 113.0)\",\"rgb(238.0, 248.0, 223.0)\",\"rgb(49.0, 54.0, 149.0)\",\"rgb(189.0, 226.0, 238.0)\",\"rgb(128.0, 183.0, 214.0)\",\"rgb(74.0, 123.0, 183.0)\"],\"line\":{\"color\":\"Grey\",\"width\":0.5}},\"mode\":\"markers\",\"showlegend\":false,\"x\":[\"PReLU\",\"PReLU\",\"PReLU\",\"PReLU\",\"PReLU\",\"LeakyReLU\",\"PReLU\",\"PReLU\",\"LeakyReLU\",\"PReLU\"],\"y\":[0.004411101706036235,0.003965332289175691,0.001705750989213183,0.001839058010253875,0.001921553915883699,0.004248005583275175,0.001760534713381132,0.009537520587256125,0.005949905799153901,0.006511673013711062],\"type\":\"scatter\",\"xaxis\":\"x19\",\"yaxis\":\"y19\"},{\"hovertemplate\":\"%{hovertext}<extra></extra>\",\"hovertext\":[\"Trial #0<br>nlayers: 4<br>hidden_size: 3<br>optimizer_name: SGD<br>learning_rate: 0.004411101706036235<br>batch_size: 670<br>activation: PReLU<br><b>Objective Value: 0.009967890081565772</b>\",\"Trial #1<br>nlayers: 3<br>hidden_size: 57<br>optimizer_name: RMSprop<br>learning_rate: 0.003965332289175691<br>batch_size: 634<br>activation: PReLU<br><b>Objective Value: 0.006631388602196606</b>\",\"Trial #2<br>nlayers: 5<br>hidden_size: 41<br>optimizer_name: SGD<br>learning_rate: 0.001705750989213183<br>batch_size: 511<br>activation: PReLU<br><b>Objective Value: 0.03136351634611589</b>\",\"Trial #3<br>nlayers: 2<br>hidden_size: 57<br>optimizer_name: SGD<br>learning_rate: 0.001839058010253875<br>batch_size: 1206<br>activation: PReLU<br><b>Objective Value: 0.009331022773809101</b>\",\"Trial #4<br>nlayers: 5<br>hidden_size: 1<br>optimizer_name: RMSprop<br>learning_rate: 0.001921553915883699<br>batch_size: 1413<br>activation: PReLU<br><b>Objective Value: 0.0069133908252554084</b>\",\"Trial #5<br>nlayers: 5<br>hidden_size: 41<br>optimizer_name: SGD<br>learning_rate: 0.004248005583275175<br>batch_size: 2016<br>activation: LeakyReLU<br><b>Objective Value: 0.003009425417061836</b>\",\"Trial #6<br>nlayers: 1<br>hidden_size: 48<br>optimizer_name: RMSprop<br>learning_rate: 0.001760534713381132<br>batch_size: 2478<br>activation: PReLU<br><b>Objective Value: 0.0016737091832337984</b>\",\"Trial #7<br>nlayers: 3<br>hidden_size: 8<br>optimizer_name: SGD<br>learning_rate: 0.009537520587256125<br>batch_size: 2001<br>activation: PReLU<br><b>Objective Value: 0.0023150240508155308</b>\",\"Trial #8<br>nlayers: 2<br>hidden_size: 51<br>optimizer_name: SGD<br>learning_rate: 0.005949905799153901<br>batch_size: 2060<br>activation: LeakyReLU<br><b>Objective Value: 0.0022391047328710555</b>\",\"Trial #9<br>nlayers: 6<br>hidden_size: 1<br>optimizer_name: SGD<br>learning_rate: 0.006511673013711062<br>batch_size: 2767<br>activation: PReLU<br><b>Objective Value: 0.00198307938747213</b>\"],\"marker\":{\"color\":[\"rgb(218.0, 55.0, 42.0)\",\"rgb(254.0, 238.0, 165.0)\",\"rgb(165.0, 0.0, 38.0)\",\"rgb(246.0, 123.0, 74.0)\",\"rgb(253.0, 191.0, 113.0)\",\"rgb(238.0, 248.0, 223.0)\",\"rgb(49.0, 54.0, 149.0)\",\"rgb(189.0, 226.0, 238.0)\",\"rgb(128.0, 183.0, 214.0)\",\"rgb(74.0, 123.0, 183.0)\"],\"line\":{\"color\":\"Grey\",\"width\":0.5}},\"mode\":\"markers\",\"showlegend\":false,\"x\":[\"PReLU\",\"PReLU\",\"PReLU\",\"PReLU\",\"PReLU\",\"LeakyReLU\",\"PReLU\",\"PReLU\",\"LeakyReLU\",\"PReLU\"],\"y\":[4,3,5,2,5,5,1,3,2,6],\"type\":\"scatter\",\"xaxis\":\"x25\",\"yaxis\":\"y25\"},{\"hovertemplate\":\"%{hovertext}<extra></extra>\",\"hovertext\":[\"Trial #0<br>nlayers: 4<br>hidden_size: 3<br>optimizer_name: SGD<br>learning_rate: 0.004411101706036235<br>batch_size: 670<br>activation: PReLU<br><b>Objective Value: 0.009967890081565772</b>\",\"Trial #1<br>nlayers: 3<br>hidden_size: 57<br>optimizer_name: RMSprop<br>learning_rate: 0.003965332289175691<br>batch_size: 634<br>activation: PReLU<br><b>Objective Value: 0.006631388602196606</b>\",\"Trial #2<br>nlayers: 5<br>hidden_size: 41<br>optimizer_name: SGD<br>learning_rate: 0.001705750989213183<br>batch_size: 511<br>activation: PReLU<br><b>Objective Value: 0.03136351634611589</b>\",\"Trial #3<br>nlayers: 2<br>hidden_size: 57<br>optimizer_name: SGD<br>learning_rate: 0.001839058010253875<br>batch_size: 1206<br>activation: PReLU<br><b>Objective Value: 0.009331022773809101</b>\",\"Trial #4<br>nlayers: 5<br>hidden_size: 1<br>optimizer_name: RMSprop<br>learning_rate: 0.001921553915883699<br>batch_size: 1413<br>activation: PReLU<br><b>Objective Value: 0.0069133908252554084</b>\",\"Trial #5<br>nlayers: 5<br>hidden_size: 41<br>optimizer_name: SGD<br>learning_rate: 0.004248005583275175<br>batch_size: 2016<br>activation: LeakyReLU<br><b>Objective Value: 0.003009425417061836</b>\",\"Trial #6<br>nlayers: 1<br>hidden_size: 48<br>optimizer_name: RMSprop<br>learning_rate: 0.001760534713381132<br>batch_size: 2478<br>activation: PReLU<br><b>Objective Value: 0.0016737091832337984</b>\",\"Trial #7<br>nlayers: 3<br>hidden_size: 8<br>optimizer_name: SGD<br>learning_rate: 0.009537520587256125<br>batch_size: 2001<br>activation: PReLU<br><b>Objective Value: 0.0023150240508155308</b>\",\"Trial #8<br>nlayers: 2<br>hidden_size: 51<br>optimizer_name: SGD<br>learning_rate: 0.005949905799153901<br>batch_size: 2060<br>activation: LeakyReLU<br><b>Objective Value: 0.0022391047328710555</b>\",\"Trial #9<br>nlayers: 6<br>hidden_size: 1<br>optimizer_name: SGD<br>learning_rate: 0.006511673013711062<br>batch_size: 2767<br>activation: PReLU<br><b>Objective Value: 0.00198307938747213</b>\"],\"marker\":{\"color\":[\"rgb(218.0, 55.0, 42.0)\",\"rgb(254.0, 238.0, 165.0)\",\"rgb(165.0, 0.0, 38.0)\",\"rgb(246.0, 123.0, 74.0)\",\"rgb(253.0, 191.0, 113.0)\",\"rgb(238.0, 248.0, 223.0)\",\"rgb(49.0, 54.0, 149.0)\",\"rgb(189.0, 226.0, 238.0)\",\"rgb(128.0, 183.0, 214.0)\",\"rgb(74.0, 123.0, 183.0)\"],\"line\":{\"color\":\"Grey\",\"width\":0.5}},\"mode\":\"markers\",\"showlegend\":false,\"x\":[\"PReLU\",\"PReLU\",\"PReLU\",\"PReLU\",\"PReLU\",\"LeakyReLU\",\"PReLU\",\"PReLU\",\"LeakyReLU\",\"PReLU\"],\"y\":[\"SGD\",\"RMSprop\",\"SGD\",\"SGD\",\"RMSprop\",\"SGD\",\"RMSprop\",\"SGD\",\"SGD\",\"SGD\"],\"type\":\"scatter\",\"xaxis\":\"x31\",\"yaxis\":\"y31\"},{\"hovertemplate\":\"%{hovertext}<extra></extra>\",\"hovertext\":[\"Trial #0<br>nlayers: 4<br>hidden_size: 3<br>optimizer_name: SGD<br>learning_rate: 0.004411101706036235<br>batch_size: 670<br>activation: PReLU<br><b>Objective Value: 0.009967890081565772</b>\",\"Trial #1<br>nlayers: 3<br>hidden_size: 57<br>optimizer_name: RMSprop<br>learning_rate: 0.003965332289175691<br>batch_size: 634<br>activation: PReLU<br><b>Objective Value: 0.006631388602196606</b>\",\"Trial #2<br>nlayers: 5<br>hidden_size: 41<br>optimizer_name: SGD<br>learning_rate: 0.001705750989213183<br>batch_size: 511<br>activation: PReLU<br><b>Objective Value: 0.03136351634611589</b>\",\"Trial #3<br>nlayers: 2<br>hidden_size: 57<br>optimizer_name: SGD<br>learning_rate: 0.001839058010253875<br>batch_size: 1206<br>activation: PReLU<br><b>Objective Value: 0.009331022773809101</b>\",\"Trial #4<br>nlayers: 5<br>hidden_size: 1<br>optimizer_name: RMSprop<br>learning_rate: 0.001921553915883699<br>batch_size: 1413<br>activation: PReLU<br><b>Objective Value: 0.0069133908252554084</b>\",\"Trial #5<br>nlayers: 5<br>hidden_size: 41<br>optimizer_name: SGD<br>learning_rate: 0.004248005583275175<br>batch_size: 2016<br>activation: LeakyReLU<br><b>Objective Value: 0.003009425417061836</b>\",\"Trial #6<br>nlayers: 1<br>hidden_size: 48<br>optimizer_name: RMSprop<br>learning_rate: 0.001760534713381132<br>batch_size: 2478<br>activation: PReLU<br><b>Objective Value: 0.0016737091832337984</b>\",\"Trial #7<br>nlayers: 3<br>hidden_size: 8<br>optimizer_name: SGD<br>learning_rate: 0.009537520587256125<br>batch_size: 2001<br>activation: PReLU<br><b>Objective Value: 0.0023150240508155308</b>\",\"Trial #8<br>nlayers: 2<br>hidden_size: 51<br>optimizer_name: SGD<br>learning_rate: 0.005949905799153901<br>batch_size: 2060<br>activation: LeakyReLU<br><b>Objective Value: 0.0022391047328710555</b>\",\"Trial #9<br>nlayers: 6<br>hidden_size: 1<br>optimizer_name: SGD<br>learning_rate: 0.006511673013711062<br>batch_size: 2767<br>activation: PReLU<br><b>Objective Value: 0.00198307938747213</b>\"],\"marker\":{\"color\":[\"rgb(218.0, 55.0, 42.0)\",\"rgb(254.0, 238.0, 165.0)\",\"rgb(165.0, 0.0, 38.0)\",\"rgb(246.0, 123.0, 74.0)\",\"rgb(253.0, 191.0, 113.0)\",\"rgb(238.0, 248.0, 223.0)\",\"rgb(49.0, 54.0, 149.0)\",\"rgb(189.0, 226.0, 238.0)\",\"rgb(128.0, 183.0, 214.0)\",\"rgb(74.0, 123.0, 183.0)\"],\"line\":{\"color\":\"Grey\",\"width\":0.5}},\"mode\":\"markers\",\"showlegend\":false,\"x\":[670,634,511,1206,1413,2016,2478,2001,2060,2767],\"y\":[\"PReLU\",\"PReLU\",\"PReLU\",\"PReLU\",\"PReLU\",\"LeakyReLU\",\"PReLU\",\"PReLU\",\"LeakyReLU\",\"PReLU\"],\"type\":\"scatter\",\"xaxis\":\"x2\",\"yaxis\":\"y2\"},{\"hovertemplate\":\"%{hovertext}<extra></extra>\",\"hovertext\":[\"Trial #0<br>nlayers: 4<br>hidden_size: 3<br>optimizer_name: SGD<br>learning_rate: 0.004411101706036235<br>batch_size: 670<br>activation: PReLU<br><b>Objective Value: 0.009967890081565772</b>\",\"Trial #1<br>nlayers: 3<br>hidden_size: 57<br>optimizer_name: RMSprop<br>learning_rate: 0.003965332289175691<br>batch_size: 634<br>activation: PReLU<br><b>Objective Value: 0.006631388602196606</b>\",\"Trial #2<br>nlayers: 5<br>hidden_size: 41<br>optimizer_name: SGD<br>learning_rate: 0.001705750989213183<br>batch_size: 511<br>activation: PReLU<br><b>Objective Value: 0.03136351634611589</b>\",\"Trial #3<br>nlayers: 2<br>hidden_size: 57<br>optimizer_name: SGD<br>learning_rate: 0.001839058010253875<br>batch_size: 1206<br>activation: PReLU<br><b>Objective Value: 0.009331022773809101</b>\",\"Trial #4<br>nlayers: 5<br>hidden_size: 1<br>optimizer_name: RMSprop<br>learning_rate: 0.001921553915883699<br>batch_size: 1413<br>activation: PReLU<br><b>Objective Value: 0.0069133908252554084</b>\",\"Trial #5<br>nlayers: 5<br>hidden_size: 41<br>optimizer_name: SGD<br>learning_rate: 0.004248005583275175<br>batch_size: 2016<br>activation: LeakyReLU<br><b>Objective Value: 0.003009425417061836</b>\",\"Trial #6<br>nlayers: 1<br>hidden_size: 48<br>optimizer_name: RMSprop<br>learning_rate: 0.001760534713381132<br>batch_size: 2478<br>activation: PReLU<br><b>Objective Value: 0.0016737091832337984</b>\",\"Trial #7<br>nlayers: 3<br>hidden_size: 8<br>optimizer_name: SGD<br>learning_rate: 0.009537520587256125<br>batch_size: 2001<br>activation: PReLU<br><b>Objective Value: 0.0023150240508155308</b>\",\"Trial #8<br>nlayers: 2<br>hidden_size: 51<br>optimizer_name: SGD<br>learning_rate: 0.005949905799153901<br>batch_size: 2060<br>activation: LeakyReLU<br><b>Objective Value: 0.0022391047328710555</b>\",\"Trial #9<br>nlayers: 6<br>hidden_size: 1<br>optimizer_name: SGD<br>learning_rate: 0.006511673013711062<br>batch_size: 2767<br>activation: PReLU<br><b>Objective Value: 0.00198307938747213</b>\"],\"marker\":{\"color\":[\"rgb(218.0, 55.0, 42.0)\",\"rgb(254.0, 238.0, 165.0)\",\"rgb(165.0, 0.0, 38.0)\",\"rgb(246.0, 123.0, 74.0)\",\"rgb(253.0, 191.0, 113.0)\",\"rgb(238.0, 248.0, 223.0)\",\"rgb(49.0, 54.0, 149.0)\",\"rgb(189.0, 226.0, 238.0)\",\"rgb(128.0, 183.0, 214.0)\",\"rgb(74.0, 123.0, 183.0)\"],\"line\":{\"color\":\"Grey\",\"width\":0.5}},\"mode\":\"markers\",\"showlegend\":false,\"x\":[670,634,511,1206,1413,2016,2478,2001,2060,2767],\"y\":[670,634,511,1206,1413,2016,2478,2001,2060,2767],\"type\":\"scatter\",\"xaxis\":\"x8\",\"yaxis\":\"y8\"},{\"hovertemplate\":\"%{hovertext}<extra></extra>\",\"hovertext\":[\"Trial #0<br>nlayers: 4<br>hidden_size: 3<br>optimizer_name: SGD<br>learning_rate: 0.004411101706036235<br>batch_size: 670<br>activation: PReLU<br><b>Objective Value: 0.009967890081565772</b>\",\"Trial #1<br>nlayers: 3<br>hidden_size: 57<br>optimizer_name: RMSprop<br>learning_rate: 0.003965332289175691<br>batch_size: 634<br>activation: PReLU<br><b>Objective Value: 0.006631388602196606</b>\",\"Trial #2<br>nlayers: 5<br>hidden_size: 41<br>optimizer_name: SGD<br>learning_rate: 0.001705750989213183<br>batch_size: 511<br>activation: PReLU<br><b>Objective Value: 0.03136351634611589</b>\",\"Trial #3<br>nlayers: 2<br>hidden_size: 57<br>optimizer_name: SGD<br>learning_rate: 0.001839058010253875<br>batch_size: 1206<br>activation: PReLU<br><b>Objective Value: 0.009331022773809101</b>\",\"Trial #4<br>nlayers: 5<br>hidden_size: 1<br>optimizer_name: RMSprop<br>learning_rate: 0.001921553915883699<br>batch_size: 1413<br>activation: PReLU<br><b>Objective Value: 0.0069133908252554084</b>\",\"Trial #5<br>nlayers: 5<br>hidden_size: 41<br>optimizer_name: SGD<br>learning_rate: 0.004248005583275175<br>batch_size: 2016<br>activation: LeakyReLU<br><b>Objective Value: 0.003009425417061836</b>\",\"Trial #6<br>nlayers: 1<br>hidden_size: 48<br>optimizer_name: RMSprop<br>learning_rate: 0.001760534713381132<br>batch_size: 2478<br>activation: PReLU<br><b>Objective Value: 0.0016737091832337984</b>\",\"Trial #7<br>nlayers: 3<br>hidden_size: 8<br>optimizer_name: SGD<br>learning_rate: 0.009537520587256125<br>batch_size: 2001<br>activation: PReLU<br><b>Objective Value: 0.0023150240508155308</b>\",\"Trial #8<br>nlayers: 2<br>hidden_size: 51<br>optimizer_name: SGD<br>learning_rate: 0.005949905799153901<br>batch_size: 2060<br>activation: LeakyReLU<br><b>Objective Value: 0.0022391047328710555</b>\",\"Trial #9<br>nlayers: 6<br>hidden_size: 1<br>optimizer_name: SGD<br>learning_rate: 0.006511673013711062<br>batch_size: 2767<br>activation: PReLU<br><b>Objective Value: 0.00198307938747213</b>\"],\"marker\":{\"color\":[\"rgb(218.0, 55.0, 42.0)\",\"rgb(254.0, 238.0, 165.0)\",\"rgb(165.0, 0.0, 38.0)\",\"rgb(246.0, 123.0, 74.0)\",\"rgb(253.0, 191.0, 113.0)\",\"rgb(238.0, 248.0, 223.0)\",\"rgb(49.0, 54.0, 149.0)\",\"rgb(189.0, 226.0, 238.0)\",\"rgb(128.0, 183.0, 214.0)\",\"rgb(74.0, 123.0, 183.0)\"],\"line\":{\"color\":\"Grey\",\"width\":0.5}},\"mode\":\"markers\",\"showlegend\":false,\"x\":[670,634,511,1206,1413,2016,2478,2001,2060,2767],\"y\":[3,57,41,57,1,41,48,8,51,1],\"type\":\"scatter\",\"xaxis\":\"x14\",\"yaxis\":\"y14\"},{\"hovertemplate\":\"%{hovertext}<extra></extra>\",\"hovertext\":[\"Trial #0<br>nlayers: 4<br>hidden_size: 3<br>optimizer_name: SGD<br>learning_rate: 0.004411101706036235<br>batch_size: 670<br>activation: PReLU<br><b>Objective Value: 0.009967890081565772</b>\",\"Trial #1<br>nlayers: 3<br>hidden_size: 57<br>optimizer_name: RMSprop<br>learning_rate: 0.003965332289175691<br>batch_size: 634<br>activation: PReLU<br><b>Objective Value: 0.006631388602196606</b>\",\"Trial #2<br>nlayers: 5<br>hidden_size: 41<br>optimizer_name: SGD<br>learning_rate: 0.001705750989213183<br>batch_size: 511<br>activation: PReLU<br><b>Objective Value: 0.03136351634611589</b>\",\"Trial #3<br>nlayers: 2<br>hidden_size: 57<br>optimizer_name: SGD<br>learning_rate: 0.001839058010253875<br>batch_size: 1206<br>activation: PReLU<br><b>Objective Value: 0.009331022773809101</b>\",\"Trial #4<br>nlayers: 5<br>hidden_size: 1<br>optimizer_name: RMSprop<br>learning_rate: 0.001921553915883699<br>batch_size: 1413<br>activation: PReLU<br><b>Objective Value: 0.0069133908252554084</b>\",\"Trial #5<br>nlayers: 5<br>hidden_size: 41<br>optimizer_name: SGD<br>learning_rate: 0.004248005583275175<br>batch_size: 2016<br>activation: LeakyReLU<br><b>Objective Value: 0.003009425417061836</b>\",\"Trial #6<br>nlayers: 1<br>hidden_size: 48<br>optimizer_name: RMSprop<br>learning_rate: 0.001760534713381132<br>batch_size: 2478<br>activation: PReLU<br><b>Objective Value: 0.0016737091832337984</b>\",\"Trial #7<br>nlayers: 3<br>hidden_size: 8<br>optimizer_name: SGD<br>learning_rate: 0.009537520587256125<br>batch_size: 2001<br>activation: PReLU<br><b>Objective Value: 0.0023150240508155308</b>\",\"Trial #8<br>nlayers: 2<br>hidden_size: 51<br>optimizer_name: SGD<br>learning_rate: 0.005949905799153901<br>batch_size: 2060<br>activation: LeakyReLU<br><b>Objective Value: 0.0022391047328710555</b>\",\"Trial #9<br>nlayers: 6<br>hidden_size: 1<br>optimizer_name: SGD<br>learning_rate: 0.006511673013711062<br>batch_size: 2767<br>activation: PReLU<br><b>Objective Value: 0.00198307938747213</b>\"],\"marker\":{\"color\":[\"rgb(218.0, 55.0, 42.0)\",\"rgb(254.0, 238.0, 165.0)\",\"rgb(165.0, 0.0, 38.0)\",\"rgb(246.0, 123.0, 74.0)\",\"rgb(253.0, 191.0, 113.0)\",\"rgb(238.0, 248.0, 223.0)\",\"rgb(49.0, 54.0, 149.0)\",\"rgb(189.0, 226.0, 238.0)\",\"rgb(128.0, 183.0, 214.0)\",\"rgb(74.0, 123.0, 183.0)\"],\"line\":{\"color\":\"Grey\",\"width\":0.5}},\"mode\":\"markers\",\"showlegend\":false,\"x\":[670,634,511,1206,1413,2016,2478,2001,2060,2767],\"y\":[0.004411101706036235,0.003965332289175691,0.001705750989213183,0.001839058010253875,0.001921553915883699,0.004248005583275175,0.001760534713381132,0.009537520587256125,0.005949905799153901,0.006511673013711062],\"type\":\"scatter\",\"xaxis\":\"x20\",\"yaxis\":\"y20\"},{\"hovertemplate\":\"%{hovertext}<extra></extra>\",\"hovertext\":[\"Trial #0<br>nlayers: 4<br>hidden_size: 3<br>optimizer_name: SGD<br>learning_rate: 0.004411101706036235<br>batch_size: 670<br>activation: PReLU<br><b>Objective Value: 0.009967890081565772</b>\",\"Trial #1<br>nlayers: 3<br>hidden_size: 57<br>optimizer_name: RMSprop<br>learning_rate: 0.003965332289175691<br>batch_size: 634<br>activation: PReLU<br><b>Objective Value: 0.006631388602196606</b>\",\"Trial #2<br>nlayers: 5<br>hidden_size: 41<br>optimizer_name: SGD<br>learning_rate: 0.001705750989213183<br>batch_size: 511<br>activation: PReLU<br><b>Objective Value: 0.03136351634611589</b>\",\"Trial #3<br>nlayers: 2<br>hidden_size: 57<br>optimizer_name: SGD<br>learning_rate: 0.001839058010253875<br>batch_size: 1206<br>activation: PReLU<br><b>Objective Value: 0.009331022773809101</b>\",\"Trial #4<br>nlayers: 5<br>hidden_size: 1<br>optimizer_name: RMSprop<br>learning_rate: 0.001921553915883699<br>batch_size: 1413<br>activation: PReLU<br><b>Objective Value: 0.0069133908252554084</b>\",\"Trial #5<br>nlayers: 5<br>hidden_size: 41<br>optimizer_name: SGD<br>learning_rate: 0.004248005583275175<br>batch_size: 2016<br>activation: LeakyReLU<br><b>Objective Value: 0.003009425417061836</b>\",\"Trial #6<br>nlayers: 1<br>hidden_size: 48<br>optimizer_name: RMSprop<br>learning_rate: 0.001760534713381132<br>batch_size: 2478<br>activation: PReLU<br><b>Objective Value: 0.0016737091832337984</b>\",\"Trial #7<br>nlayers: 3<br>hidden_size: 8<br>optimizer_name: SGD<br>learning_rate: 0.009537520587256125<br>batch_size: 2001<br>activation: PReLU<br><b>Objective Value: 0.0023150240508155308</b>\",\"Trial #8<br>nlayers: 2<br>hidden_size: 51<br>optimizer_name: SGD<br>learning_rate: 0.005949905799153901<br>batch_size: 2060<br>activation: LeakyReLU<br><b>Objective Value: 0.0022391047328710555</b>\",\"Trial #9<br>nlayers: 6<br>hidden_size: 1<br>optimizer_name: SGD<br>learning_rate: 0.006511673013711062<br>batch_size: 2767<br>activation: PReLU<br><b>Objective Value: 0.00198307938747213</b>\"],\"marker\":{\"color\":[\"rgb(218.0, 55.0, 42.0)\",\"rgb(254.0, 238.0, 165.0)\",\"rgb(165.0, 0.0, 38.0)\",\"rgb(246.0, 123.0, 74.0)\",\"rgb(253.0, 191.0, 113.0)\",\"rgb(238.0, 248.0, 223.0)\",\"rgb(49.0, 54.0, 149.0)\",\"rgb(189.0, 226.0, 238.0)\",\"rgb(128.0, 183.0, 214.0)\",\"rgb(74.0, 123.0, 183.0)\"],\"line\":{\"color\":\"Grey\",\"width\":0.5}},\"mode\":\"markers\",\"showlegend\":false,\"x\":[670,634,511,1206,1413,2016,2478,2001,2060,2767],\"y\":[4,3,5,2,5,5,1,3,2,6],\"type\":\"scatter\",\"xaxis\":\"x26\",\"yaxis\":\"y26\"},{\"hovertemplate\":\"%{hovertext}<extra></extra>\",\"hovertext\":[\"Trial #0<br>nlayers: 4<br>hidden_size: 3<br>optimizer_name: SGD<br>learning_rate: 0.004411101706036235<br>batch_size: 670<br>activation: PReLU<br><b>Objective Value: 0.009967890081565772</b>\",\"Trial #1<br>nlayers: 3<br>hidden_size: 57<br>optimizer_name: RMSprop<br>learning_rate: 0.003965332289175691<br>batch_size: 634<br>activation: PReLU<br><b>Objective Value: 0.006631388602196606</b>\",\"Trial #2<br>nlayers: 5<br>hidden_size: 41<br>optimizer_name: SGD<br>learning_rate: 0.001705750989213183<br>batch_size: 511<br>activation: PReLU<br><b>Objective Value: 0.03136351634611589</b>\",\"Trial #3<br>nlayers: 2<br>hidden_size: 57<br>optimizer_name: SGD<br>learning_rate: 0.001839058010253875<br>batch_size: 1206<br>activation: PReLU<br><b>Objective Value: 0.009331022773809101</b>\",\"Trial #4<br>nlayers: 5<br>hidden_size: 1<br>optimizer_name: RMSprop<br>learning_rate: 0.001921553915883699<br>batch_size: 1413<br>activation: PReLU<br><b>Objective Value: 0.0069133908252554084</b>\",\"Trial #5<br>nlayers: 5<br>hidden_size: 41<br>optimizer_name: SGD<br>learning_rate: 0.004248005583275175<br>batch_size: 2016<br>activation: LeakyReLU<br><b>Objective Value: 0.003009425417061836</b>\",\"Trial #6<br>nlayers: 1<br>hidden_size: 48<br>optimizer_name: RMSprop<br>learning_rate: 0.001760534713381132<br>batch_size: 2478<br>activation: PReLU<br><b>Objective Value: 0.0016737091832337984</b>\",\"Trial #7<br>nlayers: 3<br>hidden_size: 8<br>optimizer_name: SGD<br>learning_rate: 0.009537520587256125<br>batch_size: 2001<br>activation: PReLU<br><b>Objective Value: 0.0023150240508155308</b>\",\"Trial #8<br>nlayers: 2<br>hidden_size: 51<br>optimizer_name: SGD<br>learning_rate: 0.005949905799153901<br>batch_size: 2060<br>activation: LeakyReLU<br><b>Objective Value: 0.0022391047328710555</b>\",\"Trial #9<br>nlayers: 6<br>hidden_size: 1<br>optimizer_name: SGD<br>learning_rate: 0.006511673013711062<br>batch_size: 2767<br>activation: PReLU<br><b>Objective Value: 0.00198307938747213</b>\"],\"marker\":{\"color\":[\"rgb(218.0, 55.0, 42.0)\",\"rgb(254.0, 238.0, 165.0)\",\"rgb(165.0, 0.0, 38.0)\",\"rgb(246.0, 123.0, 74.0)\",\"rgb(253.0, 191.0, 113.0)\",\"rgb(238.0, 248.0, 223.0)\",\"rgb(49.0, 54.0, 149.0)\",\"rgb(189.0, 226.0, 238.0)\",\"rgb(128.0, 183.0, 214.0)\",\"rgb(74.0, 123.0, 183.0)\"],\"line\":{\"color\":\"Grey\",\"width\":0.5}},\"mode\":\"markers\",\"showlegend\":false,\"x\":[670,634,511,1206,1413,2016,2478,2001,2060,2767],\"y\":[\"SGD\",\"RMSprop\",\"SGD\",\"SGD\",\"RMSprop\",\"SGD\",\"RMSprop\",\"SGD\",\"SGD\",\"SGD\"],\"type\":\"scatter\",\"xaxis\":\"x32\",\"yaxis\":\"y32\"},{\"hovertemplate\":\"%{hovertext}<extra></extra>\",\"hovertext\":[\"Trial #0<br>nlayers: 4<br>hidden_size: 3<br>optimizer_name: SGD<br>learning_rate: 0.004411101706036235<br>batch_size: 670<br>activation: PReLU<br><b>Objective Value: 0.009967890081565772</b>\",\"Trial #1<br>nlayers: 3<br>hidden_size: 57<br>optimizer_name: RMSprop<br>learning_rate: 0.003965332289175691<br>batch_size: 634<br>activation: PReLU<br><b>Objective Value: 0.006631388602196606</b>\",\"Trial #2<br>nlayers: 5<br>hidden_size: 41<br>optimizer_name: SGD<br>learning_rate: 0.001705750989213183<br>batch_size: 511<br>activation: PReLU<br><b>Objective Value: 0.03136351634611589</b>\",\"Trial #3<br>nlayers: 2<br>hidden_size: 57<br>optimizer_name: SGD<br>learning_rate: 0.001839058010253875<br>batch_size: 1206<br>activation: PReLU<br><b>Objective Value: 0.009331022773809101</b>\",\"Trial #4<br>nlayers: 5<br>hidden_size: 1<br>optimizer_name: RMSprop<br>learning_rate: 0.001921553915883699<br>batch_size: 1413<br>activation: PReLU<br><b>Objective Value: 0.0069133908252554084</b>\",\"Trial #5<br>nlayers: 5<br>hidden_size: 41<br>optimizer_name: SGD<br>learning_rate: 0.004248005583275175<br>batch_size: 2016<br>activation: LeakyReLU<br><b>Objective Value: 0.003009425417061836</b>\",\"Trial #6<br>nlayers: 1<br>hidden_size: 48<br>optimizer_name: RMSprop<br>learning_rate: 0.001760534713381132<br>batch_size: 2478<br>activation: PReLU<br><b>Objective Value: 0.0016737091832337984</b>\",\"Trial #7<br>nlayers: 3<br>hidden_size: 8<br>optimizer_name: SGD<br>learning_rate: 0.009537520587256125<br>batch_size: 2001<br>activation: PReLU<br><b>Objective Value: 0.0023150240508155308</b>\",\"Trial #8<br>nlayers: 2<br>hidden_size: 51<br>optimizer_name: SGD<br>learning_rate: 0.005949905799153901<br>batch_size: 2060<br>activation: LeakyReLU<br><b>Objective Value: 0.0022391047328710555</b>\",\"Trial #9<br>nlayers: 6<br>hidden_size: 1<br>optimizer_name: SGD<br>learning_rate: 0.006511673013711062<br>batch_size: 2767<br>activation: PReLU<br><b>Objective Value: 0.00198307938747213</b>\"],\"marker\":{\"color\":[\"rgb(218.0, 55.0, 42.0)\",\"rgb(254.0, 238.0, 165.0)\",\"rgb(165.0, 0.0, 38.0)\",\"rgb(246.0, 123.0, 74.0)\",\"rgb(253.0, 191.0, 113.0)\",\"rgb(238.0, 248.0, 223.0)\",\"rgb(49.0, 54.0, 149.0)\",\"rgb(189.0, 226.0, 238.0)\",\"rgb(128.0, 183.0, 214.0)\",\"rgb(74.0, 123.0, 183.0)\"],\"line\":{\"color\":\"Grey\",\"width\":0.5}},\"mode\":\"markers\",\"showlegend\":false,\"x\":[3,57,41,57,1,41,48,8,51,1],\"y\":[\"PReLU\",\"PReLU\",\"PReLU\",\"PReLU\",\"PReLU\",\"LeakyReLU\",\"PReLU\",\"PReLU\",\"LeakyReLU\",\"PReLU\"],\"type\":\"scatter\",\"xaxis\":\"x3\",\"yaxis\":\"y3\"},{\"hovertemplate\":\"%{hovertext}<extra></extra>\",\"hovertext\":[\"Trial #0<br>nlayers: 4<br>hidden_size: 3<br>optimizer_name: SGD<br>learning_rate: 0.004411101706036235<br>batch_size: 670<br>activation: PReLU<br><b>Objective Value: 0.009967890081565772</b>\",\"Trial #1<br>nlayers: 3<br>hidden_size: 57<br>optimizer_name: RMSprop<br>learning_rate: 0.003965332289175691<br>batch_size: 634<br>activation: PReLU<br><b>Objective Value: 0.006631388602196606</b>\",\"Trial #2<br>nlayers: 5<br>hidden_size: 41<br>optimizer_name: SGD<br>learning_rate: 0.001705750989213183<br>batch_size: 511<br>activation: PReLU<br><b>Objective Value: 0.03136351634611589</b>\",\"Trial #3<br>nlayers: 2<br>hidden_size: 57<br>optimizer_name: SGD<br>learning_rate: 0.001839058010253875<br>batch_size: 1206<br>activation: PReLU<br><b>Objective Value: 0.009331022773809101</b>\",\"Trial #4<br>nlayers: 5<br>hidden_size: 1<br>optimizer_name: RMSprop<br>learning_rate: 0.001921553915883699<br>batch_size: 1413<br>activation: PReLU<br><b>Objective Value: 0.0069133908252554084</b>\",\"Trial #5<br>nlayers: 5<br>hidden_size: 41<br>optimizer_name: SGD<br>learning_rate: 0.004248005583275175<br>batch_size: 2016<br>activation: LeakyReLU<br><b>Objective Value: 0.003009425417061836</b>\",\"Trial #6<br>nlayers: 1<br>hidden_size: 48<br>optimizer_name: RMSprop<br>learning_rate: 0.001760534713381132<br>batch_size: 2478<br>activation: PReLU<br><b>Objective Value: 0.0016737091832337984</b>\",\"Trial #7<br>nlayers: 3<br>hidden_size: 8<br>optimizer_name: SGD<br>learning_rate: 0.009537520587256125<br>batch_size: 2001<br>activation: PReLU<br><b>Objective Value: 0.0023150240508155308</b>\",\"Trial #8<br>nlayers: 2<br>hidden_size: 51<br>optimizer_name: SGD<br>learning_rate: 0.005949905799153901<br>batch_size: 2060<br>activation: LeakyReLU<br><b>Objective Value: 0.0022391047328710555</b>\",\"Trial #9<br>nlayers: 6<br>hidden_size: 1<br>optimizer_name: SGD<br>learning_rate: 0.006511673013711062<br>batch_size: 2767<br>activation: PReLU<br><b>Objective Value: 0.00198307938747213</b>\"],\"marker\":{\"color\":[\"rgb(218.0, 55.0, 42.0)\",\"rgb(254.0, 238.0, 165.0)\",\"rgb(165.0, 0.0, 38.0)\",\"rgb(246.0, 123.0, 74.0)\",\"rgb(253.0, 191.0, 113.0)\",\"rgb(238.0, 248.0, 223.0)\",\"rgb(49.0, 54.0, 149.0)\",\"rgb(189.0, 226.0, 238.0)\",\"rgb(128.0, 183.0, 214.0)\",\"rgb(74.0, 123.0, 183.0)\"],\"line\":{\"color\":\"Grey\",\"width\":0.5}},\"mode\":\"markers\",\"showlegend\":false,\"x\":[3,57,41,57,1,41,48,8,51,1],\"y\":[670,634,511,1206,1413,2016,2478,2001,2060,2767],\"type\":\"scatter\",\"xaxis\":\"x9\",\"yaxis\":\"y9\"},{\"hovertemplate\":\"%{hovertext}<extra></extra>\",\"hovertext\":[\"Trial #0<br>nlayers: 4<br>hidden_size: 3<br>optimizer_name: SGD<br>learning_rate: 0.004411101706036235<br>batch_size: 670<br>activation: PReLU<br><b>Objective Value: 0.009967890081565772</b>\",\"Trial #1<br>nlayers: 3<br>hidden_size: 57<br>optimizer_name: RMSprop<br>learning_rate: 0.003965332289175691<br>batch_size: 634<br>activation: PReLU<br><b>Objective Value: 0.006631388602196606</b>\",\"Trial #2<br>nlayers: 5<br>hidden_size: 41<br>optimizer_name: SGD<br>learning_rate: 0.001705750989213183<br>batch_size: 511<br>activation: PReLU<br><b>Objective Value: 0.03136351634611589</b>\",\"Trial #3<br>nlayers: 2<br>hidden_size: 57<br>optimizer_name: SGD<br>learning_rate: 0.001839058010253875<br>batch_size: 1206<br>activation: PReLU<br><b>Objective Value: 0.009331022773809101</b>\",\"Trial #4<br>nlayers: 5<br>hidden_size: 1<br>optimizer_name: RMSprop<br>learning_rate: 0.001921553915883699<br>batch_size: 1413<br>activation: PReLU<br><b>Objective Value: 0.0069133908252554084</b>\",\"Trial #5<br>nlayers: 5<br>hidden_size: 41<br>optimizer_name: SGD<br>learning_rate: 0.004248005583275175<br>batch_size: 2016<br>activation: LeakyReLU<br><b>Objective Value: 0.003009425417061836</b>\",\"Trial #6<br>nlayers: 1<br>hidden_size: 48<br>optimizer_name: RMSprop<br>learning_rate: 0.001760534713381132<br>batch_size: 2478<br>activation: PReLU<br><b>Objective Value: 0.0016737091832337984</b>\",\"Trial #7<br>nlayers: 3<br>hidden_size: 8<br>optimizer_name: SGD<br>learning_rate: 0.009537520587256125<br>batch_size: 2001<br>activation: PReLU<br><b>Objective Value: 0.0023150240508155308</b>\",\"Trial #8<br>nlayers: 2<br>hidden_size: 51<br>optimizer_name: SGD<br>learning_rate: 0.005949905799153901<br>batch_size: 2060<br>activation: LeakyReLU<br><b>Objective Value: 0.0022391047328710555</b>\",\"Trial #9<br>nlayers: 6<br>hidden_size: 1<br>optimizer_name: SGD<br>learning_rate: 0.006511673013711062<br>batch_size: 2767<br>activation: PReLU<br><b>Objective Value: 0.00198307938747213</b>\"],\"marker\":{\"color\":[\"rgb(218.0, 55.0, 42.0)\",\"rgb(254.0, 238.0, 165.0)\",\"rgb(165.0, 0.0, 38.0)\",\"rgb(246.0, 123.0, 74.0)\",\"rgb(253.0, 191.0, 113.0)\",\"rgb(238.0, 248.0, 223.0)\",\"rgb(49.0, 54.0, 149.0)\",\"rgb(189.0, 226.0, 238.0)\",\"rgb(128.0, 183.0, 214.0)\",\"rgb(74.0, 123.0, 183.0)\"],\"line\":{\"color\":\"Grey\",\"width\":0.5}},\"mode\":\"markers\",\"showlegend\":false,\"x\":[3,57,41,57,1,41,48,8,51,1],\"y\":[3,57,41,57,1,41,48,8,51,1],\"type\":\"scatter\",\"xaxis\":\"x15\",\"yaxis\":\"y15\"},{\"hovertemplate\":\"%{hovertext}<extra></extra>\",\"hovertext\":[\"Trial #0<br>nlayers: 4<br>hidden_size: 3<br>optimizer_name: SGD<br>learning_rate: 0.004411101706036235<br>batch_size: 670<br>activation: PReLU<br><b>Objective Value: 0.009967890081565772</b>\",\"Trial #1<br>nlayers: 3<br>hidden_size: 57<br>optimizer_name: RMSprop<br>learning_rate: 0.003965332289175691<br>batch_size: 634<br>activation: PReLU<br><b>Objective Value: 0.006631388602196606</b>\",\"Trial #2<br>nlayers: 5<br>hidden_size: 41<br>optimizer_name: SGD<br>learning_rate: 0.001705750989213183<br>batch_size: 511<br>activation: PReLU<br><b>Objective Value: 0.03136351634611589</b>\",\"Trial #3<br>nlayers: 2<br>hidden_size: 57<br>optimizer_name: SGD<br>learning_rate: 0.001839058010253875<br>batch_size: 1206<br>activation: PReLU<br><b>Objective Value: 0.009331022773809101</b>\",\"Trial #4<br>nlayers: 5<br>hidden_size: 1<br>optimizer_name: RMSprop<br>learning_rate: 0.001921553915883699<br>batch_size: 1413<br>activation: PReLU<br><b>Objective Value: 0.0069133908252554084</b>\",\"Trial #5<br>nlayers: 5<br>hidden_size: 41<br>optimizer_name: SGD<br>learning_rate: 0.004248005583275175<br>batch_size: 2016<br>activation: LeakyReLU<br><b>Objective Value: 0.003009425417061836</b>\",\"Trial #6<br>nlayers: 1<br>hidden_size: 48<br>optimizer_name: RMSprop<br>learning_rate: 0.001760534713381132<br>batch_size: 2478<br>activation: PReLU<br><b>Objective Value: 0.0016737091832337984</b>\",\"Trial #7<br>nlayers: 3<br>hidden_size: 8<br>optimizer_name: SGD<br>learning_rate: 0.009537520587256125<br>batch_size: 2001<br>activation: PReLU<br><b>Objective Value: 0.0023150240508155308</b>\",\"Trial #8<br>nlayers: 2<br>hidden_size: 51<br>optimizer_name: SGD<br>learning_rate: 0.005949905799153901<br>batch_size: 2060<br>activation: LeakyReLU<br><b>Objective Value: 0.0022391047328710555</b>\",\"Trial #9<br>nlayers: 6<br>hidden_size: 1<br>optimizer_name: SGD<br>learning_rate: 0.006511673013711062<br>batch_size: 2767<br>activation: PReLU<br><b>Objective Value: 0.00198307938747213</b>\"],\"marker\":{\"color\":[\"rgb(218.0, 55.0, 42.0)\",\"rgb(254.0, 238.0, 165.0)\",\"rgb(165.0, 0.0, 38.0)\",\"rgb(246.0, 123.0, 74.0)\",\"rgb(253.0, 191.0, 113.0)\",\"rgb(238.0, 248.0, 223.0)\",\"rgb(49.0, 54.0, 149.0)\",\"rgb(189.0, 226.0, 238.0)\",\"rgb(128.0, 183.0, 214.0)\",\"rgb(74.0, 123.0, 183.0)\"],\"line\":{\"color\":\"Grey\",\"width\":0.5}},\"mode\":\"markers\",\"showlegend\":false,\"x\":[3,57,41,57,1,41,48,8,51,1],\"y\":[0.004411101706036235,0.003965332289175691,0.001705750989213183,0.001839058010253875,0.001921553915883699,0.004248005583275175,0.001760534713381132,0.009537520587256125,0.005949905799153901,0.006511673013711062],\"type\":\"scatter\",\"xaxis\":\"x21\",\"yaxis\":\"y21\"},{\"hovertemplate\":\"%{hovertext}<extra></extra>\",\"hovertext\":[\"Trial #0<br>nlayers: 4<br>hidden_size: 3<br>optimizer_name: SGD<br>learning_rate: 0.004411101706036235<br>batch_size: 670<br>activation: PReLU<br><b>Objective Value: 0.009967890081565772</b>\",\"Trial #1<br>nlayers: 3<br>hidden_size: 57<br>optimizer_name: RMSprop<br>learning_rate: 0.003965332289175691<br>batch_size: 634<br>activation: PReLU<br><b>Objective Value: 0.006631388602196606</b>\",\"Trial #2<br>nlayers: 5<br>hidden_size: 41<br>optimizer_name: SGD<br>learning_rate: 0.001705750989213183<br>batch_size: 511<br>activation: PReLU<br><b>Objective Value: 0.03136351634611589</b>\",\"Trial #3<br>nlayers: 2<br>hidden_size: 57<br>optimizer_name: SGD<br>learning_rate: 0.001839058010253875<br>batch_size: 1206<br>activation: PReLU<br><b>Objective Value: 0.009331022773809101</b>\",\"Trial #4<br>nlayers: 5<br>hidden_size: 1<br>optimizer_name: RMSprop<br>learning_rate: 0.001921553915883699<br>batch_size: 1413<br>activation: PReLU<br><b>Objective Value: 0.0069133908252554084</b>\",\"Trial #5<br>nlayers: 5<br>hidden_size: 41<br>optimizer_name: SGD<br>learning_rate: 0.004248005583275175<br>batch_size: 2016<br>activation: LeakyReLU<br><b>Objective Value: 0.003009425417061836</b>\",\"Trial #6<br>nlayers: 1<br>hidden_size: 48<br>optimizer_name: RMSprop<br>learning_rate: 0.001760534713381132<br>batch_size: 2478<br>activation: PReLU<br><b>Objective Value: 0.0016737091832337984</b>\",\"Trial #7<br>nlayers: 3<br>hidden_size: 8<br>optimizer_name: SGD<br>learning_rate: 0.009537520587256125<br>batch_size: 2001<br>activation: PReLU<br><b>Objective Value: 0.0023150240508155308</b>\",\"Trial #8<br>nlayers: 2<br>hidden_size: 51<br>optimizer_name: SGD<br>learning_rate: 0.005949905799153901<br>batch_size: 2060<br>activation: LeakyReLU<br><b>Objective Value: 0.0022391047328710555</b>\",\"Trial #9<br>nlayers: 6<br>hidden_size: 1<br>optimizer_name: SGD<br>learning_rate: 0.006511673013711062<br>batch_size: 2767<br>activation: PReLU<br><b>Objective Value: 0.00198307938747213</b>\"],\"marker\":{\"color\":[\"rgb(218.0, 55.0, 42.0)\",\"rgb(254.0, 238.0, 165.0)\",\"rgb(165.0, 0.0, 38.0)\",\"rgb(246.0, 123.0, 74.0)\",\"rgb(253.0, 191.0, 113.0)\",\"rgb(238.0, 248.0, 223.0)\",\"rgb(49.0, 54.0, 149.0)\",\"rgb(189.0, 226.0, 238.0)\",\"rgb(128.0, 183.0, 214.0)\",\"rgb(74.0, 123.0, 183.0)\"],\"line\":{\"color\":\"Grey\",\"width\":0.5}},\"mode\":\"markers\",\"showlegend\":false,\"x\":[3,57,41,57,1,41,48,8,51,1],\"y\":[4,3,5,2,5,5,1,3,2,6],\"type\":\"scatter\",\"xaxis\":\"x27\",\"yaxis\":\"y27\"},{\"hovertemplate\":\"%{hovertext}<extra></extra>\",\"hovertext\":[\"Trial #0<br>nlayers: 4<br>hidden_size: 3<br>optimizer_name: SGD<br>learning_rate: 0.004411101706036235<br>batch_size: 670<br>activation: PReLU<br><b>Objective Value: 0.009967890081565772</b>\",\"Trial #1<br>nlayers: 3<br>hidden_size: 57<br>optimizer_name: RMSprop<br>learning_rate: 0.003965332289175691<br>batch_size: 634<br>activation: PReLU<br><b>Objective Value: 0.006631388602196606</b>\",\"Trial #2<br>nlayers: 5<br>hidden_size: 41<br>optimizer_name: SGD<br>learning_rate: 0.001705750989213183<br>batch_size: 511<br>activation: PReLU<br><b>Objective Value: 0.03136351634611589</b>\",\"Trial #3<br>nlayers: 2<br>hidden_size: 57<br>optimizer_name: SGD<br>learning_rate: 0.001839058010253875<br>batch_size: 1206<br>activation: PReLU<br><b>Objective Value: 0.009331022773809101</b>\",\"Trial #4<br>nlayers: 5<br>hidden_size: 1<br>optimizer_name: RMSprop<br>learning_rate: 0.001921553915883699<br>batch_size: 1413<br>activation: PReLU<br><b>Objective Value: 0.0069133908252554084</b>\",\"Trial #5<br>nlayers: 5<br>hidden_size: 41<br>optimizer_name: SGD<br>learning_rate: 0.004248005583275175<br>batch_size: 2016<br>activation: LeakyReLU<br><b>Objective Value: 0.003009425417061836</b>\",\"Trial #6<br>nlayers: 1<br>hidden_size: 48<br>optimizer_name: RMSprop<br>learning_rate: 0.001760534713381132<br>batch_size: 2478<br>activation: PReLU<br><b>Objective Value: 0.0016737091832337984</b>\",\"Trial #7<br>nlayers: 3<br>hidden_size: 8<br>optimizer_name: SGD<br>learning_rate: 0.009537520587256125<br>batch_size: 2001<br>activation: PReLU<br><b>Objective Value: 0.0023150240508155308</b>\",\"Trial #8<br>nlayers: 2<br>hidden_size: 51<br>optimizer_name: SGD<br>learning_rate: 0.005949905799153901<br>batch_size: 2060<br>activation: LeakyReLU<br><b>Objective Value: 0.0022391047328710555</b>\",\"Trial #9<br>nlayers: 6<br>hidden_size: 1<br>optimizer_name: SGD<br>learning_rate: 0.006511673013711062<br>batch_size: 2767<br>activation: PReLU<br><b>Objective Value: 0.00198307938747213</b>\"],\"marker\":{\"color\":[\"rgb(218.0, 55.0, 42.0)\",\"rgb(254.0, 238.0, 165.0)\",\"rgb(165.0, 0.0, 38.0)\",\"rgb(246.0, 123.0, 74.0)\",\"rgb(253.0, 191.0, 113.0)\",\"rgb(238.0, 248.0, 223.0)\",\"rgb(49.0, 54.0, 149.0)\",\"rgb(189.0, 226.0, 238.0)\",\"rgb(128.0, 183.0, 214.0)\",\"rgb(74.0, 123.0, 183.0)\"],\"line\":{\"color\":\"Grey\",\"width\":0.5}},\"mode\":\"markers\",\"showlegend\":false,\"x\":[3,57,41,57,1,41,48,8,51,1],\"y\":[\"SGD\",\"RMSprop\",\"SGD\",\"SGD\",\"RMSprop\",\"SGD\",\"RMSprop\",\"SGD\",\"SGD\",\"SGD\"],\"type\":\"scatter\",\"xaxis\":\"x33\",\"yaxis\":\"y33\"},{\"hovertemplate\":\"%{hovertext}<extra></extra>\",\"hovertext\":[\"Trial #0<br>nlayers: 4<br>hidden_size: 3<br>optimizer_name: SGD<br>learning_rate: 0.004411101706036235<br>batch_size: 670<br>activation: PReLU<br><b>Objective Value: 0.009967890081565772</b>\",\"Trial #1<br>nlayers: 3<br>hidden_size: 57<br>optimizer_name: RMSprop<br>learning_rate: 0.003965332289175691<br>batch_size: 634<br>activation: PReLU<br><b>Objective Value: 0.006631388602196606</b>\",\"Trial #2<br>nlayers: 5<br>hidden_size: 41<br>optimizer_name: SGD<br>learning_rate: 0.001705750989213183<br>batch_size: 511<br>activation: PReLU<br><b>Objective Value: 0.03136351634611589</b>\",\"Trial #3<br>nlayers: 2<br>hidden_size: 57<br>optimizer_name: SGD<br>learning_rate: 0.001839058010253875<br>batch_size: 1206<br>activation: PReLU<br><b>Objective Value: 0.009331022773809101</b>\",\"Trial #4<br>nlayers: 5<br>hidden_size: 1<br>optimizer_name: RMSprop<br>learning_rate: 0.001921553915883699<br>batch_size: 1413<br>activation: PReLU<br><b>Objective Value: 0.0069133908252554084</b>\",\"Trial #5<br>nlayers: 5<br>hidden_size: 41<br>optimizer_name: SGD<br>learning_rate: 0.004248005583275175<br>batch_size: 2016<br>activation: LeakyReLU<br><b>Objective Value: 0.003009425417061836</b>\",\"Trial #6<br>nlayers: 1<br>hidden_size: 48<br>optimizer_name: RMSprop<br>learning_rate: 0.001760534713381132<br>batch_size: 2478<br>activation: PReLU<br><b>Objective Value: 0.0016737091832337984</b>\",\"Trial #7<br>nlayers: 3<br>hidden_size: 8<br>optimizer_name: SGD<br>learning_rate: 0.009537520587256125<br>batch_size: 2001<br>activation: PReLU<br><b>Objective Value: 0.0023150240508155308</b>\",\"Trial #8<br>nlayers: 2<br>hidden_size: 51<br>optimizer_name: SGD<br>learning_rate: 0.005949905799153901<br>batch_size: 2060<br>activation: LeakyReLU<br><b>Objective Value: 0.0022391047328710555</b>\",\"Trial #9<br>nlayers: 6<br>hidden_size: 1<br>optimizer_name: SGD<br>learning_rate: 0.006511673013711062<br>batch_size: 2767<br>activation: PReLU<br><b>Objective Value: 0.00198307938747213</b>\"],\"marker\":{\"color\":[\"rgb(218.0, 55.0, 42.0)\",\"rgb(254.0, 238.0, 165.0)\",\"rgb(165.0, 0.0, 38.0)\",\"rgb(246.0, 123.0, 74.0)\",\"rgb(253.0, 191.0, 113.0)\",\"rgb(238.0, 248.0, 223.0)\",\"rgb(49.0, 54.0, 149.0)\",\"rgb(189.0, 226.0, 238.0)\",\"rgb(128.0, 183.0, 214.0)\",\"rgb(74.0, 123.0, 183.0)\"],\"line\":{\"color\":\"Grey\",\"width\":0.5}},\"mode\":\"markers\",\"showlegend\":false,\"x\":[0.004411101706036235,0.003965332289175691,0.001705750989213183,0.001839058010253875,0.001921553915883699,0.004248005583275175,0.001760534713381132,0.009537520587256125,0.005949905799153901,0.006511673013711062],\"y\":[\"PReLU\",\"PReLU\",\"PReLU\",\"PReLU\",\"PReLU\",\"LeakyReLU\",\"PReLU\",\"PReLU\",\"LeakyReLU\",\"PReLU\"],\"type\":\"scatter\",\"xaxis\":\"x4\",\"yaxis\":\"y4\"},{\"hovertemplate\":\"%{hovertext}<extra></extra>\",\"hovertext\":[\"Trial #0<br>nlayers: 4<br>hidden_size: 3<br>optimizer_name: SGD<br>learning_rate: 0.004411101706036235<br>batch_size: 670<br>activation: PReLU<br><b>Objective Value: 0.009967890081565772</b>\",\"Trial #1<br>nlayers: 3<br>hidden_size: 57<br>optimizer_name: RMSprop<br>learning_rate: 0.003965332289175691<br>batch_size: 634<br>activation: PReLU<br><b>Objective Value: 0.006631388602196606</b>\",\"Trial #2<br>nlayers: 5<br>hidden_size: 41<br>optimizer_name: SGD<br>learning_rate: 0.001705750989213183<br>batch_size: 511<br>activation: PReLU<br><b>Objective Value: 0.03136351634611589</b>\",\"Trial #3<br>nlayers: 2<br>hidden_size: 57<br>optimizer_name: SGD<br>learning_rate: 0.001839058010253875<br>batch_size: 1206<br>activation: PReLU<br><b>Objective Value: 0.009331022773809101</b>\",\"Trial #4<br>nlayers: 5<br>hidden_size: 1<br>optimizer_name: RMSprop<br>learning_rate: 0.001921553915883699<br>batch_size: 1413<br>activation: PReLU<br><b>Objective Value: 0.0069133908252554084</b>\",\"Trial #5<br>nlayers: 5<br>hidden_size: 41<br>optimizer_name: SGD<br>learning_rate: 0.004248005583275175<br>batch_size: 2016<br>activation: LeakyReLU<br><b>Objective Value: 0.003009425417061836</b>\",\"Trial #6<br>nlayers: 1<br>hidden_size: 48<br>optimizer_name: RMSprop<br>learning_rate: 0.001760534713381132<br>batch_size: 2478<br>activation: PReLU<br><b>Objective Value: 0.0016737091832337984</b>\",\"Trial #7<br>nlayers: 3<br>hidden_size: 8<br>optimizer_name: SGD<br>learning_rate: 0.009537520587256125<br>batch_size: 2001<br>activation: PReLU<br><b>Objective Value: 0.0023150240508155308</b>\",\"Trial #8<br>nlayers: 2<br>hidden_size: 51<br>optimizer_name: SGD<br>learning_rate: 0.005949905799153901<br>batch_size: 2060<br>activation: LeakyReLU<br><b>Objective Value: 0.0022391047328710555</b>\",\"Trial #9<br>nlayers: 6<br>hidden_size: 1<br>optimizer_name: SGD<br>learning_rate: 0.006511673013711062<br>batch_size: 2767<br>activation: PReLU<br><b>Objective Value: 0.00198307938747213</b>\"],\"marker\":{\"color\":[\"rgb(218.0, 55.0, 42.0)\",\"rgb(254.0, 238.0, 165.0)\",\"rgb(165.0, 0.0, 38.0)\",\"rgb(246.0, 123.0, 74.0)\",\"rgb(253.0, 191.0, 113.0)\",\"rgb(238.0, 248.0, 223.0)\",\"rgb(49.0, 54.0, 149.0)\",\"rgb(189.0, 226.0, 238.0)\",\"rgb(128.0, 183.0, 214.0)\",\"rgb(74.0, 123.0, 183.0)\"],\"line\":{\"color\":\"Grey\",\"width\":0.5}},\"mode\":\"markers\",\"showlegend\":false,\"x\":[0.004411101706036235,0.003965332289175691,0.001705750989213183,0.001839058010253875,0.001921553915883699,0.004248005583275175,0.001760534713381132,0.009537520587256125,0.005949905799153901,0.006511673013711062],\"y\":[670,634,511,1206,1413,2016,2478,2001,2060,2767],\"type\":\"scatter\",\"xaxis\":\"x10\",\"yaxis\":\"y10\"},{\"hovertemplate\":\"%{hovertext}<extra></extra>\",\"hovertext\":[\"Trial #0<br>nlayers: 4<br>hidden_size: 3<br>optimizer_name: SGD<br>learning_rate: 0.004411101706036235<br>batch_size: 670<br>activation: PReLU<br><b>Objective Value: 0.009967890081565772</b>\",\"Trial #1<br>nlayers: 3<br>hidden_size: 57<br>optimizer_name: RMSprop<br>learning_rate: 0.003965332289175691<br>batch_size: 634<br>activation: PReLU<br><b>Objective Value: 0.006631388602196606</b>\",\"Trial #2<br>nlayers: 5<br>hidden_size: 41<br>optimizer_name: SGD<br>learning_rate: 0.001705750989213183<br>batch_size: 511<br>activation: PReLU<br><b>Objective Value: 0.03136351634611589</b>\",\"Trial #3<br>nlayers: 2<br>hidden_size: 57<br>optimizer_name: SGD<br>learning_rate: 0.001839058010253875<br>batch_size: 1206<br>activation: PReLU<br><b>Objective Value: 0.009331022773809101</b>\",\"Trial #4<br>nlayers: 5<br>hidden_size: 1<br>optimizer_name: RMSprop<br>learning_rate: 0.001921553915883699<br>batch_size: 1413<br>activation: PReLU<br><b>Objective Value: 0.0069133908252554084</b>\",\"Trial #5<br>nlayers: 5<br>hidden_size: 41<br>optimizer_name: SGD<br>learning_rate: 0.004248005583275175<br>batch_size: 2016<br>activation: LeakyReLU<br><b>Objective Value: 0.003009425417061836</b>\",\"Trial #6<br>nlayers: 1<br>hidden_size: 48<br>optimizer_name: RMSprop<br>learning_rate: 0.001760534713381132<br>batch_size: 2478<br>activation: PReLU<br><b>Objective Value: 0.0016737091832337984</b>\",\"Trial #7<br>nlayers: 3<br>hidden_size: 8<br>optimizer_name: SGD<br>learning_rate: 0.009537520587256125<br>batch_size: 2001<br>activation: PReLU<br><b>Objective Value: 0.0023150240508155308</b>\",\"Trial #8<br>nlayers: 2<br>hidden_size: 51<br>optimizer_name: SGD<br>learning_rate: 0.005949905799153901<br>batch_size: 2060<br>activation: LeakyReLU<br><b>Objective Value: 0.0022391047328710555</b>\",\"Trial #9<br>nlayers: 6<br>hidden_size: 1<br>optimizer_name: SGD<br>learning_rate: 0.006511673013711062<br>batch_size: 2767<br>activation: PReLU<br><b>Objective Value: 0.00198307938747213</b>\"],\"marker\":{\"color\":[\"rgb(218.0, 55.0, 42.0)\",\"rgb(254.0, 238.0, 165.0)\",\"rgb(165.0, 0.0, 38.0)\",\"rgb(246.0, 123.0, 74.0)\",\"rgb(253.0, 191.0, 113.0)\",\"rgb(238.0, 248.0, 223.0)\",\"rgb(49.0, 54.0, 149.0)\",\"rgb(189.0, 226.0, 238.0)\",\"rgb(128.0, 183.0, 214.0)\",\"rgb(74.0, 123.0, 183.0)\"],\"line\":{\"color\":\"Grey\",\"width\":0.5}},\"mode\":\"markers\",\"showlegend\":false,\"x\":[0.004411101706036235,0.003965332289175691,0.001705750989213183,0.001839058010253875,0.001921553915883699,0.004248005583275175,0.001760534713381132,0.009537520587256125,0.005949905799153901,0.006511673013711062],\"y\":[3,57,41,57,1,41,48,8,51,1],\"type\":\"scatter\",\"xaxis\":\"x16\",\"yaxis\":\"y16\"},{\"hovertemplate\":\"%{hovertext}<extra></extra>\",\"hovertext\":[\"Trial #0<br>nlayers: 4<br>hidden_size: 3<br>optimizer_name: SGD<br>learning_rate: 0.004411101706036235<br>batch_size: 670<br>activation: PReLU<br><b>Objective Value: 0.009967890081565772</b>\",\"Trial #1<br>nlayers: 3<br>hidden_size: 57<br>optimizer_name: RMSprop<br>learning_rate: 0.003965332289175691<br>batch_size: 634<br>activation: PReLU<br><b>Objective Value: 0.006631388602196606</b>\",\"Trial #2<br>nlayers: 5<br>hidden_size: 41<br>optimizer_name: SGD<br>learning_rate: 0.001705750989213183<br>batch_size: 511<br>activation: PReLU<br><b>Objective Value: 0.03136351634611589</b>\",\"Trial #3<br>nlayers: 2<br>hidden_size: 57<br>optimizer_name: SGD<br>learning_rate: 0.001839058010253875<br>batch_size: 1206<br>activation: PReLU<br><b>Objective Value: 0.009331022773809101</b>\",\"Trial #4<br>nlayers: 5<br>hidden_size: 1<br>optimizer_name: RMSprop<br>learning_rate: 0.001921553915883699<br>batch_size: 1413<br>activation: PReLU<br><b>Objective Value: 0.0069133908252554084</b>\",\"Trial #5<br>nlayers: 5<br>hidden_size: 41<br>optimizer_name: SGD<br>learning_rate: 0.004248005583275175<br>batch_size: 2016<br>activation: LeakyReLU<br><b>Objective Value: 0.003009425417061836</b>\",\"Trial #6<br>nlayers: 1<br>hidden_size: 48<br>optimizer_name: RMSprop<br>learning_rate: 0.001760534713381132<br>batch_size: 2478<br>activation: PReLU<br><b>Objective Value: 0.0016737091832337984</b>\",\"Trial #7<br>nlayers: 3<br>hidden_size: 8<br>optimizer_name: SGD<br>learning_rate: 0.009537520587256125<br>batch_size: 2001<br>activation: PReLU<br><b>Objective Value: 0.0023150240508155308</b>\",\"Trial #8<br>nlayers: 2<br>hidden_size: 51<br>optimizer_name: SGD<br>learning_rate: 0.005949905799153901<br>batch_size: 2060<br>activation: LeakyReLU<br><b>Objective Value: 0.0022391047328710555</b>\",\"Trial #9<br>nlayers: 6<br>hidden_size: 1<br>optimizer_name: SGD<br>learning_rate: 0.006511673013711062<br>batch_size: 2767<br>activation: PReLU<br><b>Objective Value: 0.00198307938747213</b>\"],\"marker\":{\"color\":[\"rgb(218.0, 55.0, 42.0)\",\"rgb(254.0, 238.0, 165.0)\",\"rgb(165.0, 0.0, 38.0)\",\"rgb(246.0, 123.0, 74.0)\",\"rgb(253.0, 191.0, 113.0)\",\"rgb(238.0, 248.0, 223.0)\",\"rgb(49.0, 54.0, 149.0)\",\"rgb(189.0, 226.0, 238.0)\",\"rgb(128.0, 183.0, 214.0)\",\"rgb(74.0, 123.0, 183.0)\"],\"line\":{\"color\":\"Grey\",\"width\":0.5}},\"mode\":\"markers\",\"showlegend\":false,\"x\":[0.004411101706036235,0.003965332289175691,0.001705750989213183,0.001839058010253875,0.001921553915883699,0.004248005583275175,0.001760534713381132,0.009537520587256125,0.005949905799153901,0.006511673013711062],\"y\":[0.004411101706036235,0.003965332289175691,0.001705750989213183,0.001839058010253875,0.001921553915883699,0.004248005583275175,0.001760534713381132,0.009537520587256125,0.005949905799153901,0.006511673013711062],\"type\":\"scatter\",\"xaxis\":\"x22\",\"yaxis\":\"y22\"},{\"hovertemplate\":\"%{hovertext}<extra></extra>\",\"hovertext\":[\"Trial #0<br>nlayers: 4<br>hidden_size: 3<br>optimizer_name: SGD<br>learning_rate: 0.004411101706036235<br>batch_size: 670<br>activation: PReLU<br><b>Objective Value: 0.009967890081565772</b>\",\"Trial #1<br>nlayers: 3<br>hidden_size: 57<br>optimizer_name: RMSprop<br>learning_rate: 0.003965332289175691<br>batch_size: 634<br>activation: PReLU<br><b>Objective Value: 0.006631388602196606</b>\",\"Trial #2<br>nlayers: 5<br>hidden_size: 41<br>optimizer_name: SGD<br>learning_rate: 0.001705750989213183<br>batch_size: 511<br>activation: PReLU<br><b>Objective Value: 0.03136351634611589</b>\",\"Trial #3<br>nlayers: 2<br>hidden_size: 57<br>optimizer_name: SGD<br>learning_rate: 0.001839058010253875<br>batch_size: 1206<br>activation: PReLU<br><b>Objective Value: 0.009331022773809101</b>\",\"Trial #4<br>nlayers: 5<br>hidden_size: 1<br>optimizer_name: RMSprop<br>learning_rate: 0.001921553915883699<br>batch_size: 1413<br>activation: PReLU<br><b>Objective Value: 0.0069133908252554084</b>\",\"Trial #5<br>nlayers: 5<br>hidden_size: 41<br>optimizer_name: SGD<br>learning_rate: 0.004248005583275175<br>batch_size: 2016<br>activation: LeakyReLU<br><b>Objective Value: 0.003009425417061836</b>\",\"Trial #6<br>nlayers: 1<br>hidden_size: 48<br>optimizer_name: RMSprop<br>learning_rate: 0.001760534713381132<br>batch_size: 2478<br>activation: PReLU<br><b>Objective Value: 0.0016737091832337984</b>\",\"Trial #7<br>nlayers: 3<br>hidden_size: 8<br>optimizer_name: SGD<br>learning_rate: 0.009537520587256125<br>batch_size: 2001<br>activation: PReLU<br><b>Objective Value: 0.0023150240508155308</b>\",\"Trial #8<br>nlayers: 2<br>hidden_size: 51<br>optimizer_name: SGD<br>learning_rate: 0.005949905799153901<br>batch_size: 2060<br>activation: LeakyReLU<br><b>Objective Value: 0.0022391047328710555</b>\",\"Trial #9<br>nlayers: 6<br>hidden_size: 1<br>optimizer_name: SGD<br>learning_rate: 0.006511673013711062<br>batch_size: 2767<br>activation: PReLU<br><b>Objective Value: 0.00198307938747213</b>\"],\"marker\":{\"color\":[\"rgb(218.0, 55.0, 42.0)\",\"rgb(254.0, 238.0, 165.0)\",\"rgb(165.0, 0.0, 38.0)\",\"rgb(246.0, 123.0, 74.0)\",\"rgb(253.0, 191.0, 113.0)\",\"rgb(238.0, 248.0, 223.0)\",\"rgb(49.0, 54.0, 149.0)\",\"rgb(189.0, 226.0, 238.0)\",\"rgb(128.0, 183.0, 214.0)\",\"rgb(74.0, 123.0, 183.0)\"],\"line\":{\"color\":\"Grey\",\"width\":0.5}},\"mode\":\"markers\",\"showlegend\":false,\"x\":[0.004411101706036235,0.003965332289175691,0.001705750989213183,0.001839058010253875,0.001921553915883699,0.004248005583275175,0.001760534713381132,0.009537520587256125,0.005949905799153901,0.006511673013711062],\"y\":[4,3,5,2,5,5,1,3,2,6],\"type\":\"scatter\",\"xaxis\":\"x28\",\"yaxis\":\"y28\"},{\"hovertemplate\":\"%{hovertext}<extra></extra>\",\"hovertext\":[\"Trial #0<br>nlayers: 4<br>hidden_size: 3<br>optimizer_name: SGD<br>learning_rate: 0.004411101706036235<br>batch_size: 670<br>activation: PReLU<br><b>Objective Value: 0.009967890081565772</b>\",\"Trial #1<br>nlayers: 3<br>hidden_size: 57<br>optimizer_name: RMSprop<br>learning_rate: 0.003965332289175691<br>batch_size: 634<br>activation: PReLU<br><b>Objective Value: 0.006631388602196606</b>\",\"Trial #2<br>nlayers: 5<br>hidden_size: 41<br>optimizer_name: SGD<br>learning_rate: 0.001705750989213183<br>batch_size: 511<br>activation: PReLU<br><b>Objective Value: 0.03136351634611589</b>\",\"Trial #3<br>nlayers: 2<br>hidden_size: 57<br>optimizer_name: SGD<br>learning_rate: 0.001839058010253875<br>batch_size: 1206<br>activation: PReLU<br><b>Objective Value: 0.009331022773809101</b>\",\"Trial #4<br>nlayers: 5<br>hidden_size: 1<br>optimizer_name: RMSprop<br>learning_rate: 0.001921553915883699<br>batch_size: 1413<br>activation: PReLU<br><b>Objective Value: 0.0069133908252554084</b>\",\"Trial #5<br>nlayers: 5<br>hidden_size: 41<br>optimizer_name: SGD<br>learning_rate: 0.004248005583275175<br>batch_size: 2016<br>activation: LeakyReLU<br><b>Objective Value: 0.003009425417061836</b>\",\"Trial #6<br>nlayers: 1<br>hidden_size: 48<br>optimizer_name: RMSprop<br>learning_rate: 0.001760534713381132<br>batch_size: 2478<br>activation: PReLU<br><b>Objective Value: 0.0016737091832337984</b>\",\"Trial #7<br>nlayers: 3<br>hidden_size: 8<br>optimizer_name: SGD<br>learning_rate: 0.009537520587256125<br>batch_size: 2001<br>activation: PReLU<br><b>Objective Value: 0.0023150240508155308</b>\",\"Trial #8<br>nlayers: 2<br>hidden_size: 51<br>optimizer_name: SGD<br>learning_rate: 0.005949905799153901<br>batch_size: 2060<br>activation: LeakyReLU<br><b>Objective Value: 0.0022391047328710555</b>\",\"Trial #9<br>nlayers: 6<br>hidden_size: 1<br>optimizer_name: SGD<br>learning_rate: 0.006511673013711062<br>batch_size: 2767<br>activation: PReLU<br><b>Objective Value: 0.00198307938747213</b>\"],\"marker\":{\"color\":[\"rgb(218.0, 55.0, 42.0)\",\"rgb(254.0, 238.0, 165.0)\",\"rgb(165.0, 0.0, 38.0)\",\"rgb(246.0, 123.0, 74.0)\",\"rgb(253.0, 191.0, 113.0)\",\"rgb(238.0, 248.0, 223.0)\",\"rgb(49.0, 54.0, 149.0)\",\"rgb(189.0, 226.0, 238.0)\",\"rgb(128.0, 183.0, 214.0)\",\"rgb(74.0, 123.0, 183.0)\"],\"line\":{\"color\":\"Grey\",\"width\":0.5}},\"mode\":\"markers\",\"showlegend\":false,\"x\":[0.004411101706036235,0.003965332289175691,0.001705750989213183,0.001839058010253875,0.001921553915883699,0.004248005583275175,0.001760534713381132,0.009537520587256125,0.005949905799153901,0.006511673013711062],\"y\":[\"SGD\",\"RMSprop\",\"SGD\",\"SGD\",\"RMSprop\",\"SGD\",\"RMSprop\",\"SGD\",\"SGD\",\"SGD\"],\"type\":\"scatter\",\"xaxis\":\"x34\",\"yaxis\":\"y34\"},{\"hovertemplate\":\"%{hovertext}<extra></extra>\",\"hovertext\":[\"Trial #0<br>nlayers: 4<br>hidden_size: 3<br>optimizer_name: SGD<br>learning_rate: 0.004411101706036235<br>batch_size: 670<br>activation: PReLU<br><b>Objective Value: 0.009967890081565772</b>\",\"Trial #1<br>nlayers: 3<br>hidden_size: 57<br>optimizer_name: RMSprop<br>learning_rate: 0.003965332289175691<br>batch_size: 634<br>activation: PReLU<br><b>Objective Value: 0.006631388602196606</b>\",\"Trial #2<br>nlayers: 5<br>hidden_size: 41<br>optimizer_name: SGD<br>learning_rate: 0.001705750989213183<br>batch_size: 511<br>activation: PReLU<br><b>Objective Value: 0.03136351634611589</b>\",\"Trial #3<br>nlayers: 2<br>hidden_size: 57<br>optimizer_name: SGD<br>learning_rate: 0.001839058010253875<br>batch_size: 1206<br>activation: PReLU<br><b>Objective Value: 0.009331022773809101</b>\",\"Trial #4<br>nlayers: 5<br>hidden_size: 1<br>optimizer_name: RMSprop<br>learning_rate: 0.001921553915883699<br>batch_size: 1413<br>activation: PReLU<br><b>Objective Value: 0.0069133908252554084</b>\",\"Trial #5<br>nlayers: 5<br>hidden_size: 41<br>optimizer_name: SGD<br>learning_rate: 0.004248005583275175<br>batch_size: 2016<br>activation: LeakyReLU<br><b>Objective Value: 0.003009425417061836</b>\",\"Trial #6<br>nlayers: 1<br>hidden_size: 48<br>optimizer_name: RMSprop<br>learning_rate: 0.001760534713381132<br>batch_size: 2478<br>activation: PReLU<br><b>Objective Value: 0.0016737091832337984</b>\",\"Trial #7<br>nlayers: 3<br>hidden_size: 8<br>optimizer_name: SGD<br>learning_rate: 0.009537520587256125<br>batch_size: 2001<br>activation: PReLU<br><b>Objective Value: 0.0023150240508155308</b>\",\"Trial #8<br>nlayers: 2<br>hidden_size: 51<br>optimizer_name: SGD<br>learning_rate: 0.005949905799153901<br>batch_size: 2060<br>activation: LeakyReLU<br><b>Objective Value: 0.0022391047328710555</b>\",\"Trial #9<br>nlayers: 6<br>hidden_size: 1<br>optimizer_name: SGD<br>learning_rate: 0.006511673013711062<br>batch_size: 2767<br>activation: PReLU<br><b>Objective Value: 0.00198307938747213</b>\"],\"marker\":{\"color\":[\"rgb(218.0, 55.0, 42.0)\",\"rgb(254.0, 238.0, 165.0)\",\"rgb(165.0, 0.0, 38.0)\",\"rgb(246.0, 123.0, 74.0)\",\"rgb(253.0, 191.0, 113.0)\",\"rgb(238.0, 248.0, 223.0)\",\"rgb(49.0, 54.0, 149.0)\",\"rgb(189.0, 226.0, 238.0)\",\"rgb(128.0, 183.0, 214.0)\",\"rgb(74.0, 123.0, 183.0)\"],\"line\":{\"color\":\"Grey\",\"width\":0.5}},\"mode\":\"markers\",\"showlegend\":false,\"x\":[4,3,5,2,5,5,1,3,2,6],\"y\":[\"PReLU\",\"PReLU\",\"PReLU\",\"PReLU\",\"PReLU\",\"LeakyReLU\",\"PReLU\",\"PReLU\",\"LeakyReLU\",\"PReLU\"],\"type\":\"scatter\",\"xaxis\":\"x5\",\"yaxis\":\"y5\"},{\"hovertemplate\":\"%{hovertext}<extra></extra>\",\"hovertext\":[\"Trial #0<br>nlayers: 4<br>hidden_size: 3<br>optimizer_name: SGD<br>learning_rate: 0.004411101706036235<br>batch_size: 670<br>activation: PReLU<br><b>Objective Value: 0.009967890081565772</b>\",\"Trial #1<br>nlayers: 3<br>hidden_size: 57<br>optimizer_name: RMSprop<br>learning_rate: 0.003965332289175691<br>batch_size: 634<br>activation: PReLU<br><b>Objective Value: 0.006631388602196606</b>\",\"Trial #2<br>nlayers: 5<br>hidden_size: 41<br>optimizer_name: SGD<br>learning_rate: 0.001705750989213183<br>batch_size: 511<br>activation: PReLU<br><b>Objective Value: 0.03136351634611589</b>\",\"Trial #3<br>nlayers: 2<br>hidden_size: 57<br>optimizer_name: SGD<br>learning_rate: 0.001839058010253875<br>batch_size: 1206<br>activation: PReLU<br><b>Objective Value: 0.009331022773809101</b>\",\"Trial #4<br>nlayers: 5<br>hidden_size: 1<br>optimizer_name: RMSprop<br>learning_rate: 0.001921553915883699<br>batch_size: 1413<br>activation: PReLU<br><b>Objective Value: 0.0069133908252554084</b>\",\"Trial #5<br>nlayers: 5<br>hidden_size: 41<br>optimizer_name: SGD<br>learning_rate: 0.004248005583275175<br>batch_size: 2016<br>activation: LeakyReLU<br><b>Objective Value: 0.003009425417061836</b>\",\"Trial #6<br>nlayers: 1<br>hidden_size: 48<br>optimizer_name: RMSprop<br>learning_rate: 0.001760534713381132<br>batch_size: 2478<br>activation: PReLU<br><b>Objective Value: 0.0016737091832337984</b>\",\"Trial #7<br>nlayers: 3<br>hidden_size: 8<br>optimizer_name: SGD<br>learning_rate: 0.009537520587256125<br>batch_size: 2001<br>activation: PReLU<br><b>Objective Value: 0.0023150240508155308</b>\",\"Trial #8<br>nlayers: 2<br>hidden_size: 51<br>optimizer_name: SGD<br>learning_rate: 0.005949905799153901<br>batch_size: 2060<br>activation: LeakyReLU<br><b>Objective Value: 0.0022391047328710555</b>\",\"Trial #9<br>nlayers: 6<br>hidden_size: 1<br>optimizer_name: SGD<br>learning_rate: 0.006511673013711062<br>batch_size: 2767<br>activation: PReLU<br><b>Objective Value: 0.00198307938747213</b>\"],\"marker\":{\"color\":[\"rgb(218.0, 55.0, 42.0)\",\"rgb(254.0, 238.0, 165.0)\",\"rgb(165.0, 0.0, 38.0)\",\"rgb(246.0, 123.0, 74.0)\",\"rgb(253.0, 191.0, 113.0)\",\"rgb(238.0, 248.0, 223.0)\",\"rgb(49.0, 54.0, 149.0)\",\"rgb(189.0, 226.0, 238.0)\",\"rgb(128.0, 183.0, 214.0)\",\"rgb(74.0, 123.0, 183.0)\"],\"line\":{\"color\":\"Grey\",\"width\":0.5}},\"mode\":\"markers\",\"showlegend\":false,\"x\":[4,3,5,2,5,5,1,3,2,6],\"y\":[670,634,511,1206,1413,2016,2478,2001,2060,2767],\"type\":\"scatter\",\"xaxis\":\"x11\",\"yaxis\":\"y11\"},{\"hovertemplate\":\"%{hovertext}<extra></extra>\",\"hovertext\":[\"Trial #0<br>nlayers: 4<br>hidden_size: 3<br>optimizer_name: SGD<br>learning_rate: 0.004411101706036235<br>batch_size: 670<br>activation: PReLU<br><b>Objective Value: 0.009967890081565772</b>\",\"Trial #1<br>nlayers: 3<br>hidden_size: 57<br>optimizer_name: RMSprop<br>learning_rate: 0.003965332289175691<br>batch_size: 634<br>activation: PReLU<br><b>Objective Value: 0.006631388602196606</b>\",\"Trial #2<br>nlayers: 5<br>hidden_size: 41<br>optimizer_name: SGD<br>learning_rate: 0.001705750989213183<br>batch_size: 511<br>activation: PReLU<br><b>Objective Value: 0.03136351634611589</b>\",\"Trial #3<br>nlayers: 2<br>hidden_size: 57<br>optimizer_name: SGD<br>learning_rate: 0.001839058010253875<br>batch_size: 1206<br>activation: PReLU<br><b>Objective Value: 0.009331022773809101</b>\",\"Trial #4<br>nlayers: 5<br>hidden_size: 1<br>optimizer_name: RMSprop<br>learning_rate: 0.001921553915883699<br>batch_size: 1413<br>activation: PReLU<br><b>Objective Value: 0.0069133908252554084</b>\",\"Trial #5<br>nlayers: 5<br>hidden_size: 41<br>optimizer_name: SGD<br>learning_rate: 0.004248005583275175<br>batch_size: 2016<br>activation: LeakyReLU<br><b>Objective Value: 0.003009425417061836</b>\",\"Trial #6<br>nlayers: 1<br>hidden_size: 48<br>optimizer_name: RMSprop<br>learning_rate: 0.001760534713381132<br>batch_size: 2478<br>activation: PReLU<br><b>Objective Value: 0.0016737091832337984</b>\",\"Trial #7<br>nlayers: 3<br>hidden_size: 8<br>optimizer_name: SGD<br>learning_rate: 0.009537520587256125<br>batch_size: 2001<br>activation: PReLU<br><b>Objective Value: 0.0023150240508155308</b>\",\"Trial #8<br>nlayers: 2<br>hidden_size: 51<br>optimizer_name: SGD<br>learning_rate: 0.005949905799153901<br>batch_size: 2060<br>activation: LeakyReLU<br><b>Objective Value: 0.0022391047328710555</b>\",\"Trial #9<br>nlayers: 6<br>hidden_size: 1<br>optimizer_name: SGD<br>learning_rate: 0.006511673013711062<br>batch_size: 2767<br>activation: PReLU<br><b>Objective Value: 0.00198307938747213</b>\"],\"marker\":{\"color\":[\"rgb(218.0, 55.0, 42.0)\",\"rgb(254.0, 238.0, 165.0)\",\"rgb(165.0, 0.0, 38.0)\",\"rgb(246.0, 123.0, 74.0)\",\"rgb(253.0, 191.0, 113.0)\",\"rgb(238.0, 248.0, 223.0)\",\"rgb(49.0, 54.0, 149.0)\",\"rgb(189.0, 226.0, 238.0)\",\"rgb(128.0, 183.0, 214.0)\",\"rgb(74.0, 123.0, 183.0)\"],\"line\":{\"color\":\"Grey\",\"width\":0.5}},\"mode\":\"markers\",\"showlegend\":false,\"x\":[4,3,5,2,5,5,1,3,2,6],\"y\":[3,57,41,57,1,41,48,8,51,1],\"type\":\"scatter\",\"xaxis\":\"x17\",\"yaxis\":\"y17\"},{\"hovertemplate\":\"%{hovertext}<extra></extra>\",\"hovertext\":[\"Trial #0<br>nlayers: 4<br>hidden_size: 3<br>optimizer_name: SGD<br>learning_rate: 0.004411101706036235<br>batch_size: 670<br>activation: PReLU<br><b>Objective Value: 0.009967890081565772</b>\",\"Trial #1<br>nlayers: 3<br>hidden_size: 57<br>optimizer_name: RMSprop<br>learning_rate: 0.003965332289175691<br>batch_size: 634<br>activation: PReLU<br><b>Objective Value: 0.006631388602196606</b>\",\"Trial #2<br>nlayers: 5<br>hidden_size: 41<br>optimizer_name: SGD<br>learning_rate: 0.001705750989213183<br>batch_size: 511<br>activation: PReLU<br><b>Objective Value: 0.03136351634611589</b>\",\"Trial #3<br>nlayers: 2<br>hidden_size: 57<br>optimizer_name: SGD<br>learning_rate: 0.001839058010253875<br>batch_size: 1206<br>activation: PReLU<br><b>Objective Value: 0.009331022773809101</b>\",\"Trial #4<br>nlayers: 5<br>hidden_size: 1<br>optimizer_name: RMSprop<br>learning_rate: 0.001921553915883699<br>batch_size: 1413<br>activation: PReLU<br><b>Objective Value: 0.0069133908252554084</b>\",\"Trial #5<br>nlayers: 5<br>hidden_size: 41<br>optimizer_name: SGD<br>learning_rate: 0.004248005583275175<br>batch_size: 2016<br>activation: LeakyReLU<br><b>Objective Value: 0.003009425417061836</b>\",\"Trial #6<br>nlayers: 1<br>hidden_size: 48<br>optimizer_name: RMSprop<br>learning_rate: 0.001760534713381132<br>batch_size: 2478<br>activation: PReLU<br><b>Objective Value: 0.0016737091832337984</b>\",\"Trial #7<br>nlayers: 3<br>hidden_size: 8<br>optimizer_name: SGD<br>learning_rate: 0.009537520587256125<br>batch_size: 2001<br>activation: PReLU<br><b>Objective Value: 0.0023150240508155308</b>\",\"Trial #8<br>nlayers: 2<br>hidden_size: 51<br>optimizer_name: SGD<br>learning_rate: 0.005949905799153901<br>batch_size: 2060<br>activation: LeakyReLU<br><b>Objective Value: 0.0022391047328710555</b>\",\"Trial #9<br>nlayers: 6<br>hidden_size: 1<br>optimizer_name: SGD<br>learning_rate: 0.006511673013711062<br>batch_size: 2767<br>activation: PReLU<br><b>Objective Value: 0.00198307938747213</b>\"],\"marker\":{\"color\":[\"rgb(218.0, 55.0, 42.0)\",\"rgb(254.0, 238.0, 165.0)\",\"rgb(165.0, 0.0, 38.0)\",\"rgb(246.0, 123.0, 74.0)\",\"rgb(253.0, 191.0, 113.0)\",\"rgb(238.0, 248.0, 223.0)\",\"rgb(49.0, 54.0, 149.0)\",\"rgb(189.0, 226.0, 238.0)\",\"rgb(128.0, 183.0, 214.0)\",\"rgb(74.0, 123.0, 183.0)\"],\"line\":{\"color\":\"Grey\",\"width\":0.5}},\"mode\":\"markers\",\"showlegend\":false,\"x\":[4,3,5,2,5,5,1,3,2,6],\"y\":[0.004411101706036235,0.003965332289175691,0.001705750989213183,0.001839058010253875,0.001921553915883699,0.004248005583275175,0.001760534713381132,0.009537520587256125,0.005949905799153901,0.006511673013711062],\"type\":\"scatter\",\"xaxis\":\"x23\",\"yaxis\":\"y23\"},{\"hovertemplate\":\"%{hovertext}<extra></extra>\",\"hovertext\":[\"Trial #0<br>nlayers: 4<br>hidden_size: 3<br>optimizer_name: SGD<br>learning_rate: 0.004411101706036235<br>batch_size: 670<br>activation: PReLU<br><b>Objective Value: 0.009967890081565772</b>\",\"Trial #1<br>nlayers: 3<br>hidden_size: 57<br>optimizer_name: RMSprop<br>learning_rate: 0.003965332289175691<br>batch_size: 634<br>activation: PReLU<br><b>Objective Value: 0.006631388602196606</b>\",\"Trial #2<br>nlayers: 5<br>hidden_size: 41<br>optimizer_name: SGD<br>learning_rate: 0.001705750989213183<br>batch_size: 511<br>activation: PReLU<br><b>Objective Value: 0.03136351634611589</b>\",\"Trial #3<br>nlayers: 2<br>hidden_size: 57<br>optimizer_name: SGD<br>learning_rate: 0.001839058010253875<br>batch_size: 1206<br>activation: PReLU<br><b>Objective Value: 0.009331022773809101</b>\",\"Trial #4<br>nlayers: 5<br>hidden_size: 1<br>optimizer_name: RMSprop<br>learning_rate: 0.001921553915883699<br>batch_size: 1413<br>activation: PReLU<br><b>Objective Value: 0.0069133908252554084</b>\",\"Trial #5<br>nlayers: 5<br>hidden_size: 41<br>optimizer_name: SGD<br>learning_rate: 0.004248005583275175<br>batch_size: 2016<br>activation: LeakyReLU<br><b>Objective Value: 0.003009425417061836</b>\",\"Trial #6<br>nlayers: 1<br>hidden_size: 48<br>optimizer_name: RMSprop<br>learning_rate: 0.001760534713381132<br>batch_size: 2478<br>activation: PReLU<br><b>Objective Value: 0.0016737091832337984</b>\",\"Trial #7<br>nlayers: 3<br>hidden_size: 8<br>optimizer_name: SGD<br>learning_rate: 0.009537520587256125<br>batch_size: 2001<br>activation: PReLU<br><b>Objective Value: 0.0023150240508155308</b>\",\"Trial #8<br>nlayers: 2<br>hidden_size: 51<br>optimizer_name: SGD<br>learning_rate: 0.005949905799153901<br>batch_size: 2060<br>activation: LeakyReLU<br><b>Objective Value: 0.0022391047328710555</b>\",\"Trial #9<br>nlayers: 6<br>hidden_size: 1<br>optimizer_name: SGD<br>learning_rate: 0.006511673013711062<br>batch_size: 2767<br>activation: PReLU<br><b>Objective Value: 0.00198307938747213</b>\"],\"marker\":{\"color\":[\"rgb(218.0, 55.0, 42.0)\",\"rgb(254.0, 238.0, 165.0)\",\"rgb(165.0, 0.0, 38.0)\",\"rgb(246.0, 123.0, 74.0)\",\"rgb(253.0, 191.0, 113.0)\",\"rgb(238.0, 248.0, 223.0)\",\"rgb(49.0, 54.0, 149.0)\",\"rgb(189.0, 226.0, 238.0)\",\"rgb(128.0, 183.0, 214.0)\",\"rgb(74.0, 123.0, 183.0)\"],\"line\":{\"color\":\"Grey\",\"width\":0.5}},\"mode\":\"markers\",\"showlegend\":false,\"x\":[4,3,5,2,5,5,1,3,2,6],\"y\":[4,3,5,2,5,5,1,3,2,6],\"type\":\"scatter\",\"xaxis\":\"x29\",\"yaxis\":\"y29\"},{\"hovertemplate\":\"%{hovertext}<extra></extra>\",\"hovertext\":[\"Trial #0<br>nlayers: 4<br>hidden_size: 3<br>optimizer_name: SGD<br>learning_rate: 0.004411101706036235<br>batch_size: 670<br>activation: PReLU<br><b>Objective Value: 0.009967890081565772</b>\",\"Trial #1<br>nlayers: 3<br>hidden_size: 57<br>optimizer_name: RMSprop<br>learning_rate: 0.003965332289175691<br>batch_size: 634<br>activation: PReLU<br><b>Objective Value: 0.006631388602196606</b>\",\"Trial #2<br>nlayers: 5<br>hidden_size: 41<br>optimizer_name: SGD<br>learning_rate: 0.001705750989213183<br>batch_size: 511<br>activation: PReLU<br><b>Objective Value: 0.03136351634611589</b>\",\"Trial #3<br>nlayers: 2<br>hidden_size: 57<br>optimizer_name: SGD<br>learning_rate: 0.001839058010253875<br>batch_size: 1206<br>activation: PReLU<br><b>Objective Value: 0.009331022773809101</b>\",\"Trial #4<br>nlayers: 5<br>hidden_size: 1<br>optimizer_name: RMSprop<br>learning_rate: 0.001921553915883699<br>batch_size: 1413<br>activation: PReLU<br><b>Objective Value: 0.0069133908252554084</b>\",\"Trial #5<br>nlayers: 5<br>hidden_size: 41<br>optimizer_name: SGD<br>learning_rate: 0.004248005583275175<br>batch_size: 2016<br>activation: LeakyReLU<br><b>Objective Value: 0.003009425417061836</b>\",\"Trial #6<br>nlayers: 1<br>hidden_size: 48<br>optimizer_name: RMSprop<br>learning_rate: 0.001760534713381132<br>batch_size: 2478<br>activation: PReLU<br><b>Objective Value: 0.0016737091832337984</b>\",\"Trial #7<br>nlayers: 3<br>hidden_size: 8<br>optimizer_name: SGD<br>learning_rate: 0.009537520587256125<br>batch_size: 2001<br>activation: PReLU<br><b>Objective Value: 0.0023150240508155308</b>\",\"Trial #8<br>nlayers: 2<br>hidden_size: 51<br>optimizer_name: SGD<br>learning_rate: 0.005949905799153901<br>batch_size: 2060<br>activation: LeakyReLU<br><b>Objective Value: 0.0022391047328710555</b>\",\"Trial #9<br>nlayers: 6<br>hidden_size: 1<br>optimizer_name: SGD<br>learning_rate: 0.006511673013711062<br>batch_size: 2767<br>activation: PReLU<br><b>Objective Value: 0.00198307938747213</b>\"],\"marker\":{\"color\":[\"rgb(218.0, 55.0, 42.0)\",\"rgb(254.0, 238.0, 165.0)\",\"rgb(165.0, 0.0, 38.0)\",\"rgb(246.0, 123.0, 74.0)\",\"rgb(253.0, 191.0, 113.0)\",\"rgb(238.0, 248.0, 223.0)\",\"rgb(49.0, 54.0, 149.0)\",\"rgb(189.0, 226.0, 238.0)\",\"rgb(128.0, 183.0, 214.0)\",\"rgb(74.0, 123.0, 183.0)\"],\"line\":{\"color\":\"Grey\",\"width\":0.5}},\"mode\":\"markers\",\"showlegend\":false,\"x\":[4,3,5,2,5,5,1,3,2,6],\"y\":[\"SGD\",\"RMSprop\",\"SGD\",\"SGD\",\"RMSprop\",\"SGD\",\"RMSprop\",\"SGD\",\"SGD\",\"SGD\"],\"type\":\"scatter\",\"xaxis\":\"x35\",\"yaxis\":\"y35\"},{\"hovertemplate\":\"%{hovertext}<extra></extra>\",\"hovertext\":[\"Trial #0<br>nlayers: 4<br>hidden_size: 3<br>optimizer_name: SGD<br>learning_rate: 0.004411101706036235<br>batch_size: 670<br>activation: PReLU<br><b>Objective Value: 0.009967890081565772</b>\",\"Trial #1<br>nlayers: 3<br>hidden_size: 57<br>optimizer_name: RMSprop<br>learning_rate: 0.003965332289175691<br>batch_size: 634<br>activation: PReLU<br><b>Objective Value: 0.006631388602196606</b>\",\"Trial #2<br>nlayers: 5<br>hidden_size: 41<br>optimizer_name: SGD<br>learning_rate: 0.001705750989213183<br>batch_size: 511<br>activation: PReLU<br><b>Objective Value: 0.03136351634611589</b>\",\"Trial #3<br>nlayers: 2<br>hidden_size: 57<br>optimizer_name: SGD<br>learning_rate: 0.001839058010253875<br>batch_size: 1206<br>activation: PReLU<br><b>Objective Value: 0.009331022773809101</b>\",\"Trial #4<br>nlayers: 5<br>hidden_size: 1<br>optimizer_name: RMSprop<br>learning_rate: 0.001921553915883699<br>batch_size: 1413<br>activation: PReLU<br><b>Objective Value: 0.0069133908252554084</b>\",\"Trial #5<br>nlayers: 5<br>hidden_size: 41<br>optimizer_name: SGD<br>learning_rate: 0.004248005583275175<br>batch_size: 2016<br>activation: LeakyReLU<br><b>Objective Value: 0.003009425417061836</b>\",\"Trial #6<br>nlayers: 1<br>hidden_size: 48<br>optimizer_name: RMSprop<br>learning_rate: 0.001760534713381132<br>batch_size: 2478<br>activation: PReLU<br><b>Objective Value: 0.0016737091832337984</b>\",\"Trial #7<br>nlayers: 3<br>hidden_size: 8<br>optimizer_name: SGD<br>learning_rate: 0.009537520587256125<br>batch_size: 2001<br>activation: PReLU<br><b>Objective Value: 0.0023150240508155308</b>\",\"Trial #8<br>nlayers: 2<br>hidden_size: 51<br>optimizer_name: SGD<br>learning_rate: 0.005949905799153901<br>batch_size: 2060<br>activation: LeakyReLU<br><b>Objective Value: 0.0022391047328710555</b>\",\"Trial #9<br>nlayers: 6<br>hidden_size: 1<br>optimizer_name: SGD<br>learning_rate: 0.006511673013711062<br>batch_size: 2767<br>activation: PReLU<br><b>Objective Value: 0.00198307938747213</b>\"],\"marker\":{\"color\":[\"rgb(218.0, 55.0, 42.0)\",\"rgb(254.0, 238.0, 165.0)\",\"rgb(165.0, 0.0, 38.0)\",\"rgb(246.0, 123.0, 74.0)\",\"rgb(253.0, 191.0, 113.0)\",\"rgb(238.0, 248.0, 223.0)\",\"rgb(49.0, 54.0, 149.0)\",\"rgb(189.0, 226.0, 238.0)\",\"rgb(128.0, 183.0, 214.0)\",\"rgb(74.0, 123.0, 183.0)\"],\"line\":{\"color\":\"Grey\",\"width\":0.5}},\"mode\":\"markers\",\"showlegend\":false,\"x\":[\"SGD\",\"RMSprop\",\"SGD\",\"SGD\",\"RMSprop\",\"SGD\",\"RMSprop\",\"SGD\",\"SGD\",\"SGD\"],\"y\":[\"PReLU\",\"PReLU\",\"PReLU\",\"PReLU\",\"PReLU\",\"LeakyReLU\",\"PReLU\",\"PReLU\",\"LeakyReLU\",\"PReLU\"],\"type\":\"scatter\",\"xaxis\":\"x6\",\"yaxis\":\"y6\"},{\"hovertemplate\":\"%{hovertext}<extra></extra>\",\"hovertext\":[\"Trial #0<br>nlayers: 4<br>hidden_size: 3<br>optimizer_name: SGD<br>learning_rate: 0.004411101706036235<br>batch_size: 670<br>activation: PReLU<br><b>Objective Value: 0.009967890081565772</b>\",\"Trial #1<br>nlayers: 3<br>hidden_size: 57<br>optimizer_name: RMSprop<br>learning_rate: 0.003965332289175691<br>batch_size: 634<br>activation: PReLU<br><b>Objective Value: 0.006631388602196606</b>\",\"Trial #2<br>nlayers: 5<br>hidden_size: 41<br>optimizer_name: SGD<br>learning_rate: 0.001705750989213183<br>batch_size: 511<br>activation: PReLU<br><b>Objective Value: 0.03136351634611589</b>\",\"Trial #3<br>nlayers: 2<br>hidden_size: 57<br>optimizer_name: SGD<br>learning_rate: 0.001839058010253875<br>batch_size: 1206<br>activation: PReLU<br><b>Objective Value: 0.009331022773809101</b>\",\"Trial #4<br>nlayers: 5<br>hidden_size: 1<br>optimizer_name: RMSprop<br>learning_rate: 0.001921553915883699<br>batch_size: 1413<br>activation: PReLU<br><b>Objective Value: 0.0069133908252554084</b>\",\"Trial #5<br>nlayers: 5<br>hidden_size: 41<br>optimizer_name: SGD<br>learning_rate: 0.004248005583275175<br>batch_size: 2016<br>activation: LeakyReLU<br><b>Objective Value: 0.003009425417061836</b>\",\"Trial #6<br>nlayers: 1<br>hidden_size: 48<br>optimizer_name: RMSprop<br>learning_rate: 0.001760534713381132<br>batch_size: 2478<br>activation: PReLU<br><b>Objective Value: 0.0016737091832337984</b>\",\"Trial #7<br>nlayers: 3<br>hidden_size: 8<br>optimizer_name: SGD<br>learning_rate: 0.009537520587256125<br>batch_size: 2001<br>activation: PReLU<br><b>Objective Value: 0.0023150240508155308</b>\",\"Trial #8<br>nlayers: 2<br>hidden_size: 51<br>optimizer_name: SGD<br>learning_rate: 0.005949905799153901<br>batch_size: 2060<br>activation: LeakyReLU<br><b>Objective Value: 0.0022391047328710555</b>\",\"Trial #9<br>nlayers: 6<br>hidden_size: 1<br>optimizer_name: SGD<br>learning_rate: 0.006511673013711062<br>batch_size: 2767<br>activation: PReLU<br><b>Objective Value: 0.00198307938747213</b>\"],\"marker\":{\"color\":[\"rgb(218.0, 55.0, 42.0)\",\"rgb(254.0, 238.0, 165.0)\",\"rgb(165.0, 0.0, 38.0)\",\"rgb(246.0, 123.0, 74.0)\",\"rgb(253.0, 191.0, 113.0)\",\"rgb(238.0, 248.0, 223.0)\",\"rgb(49.0, 54.0, 149.0)\",\"rgb(189.0, 226.0, 238.0)\",\"rgb(128.0, 183.0, 214.0)\",\"rgb(74.0, 123.0, 183.0)\"],\"line\":{\"color\":\"Grey\",\"width\":0.5}},\"mode\":\"markers\",\"showlegend\":false,\"x\":[\"SGD\",\"RMSprop\",\"SGD\",\"SGD\",\"RMSprop\",\"SGD\",\"RMSprop\",\"SGD\",\"SGD\",\"SGD\"],\"y\":[670,634,511,1206,1413,2016,2478,2001,2060,2767],\"type\":\"scatter\",\"xaxis\":\"x12\",\"yaxis\":\"y12\"},{\"hovertemplate\":\"%{hovertext}<extra></extra>\",\"hovertext\":[\"Trial #0<br>nlayers: 4<br>hidden_size: 3<br>optimizer_name: SGD<br>learning_rate: 0.004411101706036235<br>batch_size: 670<br>activation: PReLU<br><b>Objective Value: 0.009967890081565772</b>\",\"Trial #1<br>nlayers: 3<br>hidden_size: 57<br>optimizer_name: RMSprop<br>learning_rate: 0.003965332289175691<br>batch_size: 634<br>activation: PReLU<br><b>Objective Value: 0.006631388602196606</b>\",\"Trial #2<br>nlayers: 5<br>hidden_size: 41<br>optimizer_name: SGD<br>learning_rate: 0.001705750989213183<br>batch_size: 511<br>activation: PReLU<br><b>Objective Value: 0.03136351634611589</b>\",\"Trial #3<br>nlayers: 2<br>hidden_size: 57<br>optimizer_name: SGD<br>learning_rate: 0.001839058010253875<br>batch_size: 1206<br>activation: PReLU<br><b>Objective Value: 0.009331022773809101</b>\",\"Trial #4<br>nlayers: 5<br>hidden_size: 1<br>optimizer_name: RMSprop<br>learning_rate: 0.001921553915883699<br>batch_size: 1413<br>activation: PReLU<br><b>Objective Value: 0.0069133908252554084</b>\",\"Trial #5<br>nlayers: 5<br>hidden_size: 41<br>optimizer_name: SGD<br>learning_rate: 0.004248005583275175<br>batch_size: 2016<br>activation: LeakyReLU<br><b>Objective Value: 0.003009425417061836</b>\",\"Trial #6<br>nlayers: 1<br>hidden_size: 48<br>optimizer_name: RMSprop<br>learning_rate: 0.001760534713381132<br>batch_size: 2478<br>activation: PReLU<br><b>Objective Value: 0.0016737091832337984</b>\",\"Trial #7<br>nlayers: 3<br>hidden_size: 8<br>optimizer_name: SGD<br>learning_rate: 0.009537520587256125<br>batch_size: 2001<br>activation: PReLU<br><b>Objective Value: 0.0023150240508155308</b>\",\"Trial #8<br>nlayers: 2<br>hidden_size: 51<br>optimizer_name: SGD<br>learning_rate: 0.005949905799153901<br>batch_size: 2060<br>activation: LeakyReLU<br><b>Objective Value: 0.0022391047328710555</b>\",\"Trial #9<br>nlayers: 6<br>hidden_size: 1<br>optimizer_name: SGD<br>learning_rate: 0.006511673013711062<br>batch_size: 2767<br>activation: PReLU<br><b>Objective Value: 0.00198307938747213</b>\"],\"marker\":{\"color\":[\"rgb(218.0, 55.0, 42.0)\",\"rgb(254.0, 238.0, 165.0)\",\"rgb(165.0, 0.0, 38.0)\",\"rgb(246.0, 123.0, 74.0)\",\"rgb(253.0, 191.0, 113.0)\",\"rgb(238.0, 248.0, 223.0)\",\"rgb(49.0, 54.0, 149.0)\",\"rgb(189.0, 226.0, 238.0)\",\"rgb(128.0, 183.0, 214.0)\",\"rgb(74.0, 123.0, 183.0)\"],\"line\":{\"color\":\"Grey\",\"width\":0.5}},\"mode\":\"markers\",\"showlegend\":false,\"x\":[\"SGD\",\"RMSprop\",\"SGD\",\"SGD\",\"RMSprop\",\"SGD\",\"RMSprop\",\"SGD\",\"SGD\",\"SGD\"],\"y\":[3,57,41,57,1,41,48,8,51,1],\"type\":\"scatter\",\"xaxis\":\"x18\",\"yaxis\":\"y18\"},{\"hovertemplate\":\"%{hovertext}<extra></extra>\",\"hovertext\":[\"Trial #0<br>nlayers: 4<br>hidden_size: 3<br>optimizer_name: SGD<br>learning_rate: 0.004411101706036235<br>batch_size: 670<br>activation: PReLU<br><b>Objective Value: 0.009967890081565772</b>\",\"Trial #1<br>nlayers: 3<br>hidden_size: 57<br>optimizer_name: RMSprop<br>learning_rate: 0.003965332289175691<br>batch_size: 634<br>activation: PReLU<br><b>Objective Value: 0.006631388602196606</b>\",\"Trial #2<br>nlayers: 5<br>hidden_size: 41<br>optimizer_name: SGD<br>learning_rate: 0.001705750989213183<br>batch_size: 511<br>activation: PReLU<br><b>Objective Value: 0.03136351634611589</b>\",\"Trial #3<br>nlayers: 2<br>hidden_size: 57<br>optimizer_name: SGD<br>learning_rate: 0.001839058010253875<br>batch_size: 1206<br>activation: PReLU<br><b>Objective Value: 0.009331022773809101</b>\",\"Trial #4<br>nlayers: 5<br>hidden_size: 1<br>optimizer_name: RMSprop<br>learning_rate: 0.001921553915883699<br>batch_size: 1413<br>activation: PReLU<br><b>Objective Value: 0.0069133908252554084</b>\",\"Trial #5<br>nlayers: 5<br>hidden_size: 41<br>optimizer_name: SGD<br>learning_rate: 0.004248005583275175<br>batch_size: 2016<br>activation: LeakyReLU<br><b>Objective Value: 0.003009425417061836</b>\",\"Trial #6<br>nlayers: 1<br>hidden_size: 48<br>optimizer_name: RMSprop<br>learning_rate: 0.001760534713381132<br>batch_size: 2478<br>activation: PReLU<br><b>Objective Value: 0.0016737091832337984</b>\",\"Trial #7<br>nlayers: 3<br>hidden_size: 8<br>optimizer_name: SGD<br>learning_rate: 0.009537520587256125<br>batch_size: 2001<br>activation: PReLU<br><b>Objective Value: 0.0023150240508155308</b>\",\"Trial #8<br>nlayers: 2<br>hidden_size: 51<br>optimizer_name: SGD<br>learning_rate: 0.005949905799153901<br>batch_size: 2060<br>activation: LeakyReLU<br><b>Objective Value: 0.0022391047328710555</b>\",\"Trial #9<br>nlayers: 6<br>hidden_size: 1<br>optimizer_name: SGD<br>learning_rate: 0.006511673013711062<br>batch_size: 2767<br>activation: PReLU<br><b>Objective Value: 0.00198307938747213</b>\"],\"marker\":{\"color\":[\"rgb(218.0, 55.0, 42.0)\",\"rgb(254.0, 238.0, 165.0)\",\"rgb(165.0, 0.0, 38.0)\",\"rgb(246.0, 123.0, 74.0)\",\"rgb(253.0, 191.0, 113.0)\",\"rgb(238.0, 248.0, 223.0)\",\"rgb(49.0, 54.0, 149.0)\",\"rgb(189.0, 226.0, 238.0)\",\"rgb(128.0, 183.0, 214.0)\",\"rgb(74.0, 123.0, 183.0)\"],\"line\":{\"color\":\"Grey\",\"width\":0.5}},\"mode\":\"markers\",\"showlegend\":false,\"x\":[\"SGD\",\"RMSprop\",\"SGD\",\"SGD\",\"RMSprop\",\"SGD\",\"RMSprop\",\"SGD\",\"SGD\",\"SGD\"],\"y\":[0.004411101706036235,0.003965332289175691,0.001705750989213183,0.001839058010253875,0.001921553915883699,0.004248005583275175,0.001760534713381132,0.009537520587256125,0.005949905799153901,0.006511673013711062],\"type\":\"scatter\",\"xaxis\":\"x24\",\"yaxis\":\"y24\"},{\"hovertemplate\":\"%{hovertext}<extra></extra>\",\"hovertext\":[\"Trial #0<br>nlayers: 4<br>hidden_size: 3<br>optimizer_name: SGD<br>learning_rate: 0.004411101706036235<br>batch_size: 670<br>activation: PReLU<br><b>Objective Value: 0.009967890081565772</b>\",\"Trial #1<br>nlayers: 3<br>hidden_size: 57<br>optimizer_name: RMSprop<br>learning_rate: 0.003965332289175691<br>batch_size: 634<br>activation: PReLU<br><b>Objective Value: 0.006631388602196606</b>\",\"Trial #2<br>nlayers: 5<br>hidden_size: 41<br>optimizer_name: SGD<br>learning_rate: 0.001705750989213183<br>batch_size: 511<br>activation: PReLU<br><b>Objective Value: 0.03136351634611589</b>\",\"Trial #3<br>nlayers: 2<br>hidden_size: 57<br>optimizer_name: SGD<br>learning_rate: 0.001839058010253875<br>batch_size: 1206<br>activation: PReLU<br><b>Objective Value: 0.009331022773809101</b>\",\"Trial #4<br>nlayers: 5<br>hidden_size: 1<br>optimizer_name: RMSprop<br>learning_rate: 0.001921553915883699<br>batch_size: 1413<br>activation: PReLU<br><b>Objective Value: 0.0069133908252554084</b>\",\"Trial #5<br>nlayers: 5<br>hidden_size: 41<br>optimizer_name: SGD<br>learning_rate: 0.004248005583275175<br>batch_size: 2016<br>activation: LeakyReLU<br><b>Objective Value: 0.003009425417061836</b>\",\"Trial #6<br>nlayers: 1<br>hidden_size: 48<br>optimizer_name: RMSprop<br>learning_rate: 0.001760534713381132<br>batch_size: 2478<br>activation: PReLU<br><b>Objective Value: 0.0016737091832337984</b>\",\"Trial #7<br>nlayers: 3<br>hidden_size: 8<br>optimizer_name: SGD<br>learning_rate: 0.009537520587256125<br>batch_size: 2001<br>activation: PReLU<br><b>Objective Value: 0.0023150240508155308</b>\",\"Trial #8<br>nlayers: 2<br>hidden_size: 51<br>optimizer_name: SGD<br>learning_rate: 0.005949905799153901<br>batch_size: 2060<br>activation: LeakyReLU<br><b>Objective Value: 0.0022391047328710555</b>\",\"Trial #9<br>nlayers: 6<br>hidden_size: 1<br>optimizer_name: SGD<br>learning_rate: 0.006511673013711062<br>batch_size: 2767<br>activation: PReLU<br><b>Objective Value: 0.00198307938747213</b>\"],\"marker\":{\"color\":[\"rgb(218.0, 55.0, 42.0)\",\"rgb(254.0, 238.0, 165.0)\",\"rgb(165.0, 0.0, 38.0)\",\"rgb(246.0, 123.0, 74.0)\",\"rgb(253.0, 191.0, 113.0)\",\"rgb(238.0, 248.0, 223.0)\",\"rgb(49.0, 54.0, 149.0)\",\"rgb(189.0, 226.0, 238.0)\",\"rgb(128.0, 183.0, 214.0)\",\"rgb(74.0, 123.0, 183.0)\"],\"line\":{\"color\":\"Grey\",\"width\":0.5}},\"mode\":\"markers\",\"showlegend\":false,\"x\":[\"SGD\",\"RMSprop\",\"SGD\",\"SGD\",\"RMSprop\",\"SGD\",\"RMSprop\",\"SGD\",\"SGD\",\"SGD\"],\"y\":[4,3,5,2,5,5,1,3,2,6],\"type\":\"scatter\",\"xaxis\":\"x30\",\"yaxis\":\"y30\"},{\"hovertemplate\":\"%{hovertext}<extra></extra>\",\"hovertext\":[\"Trial #0<br>nlayers: 4<br>hidden_size: 3<br>optimizer_name: SGD<br>learning_rate: 0.004411101706036235<br>batch_size: 670<br>activation: PReLU<br><b>Objective Value: 0.009967890081565772</b>\",\"Trial #1<br>nlayers: 3<br>hidden_size: 57<br>optimizer_name: RMSprop<br>learning_rate: 0.003965332289175691<br>batch_size: 634<br>activation: PReLU<br><b>Objective Value: 0.006631388602196606</b>\",\"Trial #2<br>nlayers: 5<br>hidden_size: 41<br>optimizer_name: SGD<br>learning_rate: 0.001705750989213183<br>batch_size: 511<br>activation: PReLU<br><b>Objective Value: 0.03136351634611589</b>\",\"Trial #3<br>nlayers: 2<br>hidden_size: 57<br>optimizer_name: SGD<br>learning_rate: 0.001839058010253875<br>batch_size: 1206<br>activation: PReLU<br><b>Objective Value: 0.009331022773809101</b>\",\"Trial #4<br>nlayers: 5<br>hidden_size: 1<br>optimizer_name: RMSprop<br>learning_rate: 0.001921553915883699<br>batch_size: 1413<br>activation: PReLU<br><b>Objective Value: 0.0069133908252554084</b>\",\"Trial #5<br>nlayers: 5<br>hidden_size: 41<br>optimizer_name: SGD<br>learning_rate: 0.004248005583275175<br>batch_size: 2016<br>activation: LeakyReLU<br><b>Objective Value: 0.003009425417061836</b>\",\"Trial #6<br>nlayers: 1<br>hidden_size: 48<br>optimizer_name: RMSprop<br>learning_rate: 0.001760534713381132<br>batch_size: 2478<br>activation: PReLU<br><b>Objective Value: 0.0016737091832337984</b>\",\"Trial #7<br>nlayers: 3<br>hidden_size: 8<br>optimizer_name: SGD<br>learning_rate: 0.009537520587256125<br>batch_size: 2001<br>activation: PReLU<br><b>Objective Value: 0.0023150240508155308</b>\",\"Trial #8<br>nlayers: 2<br>hidden_size: 51<br>optimizer_name: SGD<br>learning_rate: 0.005949905799153901<br>batch_size: 2060<br>activation: LeakyReLU<br><b>Objective Value: 0.0022391047328710555</b>\",\"Trial #9<br>nlayers: 6<br>hidden_size: 1<br>optimizer_name: SGD<br>learning_rate: 0.006511673013711062<br>batch_size: 2767<br>activation: PReLU<br><b>Objective Value: 0.00198307938747213</b>\"],\"marker\":{\"color\":[\"rgb(218.0, 55.0, 42.0)\",\"rgb(254.0, 238.0, 165.0)\",\"rgb(165.0, 0.0, 38.0)\",\"rgb(246.0, 123.0, 74.0)\",\"rgb(253.0, 191.0, 113.0)\",\"rgb(238.0, 248.0, 223.0)\",\"rgb(49.0, 54.0, 149.0)\",\"rgb(189.0, 226.0, 238.0)\",\"rgb(128.0, 183.0, 214.0)\",\"rgb(74.0, 123.0, 183.0)\"],\"line\":{\"color\":\"Grey\",\"width\":0.5}},\"mode\":\"markers\",\"showlegend\":false,\"x\":[\"SGD\",\"RMSprop\",\"SGD\",\"SGD\",\"RMSprop\",\"SGD\",\"RMSprop\",\"SGD\",\"SGD\",\"SGD\"],\"y\":[\"SGD\",\"RMSprop\",\"SGD\",\"SGD\",\"RMSprop\",\"SGD\",\"RMSprop\",\"SGD\",\"SGD\",\"SGD\"],\"type\":\"scatter\",\"xaxis\":\"x36\",\"yaxis\":\"y36\"},{\"hoverinfo\":\"none\",\"marker\":{\"cmax\":1,\"cmin\":0,\"colorbar\":{\"thickness\":10,\"ticktext\":[\"min. (0.00167371)\",\"25% (0.00225808)\",\"50% (0.00482041)\",\"75% (0.00872661)\",\"max. (0.0313635)\"],\"tickvals\":[0,0.25,0.5,0.75,1]},\"colorscale\":[[0.0,\"rgb(49,54,149)\"],[0.1,\"rgb(69,117,180)\"],[0.2,\"rgb(116,173,209)\"],[0.3,\"rgb(171,217,233)\"],[0.4,\"rgb(224,243,248)\"],[0.5,\"rgb(255,255,191)\"],[0.6,\"rgb(254,224,144)\"],[0.7,\"rgb(253,174,97)\"],[0.8,\"rgb(244,109,67)\"],[0.9,\"rgb(215,48,39)\"],[1.0,\"rgb(165,0,38)\"]],\"showscale\":true},\"mode\":\"markers\",\"showlegend\":false,\"x\":[null],\"y\":[null],\"type\":\"scatter\"}],                        {\"template\":{\"data\":{\"histogram2dcontour\":[{\"type\":\"histogram2dcontour\",\"colorbar\":{\"outlinewidth\":0,\"ticks\":\"\"},\"colorscale\":[[0.0,\"#0d0887\"],[0.1111111111111111,\"#46039f\"],[0.2222222222222222,\"#7201a8\"],[0.3333333333333333,\"#9c179e\"],[0.4444444444444444,\"#bd3786\"],[0.5555555555555556,\"#d8576b\"],[0.6666666666666666,\"#ed7953\"],[0.7777777777777778,\"#fb9f3a\"],[0.8888888888888888,\"#fdca26\"],[1.0,\"#f0f921\"]]}],\"choropleth\":[{\"type\":\"choropleth\",\"colorbar\":{\"outlinewidth\":0,\"ticks\":\"\"}}],\"histogram2d\":[{\"type\":\"histogram2d\",\"colorbar\":{\"outlinewidth\":0,\"ticks\":\"\"},\"colorscale\":[[0.0,\"#0d0887\"],[0.1111111111111111,\"#46039f\"],[0.2222222222222222,\"#7201a8\"],[0.3333333333333333,\"#9c179e\"],[0.4444444444444444,\"#bd3786\"],[0.5555555555555556,\"#d8576b\"],[0.6666666666666666,\"#ed7953\"],[0.7777777777777778,\"#fb9f3a\"],[0.8888888888888888,\"#fdca26\"],[1.0,\"#f0f921\"]]}],\"heatmap\":[{\"type\":\"heatmap\",\"colorbar\":{\"outlinewidth\":0,\"ticks\":\"\"},\"colorscale\":[[0.0,\"#0d0887\"],[0.1111111111111111,\"#46039f\"],[0.2222222222222222,\"#7201a8\"],[0.3333333333333333,\"#9c179e\"],[0.4444444444444444,\"#bd3786\"],[0.5555555555555556,\"#d8576b\"],[0.6666666666666666,\"#ed7953\"],[0.7777777777777778,\"#fb9f3a\"],[0.8888888888888888,\"#fdca26\"],[1.0,\"#f0f921\"]]}],\"heatmapgl\":[{\"type\":\"heatmapgl\",\"colorbar\":{\"outlinewidth\":0,\"ticks\":\"\"},\"colorscale\":[[0.0,\"#0d0887\"],[0.1111111111111111,\"#46039f\"],[0.2222222222222222,\"#7201a8\"],[0.3333333333333333,\"#9c179e\"],[0.4444444444444444,\"#bd3786\"],[0.5555555555555556,\"#d8576b\"],[0.6666666666666666,\"#ed7953\"],[0.7777777777777778,\"#fb9f3a\"],[0.8888888888888888,\"#fdca26\"],[1.0,\"#f0f921\"]]}],\"contourcarpet\":[{\"type\":\"contourcarpet\",\"colorbar\":{\"outlinewidth\":0,\"ticks\":\"\"}}],\"contour\":[{\"type\":\"contour\",\"colorbar\":{\"outlinewidth\":0,\"ticks\":\"\"},\"colorscale\":[[0.0,\"#0d0887\"],[0.1111111111111111,\"#46039f\"],[0.2222222222222222,\"#7201a8\"],[0.3333333333333333,\"#9c179e\"],[0.4444444444444444,\"#bd3786\"],[0.5555555555555556,\"#d8576b\"],[0.6666666666666666,\"#ed7953\"],[0.7777777777777778,\"#fb9f3a\"],[0.8888888888888888,\"#fdca26\"],[1.0,\"#f0f921\"]]}],\"surface\":[{\"type\":\"surface\",\"colorbar\":{\"outlinewidth\":0,\"ticks\":\"\"},\"colorscale\":[[0.0,\"#0d0887\"],[0.1111111111111111,\"#46039f\"],[0.2222222222222222,\"#7201a8\"],[0.3333333333333333,\"#9c179e\"],[0.4444444444444444,\"#bd3786\"],[0.5555555555555556,\"#d8576b\"],[0.6666666666666666,\"#ed7953\"],[0.7777777777777778,\"#fb9f3a\"],[0.8888888888888888,\"#fdca26\"],[1.0,\"#f0f921\"]]}],\"mesh3d\":[{\"type\":\"mesh3d\",\"colorbar\":{\"outlinewidth\":0,\"ticks\":\"\"}}],\"scatter\":[{\"fillpattern\":{\"fillmode\":\"overlay\",\"size\":10,\"solidity\":0.2},\"type\":\"scatter\"}],\"parcoords\":[{\"type\":\"parcoords\",\"line\":{\"colorbar\":{\"outlinewidth\":0,\"ticks\":\"\"}}}],\"scatterpolargl\":[{\"type\":\"scatterpolargl\",\"marker\":{\"colorbar\":{\"outlinewidth\":0,\"ticks\":\"\"}}}],\"bar\":[{\"error_x\":{\"color\":\"#2a3f5f\"},\"error_y\":{\"color\":\"#2a3f5f\"},\"marker\":{\"line\":{\"color\":\"#E5ECF6\",\"width\":0.5},\"pattern\":{\"fillmode\":\"overlay\",\"size\":10,\"solidity\":0.2}},\"type\":\"bar\"}],\"scattergeo\":[{\"type\":\"scattergeo\",\"marker\":{\"colorbar\":{\"outlinewidth\":0,\"ticks\":\"\"}}}],\"scatterpolar\":[{\"type\":\"scatterpolar\",\"marker\":{\"colorbar\":{\"outlinewidth\":0,\"ticks\":\"\"}}}],\"histogram\":[{\"marker\":{\"pattern\":{\"fillmode\":\"overlay\",\"size\":10,\"solidity\":0.2}},\"type\":\"histogram\"}],\"scattergl\":[{\"type\":\"scattergl\",\"marker\":{\"colorbar\":{\"outlinewidth\":0,\"ticks\":\"\"}}}],\"scatter3d\":[{\"type\":\"scatter3d\",\"line\":{\"colorbar\":{\"outlinewidth\":0,\"ticks\":\"\"}},\"marker\":{\"colorbar\":{\"outlinewidth\":0,\"ticks\":\"\"}}}],\"scattermapbox\":[{\"type\":\"scattermapbox\",\"marker\":{\"colorbar\":{\"outlinewidth\":0,\"ticks\":\"\"}}}],\"scatterternary\":[{\"type\":\"scatterternary\",\"marker\":{\"colorbar\":{\"outlinewidth\":0,\"ticks\":\"\"}}}],\"scattercarpet\":[{\"type\":\"scattercarpet\",\"marker\":{\"colorbar\":{\"outlinewidth\":0,\"ticks\":\"\"}}}],\"carpet\":[{\"aaxis\":{\"endlinecolor\":\"#2a3f5f\",\"gridcolor\":\"white\",\"linecolor\":\"white\",\"minorgridcolor\":\"white\",\"startlinecolor\":\"#2a3f5f\"},\"baxis\":{\"endlinecolor\":\"#2a3f5f\",\"gridcolor\":\"white\",\"linecolor\":\"white\",\"minorgridcolor\":\"white\",\"startlinecolor\":\"#2a3f5f\"},\"type\":\"carpet\"}],\"table\":[{\"cells\":{\"fill\":{\"color\":\"#EBF0F8\"},\"line\":{\"color\":\"white\"}},\"header\":{\"fill\":{\"color\":\"#C8D4E3\"},\"line\":{\"color\":\"white\"}},\"type\":\"table\"}],\"barpolar\":[{\"marker\":{\"line\":{\"color\":\"#E5ECF6\",\"width\":0.5},\"pattern\":{\"fillmode\":\"overlay\",\"size\":10,\"solidity\":0.2}},\"type\":\"barpolar\"}],\"pie\":[{\"automargin\":true,\"type\":\"pie\"}]},\"layout\":{\"autotypenumbers\":\"strict\",\"colorway\":[\"#636efa\",\"#EF553B\",\"#00cc96\",\"#ab63fa\",\"#FFA15A\",\"#19d3f3\",\"#FF6692\",\"#B6E880\",\"#FF97FF\",\"#FECB52\"],\"font\":{\"color\":\"#2a3f5f\"},\"hovermode\":\"closest\",\"hoverlabel\":{\"align\":\"left\"},\"paper_bgcolor\":\"white\",\"plot_bgcolor\":\"#E5ECF6\",\"polar\":{\"bgcolor\":\"#E5ECF6\",\"angularaxis\":{\"gridcolor\":\"white\",\"linecolor\":\"white\",\"ticks\":\"\"},\"radialaxis\":{\"gridcolor\":\"white\",\"linecolor\":\"white\",\"ticks\":\"\"}},\"ternary\":{\"bgcolor\":\"#E5ECF6\",\"aaxis\":{\"gridcolor\":\"white\",\"linecolor\":\"white\",\"ticks\":\"\"},\"baxis\":{\"gridcolor\":\"white\",\"linecolor\":\"white\",\"ticks\":\"\"},\"caxis\":{\"gridcolor\":\"white\",\"linecolor\":\"white\",\"ticks\":\"\"}},\"coloraxis\":{\"colorbar\":{\"outlinewidth\":0,\"ticks\":\"\"}},\"colorscale\":{\"sequential\":[[0.0,\"#0d0887\"],[0.1111111111111111,\"#46039f\"],[0.2222222222222222,\"#7201a8\"],[0.3333333333333333,\"#9c179e\"],[0.4444444444444444,\"#bd3786\"],[0.5555555555555556,\"#d8576b\"],[0.6666666666666666,\"#ed7953\"],[0.7777777777777778,\"#fb9f3a\"],[0.8888888888888888,\"#fdca26\"],[1.0,\"#f0f921\"]],\"sequentialminus\":[[0.0,\"#0d0887\"],[0.1111111111111111,\"#46039f\"],[0.2222222222222222,\"#7201a8\"],[0.3333333333333333,\"#9c179e\"],[0.4444444444444444,\"#bd3786\"],[0.5555555555555556,\"#d8576b\"],[0.6666666666666666,\"#ed7953\"],[0.7777777777777778,\"#fb9f3a\"],[0.8888888888888888,\"#fdca26\"],[1.0,\"#f0f921\"]],\"diverging\":[[0,\"#8e0152\"],[0.1,\"#c51b7d\"],[0.2,\"#de77ae\"],[0.3,\"#f1b6da\"],[0.4,\"#fde0ef\"],[0.5,\"#f7f7f7\"],[0.6,\"#e6f5d0\"],[0.7,\"#b8e186\"],[0.8,\"#7fbc41\"],[0.9,\"#4d9221\"],[1,\"#276419\"]]},\"xaxis\":{\"gridcolor\":\"white\",\"linecolor\":\"white\",\"ticks\":\"\",\"title\":{\"standoff\":15},\"zerolinecolor\":\"white\",\"automargin\":true,\"zerolinewidth\":2},\"yaxis\":{\"gridcolor\":\"white\",\"linecolor\":\"white\",\"ticks\":\"\",\"title\":{\"standoff\":15},\"zerolinecolor\":\"white\",\"automargin\":true,\"zerolinewidth\":2},\"scene\":{\"xaxis\":{\"backgroundcolor\":\"#E5ECF6\",\"gridcolor\":\"white\",\"linecolor\":\"white\",\"showbackground\":true,\"ticks\":\"\",\"zerolinecolor\":\"white\",\"gridwidth\":2},\"yaxis\":{\"backgroundcolor\":\"#E5ECF6\",\"gridcolor\":\"white\",\"linecolor\":\"white\",\"showbackground\":true,\"ticks\":\"\",\"zerolinecolor\":\"white\",\"gridwidth\":2},\"zaxis\":{\"backgroundcolor\":\"#E5ECF6\",\"gridcolor\":\"white\",\"linecolor\":\"white\",\"showbackground\":true,\"ticks\":\"\",\"zerolinecolor\":\"white\",\"gridwidth\":2}},\"shapedefaults\":{\"line\":{\"color\":\"#2a3f5f\"}},\"annotationdefaults\":{\"arrowcolor\":\"#2a3f5f\",\"arrowhead\":0,\"arrowwidth\":1},\"geo\":{\"bgcolor\":\"white\",\"landcolor\":\"#E5ECF6\",\"subunitcolor\":\"white\",\"showland\":true,\"showlakes\":true,\"lakecolor\":\"white\"},\"title\":{\"x\":0.05},\"mapbox\":{\"style\":\"light\"}}},\"xaxis\":{\"anchor\":\"y\",\"domain\":[0.0,0.15555555555555556],\"matches\":\"x31\",\"showticklabels\":false,\"range\":[-0.05,1.05],\"type\":\"category\"},\"yaxis\":{\"anchor\":\"x\",\"domain\":[0.8444444444444444,1.0],\"range\":[-0.05,1.05],\"type\":\"category\",\"title\":{\"text\":\"activation\"}},\"xaxis2\":{\"anchor\":\"y2\",\"domain\":[0.1688888888888889,0.3244444444444444],\"matches\":\"x32\",\"showticklabels\":false,\"range\":[398.2,2879.8]},\"yaxis2\":{\"anchor\":\"x2\",\"domain\":[0.8444444444444444,1.0],\"matches\":\"y\",\"showticklabels\":false,\"range\":[-0.05,1.05],\"type\":\"category\"},\"xaxis3\":{\"anchor\":\"y3\",\"domain\":[0.3377777777777778,0.49333333333333335],\"matches\":\"x33\",\"showticklabels\":false,\"range\":[-1.8000000000000003,59.8]},\"yaxis3\":{\"anchor\":\"x3\",\"domain\":[0.8444444444444444,1.0],\"matches\":\"y\",\"showticklabels\":false,\"range\":[-0.05,1.05],\"type\":\"category\"},\"xaxis4\":{\"anchor\":\"y4\",\"domain\":[0.5066666666666667,0.6622222222222223],\"matches\":\"x34\",\"showticklabels\":false,\"range\":[0.0013141625093110358,0.009929109067158272]},\"yaxis4\":{\"anchor\":\"x4\",\"domain\":[0.8444444444444444,1.0],\"matches\":\"y\",\"showticklabels\":false,\"range\":[-0.05,1.05],\"type\":\"category\"},\"xaxis5\":{\"anchor\":\"y5\",\"domain\":[0.6755555555555556,0.8311111111111111],\"matches\":\"x35\",\"showticklabels\":false,\"range\":[0.75,6.25]},\"yaxis5\":{\"anchor\":\"x5\",\"domain\":[0.8444444444444444,1.0],\"matches\":\"y\",\"showticklabels\":false,\"range\":[-0.05,1.05],\"type\":\"category\"},\"xaxis6\":{\"anchor\":\"y6\",\"domain\":[0.8444444444444444,1.0],\"matches\":\"x36\",\"showticklabels\":false,\"range\":[-0.05,1.05],\"type\":\"category\"},\"yaxis6\":{\"anchor\":\"x6\",\"domain\":[0.8444444444444444,1.0],\"matches\":\"y\",\"showticklabels\":false,\"range\":[-0.05,1.05],\"type\":\"category\"},\"xaxis7\":{\"anchor\":\"y7\",\"domain\":[0.0,0.15555555555555556],\"matches\":\"x31\",\"showticklabels\":false,\"range\":[-0.05,1.05],\"type\":\"category\"},\"yaxis7\":{\"anchor\":\"x7\",\"domain\":[0.6755555555555556,0.8311111111111111],\"range\":[398.2,2879.8],\"title\":{\"text\":\"batch_size\"}},\"xaxis8\":{\"anchor\":\"y8\",\"domain\":[0.1688888888888889,0.3244444444444444],\"matches\":\"x32\",\"showticklabels\":false,\"range\":[398.2,2879.8]},\"yaxis8\":{\"anchor\":\"x8\",\"domain\":[0.6755555555555556,0.8311111111111111],\"matches\":\"y7\",\"showticklabels\":false,\"range\":[398.2,2879.8]},\"xaxis9\":{\"anchor\":\"y9\",\"domain\":[0.3377777777777778,0.49333333333333335],\"matches\":\"x33\",\"showticklabels\":false,\"range\":[-1.8000000000000003,59.8]},\"yaxis9\":{\"anchor\":\"x9\",\"domain\":[0.6755555555555556,0.8311111111111111],\"matches\":\"y7\",\"showticklabels\":false,\"range\":[398.2,2879.8]},\"xaxis10\":{\"anchor\":\"y10\",\"domain\":[0.5066666666666667,0.6622222222222223],\"matches\":\"x34\",\"showticklabels\":false,\"range\":[0.0013141625093110358,0.009929109067158272]},\"yaxis10\":{\"anchor\":\"x10\",\"domain\":[0.6755555555555556,0.8311111111111111],\"matches\":\"y7\",\"showticklabels\":false,\"range\":[398.2,2879.8]},\"xaxis11\":{\"anchor\":\"y11\",\"domain\":[0.6755555555555556,0.8311111111111111],\"matches\":\"x35\",\"showticklabels\":false,\"range\":[0.75,6.25]},\"yaxis11\":{\"anchor\":\"x11\",\"domain\":[0.6755555555555556,0.8311111111111111],\"matches\":\"y7\",\"showticklabels\":false,\"range\":[398.2,2879.8]},\"xaxis12\":{\"anchor\":\"y12\",\"domain\":[0.8444444444444444,1.0],\"matches\":\"x36\",\"showticklabels\":false,\"range\":[-0.05,1.05],\"type\":\"category\"},\"yaxis12\":{\"anchor\":\"x12\",\"domain\":[0.6755555555555556,0.8311111111111111],\"matches\":\"y7\",\"showticklabels\":false,\"range\":[398.2,2879.8]},\"xaxis13\":{\"anchor\":\"y13\",\"domain\":[0.0,0.15555555555555556],\"matches\":\"x31\",\"showticklabels\":false,\"range\":[-0.05,1.05],\"type\":\"category\"},\"yaxis13\":{\"anchor\":\"x13\",\"domain\":[0.5066666666666667,0.6622222222222223],\"range\":[-1.8000000000000003,59.8],\"title\":{\"text\":\"hidden_size\"}},\"xaxis14\":{\"anchor\":\"y14\",\"domain\":[0.1688888888888889,0.3244444444444444],\"matches\":\"x32\",\"showticklabels\":false,\"range\":[398.2,2879.8]},\"yaxis14\":{\"anchor\":\"x14\",\"domain\":[0.5066666666666667,0.6622222222222223],\"matches\":\"y13\",\"showticklabels\":false,\"range\":[-1.8000000000000003,59.8]},\"xaxis15\":{\"anchor\":\"y15\",\"domain\":[0.3377777777777778,0.49333333333333335],\"matches\":\"x33\",\"showticklabels\":false,\"range\":[-1.8000000000000003,59.8]},\"yaxis15\":{\"anchor\":\"x15\",\"domain\":[0.5066666666666667,0.6622222222222223],\"matches\":\"y13\",\"showticklabels\":false,\"range\":[-1.8000000000000003,59.8]},\"xaxis16\":{\"anchor\":\"y16\",\"domain\":[0.5066666666666667,0.6622222222222223],\"matches\":\"x34\",\"showticklabels\":false,\"range\":[0.0013141625093110358,0.009929109067158272]},\"yaxis16\":{\"anchor\":\"x16\",\"domain\":[0.5066666666666667,0.6622222222222223],\"matches\":\"y13\",\"showticklabels\":false,\"range\":[-1.8000000000000003,59.8]},\"xaxis17\":{\"anchor\":\"y17\",\"domain\":[0.6755555555555556,0.8311111111111111],\"matches\":\"x35\",\"showticklabels\":false,\"range\":[0.75,6.25]},\"yaxis17\":{\"anchor\":\"x17\",\"domain\":[0.5066666666666667,0.6622222222222223],\"matches\":\"y13\",\"showticklabels\":false,\"range\":[-1.8000000000000003,59.8]},\"xaxis18\":{\"anchor\":\"y18\",\"domain\":[0.8444444444444444,1.0],\"matches\":\"x36\",\"showticklabels\":false,\"range\":[-0.05,1.05],\"type\":\"category\"},\"yaxis18\":{\"anchor\":\"x18\",\"domain\":[0.5066666666666667,0.6622222222222223],\"matches\":\"y13\",\"showticklabels\":false,\"range\":[-1.8000000000000003,59.8]},\"xaxis19\":{\"anchor\":\"y19\",\"domain\":[0.0,0.15555555555555556],\"matches\":\"x31\",\"showticklabels\":false,\"range\":[-0.05,1.05],\"type\":\"category\"},\"yaxis19\":{\"anchor\":\"x19\",\"domain\":[0.3377777777777778,0.49333333333333335],\"range\":[0.0013141625093110358,0.009929109067158272],\"title\":{\"text\":\"learning_rate\"}},\"xaxis20\":{\"anchor\":\"y20\",\"domain\":[0.1688888888888889,0.3244444444444444],\"matches\":\"x32\",\"showticklabels\":false,\"range\":[398.2,2879.8]},\"yaxis20\":{\"anchor\":\"x20\",\"domain\":[0.3377777777777778,0.49333333333333335],\"matches\":\"y19\",\"showticklabels\":false,\"range\":[0.0013141625093110358,0.009929109067158272]},\"xaxis21\":{\"anchor\":\"y21\",\"domain\":[0.3377777777777778,0.49333333333333335],\"matches\":\"x33\",\"showticklabels\":false,\"range\":[-1.8000000000000003,59.8]},\"yaxis21\":{\"anchor\":\"x21\",\"domain\":[0.3377777777777778,0.49333333333333335],\"matches\":\"y19\",\"showticklabels\":false,\"range\":[0.0013141625093110358,0.009929109067158272]},\"xaxis22\":{\"anchor\":\"y22\",\"domain\":[0.5066666666666667,0.6622222222222223],\"matches\":\"x34\",\"showticklabels\":false,\"range\":[0.0013141625093110358,0.009929109067158272]},\"yaxis22\":{\"anchor\":\"x22\",\"domain\":[0.3377777777777778,0.49333333333333335],\"matches\":\"y19\",\"showticklabels\":false,\"range\":[0.0013141625093110358,0.009929109067158272]},\"xaxis23\":{\"anchor\":\"y23\",\"domain\":[0.6755555555555556,0.8311111111111111],\"matches\":\"x35\",\"showticklabels\":false,\"range\":[0.75,6.25]},\"yaxis23\":{\"anchor\":\"x23\",\"domain\":[0.3377777777777778,0.49333333333333335],\"matches\":\"y19\",\"showticklabels\":false,\"range\":[0.0013141625093110358,0.009929109067158272]},\"xaxis24\":{\"anchor\":\"y24\",\"domain\":[0.8444444444444444,1.0],\"matches\":\"x36\",\"showticklabels\":false,\"range\":[-0.05,1.05],\"type\":\"category\"},\"yaxis24\":{\"anchor\":\"x24\",\"domain\":[0.3377777777777778,0.49333333333333335],\"matches\":\"y19\",\"showticklabels\":false,\"range\":[0.0013141625093110358,0.009929109067158272]},\"xaxis25\":{\"anchor\":\"y25\",\"domain\":[0.0,0.15555555555555556],\"matches\":\"x31\",\"showticklabels\":false,\"range\":[-0.05,1.05],\"type\":\"category\"},\"yaxis25\":{\"anchor\":\"x25\",\"domain\":[0.1688888888888889,0.3244444444444444],\"range\":[0.75,6.25],\"title\":{\"text\":\"nlayers\"}},\"xaxis26\":{\"anchor\":\"y26\",\"domain\":[0.1688888888888889,0.3244444444444444],\"matches\":\"x32\",\"showticklabels\":false,\"range\":[398.2,2879.8]},\"yaxis26\":{\"anchor\":\"x26\",\"domain\":[0.1688888888888889,0.3244444444444444],\"matches\":\"y25\",\"showticklabels\":false,\"range\":[0.75,6.25]},\"xaxis27\":{\"anchor\":\"y27\",\"domain\":[0.3377777777777778,0.49333333333333335],\"matches\":\"x33\",\"showticklabels\":false,\"range\":[-1.8000000000000003,59.8]},\"yaxis27\":{\"anchor\":\"x27\",\"domain\":[0.1688888888888889,0.3244444444444444],\"matches\":\"y25\",\"showticklabels\":false,\"range\":[0.75,6.25]},\"xaxis28\":{\"anchor\":\"y28\",\"domain\":[0.5066666666666667,0.6622222222222223],\"matches\":\"x34\",\"showticklabels\":false,\"range\":[0.0013141625093110358,0.009929109067158272]},\"yaxis28\":{\"anchor\":\"x28\",\"domain\":[0.1688888888888889,0.3244444444444444],\"matches\":\"y25\",\"showticklabels\":false,\"range\":[0.75,6.25]},\"xaxis29\":{\"anchor\":\"y29\",\"domain\":[0.6755555555555556,0.8311111111111111],\"matches\":\"x35\",\"showticklabels\":false,\"range\":[0.75,6.25]},\"yaxis29\":{\"anchor\":\"x29\",\"domain\":[0.1688888888888889,0.3244444444444444],\"matches\":\"y25\",\"showticklabels\":false,\"range\":[0.75,6.25]},\"xaxis30\":{\"anchor\":\"y30\",\"domain\":[0.8444444444444444,1.0],\"matches\":\"x36\",\"showticklabels\":false,\"range\":[-0.05,1.05],\"type\":\"category\"},\"yaxis30\":{\"anchor\":\"x30\",\"domain\":[0.1688888888888889,0.3244444444444444],\"matches\":\"y25\",\"showticklabels\":false,\"range\":[0.75,6.25]},\"xaxis31\":{\"anchor\":\"y31\",\"domain\":[0.0,0.15555555555555556],\"range\":[-0.05,1.05],\"type\":\"category\",\"title\":{\"text\":\"activation\"}},\"yaxis31\":{\"anchor\":\"x31\",\"domain\":[0.0,0.15555555555555556],\"range\":[-0.05,1.05],\"type\":\"category\",\"title\":{\"text\":\"optimizer_name\"}},\"xaxis32\":{\"anchor\":\"y32\",\"domain\":[0.1688888888888889,0.3244444444444444],\"range\":[398.2,2879.8],\"title\":{\"text\":\"batch_size\"}},\"yaxis32\":{\"anchor\":\"x32\",\"domain\":[0.0,0.15555555555555556],\"matches\":\"y31\",\"showticklabels\":false,\"range\":[-0.05,1.05],\"type\":\"category\"},\"xaxis33\":{\"anchor\":\"y33\",\"domain\":[0.3377777777777778,0.49333333333333335],\"range\":[-1.8000000000000003,59.8],\"title\":{\"text\":\"hidden_size\"}},\"yaxis33\":{\"anchor\":\"x33\",\"domain\":[0.0,0.15555555555555556],\"matches\":\"y31\",\"showticklabels\":false,\"range\":[-0.05,1.05],\"type\":\"category\"},\"xaxis34\":{\"anchor\":\"y34\",\"domain\":[0.5066666666666667,0.6622222222222223],\"range\":[0.0013141625093110358,0.009929109067158272],\"title\":{\"text\":\"learning_rate\"}},\"yaxis34\":{\"anchor\":\"x34\",\"domain\":[0.0,0.15555555555555556],\"matches\":\"y31\",\"showticklabels\":false,\"range\":[-0.05,1.05],\"type\":\"category\"},\"xaxis35\":{\"anchor\":\"y35\",\"domain\":[0.6755555555555556,0.8311111111111111],\"range\":[0.75,6.25],\"title\":{\"text\":\"nlayers\"}},\"yaxis35\":{\"anchor\":\"x35\",\"domain\":[0.0,0.15555555555555556],\"matches\":\"y31\",\"showticklabels\":false,\"range\":[-0.05,1.05],\"type\":\"category\"},\"xaxis36\":{\"anchor\":\"y36\",\"domain\":[0.8444444444444444,1.0],\"range\":[-0.05,1.05],\"type\":\"category\",\"title\":{\"text\":\"optimizer_name\"}},\"yaxis36\":{\"anchor\":\"x36\",\"domain\":[0.0,0.15555555555555556],\"matches\":\"y31\",\"showticklabels\":false,\"range\":[-0.05,1.05],\"type\":\"category\"},\"title\":{\"text\":\"Rank (Objective Value)\"}},                        {\"responsive\": true}                    ).then(function(){\n",
       "                            \n",
       "var gd = document.getElementById('b731fa1b-c6db-4eff-8fbd-eee52903c88e');\n",
       "var x = new MutationObserver(function (mutations, observer) {{\n",
       "        var display = window.getComputedStyle(gd).display;\n",
       "        if (!display || display === 'none') {{\n",
       "            console.log([gd, 'removed!']);\n",
       "            Plotly.purge(gd);\n",
       "            observer.disconnect();\n",
       "        }}\n",
       "}});\n",
       "\n",
       "// Listen for the removal of the full notebook cells\n",
       "var notebookContainer = gd.closest('#notebook-container');\n",
       "if (notebookContainer) {{\n",
       "    x.observe(notebookContainer, {childList: true});\n",
       "}}\n",
       "\n",
       "// Listen for the clearing of the current output cell\n",
       "var outputEl = gd.closest('.output');\n",
       "if (outputEl) {{\n",
       "    x.observe(outputEl, {childList: true});\n",
       "}}\n",
       "\n",
       "                        })                };                });            </script>        </div>"
      ]
     },
     "metadata": {},
     "output_type": "display_data"
    }
   ],
   "source": [
    "# Visualize parameter relations with scatter plots colored by objective values. See :func:`~optuna.visualization.plot_rank` for the details.\n",
    "plot_rank(study)"
   ]
  },
  {
   "cell_type": "code",
   "execution_count": 23,
   "id": "85215ea6-e364-46a0-8e3e-187a5d6ce620",
   "metadata": {},
   "outputs": [
    {
     "data": {
      "application/vnd.plotly.v1+json": {
       "config": {
        "plotlyServerURL": "https://plot.ly"
       },
       "data": [
        {
         "marker": {
          "color": [
           0,
           1
          ],
          "colorbar": {
           "title": {
            "text": "Trial"
           },
           "x": 1,
           "xpad": 40,
           "y": 0.5
          },
          "colorscale": [
           [
            0,
            "rgb(247,251,255)"
           ],
           [
            0.125,
            "rgb(222,235,247)"
           ],
           [
            0.25,
            "rgb(198,219,239)"
           ],
           [
            0.375,
            "rgb(158,202,225)"
           ],
           [
            0.5,
            "rgb(107,174,214)"
           ],
           [
            0.625,
            "rgb(66,146,198)"
           ],
           [
            0.75,
            "rgb(33,113,181)"
           ],
           [
            0.875,
            "rgb(8,81,156)"
           ],
           [
            1,
            "rgb(8,48,107)"
           ]
          ],
          "line": {
           "color": "Grey",
           "width": 0.5
          },
          "showscale": true
         },
         "mode": "markers",
         "name": "Feasible Trial",
         "showlegend": false,
         "type": "scatter",
         "x": [
          "PReLU",
          "LeakyReLU"
         ],
         "xaxis": "x",
         "y": [
          0.0018440080601664385,
          0.0026160789530076316
         ],
         "yaxis": "y"
        },
        {
         "marker": {
          "color": [
           0,
           1
          ],
          "colorbar": {
           "title": {
            "text": "Trial"
           },
           "x": 1,
           "xpad": 40
          },
          "colorscale": [
           [
            0,
            "rgb(247,251,255)"
           ],
           [
            0.125,
            "rgb(222,235,247)"
           ],
           [
            0.25,
            "rgb(198,219,239)"
           ],
           [
            0.375,
            "rgb(158,202,225)"
           ],
           [
            0.5,
            "rgb(107,174,214)"
           ],
           [
            0.625,
            "rgb(66,146,198)"
           ],
           [
            0.75,
            "rgb(33,113,181)"
           ],
           [
            0.875,
            "rgb(8,81,156)"
           ],
           [
            1,
            "rgb(8,48,107)"
           ]
          ],
          "line": {
           "color": "Grey",
           "width": 0.5
          },
          "showscale": false
         },
         "mode": "markers",
         "name": "Feasible Trial",
         "showlegend": false,
         "type": "scatter",
         "x": [
          2263,
          1673
         ],
         "xaxis": "x2",
         "y": [
          0.0018440080601664385,
          0.0026160789530076316
         ],
         "yaxis": "y2"
        },
        {
         "marker": {
          "color": [
           0,
           1
          ],
          "colorbar": {
           "title": {
            "text": "Trial"
           },
           "x": 1,
           "xpad": 40
          },
          "colorscale": [
           [
            0,
            "rgb(247,251,255)"
           ],
           [
            0.125,
            "rgb(222,235,247)"
           ],
           [
            0.25,
            "rgb(198,219,239)"
           ],
           [
            0.375,
            "rgb(158,202,225)"
           ],
           [
            0.5,
            "rgb(107,174,214)"
           ],
           [
            0.625,
            "rgb(66,146,198)"
           ],
           [
            0.75,
            "rgb(33,113,181)"
           ],
           [
            0.875,
            "rgb(8,81,156)"
           ],
           [
            1,
            "rgb(8,48,107)"
           ]
          ],
          "line": {
           "color": "Grey",
           "width": 0.5
          },
          "showscale": false
         },
         "mode": "markers",
         "name": "Feasible Trial",
         "showlegend": false,
         "type": "scatter",
         "x": [
          62,
          61
         ],
         "xaxis": "x3",
         "y": [
          0.0018440080601664385,
          0.0026160789530076316
         ],
         "yaxis": "y3"
        },
        {
         "marker": {
          "color": [
           0,
           1
          ],
          "colorbar": {
           "title": {
            "text": "Trial"
           },
           "x": 1,
           "xpad": 40
          },
          "colorscale": [
           [
            0,
            "rgb(247,251,255)"
           ],
           [
            0.125,
            "rgb(222,235,247)"
           ],
           [
            0.25,
            "rgb(198,219,239)"
           ],
           [
            0.375,
            "rgb(158,202,225)"
           ],
           [
            0.5,
            "rgb(107,174,214)"
           ],
           [
            0.625,
            "rgb(66,146,198)"
           ],
           [
            0.75,
            "rgb(33,113,181)"
           ],
           [
            0.875,
            "rgb(8,81,156)"
           ],
           [
            1,
            "rgb(8,48,107)"
           ]
          ],
          "line": {
           "color": "Grey",
           "width": 0.5
          },
          "showscale": false
         },
         "mode": "markers",
         "name": "Feasible Trial",
         "showlegend": false,
         "type": "scatter",
         "x": [
          0.0029226731169427625,
          0.009450262538495522
         ],
         "xaxis": "x4",
         "y": [
          0.0018440080601664385,
          0.0026160789530076316
         ],
         "yaxis": "y4"
        },
        {
         "marker": {
          "color": [
           0,
           1
          ],
          "colorbar": {
           "title": {
            "text": "Trial"
           },
           "x": 1,
           "xpad": 40
          },
          "colorscale": [
           [
            0,
            "rgb(247,251,255)"
           ],
           [
            0.125,
            "rgb(222,235,247)"
           ],
           [
            0.25,
            "rgb(198,219,239)"
           ],
           [
            0.375,
            "rgb(158,202,225)"
           ],
           [
            0.5,
            "rgb(107,174,214)"
           ],
           [
            0.625,
            "rgb(66,146,198)"
           ],
           [
            0.75,
            "rgb(33,113,181)"
           ],
           [
            0.875,
            "rgb(8,81,156)"
           ],
           [
            1,
            "rgb(8,48,107)"
           ]
          ],
          "line": {
           "color": "Grey",
           "width": 0.5
          },
          "showscale": false
         },
         "mode": "markers",
         "name": "Feasible Trial",
         "showlegend": false,
         "type": "scatter",
         "x": [
          1,
          3
         ],
         "xaxis": "x5",
         "y": [
          0.0018440080601664385,
          0.0026160789530076316
         ],
         "yaxis": "y5"
        },
        {
         "marker": {
          "color": [
           0,
           1
          ],
          "colorbar": {
           "title": {
            "text": "Trial"
           },
           "x": 1,
           "xpad": 40
          },
          "colorscale": [
           [
            0,
            "rgb(247,251,255)"
           ],
           [
            0.125,
            "rgb(222,235,247)"
           ],
           [
            0.25,
            "rgb(198,219,239)"
           ],
           [
            0.375,
            "rgb(158,202,225)"
           ],
           [
            0.5,
            "rgb(107,174,214)"
           ],
           [
            0.625,
            "rgb(66,146,198)"
           ],
           [
            0.75,
            "rgb(33,113,181)"
           ],
           [
            0.875,
            "rgb(8,81,156)"
           ],
           [
            1,
            "rgb(8,48,107)"
           ]
          ],
          "line": {
           "color": "Grey",
           "width": 0.5
          },
          "showscale": false
         },
         "mode": "markers",
         "name": "Feasible Trial",
         "showlegend": false,
         "type": "scatter",
         "x": [
          "RMSprop",
          "SGD"
         ],
         "xaxis": "x6",
         "y": [
          0.0018440080601664385,
          0.0026160789530076316
         ],
         "yaxis": "y6"
        }
       ],
       "layout": {
        "autosize": true,
        "template": {
         "data": {
          "bar": [
           {
            "error_x": {
             "color": "#2a3f5f"
            },
            "error_y": {
             "color": "#2a3f5f"
            },
            "marker": {
             "line": {
              "color": "#E5ECF6",
              "width": 0.5
             },
             "pattern": {
              "fillmode": "overlay",
              "size": 10,
              "solidity": 0.2
             }
            },
            "type": "bar"
           }
          ],
          "barpolar": [
           {
            "marker": {
             "line": {
              "color": "#E5ECF6",
              "width": 0.5
             },
             "pattern": {
              "fillmode": "overlay",
              "size": 10,
              "solidity": 0.2
             }
            },
            "type": "barpolar"
           }
          ],
          "carpet": [
           {
            "aaxis": {
             "endlinecolor": "#2a3f5f",
             "gridcolor": "white",
             "linecolor": "white",
             "minorgridcolor": "white",
             "startlinecolor": "#2a3f5f"
            },
            "baxis": {
             "endlinecolor": "#2a3f5f",
             "gridcolor": "white",
             "linecolor": "white",
             "minorgridcolor": "white",
             "startlinecolor": "#2a3f5f"
            },
            "type": "carpet"
           }
          ],
          "choropleth": [
           {
            "colorbar": {
             "outlinewidth": 0,
             "ticks": ""
            },
            "type": "choropleth"
           }
          ],
          "contour": [
           {
            "colorbar": {
             "outlinewidth": 0,
             "ticks": ""
            },
            "colorscale": [
             [
              0,
              "#0d0887"
             ],
             [
              0.1111111111111111,
              "#46039f"
             ],
             [
              0.2222222222222222,
              "#7201a8"
             ],
             [
              0.3333333333333333,
              "#9c179e"
             ],
             [
              0.4444444444444444,
              "#bd3786"
             ],
             [
              0.5555555555555556,
              "#d8576b"
             ],
             [
              0.6666666666666666,
              "#ed7953"
             ],
             [
              0.7777777777777778,
              "#fb9f3a"
             ],
             [
              0.8888888888888888,
              "#fdca26"
             ],
             [
              1,
              "#f0f921"
             ]
            ],
            "type": "contour"
           }
          ],
          "contourcarpet": [
           {
            "colorbar": {
             "outlinewidth": 0,
             "ticks": ""
            },
            "type": "contourcarpet"
           }
          ],
          "heatmap": [
           {
            "colorbar": {
             "outlinewidth": 0,
             "ticks": ""
            },
            "colorscale": [
             [
              0,
              "#0d0887"
             ],
             [
              0.1111111111111111,
              "#46039f"
             ],
             [
              0.2222222222222222,
              "#7201a8"
             ],
             [
              0.3333333333333333,
              "#9c179e"
             ],
             [
              0.4444444444444444,
              "#bd3786"
             ],
             [
              0.5555555555555556,
              "#d8576b"
             ],
             [
              0.6666666666666666,
              "#ed7953"
             ],
             [
              0.7777777777777778,
              "#fb9f3a"
             ],
             [
              0.8888888888888888,
              "#fdca26"
             ],
             [
              1,
              "#f0f921"
             ]
            ],
            "type": "heatmap"
           }
          ],
          "heatmapgl": [
           {
            "colorbar": {
             "outlinewidth": 0,
             "ticks": ""
            },
            "colorscale": [
             [
              0,
              "#0d0887"
             ],
             [
              0.1111111111111111,
              "#46039f"
             ],
             [
              0.2222222222222222,
              "#7201a8"
             ],
             [
              0.3333333333333333,
              "#9c179e"
             ],
             [
              0.4444444444444444,
              "#bd3786"
             ],
             [
              0.5555555555555556,
              "#d8576b"
             ],
             [
              0.6666666666666666,
              "#ed7953"
             ],
             [
              0.7777777777777778,
              "#fb9f3a"
             ],
             [
              0.8888888888888888,
              "#fdca26"
             ],
             [
              1,
              "#f0f921"
             ]
            ],
            "type": "heatmapgl"
           }
          ],
          "histogram": [
           {
            "marker": {
             "pattern": {
              "fillmode": "overlay",
              "size": 10,
              "solidity": 0.2
             }
            },
            "type": "histogram"
           }
          ],
          "histogram2d": [
           {
            "colorbar": {
             "outlinewidth": 0,
             "ticks": ""
            },
            "colorscale": [
             [
              0,
              "#0d0887"
             ],
             [
              0.1111111111111111,
              "#46039f"
             ],
             [
              0.2222222222222222,
              "#7201a8"
             ],
             [
              0.3333333333333333,
              "#9c179e"
             ],
             [
              0.4444444444444444,
              "#bd3786"
             ],
             [
              0.5555555555555556,
              "#d8576b"
             ],
             [
              0.6666666666666666,
              "#ed7953"
             ],
             [
              0.7777777777777778,
              "#fb9f3a"
             ],
             [
              0.8888888888888888,
              "#fdca26"
             ],
             [
              1,
              "#f0f921"
             ]
            ],
            "type": "histogram2d"
           }
          ],
          "histogram2dcontour": [
           {
            "colorbar": {
             "outlinewidth": 0,
             "ticks": ""
            },
            "colorscale": [
             [
              0,
              "#0d0887"
             ],
             [
              0.1111111111111111,
              "#46039f"
             ],
             [
              0.2222222222222222,
              "#7201a8"
             ],
             [
              0.3333333333333333,
              "#9c179e"
             ],
             [
              0.4444444444444444,
              "#bd3786"
             ],
             [
              0.5555555555555556,
              "#d8576b"
             ],
             [
              0.6666666666666666,
              "#ed7953"
             ],
             [
              0.7777777777777778,
              "#fb9f3a"
             ],
             [
              0.8888888888888888,
              "#fdca26"
             ],
             [
              1,
              "#f0f921"
             ]
            ],
            "type": "histogram2dcontour"
           }
          ],
          "mesh3d": [
           {
            "colorbar": {
             "outlinewidth": 0,
             "ticks": ""
            },
            "type": "mesh3d"
           }
          ],
          "parcoords": [
           {
            "line": {
             "colorbar": {
              "outlinewidth": 0,
              "ticks": ""
             }
            },
            "type": "parcoords"
           }
          ],
          "pie": [
           {
            "automargin": true,
            "type": "pie"
           }
          ],
          "scatter": [
           {
            "fillpattern": {
             "fillmode": "overlay",
             "size": 10,
             "solidity": 0.2
            },
            "type": "scatter"
           }
          ],
          "scatter3d": [
           {
            "line": {
             "colorbar": {
              "outlinewidth": 0,
              "ticks": ""
             }
            },
            "marker": {
             "colorbar": {
              "outlinewidth": 0,
              "ticks": ""
             }
            },
            "type": "scatter3d"
           }
          ],
          "scattercarpet": [
           {
            "marker": {
             "colorbar": {
              "outlinewidth": 0,
              "ticks": ""
             }
            },
            "type": "scattercarpet"
           }
          ],
          "scattergeo": [
           {
            "marker": {
             "colorbar": {
              "outlinewidth": 0,
              "ticks": ""
             }
            },
            "type": "scattergeo"
           }
          ],
          "scattergl": [
           {
            "marker": {
             "colorbar": {
              "outlinewidth": 0,
              "ticks": ""
             }
            },
            "type": "scattergl"
           }
          ],
          "scattermapbox": [
           {
            "marker": {
             "colorbar": {
              "outlinewidth": 0,
              "ticks": ""
             }
            },
            "type": "scattermapbox"
           }
          ],
          "scatterpolar": [
           {
            "marker": {
             "colorbar": {
              "outlinewidth": 0,
              "ticks": ""
             }
            },
            "type": "scatterpolar"
           }
          ],
          "scatterpolargl": [
           {
            "marker": {
             "colorbar": {
              "outlinewidth": 0,
              "ticks": ""
             }
            },
            "type": "scatterpolargl"
           }
          ],
          "scatterternary": [
           {
            "marker": {
             "colorbar": {
              "outlinewidth": 0,
              "ticks": ""
             }
            },
            "type": "scatterternary"
           }
          ],
          "surface": [
           {
            "colorbar": {
             "outlinewidth": 0,
             "ticks": ""
            },
            "colorscale": [
             [
              0,
              "#0d0887"
             ],
             [
              0.1111111111111111,
              "#46039f"
             ],
             [
              0.2222222222222222,
              "#7201a8"
             ],
             [
              0.3333333333333333,
              "#9c179e"
             ],
             [
              0.4444444444444444,
              "#bd3786"
             ],
             [
              0.5555555555555556,
              "#d8576b"
             ],
             [
              0.6666666666666666,
              "#ed7953"
             ],
             [
              0.7777777777777778,
              "#fb9f3a"
             ],
             [
              0.8888888888888888,
              "#fdca26"
             ],
             [
              1,
              "#f0f921"
             ]
            ],
            "type": "surface"
           }
          ],
          "table": [
           {
            "cells": {
             "fill": {
              "color": "#EBF0F8"
             },
             "line": {
              "color": "white"
             }
            },
            "header": {
             "fill": {
              "color": "#C8D4E3"
             },
             "line": {
              "color": "white"
             }
            },
            "type": "table"
           }
          ]
         },
         "layout": {
          "annotationdefaults": {
           "arrowcolor": "#2a3f5f",
           "arrowhead": 0,
           "arrowwidth": 1
          },
          "autotypenumbers": "strict",
          "coloraxis": {
           "colorbar": {
            "outlinewidth": 0,
            "ticks": ""
           }
          },
          "colorscale": {
           "diverging": [
            [
             0,
             "#8e0152"
            ],
            [
             0.1,
             "#c51b7d"
            ],
            [
             0.2,
             "#de77ae"
            ],
            [
             0.3,
             "#f1b6da"
            ],
            [
             0.4,
             "#fde0ef"
            ],
            [
             0.5,
             "#f7f7f7"
            ],
            [
             0.6,
             "#e6f5d0"
            ],
            [
             0.7,
             "#b8e186"
            ],
            [
             0.8,
             "#7fbc41"
            ],
            [
             0.9,
             "#4d9221"
            ],
            [
             1,
             "#276419"
            ]
           ],
           "sequential": [
            [
             0,
             "#0d0887"
            ],
            [
             0.1111111111111111,
             "#46039f"
            ],
            [
             0.2222222222222222,
             "#7201a8"
            ],
            [
             0.3333333333333333,
             "#9c179e"
            ],
            [
             0.4444444444444444,
             "#bd3786"
            ],
            [
             0.5555555555555556,
             "#d8576b"
            ],
            [
             0.6666666666666666,
             "#ed7953"
            ],
            [
             0.7777777777777778,
             "#fb9f3a"
            ],
            [
             0.8888888888888888,
             "#fdca26"
            ],
            [
             1,
             "#f0f921"
            ]
           ],
           "sequentialminus": [
            [
             0,
             "#0d0887"
            ],
            [
             0.1111111111111111,
             "#46039f"
            ],
            [
             0.2222222222222222,
             "#7201a8"
            ],
            [
             0.3333333333333333,
             "#9c179e"
            ],
            [
             0.4444444444444444,
             "#bd3786"
            ],
            [
             0.5555555555555556,
             "#d8576b"
            ],
            [
             0.6666666666666666,
             "#ed7953"
            ],
            [
             0.7777777777777778,
             "#fb9f3a"
            ],
            [
             0.8888888888888888,
             "#fdca26"
            ],
            [
             1,
             "#f0f921"
            ]
           ]
          },
          "colorway": [
           "#636efa",
           "#EF553B",
           "#00cc96",
           "#ab63fa",
           "#FFA15A",
           "#19d3f3",
           "#FF6692",
           "#B6E880",
           "#FF97FF",
           "#FECB52"
          ],
          "font": {
           "color": "#2a3f5f"
          },
          "geo": {
           "bgcolor": "white",
           "lakecolor": "white",
           "landcolor": "#E5ECF6",
           "showlakes": true,
           "showland": true,
           "subunitcolor": "white"
          },
          "hoverlabel": {
           "align": "left"
          },
          "hovermode": "closest",
          "mapbox": {
           "style": "light"
          },
          "paper_bgcolor": "white",
          "plot_bgcolor": "#E5ECF6",
          "polar": {
           "angularaxis": {
            "gridcolor": "white",
            "linecolor": "white",
            "ticks": ""
           },
           "bgcolor": "#E5ECF6",
           "radialaxis": {
            "gridcolor": "white",
            "linecolor": "white",
            "ticks": ""
           }
          },
          "scene": {
           "xaxis": {
            "backgroundcolor": "#E5ECF6",
            "gridcolor": "white",
            "gridwidth": 2,
            "linecolor": "white",
            "showbackground": true,
            "ticks": "",
            "zerolinecolor": "white"
           },
           "yaxis": {
            "backgroundcolor": "#E5ECF6",
            "gridcolor": "white",
            "gridwidth": 2,
            "linecolor": "white",
            "showbackground": true,
            "ticks": "",
            "zerolinecolor": "white"
           },
           "zaxis": {
            "backgroundcolor": "#E5ECF6",
            "gridcolor": "white",
            "gridwidth": 2,
            "linecolor": "white",
            "showbackground": true,
            "ticks": "",
            "zerolinecolor": "white"
           }
          },
          "shapedefaults": {
           "line": {
            "color": "#2a3f5f"
           }
          },
          "ternary": {
           "aaxis": {
            "gridcolor": "white",
            "linecolor": "white",
            "ticks": ""
           },
           "baxis": {
            "gridcolor": "white",
            "linecolor": "white",
            "ticks": ""
           },
           "bgcolor": "#E5ECF6",
           "caxis": {
            "gridcolor": "white",
            "linecolor": "white",
            "ticks": ""
           }
          },
          "title": {
           "x": 0.05
          },
          "xaxis": {
           "automargin": true,
           "gridcolor": "white",
           "linecolor": "white",
           "ticks": "",
           "title": {
            "standoff": 15
           },
           "zerolinecolor": "white",
           "zerolinewidth": 2
          },
          "yaxis": {
           "automargin": true,
           "gridcolor": "white",
           "linecolor": "white",
           "ticks": "",
           "title": {
            "standoff": 15
           },
           "zerolinecolor": "white",
           "zerolinewidth": 2
          }
         }
        },
        "title": {
         "text": "Slice Plot"
        },
        "xaxis": {
         "anchor": "y",
         "autorange": true,
         "categoryarray": [
          "LeakyReLU",
          "PReLU"
         ],
         "categoryorder": "array",
         "domain": [
          0,
          0.1388888888888889
         ],
         "range": [
          -0.20436507936507936,
          1.2043650793650793
         ],
         "title": {
          "text": "activation"
         },
         "type": "category"
        },
        "xaxis2": {
         "anchor": "y2",
         "autorange": true,
         "domain": [
          0.17222222222222222,
          0.3111111111111111
         ],
         "range": [
          1552.4246031746031,
          2383.5753968253966
         ],
         "title": {
          "text": "batch_size"
         },
         "type": "linear"
        },
        "xaxis3": {
         "anchor": "y3",
         "autorange": true,
         "domain": [
          0.34444444444444444,
          0.48333333333333334
         ],
         "range": [
          60.79563492063492,
          62.20436507936508
         ],
         "title": {
          "text": "hidden_size"
         },
         "type": "linear"
        },
        "xaxis4": {
         "anchor": "y4",
         "autorange": true,
         "domain": [
          0.5166666666666667,
          0.6555555555555557
         ],
         "range": [
          0.0015886617867444813,
          0.010784273868693803
         ],
         "title": {
          "text": "learning_rate"
         },
         "type": "linear"
        },
        "xaxis5": {
         "anchor": "y5",
         "autorange": true,
         "domain": [
          0.6888888888888889,
          0.8277777777777777
         ],
         "range": [
          0.5912698412698412,
          3.408730158730159
         ],
         "title": {
          "text": "nlayers"
         },
         "type": "linear"
        },
        "xaxis6": {
         "anchor": "y6",
         "autorange": true,
         "categoryarray": [
          "RMSprop",
          "SGD"
         ],
         "categoryorder": "array",
         "domain": [
          0.861111111111111,
          1
         ],
         "range": [
          -0.20436507936507922,
          1.2043650793650793
         ],
         "title": {
          "text": "optimizer_name"
         },
         "type": "category"
        },
        "yaxis": {
         "anchor": "x",
         "autorange": true,
         "domain": [
          0,
          1
         ],
         "range": [
          0.0017859480378146374,
          0.002674138975359433
         ],
         "title": {
          "text": "Objective Value"
         },
         "type": "linear"
        },
        "yaxis2": {
         "anchor": "x2",
         "autorange": true,
         "domain": [
          0,
          1
         ],
         "matches": "y",
         "range": [
          0.0017859480378146374,
          0.002674138975359433
         ],
         "showticklabels": false,
         "type": "linear"
        },
        "yaxis3": {
         "anchor": "x3",
         "autorange": true,
         "domain": [
          0,
          1
         ],
         "matches": "y",
         "range": [
          0.0017859480378146374,
          0.002674138975359433
         ],
         "showticklabels": false,
         "type": "linear"
        },
        "yaxis4": {
         "anchor": "x4",
         "autorange": true,
         "domain": [
          0,
          1
         ],
         "matches": "y",
         "range": [
          0.0017859480378146374,
          0.002674138975359433
         ],
         "showticklabels": false,
         "type": "linear"
        },
        "yaxis5": {
         "anchor": "x5",
         "autorange": true,
         "domain": [
          0,
          1
         ],
         "matches": "y",
         "range": [
          0.0017859480378146374,
          0.002674138975359433
         ],
         "showticklabels": false,
         "type": "linear"
        },
        "yaxis6": {
         "anchor": "x6",
         "autorange": true,
         "domain": [
          0,
          1
         ],
         "matches": "y",
         "range": [
          0.0017859480378146374,
          0.002674138975359433
         ],
         "showticklabels": false,
         "type": "linear"
        }
       }
      },
      "image/png": "[encoded data removed]",
      "text/html": [
       "<div>                            <div id=\"06206b95-5533-4a52-9627-f853c4a804e3\" class=\"plotly-graph-div\" style=\"height:525px; width:1800px;\"></div>            <script type=\"text/javascript\">                require([\"plotly\"], function(Plotly) {                    window.PLOTLYENV=window.PLOTLYENV || {};                                    if (document.getElementById(\"06206b95-5533-4a52-9627-f853c4a804e3\")) {                    Plotly.newPlot(                        \"06206b95-5533-4a52-9627-f853c4a804e3\",                        [{\"marker\":{\"color\":[0,1],\"colorbar\":{\"title\":{\"text\":\"Trial\"},\"x\":1.0,\"xpad\":40},\"colorscale\":[[0.0,\"rgb(247,251,255)\"],[0.125,\"rgb(222,235,247)\"],[0.25,\"rgb(198,219,239)\"],[0.375,\"rgb(158,202,225)\"],[0.5,\"rgb(107,174,214)\"],[0.625,\"rgb(66,146,198)\"],[0.75,\"rgb(33,113,181)\"],[0.875,\"rgb(8,81,156)\"],[1.0,\"rgb(8,48,107)\"]],\"line\":{\"color\":\"Grey\",\"width\":0.5},\"showscale\":true},\"mode\":\"markers\",\"name\":\"Feasible Trial\",\"showlegend\":false,\"x\":[\"PReLU\",\"LeakyReLU\"],\"y\":[0.0018440080601664385,0.0026160789530076316],\"type\":\"scatter\",\"xaxis\":\"x\",\"yaxis\":\"y\"},{\"marker\":{\"color\":[0,1],\"colorbar\":{\"title\":{\"text\":\"Trial\"},\"x\":1.0,\"xpad\":40},\"colorscale\":[[0.0,\"rgb(247,251,255)\"],[0.125,\"rgb(222,235,247)\"],[0.25,\"rgb(198,219,239)\"],[0.375,\"rgb(158,202,225)\"],[0.5,\"rgb(107,174,214)\"],[0.625,\"rgb(66,146,198)\"],[0.75,\"rgb(33,113,181)\"],[0.875,\"rgb(8,81,156)\"],[1.0,\"rgb(8,48,107)\"]],\"line\":{\"color\":\"Grey\",\"width\":0.5},\"showscale\":false},\"mode\":\"markers\",\"name\":\"Feasible Trial\",\"showlegend\":false,\"x\":[2263,1673],\"y\":[0.0018440080601664385,0.0026160789530076316],\"type\":\"scatter\",\"xaxis\":\"x2\",\"yaxis\":\"y2\"},{\"marker\":{\"color\":[0,1],\"colorbar\":{\"title\":{\"text\":\"Trial\"},\"x\":1.0,\"xpad\":40},\"colorscale\":[[0.0,\"rgb(247,251,255)\"],[0.125,\"rgb(222,235,247)\"],[0.25,\"rgb(198,219,239)\"],[0.375,\"rgb(158,202,225)\"],[0.5,\"rgb(107,174,214)\"],[0.625,\"rgb(66,146,198)\"],[0.75,\"rgb(33,113,181)\"],[0.875,\"rgb(8,81,156)\"],[1.0,\"rgb(8,48,107)\"]],\"line\":{\"color\":\"Grey\",\"width\":0.5},\"showscale\":false},\"mode\":\"markers\",\"name\":\"Feasible Trial\",\"showlegend\":false,\"x\":[62,61],\"y\":[0.0018440080601664385,0.0026160789530076316],\"type\":\"scatter\",\"xaxis\":\"x3\",\"yaxis\":\"y3\"},{\"marker\":{\"color\":[0,1],\"colorbar\":{\"title\":{\"text\":\"Trial\"},\"x\":1.0,\"xpad\":40},\"colorscale\":[[0.0,\"rgb(247,251,255)\"],[0.125,\"rgb(222,235,247)\"],[0.25,\"rgb(198,219,239)\"],[0.375,\"rgb(158,202,225)\"],[0.5,\"rgb(107,174,214)\"],[0.625,\"rgb(66,146,198)\"],[0.75,\"rgb(33,113,181)\"],[0.875,\"rgb(8,81,156)\"],[1.0,\"rgb(8,48,107)\"]],\"line\":{\"color\":\"Grey\",\"width\":0.5},\"showscale\":false},\"mode\":\"markers\",\"name\":\"Feasible Trial\",\"showlegend\":false,\"x\":[0.0029226731169427625,0.009450262538495522],\"y\":[0.0018440080601664385,0.0026160789530076316],\"type\":\"scatter\",\"xaxis\":\"x4\",\"yaxis\":\"y4\"},{\"marker\":{\"color\":[0,1],\"colorbar\":{\"title\":{\"text\":\"Trial\"},\"x\":1.0,\"xpad\":40},\"colorscale\":[[0.0,\"rgb(247,251,255)\"],[0.125,\"rgb(222,235,247)\"],[0.25,\"rgb(198,219,239)\"],[0.375,\"rgb(158,202,225)\"],[0.5,\"rgb(107,174,214)\"],[0.625,\"rgb(66,146,198)\"],[0.75,\"rgb(33,113,181)\"],[0.875,\"rgb(8,81,156)\"],[1.0,\"rgb(8,48,107)\"]],\"line\":{\"color\":\"Grey\",\"width\":0.5},\"showscale\":false},\"mode\":\"markers\",\"name\":\"Feasible Trial\",\"showlegend\":false,\"x\":[1,3],\"y\":[0.0018440080601664385,0.0026160789530076316],\"type\":\"scatter\",\"xaxis\":\"x5\",\"yaxis\":\"y5\"},{\"marker\":{\"color\":[0,1],\"colorbar\":{\"title\":{\"text\":\"Trial\"},\"x\":1.0,\"xpad\":40},\"colorscale\":[[0.0,\"rgb(247,251,255)\"],[0.125,\"rgb(222,235,247)\"],[0.25,\"rgb(198,219,239)\"],[0.375,\"rgb(158,202,225)\"],[0.5,\"rgb(107,174,214)\"],[0.625,\"rgb(66,146,198)\"],[0.75,\"rgb(33,113,181)\"],[0.875,\"rgb(8,81,156)\"],[1.0,\"rgb(8,48,107)\"]],\"line\":{\"color\":\"Grey\",\"width\":0.5},\"showscale\":false},\"mode\":\"markers\",\"name\":\"Feasible Trial\",\"showlegend\":false,\"x\":[\"RMSprop\",\"SGD\"],\"y\":[0.0018440080601664385,0.0026160789530076316],\"type\":\"scatter\",\"xaxis\":\"x6\",\"yaxis\":\"y6\"}],                        {\"template\":{\"data\":{\"histogram2dcontour\":[{\"type\":\"histogram2dcontour\",\"colorbar\":{\"outlinewidth\":0,\"ticks\":\"\"},\"colorscale\":[[0.0,\"#0d0887\"],[0.1111111111111111,\"#46039f\"],[0.2222222222222222,\"#7201a8\"],[0.3333333333333333,\"#9c179e\"],[0.4444444444444444,\"#bd3786\"],[0.5555555555555556,\"#d8576b\"],[0.6666666666666666,\"#ed7953\"],[0.7777777777777778,\"#fb9f3a\"],[0.8888888888888888,\"#fdca26\"],[1.0,\"#f0f921\"]]}],\"choropleth\":[{\"type\":\"choropleth\",\"colorbar\":{\"outlinewidth\":0,\"ticks\":\"\"}}],\"histogram2d\":[{\"type\":\"histogram2d\",\"colorbar\":{\"outlinewidth\":0,\"ticks\":\"\"},\"colorscale\":[[0.0,\"#0d0887\"],[0.1111111111111111,\"#46039f\"],[0.2222222222222222,\"#7201a8\"],[0.3333333333333333,\"#9c179e\"],[0.4444444444444444,\"#bd3786\"],[0.5555555555555556,\"#d8576b\"],[0.6666666666666666,\"#ed7953\"],[0.7777777777777778,\"#fb9f3a\"],[0.8888888888888888,\"#fdca26\"],[1.0,\"#f0f921\"]]}],\"heatmap\":[{\"type\":\"heatmap\",\"colorbar\":{\"outlinewidth\":0,\"ticks\":\"\"},\"colorscale\":[[0.0,\"#0d0887\"],[0.1111111111111111,\"#46039f\"],[0.2222222222222222,\"#7201a8\"],[0.3333333333333333,\"#9c179e\"],[0.4444444444444444,\"#bd3786\"],[0.5555555555555556,\"#d8576b\"],[0.6666666666666666,\"#ed7953\"],[0.7777777777777778,\"#fb9f3a\"],[0.8888888888888888,\"#fdca26\"],[1.0,\"#f0f921\"]]}],\"heatmapgl\":[{\"type\":\"heatmapgl\",\"colorbar\":{\"outlinewidth\":0,\"ticks\":\"\"},\"colorscale\":[[0.0,\"#0d0887\"],[0.1111111111111111,\"#46039f\"],[0.2222222222222222,\"#7201a8\"],[0.3333333333333333,\"#9c179e\"],[0.4444444444444444,\"#bd3786\"],[0.5555555555555556,\"#d8576b\"],[0.6666666666666666,\"#ed7953\"],[0.7777777777777778,\"#fb9f3a\"],[0.8888888888888888,\"#fdca26\"],[1.0,\"#f0f921\"]]}],\"contourcarpet\":[{\"type\":\"contourcarpet\",\"colorbar\":{\"outlinewidth\":0,\"ticks\":\"\"}}],\"contour\":[{\"type\":\"contour\",\"colorbar\":{\"outlinewidth\":0,\"ticks\":\"\"},\"colorscale\":[[0.0,\"#0d0887\"],[0.1111111111111111,\"#46039f\"],[0.2222222222222222,\"#7201a8\"],[0.3333333333333333,\"#9c179e\"],[0.4444444444444444,\"#bd3786\"],[0.5555555555555556,\"#d8576b\"],[0.6666666666666666,\"#ed7953\"],[0.7777777777777778,\"#fb9f3a\"],[0.8888888888888888,\"#fdca26\"],[1.0,\"#f0f921\"]]}],\"surface\":[{\"type\":\"surface\",\"colorbar\":{\"outlinewidth\":0,\"ticks\":\"\"},\"colorscale\":[[0.0,\"#0d0887\"],[0.1111111111111111,\"#46039f\"],[0.2222222222222222,\"#7201a8\"],[0.3333333333333333,\"#9c179e\"],[0.4444444444444444,\"#bd3786\"],[0.5555555555555556,\"#d8576b\"],[0.6666666666666666,\"#ed7953\"],[0.7777777777777778,\"#fb9f3a\"],[0.8888888888888888,\"#fdca26\"],[1.0,\"#f0f921\"]]}],\"mesh3d\":[{\"type\":\"mesh3d\",\"colorbar\":{\"outlinewidth\":0,\"ticks\":\"\"}}],\"scatter\":[{\"fillpattern\":{\"fillmode\":\"overlay\",\"size\":10,\"solidity\":0.2},\"type\":\"scatter\"}],\"parcoords\":[{\"type\":\"parcoords\",\"line\":{\"colorbar\":{\"outlinewidth\":0,\"ticks\":\"\"}}}],\"scatterpolargl\":[{\"type\":\"scatterpolargl\",\"marker\":{\"colorbar\":{\"outlinewidth\":0,\"ticks\":\"\"}}}],\"bar\":[{\"error_x\":{\"color\":\"#2a3f5f\"},\"error_y\":{\"color\":\"#2a3f5f\"},\"marker\":{\"line\":{\"color\":\"#E5ECF6\",\"width\":0.5},\"pattern\":{\"fillmode\":\"overlay\",\"size\":10,\"solidity\":0.2}},\"type\":\"bar\"}],\"scattergeo\":[{\"type\":\"scattergeo\",\"marker\":{\"colorbar\":{\"outlinewidth\":0,\"ticks\":\"\"}}}],\"scatterpolar\":[{\"type\":\"scatterpolar\",\"marker\":{\"colorbar\":{\"outlinewidth\":0,\"ticks\":\"\"}}}],\"histogram\":[{\"marker\":{\"pattern\":{\"fillmode\":\"overlay\",\"size\":10,\"solidity\":0.2}},\"type\":\"histogram\"}],\"scattergl\":[{\"type\":\"scattergl\",\"marker\":{\"colorbar\":{\"outlinewidth\":0,\"ticks\":\"\"}}}],\"scatter3d\":[{\"type\":\"scatter3d\",\"line\":{\"colorbar\":{\"outlinewidth\":0,\"ticks\":\"\"}},\"marker\":{\"colorbar\":{\"outlinewidth\":0,\"ticks\":\"\"}}}],\"scattermapbox\":[{\"type\":\"scattermapbox\",\"marker\":{\"colorbar\":{\"outlinewidth\":0,\"ticks\":\"\"}}}],\"scatterternary\":[{\"type\":\"scatterternary\",\"marker\":{\"colorbar\":{\"outlinewidth\":0,\"ticks\":\"\"}}}],\"scattercarpet\":[{\"type\":\"scattercarpet\",\"marker\":{\"colorbar\":{\"outlinewidth\":0,\"ticks\":\"\"}}}],\"carpet\":[{\"aaxis\":{\"endlinecolor\":\"#2a3f5f\",\"gridcolor\":\"white\",\"linecolor\":\"white\",\"minorgridcolor\":\"white\",\"startlinecolor\":\"#2a3f5f\"},\"baxis\":{\"endlinecolor\":\"#2a3f5f\",\"gridcolor\":\"white\",\"linecolor\":\"white\",\"minorgridcolor\":\"white\",\"startlinecolor\":\"#2a3f5f\"},\"type\":\"carpet\"}],\"table\":[{\"cells\":{\"fill\":{\"color\":\"#EBF0F8\"},\"line\":{\"color\":\"white\"}},\"header\":{\"fill\":{\"color\":\"#C8D4E3\"},\"line\":{\"color\":\"white\"}},\"type\":\"table\"}],\"barpolar\":[{\"marker\":{\"line\":{\"color\":\"#E5ECF6\",\"width\":0.5},\"pattern\":{\"fillmode\":\"overlay\",\"size\":10,\"solidity\":0.2}},\"type\":\"barpolar\"}],\"pie\":[{\"automargin\":true,\"type\":\"pie\"}]},\"layout\":{\"autotypenumbers\":\"strict\",\"colorway\":[\"#636efa\",\"#EF553B\",\"#00cc96\",\"#ab63fa\",\"#FFA15A\",\"#19d3f3\",\"#FF6692\",\"#B6E880\",\"#FF97FF\",\"#FECB52\"],\"font\":{\"color\":\"#2a3f5f\"},\"hovermode\":\"closest\",\"hoverlabel\":{\"align\":\"left\"},\"paper_bgcolor\":\"white\",\"plot_bgcolor\":\"#E5ECF6\",\"polar\":{\"bgcolor\":\"#E5ECF6\",\"angularaxis\":{\"gridcolor\":\"white\",\"linecolor\":\"white\",\"ticks\":\"\"},\"radialaxis\":{\"gridcolor\":\"white\",\"linecolor\":\"white\",\"ticks\":\"\"}},\"ternary\":{\"bgcolor\":\"#E5ECF6\",\"aaxis\":{\"gridcolor\":\"white\",\"linecolor\":\"white\",\"ticks\":\"\"},\"baxis\":{\"gridcolor\":\"white\",\"linecolor\":\"white\",\"ticks\":\"\"},\"caxis\":{\"gridcolor\":\"white\",\"linecolor\":\"white\",\"ticks\":\"\"}},\"coloraxis\":{\"colorbar\":{\"outlinewidth\":0,\"ticks\":\"\"}},\"colorscale\":{\"sequential\":[[0.0,\"#0d0887\"],[0.1111111111111111,\"#46039f\"],[0.2222222222222222,\"#7201a8\"],[0.3333333333333333,\"#9c179e\"],[0.4444444444444444,\"#bd3786\"],[0.5555555555555556,\"#d8576b\"],[0.6666666666666666,\"#ed7953\"],[0.7777777777777778,\"#fb9f3a\"],[0.8888888888888888,\"#fdca26\"],[1.0,\"#f0f921\"]],\"sequentialminus\":[[0.0,\"#0d0887\"],[0.1111111111111111,\"#46039f\"],[0.2222222222222222,\"#7201a8\"],[0.3333333333333333,\"#9c179e\"],[0.4444444444444444,\"#bd3786\"],[0.5555555555555556,\"#d8576b\"],[0.6666666666666666,\"#ed7953\"],[0.7777777777777778,\"#fb9f3a\"],[0.8888888888888888,\"#fdca26\"],[1.0,\"#f0f921\"]],\"diverging\":[[0,\"#8e0152\"],[0.1,\"#c51b7d\"],[0.2,\"#de77ae\"],[0.3,\"#f1b6da\"],[0.4,\"#fde0ef\"],[0.5,\"#f7f7f7\"],[0.6,\"#e6f5d0\"],[0.7,\"#b8e186\"],[0.8,\"#7fbc41\"],[0.9,\"#4d9221\"],[1,\"#276419\"]]},\"xaxis\":{\"gridcolor\":\"white\",\"linecolor\":\"white\",\"ticks\":\"\",\"title\":{\"standoff\":15},\"zerolinecolor\":\"white\",\"automargin\":true,\"zerolinewidth\":2},\"yaxis\":{\"gridcolor\":\"white\",\"linecolor\":\"white\",\"ticks\":\"\",\"title\":{\"standoff\":15},\"zerolinecolor\":\"white\",\"automargin\":true,\"zerolinewidth\":2},\"scene\":{\"xaxis\":{\"backgroundcolor\":\"#E5ECF6\",\"gridcolor\":\"white\",\"linecolor\":\"white\",\"showbackground\":true,\"ticks\":\"\",\"zerolinecolor\":\"white\",\"gridwidth\":2},\"yaxis\":{\"backgroundcolor\":\"#E5ECF6\",\"gridcolor\":\"white\",\"linecolor\":\"white\",\"showbackground\":true,\"ticks\":\"\",\"zerolinecolor\":\"white\",\"gridwidth\":2},\"zaxis\":{\"backgroundcolor\":\"#E5ECF6\",\"gridcolor\":\"white\",\"linecolor\":\"white\",\"showbackground\":true,\"ticks\":\"\",\"zerolinecolor\":\"white\",\"gridwidth\":2}},\"shapedefaults\":{\"line\":{\"color\":\"#2a3f5f\"}},\"annotationdefaults\":{\"arrowcolor\":\"#2a3f5f\",\"arrowhead\":0,\"arrowwidth\":1},\"geo\":{\"bgcolor\":\"white\",\"landcolor\":\"#E5ECF6\",\"subunitcolor\":\"white\",\"showland\":true,\"showlakes\":true,\"lakecolor\":\"white\"},\"title\":{\"x\":0.05},\"mapbox\":{\"style\":\"light\"}}},\"xaxis\":{\"anchor\":\"y\",\"domain\":[0.0,0.1388888888888889],\"title\":{\"text\":\"activation\"},\"type\":\"category\",\"categoryorder\":\"array\",\"categoryarray\":[\"LeakyReLU\",\"PReLU\"]},\"yaxis\":{\"anchor\":\"x\",\"domain\":[0.0,1.0],\"title\":{\"text\":\"Objective Value\"}},\"xaxis2\":{\"anchor\":\"y2\",\"domain\":[0.17222222222222222,0.3111111111111111],\"title\":{\"text\":\"batch_size\"}},\"yaxis2\":{\"anchor\":\"x2\",\"domain\":[0.0,1.0],\"matches\":\"y\",\"showticklabels\":false},\"xaxis3\":{\"anchor\":\"y3\",\"domain\":[0.34444444444444444,0.48333333333333334],\"title\":{\"text\":\"hidden_size\"}},\"yaxis3\":{\"anchor\":\"x3\",\"domain\":[0.0,1.0],\"matches\":\"y\",\"showticklabels\":false},\"xaxis4\":{\"anchor\":\"y4\",\"domain\":[0.5166666666666667,0.6555555555555557],\"title\":{\"text\":\"learning_rate\"}},\"yaxis4\":{\"anchor\":\"x4\",\"domain\":[0.0,1.0],\"matches\":\"y\",\"showticklabels\":false},\"xaxis5\":{\"anchor\":\"y5\",\"domain\":[0.6888888888888889,0.8277777777777777],\"title\":{\"text\":\"nlayers\"}},\"yaxis5\":{\"anchor\":\"x5\",\"domain\":[0.0,1.0],\"matches\":\"y\",\"showticklabels\":false},\"xaxis6\":{\"anchor\":\"y6\",\"domain\":[0.861111111111111,1.0],\"title\":{\"text\":\"optimizer_name\"},\"type\":\"category\",\"categoryorder\":\"array\",\"categoryarray\":[\"RMSprop\",\"SGD\"]},\"yaxis6\":{\"anchor\":\"x6\",\"domain\":[0.0,1.0],\"matches\":\"y\",\"showticklabels\":false},\"title\":{\"text\":\"Slice Plot\"},\"width\":1800},                        {\"responsive\": true}                    ).then(function(){\n",
       "                            \n",
       "var gd = document.getElementById('06206b95-5533-4a52-9627-f853c4a804e3');\n",
       "var x = new MutationObserver(function (mutations, observer) {{\n",
       "        var display = window.getComputedStyle(gd).display;\n",
       "        if (!display || display === 'none') {{\n",
       "            console.log([gd, 'removed!']);\n",
       "            Plotly.purge(gd);\n",
       "            observer.disconnect();\n",
       "        }}\n",
       "}});\n",
       "\n",
       "// Listen for the removal of the full notebook cells\n",
       "var notebookContainer = gd.closest('#notebook-container');\n",
       "if (notebookContainer) {{\n",
       "    x.observe(notebookContainer, {childList: true});\n",
       "}}\n",
       "\n",
       "// Listen for the clearing of the current output cell\n",
       "var outputEl = gd.closest('.output');\n",
       "if (outputEl) {{\n",
       "    x.observe(outputEl, {childList: true});\n",
       "}}\n",
       "\n",
       "                        })                };                });            </script>        </div>"
      ]
     },
     "metadata": {},
     "output_type": "display_data"
    }
   ],
   "source": [
    "# Visualize individual hyperparameters as slice plot. See :func:`~optuna.visualization.plot_slice` for the details.\n",
    "plot_slice(study)"
   ]
  },
  {
   "cell_type": "markdown",
   "id": "1c26e032-ed56-4020-bfaa-15b3fef46103",
   "metadata": {},
   "source": [
    "## Train new model with optimized hyperparameters for long iterations"
   ]
  },
  {
   "cell_type": "code",
   "execution_count": 45,
   "id": "179123e4-2fcc-4d33-8f47-d3982e247fe2",
   "metadata": {},
   "outputs": [],
   "source": [
    "def save_model(model, PARAMS, pth_string):\n",
    "    \"\"\"pth string is the name of the pth file which is a dictionary of dictionaries\"\"\"\n",
    "    models_path = os.path.join(os.getcwd(), 'SIR_models')\n",
    "    PATH=os.path.join(models_path, pth_string)\n",
    "    print(f'saving model with the string : {pth_string}\\n')\n",
    "    torch.save({'PARAMS': PARAMS,\n",
    "                'model_state_dict': model.state_dict()},\n",
    "                PATH)\n",
    "    # print(model)"
   ]
  },
  {
   "cell_type": "code",
   "execution_count": 54,
   "id": "e24070bc-1349-4a93-8cbe-36269ebc4a16",
   "metadata": {},
   "outputs": [],
   "source": [
    "class SaveModelCheckpoint:\n",
    "    \"\"\"Continuous model-checkpointing class. Updates the latest checkpoint of an object based o validation loss each time its called. \n",
    "    \"\"\"\n",
    "    def __init__(self, best_valid_loss=np.inf):\n",
    "        \"\"\"Initiate an instance of the class based on filename and best_valid_loss/\n",
    "\n",
    "        Args:\n",
    "            best_valid_loss (float, optional): Best possible validation loss of a checkpoint object. Defaults to np.inf.\n",
    "        \"\"\"\n",
    "        self.best_valid_loss = best_valid_loss\n",
    "\n",
    "    def __call__(self, model, current_valid_loss, PARAMS, pth_string):\n",
    "        \"\"\"When an object of the calss is called, its validation loss gets updated and the model based \n",
    "        on the latest validation loss is saved.\n",
    "\n",
    "        Args:\n",
    "            model: utils.RegularizedRegressionModel object.\n",
    "            current_valid_loss (float): current (latest) validation loss of this model during the training process.\n",
    "            filename_model (str): filename in which the latest model will be saved. Can be a relative or local path. \n",
    "        \"\"\"\n",
    "        if current_valid_loss < self.best_valid_loss:\n",
    "            # update the best loss\n",
    "            self.best_valid_loss = current_valid_loss\n",
    "            # filename_model='Trained_IQNx4_%s_%sK_iter.dict' % (target, str(int(n_iterations/1000)) )\n",
    "            # filename_model = \"Trained_IQNx4_%s_TUNED_2lin_with_noise.dict\" % target\n",
    "\n",
    "            # note that n_iterations is the total n_iterations, we dont want to save a million files for each iteration\n",
    "            save_model(model, PARAMS, pth_string)\n",
    "            print(\n",
    "                f\"\\nCurrent valid loss: {current_valid_loss};  saved better model in models/{pth_string}\"\n",
    "            )\n",
    "            # save using .pth object which if a dictionary of dicionaries, so that I can have PARAMS saved in the same file\n"
   ]
  },
  {
   "cell_type": "code",
   "execution_count": 55,
   "id": "60c29eaa-b6f0-4a29-884c-692429bcffd8",
   "metadata": {},
   "outputs": [],
   "source": [
    "def initiate_optimized_model(NTRIALS):\n",
    "    tuned_dir = 'SIR_models'\n",
    "    best_params_filename=os.path.join(tuned_dir,'best_params_SIR_avg_quad_loss_%s_trials.csv' % str(int(NTRIALS)))\n",
    "\n",
    "    BEST_PARAMS = pd.read_csv(best_params_filename)\n",
    "    print(BEST_PARAMS)\n",
    "\n",
    "    n_layers = int(BEST_PARAMS[\"n_layers\"]) \n",
    "    hidden_size = int(BEST_PARAMS[\"hidden_size\"])\n",
    "\n",
    "    optimizer_name = BEST_PARAMS[\"optimizer_name\"].to_string().split()[1]\n",
    "    learning_rate =  float(BEST_PARAMS[\"learning_rate\"])\n",
    "    batch_size = int(BEST_PARAMS[\"batch_size\"])\n",
    "    activation = BEST_PARAMS[\"activation\"].to_string().split()[1]\n",
    "\n",
    "    optimized_model = SIRModel(\n",
    "                  nfeatures=train_x.shape[1], \n",
    "                    ntargets=1,\n",
    "                    nlayers=n_layers, \n",
    "                    hidden_size=hidden_size,\n",
    "                    activation=activation\n",
    "                    )\n",
    "    print(optimized_model)\n",
    "    return optimized_model"
   ]
  },
  {
   "cell_type": "code",
   "execution_count": 47,
   "id": "144c6878-0f03-4be9-bb5d-c344468b3dc7",
   "metadata": {},
   "outputs": [
    {
     "name": "stdout",
     "output_type": "stream",
     "text": [
      "   Unnamed: 0  n_layers  hidden_size optimizer_name  learning_rate  \\\n",
      "0           0         3           32            SGD       0.008155   \n",
      "\n",
      "   batch_size activation  \n",
      "0        2375  LeakyReLU  \n",
      "SIRModel(\n",
      "  (model): Sequential(\n",
      "    (0): Linear(in_features=3, out_features=32, bias=True)\n",
      "    (1): LeakyReLU(negative_slope=0.3)\n",
      "    (2): Linear(in_features=32, out_features=32, bias=True)\n",
      "    (3): LeakyReLU(negative_slope=0.3)\n",
      "    (4): Linear(in_features=32, out_features=32, bias=True)\n",
      "    (5): LeakyReLU(negative_slope=0.3)\n",
      "    (6): Linear(in_features=32, out_features=1, bias=True)\n",
      "  )\n",
      ")\n"
     ]
    }
   ],
   "source": [
    "optimized_model_untrained = initiate_optimized_model(NTRIALS)"
   ]
  },
  {
   "cell_type": "code",
   "execution_count": 56,
   "id": "e5d27d52-5dce-453c-a09c-6c804edd5e5b",
   "metadata": {},
   "outputs": [],
   "source": [
    "def train_SIR(model, optimizer, avloss,\n",
    "          batch_size, \n",
    "          n_iterations, traces, \n",
    "          step, window, PARAMS, pth_string):\n",
    "    \n",
    "    # to keep track of average losses\n",
    "    xx, yy_t, yy_v, yy_v_avg = traces\n",
    "    \n",
    "    model = model.to(device)\n",
    "    \n",
    "\n",
    "    train_t, train_x, test_t,  test_x, _, _ = getwholedata_delta_SIR()\n",
    "\n",
    "    model_checkpoint = SaveModelCheckpoint()\n",
    "    n = len(test_x)\n",
    "    print('Iteration vs average loss')\n",
    "    print(\"%10s\\t%10s\\t%10s\" % \\\n",
    "          ('iteration', 'train-set', 'valid-set'))\n",
    "    \n",
    "    # training_set_features, training_set_targets, evaluation_set_features, evaluation_set_targets = get_data_sets(simulate_data=False, batchsize=batch_size)\n",
    "    \n",
    "    for ii in range(n_iterations):\n",
    "\n",
    "        # set mode to training so that training specific \n",
    "        # operations such as dropout are enabled.\n",
    "\n",
    "        \n",
    "        model.train()\n",
    "        \n",
    "        # get a random sample (a batch) of data (as numpy arrays)\n",
    "        \n",
    "        #Harrison-like Loader\n",
    "        batch_x, batch_t = get_features_training_batch(train_x, train_t, batch_size)\n",
    "        \n",
    "        #Or Ali's Loader\n",
    "        # batch_x, batch_t = next(training_set_features()), next(training_set_targets())\n",
    "        # batch_x_eval, batch_t_eval = next(evaluation_set_features()), next(evaluation_set_targets())\n",
    "\n",
    "        with torch.no_grad(): # no need to compute gradients \n",
    "            # wrt. x and t\n",
    "            x = torch.from_numpy(batch_x).float().to(device)\n",
    "            t = torch.from_numpy(batch_t).float().to(device)    \n",
    "\n",
    "\n",
    "        outputs = model(x).reshape(t.shape)\n",
    "   \n",
    "        # compute a noisy approximation to the average loss\n",
    "        empirical_risk = avloss(outputs, t, x)\n",
    "        \n",
    "        # use automatic differentiation to compute a \n",
    "        # noisy approximation of the local gradient\n",
    "        optimizer.zero_grad()       # clear previous gradients\n",
    "        empirical_risk.backward()   # compute gradients\n",
    "        \n",
    "        # finally, advance one step in the direction of steepest \n",
    "        # descent, using the noisy local gradient. \n",
    "        optimizer.step()            # move one step\n",
    "        \n",
    "        if ii % step == 0:\n",
    "            \n",
    "            \n",
    "            #using Harrison-like loader\n",
    "            acc_t = validate(model, avloss, train_x[:n], train_t[:n]) \n",
    "            acc_v = validate(model, avloss, test_x[:n], test_t[:n])\n",
    "            \n",
    "            model_checkpoint(model=model, current_valid_loss=acc_v, PARAMS=PARAMS, pth_string=pth_string)\n",
    "            \n",
    "\n",
    "            yy_t.append(acc_t)\n",
    "            yy_v.append(acc_v)\n",
    "            \n",
    "            # compute running average for validation data\n",
    "            len_yy_v = len(yy_v)\n",
    "            if   len_yy_v < window:\n",
    "                yy_v_avg.append( yy_v[-1] )\n",
    "            elif len_yy_v == window:\n",
    "                yy_v_avg.append( sum(yy_v) / window )\n",
    "            else:\n",
    "                acc_v_avg  = yy_v_avg[-1] * window\n",
    "                acc_v_avg += yy_v[-1] - yy_v[-window-1]\n",
    "                yy_v_avg.append(acc_v_avg / window)\n",
    "                        \n",
    "            if len(xx) < 1:\n",
    "                xx.append(0)\n",
    "                print(\"%10d\\t%10.6f\\t%10.6f\" % \\\n",
    "                      (xx[-1], yy_t[-1], yy_v[-1]))\n",
    "            else:\n",
    "                xx.append(xx[-1] + step)\n",
    "                    \n",
    "                print(\"\\r%10d\\t%10.6f\\t%10.6f\\t%10.6f\" % \\\n",
    "                          (xx[-1], yy_t[-1], yy_v[-1], yy_v_avg[-1]), \n",
    "                      end='')\n",
    "            \n",
    "    print()      \n",
    "    return (xx, yy_t, yy_v, yy_v_avg)"
   ]
  },
  {
   "cell_type": "code",
   "execution_count": 50,
   "id": "93bfefc9-fa2e-42b4-acc4-f289bd4282f4",
   "metadata": {},
   "outputs": [
    {
     "data": {
      "text/html": [
       "<div>\n",
       "<style scoped>\n",
       "    .dataframe tbody tr th:only-of-type {\n",
       "        vertical-align: middle;\n",
       "    }\n",
       "\n",
       "    .dataframe tbody tr th {\n",
       "        vertical-align: top;\n",
       "    }\n",
       "\n",
       "    .dataframe thead th {\n",
       "        text-align: right;\n",
       "    }\n",
       "</style>\n",
       "<table border=\"1\" class=\"dataframe\">\n",
       "  <thead>\n",
       "    <tr style=\"text-align: right;\">\n",
       "      <th></th>\n",
       "      <th>Unnamed: 0</th>\n",
       "      <th>n_layers</th>\n",
       "      <th>hidden_size</th>\n",
       "      <th>optimizer_name</th>\n",
       "      <th>learning_rate</th>\n",
       "      <th>batch_size</th>\n",
       "      <th>activation</th>\n",
       "    </tr>\n",
       "  </thead>\n",
       "  <tbody>\n",
       "    <tr>\n",
       "      <th>0</th>\n",
       "      <td>0</td>\n",
       "      <td>3</td>\n",
       "      <td>32</td>\n",
       "      <td>SGD</td>\n",
       "      <td>0.008155</td>\n",
       "      <td>2375</td>\n",
       "      <td>LeakyReLU</td>\n",
       "    </tr>\n",
       "  </tbody>\n",
       "</table>\n",
       "</div>"
      ],
      "text/plain": [
       "   Unnamed: 0  n_layers  hidden_size optimizer_name  learning_rate  \\\n",
       "0           0         3           32            SGD       0.008155   \n",
       "\n",
       "   batch_size activation  \n",
       "0        2375  LeakyReLU  "
      ]
     },
     "execution_count": 50,
     "metadata": {},
     "output_type": "execute_result"
    }
   ],
   "source": [
    "tuned_dir = 'SIR_models'\n",
    "best_params_filename=os.path.join(tuned_dir,'best_params_SIR_avg_quad_loss_%s_trials.csv' % str(int(NTRIALS)))\n",
    "\n",
    "BEST_PARAMS = pd.read_csv(best_params_filename)\n",
    "BEST_PARAMS"
   ]
  },
  {
   "cell_type": "code",
   "execution_count": 52,
   "id": "a74dfa9b-235c-48cc-89dc-290c1312ea67",
   "metadata": {},
   "outputs": [
    {
     "data": {
      "text/plain": [
       "{'n_layers': 3,\n",
       " 'hidden_size': 32,\n",
       " 'NFEATURES': 3,\n",
       " 'activation': 'LeakyReLU',\n",
       " 'optimizer_name': 'SGD',\n",
       " 'starting_learning_rate': 0.0081546812409542,\n",
       " 'batch_size': 2375,\n",
       " 'n_iterations': 30000,\n",
       " 'traces_step': 1000,\n",
       " 'pth_string': 'SIR_AQL_Tuned_Ntrials_2.pth'}"
      ]
     },
     "execution_count": 52,
     "metadata": {},
     "output_type": "execute_result"
    }
   ],
   "source": [
    "SIR_Model_AQL_Tuned_PARAMS = {\n",
    "    \"n_layers\": int(BEST_PARAMS[\"n_layers\"]) ,\n",
    "\"hidden_size\":  int(BEST_PARAMS[\"hidden_size\"]),\n",
    "# \"dropout\": float(0.13),\n",
    "\"NFEATURES\":int(N_Features),\n",
    "\"activation\": BEST_PARAMS[\"activation\"].to_string().split()[1],\n",
    "'optimizer_name':BEST_PARAMS[\"optimizer_name\"].to_string().split()[1],\n",
    "'starting_learning_rate':float(BEST_PARAMS[\"learning_rate\"]),\n",
    "# 'momentum':float(0.9),\n",
    "'batch_size':int(BEST_PARAMS[\"batch_size\"]),\n",
    "'n_iterations': int(3e4),\n",
    "'traces_step':int(1000),\n",
    "# 'L2':float(0.1),\n",
    "'pth_string':'SIR_AQL_Tuned_Ntrials_%s.pth' %  str(int(NTRIALS))\n",
    "}\n",
    "SIR_Model_AQL_Tuned_PARAMS"
   ]
  },
  {
   "cell_type": "code",
   "execution_count": 57,
   "id": "b2e61f53-1204-4d09-a4fc-acf2995d0e2e",
   "metadata": {},
   "outputs": [
    {
     "name": "stdout",
     "output_type": "stream",
     "text": [
      "train_t shape =  (90000,) \n",
      "\n",
      "train_x shape =  (90000, 3) \n",
      "\n",
      "Iteration vs average loss\n",
      " iteration\t train-set\t valid-set\n",
      "saving model with the string : SIR_AQL_Tuned_Ntrials_2.pth\n",
      "\n",
      "\n",
      "Current valid loss: 0.5138871073722839;  saved better model in models/SIR_AQL_Tuned_Ntrials_2.pth\n",
      "         0\t  0.513964\t  0.513887\n",
      "saving model with the string : SIR_AQL_Tuned_Ntrials_2.pth\n",
      "\n",
      "\n",
      "Current valid loss: 0.08276550471782684;  saved better model in models/SIR_AQL_Tuned_Ntrials_2.pth\n",
      "      1000\t  0.082469\t  0.082766\t  0.082766saving model with the string : SIR_AQL_Tuned_Ntrials_2.pth\n",
      "\n",
      "\n",
      "Current valid loss: 0.08194046467542648;  saved better model in models/SIR_AQL_Tuned_Ntrials_2.pth\n",
      "      2000\t  0.081649\t  0.081940\t  0.081940saving model with the string : SIR_AQL_Tuned_Ntrials_2.pth\n",
      "\n",
      "\n",
      "Current valid loss: 0.08091121912002563;  saved better model in models/SIR_AQL_Tuned_Ntrials_2.pth\n",
      "      3000\t  0.080619\t  0.080911\t  0.080911saving model with the string : SIR_AQL_Tuned_Ntrials_2.pth\n",
      "\n",
      "\n",
      "Current valid loss: 0.07950133085250854;  saved better model in models/SIR_AQL_Tuned_Ntrials_2.pth\n",
      "      4000\t  0.079203\t  0.079501\t  0.079501saving model with the string : SIR_AQL_Tuned_Ntrials_2.pth\n",
      "\n",
      "\n",
      "Current valid loss: 0.07739643007516861;  saved better model in models/SIR_AQL_Tuned_Ntrials_2.pth\n",
      "      5000\t  0.077092\t  0.077396\t  0.077396saving model with the string : SIR_AQL_Tuned_Ntrials_2.pth\n",
      "\n",
      "\n",
      "Current valid loss: 0.07403940707445145;  saved better model in models/SIR_AQL_Tuned_Ntrials_2.pth\n",
      "      6000\t  0.073723\t  0.074039\t  0.074039saving model with the string : SIR_AQL_Tuned_Ntrials_2.pth\n",
      "\n",
      "\n",
      "Current valid loss: 0.06845315545797348;  saved better model in models/SIR_AQL_Tuned_Ntrials_2.pth\n",
      "      7000\t  0.068130\t  0.068453\t  0.068453saving model with the string : SIR_AQL_Tuned_Ntrials_2.pth\n",
      "\n",
      "\n",
      "Current valid loss: 0.058955591171979904;  saved better model in models/SIR_AQL_Tuned_Ntrials_2.pth\n",
      "      8000\t  0.058641\t  0.058956\t  0.058956saving model with the string : SIR_AQL_Tuned_Ntrials_2.pth\n",
      "\n",
      "\n",
      "Current valid loss: 0.04415145516395569;  saved better model in models/SIR_AQL_Tuned_Ntrials_2.pth\n",
      "      9000\t  0.043852\t  0.044151\t  0.044151saving model with the string : SIR_AQL_Tuned_Ntrials_2.pth\n",
      "\n",
      "\n",
      "Current valid loss: 0.029534362256526947;  saved better model in models/SIR_AQL_Tuned_Ntrials_2.pth\n",
      "     10000\t  0.029345\t  0.029534\t  0.029534saving model with the string : SIR_AQL_Tuned_Ntrials_2.pth\n",
      "\n",
      "\n",
      "Current valid loss: 0.023485448211431503;  saved better model in models/SIR_AQL_Tuned_Ntrials_2.pth\n",
      "     11000\t  0.023492\t  0.023485\t  0.023485saving model with the string : SIR_AQL_Tuned_Ntrials_2.pth\n",
      "\n",
      "\n",
      "Current valid loss: 0.022016435861587524;  saved better model in models/SIR_AQL_Tuned_Ntrials_2.pth\n",
      "     12000\t  0.022127\t  0.022016\t  0.022016saving model with the string : SIR_AQL_Tuned_Ntrials_2.pth\n",
      "\n",
      "\n",
      "Current valid loss: 0.020592590793967247;  saved better model in models/SIR_AQL_Tuned_Ntrials_2.pth\n",
      "     13000\t  0.020707\t  0.020593\t  0.020593saving model with the string : SIR_AQL_Tuned_Ntrials_2.pth\n",
      "\n",
      "\n",
      "Current valid loss: 0.019456742331385612;  saved better model in models/SIR_AQL_Tuned_Ntrials_2.pth\n",
      "     14000\t  0.019566\t  0.019457\t  0.019457saving model with the string : SIR_AQL_Tuned_Ntrials_2.pth\n",
      "\n",
      "\n",
      "Current valid loss: 0.018692705780267715;  saved better model in models/SIR_AQL_Tuned_Ntrials_2.pth\n",
      "     15000\t  0.018788\t  0.018693\t  0.018693saving model with the string : SIR_AQL_Tuned_Ntrials_2.pth\n",
      "\n",
      "\n",
      "Current valid loss: 0.018139749765396118;  saved better model in models/SIR_AQL_Tuned_Ntrials_2.pth\n",
      "     16000\t  0.018225\t  0.018140\t  0.018140saving model with the string : SIR_AQL_Tuned_Ntrials_2.pth\n",
      "\n",
      "\n",
      "Current valid loss: 0.017619069665670395;  saved better model in models/SIR_AQL_Tuned_Ntrials_2.pth\n",
      "     17000\t  0.017700\t  0.017619\t  0.017619saving model with the string : SIR_AQL_Tuned_Ntrials_2.pth\n",
      "\n",
      "\n",
      "Current valid loss: 0.017092658206820488;  saved better model in models/SIR_AQL_Tuned_Ntrials_2.pth\n",
      "     18000\t  0.017173\t  0.017093\t  0.017093saving model with the string : SIR_AQL_Tuned_Ntrials_2.pth\n",
      "\n",
      "\n",
      "Current valid loss: 0.016519464552402496;  saved better model in models/SIR_AQL_Tuned_Ntrials_2.pth\n",
      "     19000\t  0.016597\t  0.016519\t  0.016519saving model with the string : SIR_AQL_Tuned_Ntrials_2.pth\n",
      "\n",
      "\n",
      "Current valid loss: 0.015917688608169556;  saved better model in models/SIR_AQL_Tuned_Ntrials_2.pth\n",
      "     20000\t  0.015995\t  0.015918\t  0.015918saving model with the string : SIR_AQL_Tuned_Ntrials_2.pth\n",
      "\n",
      "\n",
      "Current valid loss: 0.015273227356374264;  saved better model in models/SIR_AQL_Tuned_Ntrials_2.pth\n",
      "     21000\t  0.015354\t  0.015273\t  0.015273saving model with the string : SIR_AQL_Tuned_Ntrials_2.pth\n",
      "\n",
      "\n",
      "Current valid loss: 0.014593031257390976;  saved better model in models/SIR_AQL_Tuned_Ntrials_2.pth\n",
      "     22000\t  0.014681\t  0.014593\t  0.014593saving model with the string : SIR_AQL_Tuned_Ntrials_2.pth\n",
      "\n",
      "\n",
      "Current valid loss: 0.013988110236823559;  saved better model in models/SIR_AQL_Tuned_Ntrials_2.pth\n",
      "     23000\t  0.014078\t  0.013988\t  0.013988saving model with the string : SIR_AQL_Tuned_Ntrials_2.pth\n",
      "\n",
      "\n",
      "Current valid loss: 0.013392155058681965;  saved better model in models/SIR_AQL_Tuned_Ntrials_2.pth\n",
      "     24000\t  0.013477\t  0.013392\t  0.013392saving model with the string : SIR_AQL_Tuned_Ntrials_2.pth\n",
      "\n",
      "\n",
      "Current valid loss: 0.012803510762751102;  saved better model in models/SIR_AQL_Tuned_Ntrials_2.pth\n",
      "     25000\t  0.012883\t  0.012804\t  0.012804saving model with the string : SIR_AQL_Tuned_Ntrials_2.pth\n",
      "\n",
      "\n",
      "Current valid loss: 0.012188293971121311;  saved better model in models/SIR_AQL_Tuned_Ntrials_2.pth\n",
      "     26000\t  0.012265\t  0.012188\t  0.012188saving model with the string : SIR_AQL_Tuned_Ntrials_2.pth\n",
      "\n",
      "\n",
      "Current valid loss: 0.011530514806509018;  saved better model in models/SIR_AQL_Tuned_Ntrials_2.pth\n",
      "     27000\t  0.011611\t  0.011531\t  0.011531saving model with the string : SIR_AQL_Tuned_Ntrials_2.pth\n",
      "\n",
      "\n",
      "Current valid loss: 0.01090069767087698;  saved better model in models/SIR_AQL_Tuned_Ntrials_2.pth\n",
      "     28000\t  0.010978\t  0.010901\t  0.010901saving model with the string : SIR_AQL_Tuned_Ntrials_2.pth\n",
      "\n",
      "\n",
      "Current valid loss: 0.01030753180384636;  saved better model in models/SIR_AQL_Tuned_Ntrials_2.pth\n",
      "     29000\t  0.010385\t  0.010308\t  0.010308\n"
     ]
    }
   ],
   "source": [
    "optimizer_name=SIR_Model_AQL_Tuned_PARAMS[\"optimizer_name\"]\n",
    "optimizer_SIR = getattr(torch.optim, str(optimizer_name))(optimized_model_untrained.parameters(), \n",
    "                                                           lr=learning_rate)\n",
    "\n",
    "traces_tuned_SIR = ([], [], [], [])\n",
    "traces_tuned_SIR = train_SIR(model=optimized_model_untrained,\n",
    "                             optimizer = optimizer_SIR,\n",
    "                             avloss=average_quadratic_loss,\n",
    "                             batch_size=SIR_Model_AQL_Tuned_PARAMS[\"batch_size\"],\n",
    "                             n_iterations = SIR_Model_AQL_Tuned_PARAMS[\"n_iterations\"],\n",
    "                             traces = traces_tuned_SIR,\n",
    "                             step=SIR_Model_AQL_Tuned_PARAMS[\"traces_step\"],\n",
    "                             window=200,\n",
    "                             PARAMS=SIR_Model_AQL_Tuned_PARAMS,\n",
    "                             pth_string=SIR_Model_AQL_Tuned_PARAMS[\"pth_string\"]\n",
    "                             \n",
    "                            )   "
   ]
  },
  {
   "cell_type": "code",
   "execution_count": 67,
   "id": "5e302c8b-7617-43a9-8600-b0039261fe01",
   "metadata": {},
   "outputs": [],
   "source": [
    "def load_tuned_model(PARAMS, pth_string):\n",
    "    models_path = os.path.join(os.getcwd(), 'SIR_models')\n",
    "    PATH=os.path.join(models_path, pth_string)\n",
    "    model = SIRModel(\n",
    "        nfeatures=PARAMS['NFEATURES'],\n",
    "        ntargets=1,\n",
    "        nlayers=PARAMS[\"n_layers\"],\n",
    "        hidden_size=PARAMS[\"hidden_size\"],\n",
    "        activation = PARAMS[\"activation\"]\n",
    "    )\n",
    "    checkpoint = torch.load(PATH)\n",
    "    # print('INITIATED MODEL:',  model)\n",
    "    \n",
    "    model.load_state_dict(checkpoint['model_state_dict'])\n",
    "    print(f'loading model with the string : {pth_string}\\n')    \n",
    "    print(model)\n",
    "    \n",
    "    return model"
   ]
  },
  {
   "cell_type": "code",
   "execution_count": 68,
   "id": "76a37de3-7d7f-4218-81cf-45e62ae6bc67",
   "metadata": {},
   "outputs": [
    {
     "name": "stdout",
     "output_type": "stream",
     "text": [
      "loading model with the string : SIR_AQL_Tuned_Ntrials_2.pth\n",
      "\n",
      "SIRModel(\n",
      "  (model): Sequential(\n",
      "    (0): Linear(in_features=3, out_features=32, bias=True)\n",
      "    (1): LeakyReLU(negative_slope=0.3)\n",
      "    (2): Linear(in_features=32, out_features=32, bias=True)\n",
      "    (3): LeakyReLU(negative_slope=0.3)\n",
      "    (4): Linear(in_features=32, out_features=32, bias=True)\n",
      "    (5): LeakyReLU(negative_slope=0.3)\n",
      "    (6): Linear(in_features=32, out_features=1, bias=True)\n",
      "  )\n",
      ")\n"
     ]
    }
   ],
   "source": [
    "SIR_Tuned_Model_AQL = load_tuned_model(SIR_Model_AQL_Tuned_PARAMS, \n",
    "                                 SIR_Model_AQL_Tuned_PARAMS['pth_string'])"
   ]
  },
  {
   "cell_type": "code",
   "execution_count": null,
   "id": "49963e47-8900-4b59-8949-b8c692fabce3",
   "metadata": {},
   "outputs": [],
   "source": []
  }
 ],
 "metadata": {
  "kernelspec": {
   "display_name": "Python 3 (ipykernel)",
   "language": "python",
   "name": "python3"
  },
  "language_info": {
   "codemirror_mode": {
    "name": "ipython",
    "version": 3
   },
   "file_extension": ".py",
   "mimetype": "text/x-python",
   "name": "python",
   "nbconvert_exporter": "python",
   "pygments_lexer": "ipython3",
   "version": "3.9.13"
  }
 },
 "nbformat": 4,
 "nbformat_minor": 5
}
