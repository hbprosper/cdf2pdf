{
 "cells": [
  {
   "cell_type": "markdown",
   "id": "5705e588-ca46-425a-8ea8-87ea356f8a1d",
   "metadata": {},
   "source": [
    "The purpose of this notebook is to perform what was done earlier but then take the derivative of $\\lambda$ wrt the inputs to get the PDF of $\\lambda$. This should resemble the $\\chi^2$ distribution."
   ]
  },
  {
   "cell_type": "code",
   "execution_count": 180,
   "id": "bf1b655b-7c2d-4016-9129-b64522b3c3d6",
   "metadata": {},
   "outputs": [
    {
     "name": "stdout",
     "output_type": "stream",
     "text": [
      "BASE directoy properly set =  /home/ali/Desktop/Pulled_Github_Repositories/LFI_HEP\n"
     ]
    }
   ],
   "source": [
    "import numpy as np; import pandas as pd\n",
    "import scipy as sp; import scipy.stats as st\n",
    "import torch; import torch.nn as nn\n",
    "#use numba's just-in-time compiler to speed things up\n",
    "from numba import njit\n",
    "from sklearn.preprocessing import StandardScaler; from sklearn.model_selection import train_test_split\n",
    "import matplotlib as mp; import matplotlib.pyplot as plt; \n",
    "#reset matplotlib stle/parameters\n",
    "import matplotlib as mpl\n",
    "mpl.rcParams.update(mpl.rcParamsDefault)\n",
    "plt.style.use('seaborn-deep')\n",
    "mp.rcParams['agg.path.chunksize'] = 10000\n",
    "font_legend = 15; font_axes=15\n",
    "# %matplotlib inline\n",
    "from joblib import  Memory\n",
    "\n",
    "import copy; import sys; import os\n",
    "from IPython.display import Image, display\n",
    "from importlib import import_module\n",
    "from model import RegularizedRegressionModel\n",
    "\n",
    "\n",
    "\n",
    "try:\n",
    "    import optuna\n",
    "except Exception:\n",
    "    print('optuna is only used for hyperparameter tuning, not critical!')\n",
    "    pass\n",
    "# import sympy as sy\n",
    "#sometimes jupyter doesnt initialize MathJax automatically for latex, so do this\n",
    "\n",
    "try:\n",
    "    LFI_PIVOT_BASE = os.environ['LFI_PIVOT_BASE']\n",
    "    print('BASE directoy properly set = ', LFI_PIVOT_BASE)\n",
    "    utils_dir = os.path.join(LFI_PIVOT_BASE, 'utils')\n",
    "    sys.path.append(utils_dir)\n",
    "    import utils\n",
    "    #usually its not recommended to import everything from a module, but we know\n",
    "    #whats in it so its fine\n",
    "    # from utils import *                                                                                               \n",
    "except Exception:\n",
    "    print(\"\"\"BASE directory not properly set. Read repo README.\\\n",
    "    If you need a function from utils, use the decorator below, or add utils to sys.path\"\"\")\n",
    "    pass"
   ]
  },
  {
   "cell_type": "code",
   "execution_count": 181,
   "id": "a72cc22b-734f-4436-9848-abcb6cc0a67d",
   "metadata": {},
   "outputs": [],
   "source": [
    "FONTSIZE=18\n",
    "font = {'family': 'serif', 'weight':'normal', 'size':FONTSIZE}\n",
    "mp.rc('font', **font)\n",
    "mp.rc('text',usetex=True)\n",
    "DATA_DIR = os.path.join(LFI_PIVOT_BASE,'data')\n",
    "memory = Memory(DATA_DIR)\n"
   ]
  },
  {
   "cell_type": "code",
   "execution_count": 182,
   "id": "a933ca5b-bc59-4787-bb77-5cc30216ac88",
   "metadata": {},
   "outputs": [],
   "source": [
    "def debug(func):\n",
    "    \"\"\"Print the function signature and return value\"\"\"\n",
    "    import functools\n",
    "\n",
    "    @functools.wraps(func)\n",
    "    def wrapper_debug(*args, **kwargs):\n",
    "        args_repr = [repr(a) for a in args]\n",
    "        kwargs_repr = [f\"{k}={v!r}\" for k, v in kwargs.items()]\n",
    "        signature = \", \".join(args_repr + kwargs_repr)\n",
    "        print(f\"Calling {func.__name__}({signature})\")\n",
    "        values = func(*args, **kwargs)\n",
    "        print(f\"{func.__name__!r} returned {values!r}\")\n",
    "        return values\n",
    "\n",
    "    return wrapper_debug\n",
    "\n",
    "def theta_hat_func(n,m, MLE):\n",
    "       #n,m are integer arrays\n",
    "    if MLE==True:\n",
    "        theta_hat = n-m\n",
    "    else:\n",
    "        # non-MLE\n",
    "        # theta_hat = n-m\n",
    "        # theta_hat = (theta_hat) * (theta_hat > 0)\n",
    "        theta_hat = np.where(n>m, n-m, 0)\n",
    "         \n",
    "    return theta_hat\n",
    "\n",
    "def L_prof_global(n,m, MLE):\n",
    "    #n,m integer arrays\n",
    "    # nu_hat = m, if theta_hat = theta_hat_MLE\n",
    "    # nu_hat  =  (m+n)/2 if theta_hat = n-m\n",
    "    # nu_hat = 0  if theta_hat != n-m\n",
    "    theta_hat=theta_hat_func(n,m,MLE)\n",
    "    # print('n-m ',  n-m)\n",
    "    if MLE==True:\n",
    "        # i.e. if theta_hat = n-m\n",
    "        # assert theta_hat==n-m\n",
    "        nu_hat = m\n",
    "    else:\n",
    "        nu_hat =(m+n)/2\n",
    "        # if theta_hat== n-m:\n",
    "        #     nu_hat = (m+n)/2\n",
    "        # else:\n",
    "        #     nu_hat = 0\n",
    "        # nu_hat = np.where(theta_hat==n-m,\n",
    "        #                   (m+n)/2, \n",
    "        #                   0)\n",
    "    p1=st.poisson.pmf(n, theta_hat+nu_hat)\n",
    "    p2 = st.poisson.pmf(m, nu_hat)\n",
    "    return p1*p2\n",
    "\n",
    "def L_theta_nu(n,m,theta,nu):\n",
    "    p1 = st.poisson.pmf(n, theta+nu)\n",
    "    p2 = st.poisson.pmf(m, nu)\n",
    "    return p1*p2\n",
    "def lambda_test_2d(n,m, theta, nu, MLE):\n",
    "    Ln= L_theta_nu(n,m,theta,nu)\n",
    "    \n",
    "    Ld= L_prof_global(n,m, MLE)\n",
    "    eps=1e-20\n",
    "    Ld=Ld+eps\n",
    "    lambda_  = -2*np.log(Ln/Ld)\n",
    "    return np.array(lambda_)"
   ]
  },
  {
   "cell_type": "code",
   "execution_count": 242,
   "id": "9eb2d1a0-0ef0-40a6-8a1a-9d583a6bcd0e",
   "metadata": {},
   "outputs": [],
   "source": [
    "# @memory.cache\n",
    "def load_2d_train_df(MLE, with_lambda_D, small_df=False): \n",
    "    \"\"\" returns the dataframe, can be used if the dataframe is saved in csv format\n",
    "    of if it is already in dataframe format (e.g. generated in this notebook). \n",
    "    small_df: return a dataframe a fraction of the size\"\"\"\n",
    "    # SUBSAMPLE=int(1e5)\n",
    "    # if isinstance(df_name,str):\n",
    "    if with_lambda_D==True:\n",
    "        # USECOLS=['Z','theta', 'nu', 'lambda_D']\n",
    "        USECOLS=['Z','theta', 'nu', 'lambda_D']\n",
    "        if MLE==True:\n",
    "            DF_NAME= 'TWO_PARAMETERS_WITH_LAMBDA_D_theta_0_20_1000k_Examples_MLE_True.csv'\n",
    "        else:\n",
    "            DF_NAME='TWO_PARAMETERS_WITH_LAMBDA_D_theta_0_20_30000k_Examples_MLE_False.csv'\n",
    "            \n",
    "    else:\n",
    "        USECOLS=['theta', 'nu', 'N', 'M']\n",
    "        DF_NAME='TWO_PARAMETERS_WITH_LAMBDA_D_theta_0_20_30000k_Examples_MLE_False.csv'\n",
    "        print('are you sure you want to use NM dataframe?')\n",
    "    data_path=os.path.join(LFI_PIVOT_BASE, \n",
    "                    'data', DF_NAME)\n",
    "        \n",
    "    train_df = pd.read_csv(data_path, \n",
    "                    # nrows=SUBSAMPLE,\n",
    "                    usecols=USECOLS\n",
    "                )\n",
    "    if small_df==True:\n",
    "        sdf=train_df.iloc[:train_df.shape[0]//2]\n",
    "        train_df=sdf\n",
    "                              \n",
    "    print(f'loading dataframe with name {DF_NAME}')\n",
    "    print(train_df.describe())\n",
    "    return train_df"
   ]
  },
  {
   "cell_type": "code",
   "execution_count": 243,
   "id": "c5849353-02fb-4670-9a91-a33ff28ee3dc",
   "metadata": {},
   "outputs": [
    {
     "name": "stdout",
     "output_type": "stream",
     "text": [
      "loading dataframe with name TWO_PARAMETERS_WITH_LAMBDA_D_theta_0_20_30000k_Examples_MLE_False.csv\n",
      "                  Z         theta            nu      lambda_D\n",
      "count  3.000000e+07  3.000000e+07  3.000000e+07  3.000000e+07\n",
      "mean   9.697393e-01  9.998467e+00  9.999992e+00  2.494399e+01\n",
      "std    1.713038e-01  5.774325e+00  5.773406e+00  1.753169e+01\n",
      "min    0.000000e+00  2.072384e-07  1.013783e-06 -6.161996e+00\n",
      "25%    1.000000e+00  4.997241e+00  4.999615e+00  1.109136e+01\n",
      "50%    1.000000e+00  9.999364e+00  1.000065e+01  2.232372e+01\n",
      "75%    1.000000e+00  1.499914e+01  1.500015e+01  3.592101e+01\n",
      "max    1.000000e+00  2.000000e+01  2.000000e+01  2.693300e+02\n"
     ]
    },
    {
     "data": {
      "text/html": [
       "<div>\n",
       "<style scoped>\n",
       "    .dataframe tbody tr th:only-of-type {\n",
       "        vertical-align: middle;\n",
       "    }\n",
       "\n",
       "    .dataframe tbody tr th {\n",
       "        vertical-align: top;\n",
       "    }\n",
       "\n",
       "    .dataframe thead th {\n",
       "        text-align: right;\n",
       "    }\n",
       "</style>\n",
       "<table border=\"1\" class=\"dataframe\">\n",
       "  <thead>\n",
       "    <tr style=\"text-align: right;\">\n",
       "      <th></th>\n",
       "      <th>Z</th>\n",
       "      <th>theta</th>\n",
       "      <th>nu</th>\n",
       "      <th>lambda_D</th>\n",
       "    </tr>\n",
       "  </thead>\n",
       "  <tbody>\n",
       "    <tr>\n",
       "      <th>0</th>\n",
       "      <td>1</td>\n",
       "      <td>10.976270</td>\n",
       "      <td>5.658606</td>\n",
       "      <td>5.009855</td>\n",
       "    </tr>\n",
       "    <tr>\n",
       "      <th>1</th>\n",
       "      <td>1</td>\n",
       "      <td>14.303787</td>\n",
       "      <td>19.321684</td>\n",
       "      <td>77.533441</td>\n",
       "    </tr>\n",
       "    <tr>\n",
       "      <th>2</th>\n",
       "      <td>1</td>\n",
       "      <td>12.055268</td>\n",
       "      <td>18.586260</td>\n",
       "      <td>65.413488</td>\n",
       "    </tr>\n",
       "    <tr>\n",
       "      <th>3</th>\n",
       "      <td>1</td>\n",
       "      <td>10.897664</td>\n",
       "      <td>6.853835</td>\n",
       "      <td>9.423238</td>\n",
       "    </tr>\n",
       "    <tr>\n",
       "      <th>4</th>\n",
       "      <td>1</td>\n",
       "      <td>8.473096</td>\n",
       "      <td>16.709449</td>\n",
       "      <td>29.487904</td>\n",
       "    </tr>\n",
       "  </tbody>\n",
       "</table>\n",
       "</div>"
      ],
      "text/plain": [
       "   Z      theta         nu   lambda_D\n",
       "0  1  10.976270   5.658606   5.009855\n",
       "1  1  14.303787  19.321684  77.533441\n",
       "2  1  12.055268  18.586260  65.413488\n",
       "3  1  10.897664   6.853835   9.423238\n",
       "4  1   8.473096  16.709449  29.487904"
      ]
     },
     "execution_count": 243,
     "metadata": {},
     "output_type": "execute_result"
    }
   ],
   "source": [
    "eval_df = load_2d_train_df(MLE=False, with_lambda_D=True)\n",
    "eval_df.head()"
   ]
  },
  {
   "cell_type": "code",
   "execution_count": 244,
   "id": "871e1137-6dd7-4f0a-975f-db90bccce5c5",
   "metadata": {},
   "outputs": [],
   "source": [
    "def split_t_x(df, target, source):\n",
    "    # change from pandas dataframe format to a numpy \n",
    "    # array of the specified types\n",
    "    t = np.array(df[target])\n",
    "    x = np.array(df[source])\n",
    "    return t, x\n",
    "\n",
    "# @memory.cache\n",
    "def getwholedata_2d(MLE, with_lambda_D):\n",
    "    \"\"\" Get train test split arrays\"\"\"\n",
    "    \n",
    "    data = load_2d_train_df(MLE=MLE, with_lambda_D=with_lambda_D)\n",
    "        \n",
    "    train_data, test_data = train_test_split(data, test_size=0.2)\n",
    "    #split the train data (0.8 of whole set) again into 0.8*0.8=0.64 of whole set\n",
    "    \n",
    "\n",
    "    train_data = train_data.reset_index(drop=True)\n",
    "    test_data  = test_data.reset_index(drop=True)\n",
    "\n",
    "    target='Z'\n",
    "    # source = ['theta','nu','theta_hat','N','M']\n",
    "    USECOLS=list(data.columns)\n",
    "    USECOLS.pop(0)\n",
    "    source = USECOLS\n",
    "\n",
    "    train_t, train_x = split_t_x(train_data, target=target, source=source)\n",
    "    test_t,  test_x  = split_t_x(test_data,  target=target, source=source)\n",
    "    print('train_t shape = ', train_t.shape, '\\n')\n",
    "    print('train_x shape = ', train_x.shape, '\\n')\n",
    "    \n",
    "    # if valid:\n",
    "        #if you want to also make a validation data set\n",
    "    train_data, valid_data = train_test_split(train_data, test_size=0.2)\n",
    "    valid_data = valid_data.reset_index(drop=True)\n",
    "    valid_t, valid_x = split_t_x(valid_data, target=target, source=source)\n",
    "\n",
    "        \n",
    "    return train_t, train_x, test_t,  test_x, valid_t, valid_x"
   ]
  },
  {
   "cell_type": "markdown",
   "id": "67b7cb61-f5e7-41ac-af52-86fd8367ac38",
   "metadata": {},
   "source": [
    "# step 1: Get trainig Data"
   ]
  },
  {
   "cell_type": "code",
   "execution_count": 245,
   "id": "f5577f04-9de1-463d-9c9e-0a7734a99ee5",
   "metadata": {},
   "outputs": [
    {
     "name": "stdout",
     "output_type": "stream",
     "text": [
      "loading dataframe with name TWO_PARAMETERS_WITH_LAMBDA_D_theta_0_20_1000k_Examples_MLE_True.csv\n",
      "                    Z           theta              nu        lambda_D\n",
      "count  1000000.000000  1000000.000000  1000000.000000  1000000.000000\n",
      "mean         0.961022       10.001202        9.999901       26.348822\n",
      "std          0.193543        5.774584        5.775469       17.674733\n",
      "min          0.000000        0.000033        0.000002        0.000057\n",
      "25%          1.000000        4.996771        4.993422       12.261644\n",
      "50%          1.000000        9.998035        9.990127       23.668409\n",
      "75%          1.000000       15.007757       15.003738       37.635887\n",
      "max          1.000000       19.999979       19.999992      227.778150\n",
      "train_t shape =  (800000,) \n",
      "\n",
      "train_x shape =  (800000, 3) \n",
      "\n"
     ]
    }
   ],
   "source": [
    "train_t, train_x, test_t,  test_x, valid_t, valid_x = getwholedata_2d(\n",
    "    MLE=True,\n",
    "    with_lambda_D=True)"
   ]
  },
  {
   "cell_type": "code",
   "execution_count": 246,
   "id": "1eeba8b6-c87b-4750-815f-c17c5ccceed1",
   "metadata": {},
   "outputs": [],
   "source": [
    "N_FEATURES = train_x.shape[1]"
   ]
  },
  {
   "cell_type": "code",
   "execution_count": 247,
   "id": "37d2e8b1-437f-46b3-a9dd-08819600f7fd",
   "metadata": {},
   "outputs": [],
   "source": [
    "class SiLURegressionModel(nn.Module):\n",
    "    #inherit from the super class\n",
    "    def __init__(self, nfeatures, ntargets, nlayers, hidden_size, dropout):\n",
    "        super().__init__()\n",
    "        layers = []\n",
    "        for _ in range(nlayers):\n",
    "            if len(layers) ==0:\n",
    "                #inital layer has to have size of input features as its input layer\n",
    "                #its output layer can have any size but it must match the size of the input layer of the next linear layer\n",
    "                #here we choose its output layer as the hidden size (fully connected)\n",
    "                layers.append(nn.Linear(nfeatures, hidden_size))\n",
    "                #batch normalization\n",
    "                # layers.append(nn.BatchNorm1d(hidden_size))\n",
    "                #Dropout seems to worsen model performance\n",
    "                layers.append(nn.Dropout(dropout))\n",
    "                #ReLU activation \n",
    "                layers.append(nn.SiLU())\n",
    "            else:\n",
    "                #if this is not the first layer (we dont have layers)\n",
    "                layers.append(nn.Linear(hidden_size, hidden_size))\n",
    "                # layers.append(nn.BatchNorm1d(hidden_size))\n",
    "                #Dropout seems to worsen model performance\n",
    "                layers.append(nn.Dropout(dropout))\n",
    "                layers.append(nn.SiLU())\n",
    "                #output layer:\n",
    "        layers.append(nn.Linear(hidden_size, ntargets)) \n",
    "\n",
    "        # ONLY IF ITS A CLASSIFICATION, ADD SIGMOID\n",
    "        layers.append(nn.Sigmoid())\n",
    "            #we have defined sequential model using the layers in oulist \n",
    "        self.model = nn.Sequential(*layers)\n",
    "\n",
    "    \n",
    "    def forward(self, x):\n",
    "        return self.model(x)"
   ]
  },
  {
   "cell_type": "code",
   "execution_count": 248,
   "id": "6bafe6dd-c8b1-4125-b9ec-1ebac6eec697",
   "metadata": {},
   "outputs": [],
   "source": [
    "@debug\n",
    "def load_untrained_model(PARAMS):\n",
    "    \"\"\"Load an untrained model (with weights initiatted) according to model paramateters in the \n",
    "    PARAMS dictionary\n",
    "\n",
    "    Args:\n",
    "        PARAMS (dict): dictionary of model/training parameters: i.e. hyperparameters and training parameters.\n",
    "\n",
    "    Returns:\n",
    "        utils.RegularizedRegressionModel object\n",
    "    \"\"\"\n",
    "    model = SiLURegressionModel(\n",
    "        nfeatures=PARAMS['NFEATURES'],\n",
    "        ntargets=1,\n",
    "        nlayers=PARAMS[\"n_layers\"],\n",
    "        hidden_size=PARAMS[\"hidden_size\"],\n",
    "        dropout=PARAMS[\"dropout\"],\n",
    "        # activation=PARAMS[\"activation\"]\n",
    "    )\n",
    "    # model.apply(initialize_weights)\n",
    "    print('INITIATED UNTRAINED MODEL:',\n",
    "          # model\n",
    "         )\n",
    "    # print(model)\n",
    "    return model\n",
    "    "
   ]
  },
  {
   "cell_type": "code",
   "execution_count": 249,
   "id": "f0994715-7515-4620-8a2b-a309987d7c0c",
   "metadata": {},
   "outputs": [],
   "source": [
    "def save_model(model, PARAMS, pth_string):\n",
    "    \"\"\"pth string is the name of the pth file which is a \n",
    "    dictionary of dictionaries\"\"\"\n",
    "    models_path = os.path.join(LFI_PIVOT_BASE, 'models')\n",
    "    PATH=os.path.join(models_path, pth_string)\n",
    "    print(f'saving model with th string : {pth_string}\\n')\n",
    "    torch.save({'PARAMS': PARAMS,\n",
    "                'model_state_dict': model.state_dict()},\n",
    "                PATH)\n",
    "    print(model)"
   ]
  },
  {
   "cell_type": "code",
   "execution_count": 250,
   "id": "c79d7a7f-c06d-43ad-a1ee-722a083175dd",
   "metadata": {},
   "outputs": [],
   "source": [
    "def get_features_training_batch(x, t, batch_size):\n",
    "    # the numpy function choice(length, number)\n",
    "    # selects at random \"batch_size\" integers from \n",
    "    # the range [0, length-1] corresponding to the\n",
    "    # row indices.\n",
    "    rows    = np.random.choice(len(x), batch_size)\n",
    "    batch_x = x[rows]\n",
    "    batch_t = t[rows]\n",
    "    # batch_x.T[-1] = np.random.uniform(0, 1, batch_size)\n",
    "    return (batch_x, batch_t)"
   ]
  },
  {
   "cell_type": "markdown",
   "id": "dd02b294-21e3-451e-95be-8b13691715a7",
   "metadata": {},
   "source": [
    "# Step 2: define model parameters"
   ]
  },
  {
   "cell_type": "code",
   "execution_count": 254,
   "id": "ec2288e3-1507-47b5-8d57-ff19effffa28",
   "metadata": {},
   "outputs": [],
   "source": [
    "PARAMS_lambdaD_nonMLE_SILU = {\n",
    "\"n_layers\": int(12),\n",
    "\"hidden_size\": int(12),\n",
    "\"dropout\": float(0.13),\n",
    "\"NFEATURES\":int(N_FEATURES),\n",
    "\"activation\": \"SiLU\",\n",
    "'optimizer_name':'NAdam',\n",
    "    # 'optimizer_name':'RMSprop',\n",
    "'starting_learning_rate':float(0.0006),\n",
    "'momentum':float(0.9),\n",
    "'batch_size':int(256*2),\n",
    "'n_iterations': int(1e5),\n",
    "'traces_step':int(100),\n",
    "'L2':float(0.1),\n",
    "'MLE':False,\n",
    "'with_lambda_D':True,\n",
    "'pth_string':'FEB_20_model_lambda_D_nonMLE_SILU.pth'\n",
    "}"
   ]
  },
  {
   "cell_type": "markdown",
   "id": "ee5eaa95-824e-43a2-8043-829a7207514a",
   "metadata": {},
   "source": [
    "# step 3: load untrained model"
   ]
  },
  {
   "cell_type": "code",
   "execution_count": 255,
   "id": "68b08016-8f91-43d3-86f2-e75e3ddf2ea5",
   "metadata": {},
   "outputs": [
    {
     "name": "stdout",
     "output_type": "stream",
     "text": [
      "Calling load_untrained_model({'n_layers': 12, 'hidden_size': 12, 'dropout': 0.13, 'NFEATURES': 3, 'activation': 'SiLU', 'optimizer_name': 'NAdam', 'starting_learning_rate': 0.0006, 'momentum': 0.9, 'batch_size': 512, 'n_iterations': 100000, 'traces_step': 100, 'L2': 0.1, 'MLE': False, 'with_lambda_D': True, 'pth_string': 'FEB_20_model_lambda_D_nonMLE_SILU.pth'})\n",
      "INITIATED UNTRAINED MODEL:\n",
      "'load_untrained_model' returned SiLURegressionModel(\n",
      "  (model): Sequential(\n",
      "    (0): Linear(in_features=3, out_features=12, bias=True)\n",
      "    (1): Dropout(p=0.13, inplace=False)\n",
      "    (2): SiLU()\n",
      "    (3): Linear(in_features=12, out_features=12, bias=True)\n",
      "    (4): Dropout(p=0.13, inplace=False)\n",
      "    (5): SiLU()\n",
      "    (6): Linear(in_features=12, out_features=12, bias=True)\n",
      "    (7): Dropout(p=0.13, inplace=False)\n",
      "    (8): SiLU()\n",
      "    (9): Linear(in_features=12, out_features=12, bias=True)\n",
      "    (10): Dropout(p=0.13, inplace=False)\n",
      "    (11): SiLU()\n",
      "    (12): Linear(in_features=12, out_features=12, bias=True)\n",
      "    (13): Dropout(p=0.13, inplace=False)\n",
      "    (14): SiLU()\n",
      "    (15): Linear(in_features=12, out_features=12, bias=True)\n",
      "    (16): Dropout(p=0.13, inplace=False)\n",
      "    (17): SiLU()\n",
      "    (18): Linear(in_features=12, out_features=12, bias=True)\n",
      "    (19): Dropout(p=0.13, inplace=False)\n",
      "    (20): SiLU()\n",
      "    (21): Linear(in_features=12, out_features=12, bias=True)\n",
      "    (22): Dropout(p=0.13, inplace=False)\n",
      "    (23): SiLU()\n",
      "    (24): Linear(in_features=12, out_features=12, bias=True)\n",
      "    (25): Dropout(p=0.13, inplace=False)\n",
      "    (26): SiLU()\n",
      "    (27): Linear(in_features=12, out_features=12, bias=True)\n",
      "    (28): Dropout(p=0.13, inplace=False)\n",
      "    (29): SiLU()\n",
      "    (30): Linear(in_features=12, out_features=12, bias=True)\n",
      "    (31): Dropout(p=0.13, inplace=False)\n",
      "    (32): SiLU()\n",
      "    (33): Linear(in_features=12, out_features=12, bias=True)\n",
      "    (34): Dropout(p=0.13, inplace=False)\n",
      "    (35): SiLU()\n",
      "    (36): Linear(in_features=12, out_features=1, bias=True)\n",
      "    (37): Sigmoid()\n",
      "  )\n",
      ")\n"
     ]
    }
   ],
   "source": [
    "untrained_SiLU_model = load_untrained_model(PARAMS_lambdaD_nonMLE_SILU)"
   ]
  },
  {
   "cell_type": "markdown",
   "id": "6781a228-0943-422a-9589-48c5c61bea50",
   "metadata": {},
   "source": [
    "# Step 4: train untrained model"
   ]
  },
  {
   "cell_type": "code",
   "execution_count": 256,
   "id": "c235b160-5336-472a-a6fb-2d0985cc1b06",
   "metadata": {},
   "outputs": [],
   "source": [
    "def average_quadratic_loss(f, t, x):\n",
    "    # f and t must be of the same shape\n",
    "    return  torch.mean((f - t)**2)\n",
    "def average_loss(f, t):\n",
    "    # f and t must be of the same shape\n",
    "    return  torch.mean((f - t)**2)\n",
    "\n",
    "def validate(model, avloss, inputs, targets):\n",
    "    # make sure we set evaluation mode so that any training specific\n",
    "    # operations are disabled.\n",
    "    model.eval() # evaluation mode\n",
    "    \n",
    "    with torch.no_grad(): # no need to compute gradients wrt. x and t\n",
    "        x = torch.from_numpy(inputs).float()\n",
    "        t = torch.from_numpy(targets).float()\n",
    "        # remember to reshape!\n",
    "        o = model(x).reshape(t.shape)\n",
    "    return avloss(o, t, x)\n",
    "def train(model, optimizer, avloss,\n",
    "          batch_size, \n",
    "          n_iterations, traces, \n",
    "          step, window, MLE, with_lambda_D):\n",
    "    \n",
    "    # to keep track of average losses\n",
    "    xx, yy_t, yy_v, yy_v_avg = traces\n",
    "    \n",
    "\n",
    "    \n",
    "    if MLE==True:\n",
    "        train_t, train_x, test_t,  test_x, _, _ = getwholedata_2d(MLE=True, with_lambda_D=with_lambda_D)\n",
    "    else:\n",
    "        train_t, train_x, test_t,  test_x, _, _ = getwholedata_2d(MLE=False, with_lambda_D=with_lambda_D)\n",
    "        \n",
    "    n = len(test_x)\n",
    "    print('Iteration vs average loss')\n",
    "    print(\"%10s\\t%10s\\t%10s\" % \\\n",
    "          ('iteration', 'train-set', 'valid-set'))\n",
    "    \n",
    "    # training_set_features, training_set_targets, evaluation_set_features, evaluation_set_targets = get_data_sets(simulate_data=False, batchsize=batch_size)\n",
    "    \n",
    "    for ii in range(n_iterations):\n",
    "\n",
    "        # set mode to training so that training specific \n",
    "        # operations such as dropout are enabled.\n",
    "\n",
    "        \n",
    "        model.train()\n",
    "        \n",
    "        # get a random sample (a batch) of data (as numpy arrays)\n",
    "        \n",
    "        #Harrison-like Loader\n",
    "        batch_x, batch_t = get_features_training_batch(train_x, train_t, batch_size)\n",
    "        \n",
    "        #Or Ali's Loader\n",
    "        # batch_x, batch_t = next(training_set_features()), next(training_set_targets())\n",
    "        # batch_x_eval, batch_t_eval = next(evaluation_set_features()), next(evaluation_set_targets())\n",
    "\n",
    "        with torch.no_grad(): # no need to compute gradients \n",
    "            # wrt. x and t\n",
    "            x = torch.from_numpy(batch_x).float()\n",
    "            t = torch.from_numpy(batch_t).float()      \n",
    "\n",
    "\n",
    "        outputs = model(x).reshape(t.shape)\n",
    "   \n",
    "        # compute a noisy approximation to the average loss\n",
    "        empirical_risk = avloss(outputs, t, x)\n",
    "        \n",
    "        # use automatic differentiation to compute a \n",
    "        # noisy approximation of the local gradient\n",
    "        optimizer.zero_grad()       # clear previous gradients\n",
    "        empirical_risk.backward()   # compute gradients\n",
    "        \n",
    "        # finally, advance one step in the direction of steepest \n",
    "        # descent, using the noisy local gradient. \n",
    "        optimizer.step()            # move one step\n",
    "        \n",
    "        if ii % step == 0:\n",
    "            \n",
    "            \n",
    "            #using Harrison-like loader\n",
    "            acc_t = validate(model, avloss, train_x[:n], train_t[:n]) \n",
    "            acc_v = validate(model, avloss, test_x[:n], test_t[:n])\n",
    "            \n",
    "            #using Ali's loader\n",
    "            # acc_t = validate(model, avloss, batch_x, batch_t) \n",
    "            # acc_v = validate(model, avloss, batch_x_eval, batch_t_eval)\n",
    "            \n",
    "\n",
    "            yy_t.append(acc_t)\n",
    "            yy_v.append(acc_v)\n",
    "            \n",
    "            # compute running average for validation data\n",
    "            len_yy_v = len(yy_v)\n",
    "            if   len_yy_v < window:\n",
    "                yy_v_avg.append( yy_v[-1] )\n",
    "            elif len_yy_v == window:\n",
    "                yy_v_avg.append( sum(yy_v) / window )\n",
    "            else:\n",
    "                acc_v_avg  = yy_v_avg[-1] * window\n",
    "                acc_v_avg += yy_v[-1] - yy_v[-window-1]\n",
    "                yy_v_avg.append(acc_v_avg / window)\n",
    "                        \n",
    "            if len(xx) < 1:\n",
    "                xx.append(0)\n",
    "                print(\"%10d\\t%10.6f\\t%10.6f\" % \\\n",
    "                      (xx[-1], yy_t[-1], yy_v[-1]))\n",
    "            else:\n",
    "                xx.append(xx[-1] + step)\n",
    "                    \n",
    "                print(\"\\r%10d\\t%10.6f\\t%10.6f\\t%10.6f\" % \\\n",
    "                          (xx[-1], yy_t[-1], yy_v[-1], yy_v_avg[-1]), \n",
    "                      end='')\n",
    "            \n",
    "    print()      \n",
    "    return (xx, yy_t, yy_v, yy_v_avg)"
   ]
  },
  {
   "cell_type": "code",
   "execution_count": 257,
   "id": "893aaa83-79e9-426c-92ec-b8af8ee6c8e6",
   "metadata": {},
   "outputs": [
    {
     "name": "stdout",
     "output_type": "stream",
     "text": [
      "loading dataframe with name TWO_PARAMETERS_WITH_LAMBDA_D_theta_0_20_30000k_Examples_MLE_False.csv\n",
      "                  Z         theta            nu      lambda_D\n",
      "count  3.000000e+07  3.000000e+07  3.000000e+07  3.000000e+07\n",
      "mean   9.697393e-01  9.998467e+00  9.999992e+00  2.494399e+01\n",
      "std    1.713038e-01  5.774325e+00  5.773406e+00  1.753169e+01\n",
      "min    0.000000e+00  2.072384e-07  1.013783e-06 -6.161996e+00\n",
      "25%    1.000000e+00  4.997241e+00  4.999615e+00  1.109136e+01\n",
      "50%    1.000000e+00  9.999364e+00  1.000065e+01  2.232372e+01\n",
      "75%    1.000000e+00  1.499914e+01  1.500015e+01  3.592101e+01\n",
      "max    1.000000e+00  2.000000e+01  2.000000e+01  2.693300e+02\n",
      "train_t shape =  (24000000,) \n",
      "\n",
      "train_x shape =  (24000000, 3) \n",
      "\n",
      "Iteration vs average loss\n",
      " iteration\t train-set\t valid-set\n",
      "         0\t  0.331436\t  0.331410\n",
      "     98000\t  0.016291\t  0.016362\t  0.016362\n"
     ]
    }
   ],
   "source": [
    "BATCHSIZE=PARAMS_lambdaD_nonMLE_SILU[\"batch_size\"]\n",
    "traces_SiLU = ([], [], [], [])\n",
    "traces_step = 2000\n",
    "optimizer_name=PARAMS_lambdaD_nonMLE_SILU[\"optimizer_name\"]\n",
    "\n",
    "optimizer_SiLU = getattr(torch.optim, str(optimizer_name))(untrained_SiLU_model.parameters(), lr=PARAMS_lambdaD_nonMLE_SILU[\"starting_learning_rate\"])\n",
    "\n",
    "traces_SiLU = train(model=untrained_SiLU_model, \n",
    "              optimizer=optimizer_SiLU, \n",
    "              avloss=average_quadratic_loss,\n",
    "              batch_size=BATCHSIZE, \n",
    "              n_iterations=PARAMS_lambdaD_nonMLE_SILU[\"n_iterations\"], \n",
    "              traces=traces_SiLU, \n",
    "              step=traces_step, \n",
    "              window=200,\n",
    "                MLE=True,\n",
    "                with_lambda_D=True)"
   ]
  },
  {
   "cell_type": "markdown",
   "id": "002e5bb8-8d83-4db7-9aab-17859fb7f8cd",
   "metadata": {},
   "source": [
    "# Step 4: Save trained model"
   ]
  },
  {
   "cell_type": "code",
   "execution_count": 258,
   "id": "25373ceb-2596-4fd9-bb72-38c4c5c83a64",
   "metadata": {},
   "outputs": [],
   "source": [
    "def save_model(model, PARAMS, pth_string):\n",
    "    \"\"\"pth string is the name of the pth file which is a dictionary of dictionaries\"\"\"\n",
    "    models_path = os.path.join(LFI_PIVOT_BASE, 'models')\n",
    "    PATH=os.path.join(models_path, pth_string)\n",
    "    print(f'saving model with th string : {pth_string}\\n')\n",
    "    torch.save({'PARAMS': PARAMS,\n",
    "                'model_state_dict': model.state_dict()},\n",
    "                PATH)\n",
    "    print(model)"
   ]
  },
  {
   "cell_type": "code",
   "execution_count": 259,
   "id": "2bf64407-0ea4-4183-831f-0d5e3c0aa435",
   "metadata": {},
   "outputs": [
    {
     "name": "stdout",
     "output_type": "stream",
     "text": [
      "saving model with th string : FEB_20_model_lambda_D_nonMLE_SILU.pth\n",
      "\n",
      "SiLURegressionModel(\n",
      "  (model): Sequential(\n",
      "    (0): Linear(in_features=3, out_features=12, bias=True)\n",
      "    (1): Dropout(p=0.13, inplace=False)\n",
      "    (2): SiLU()\n",
      "    (3): Linear(in_features=12, out_features=12, bias=True)\n",
      "    (4): Dropout(p=0.13, inplace=False)\n",
      "    (5): SiLU()\n",
      "    (6): Linear(in_features=12, out_features=12, bias=True)\n",
      "    (7): Dropout(p=0.13, inplace=False)\n",
      "    (8): SiLU()\n",
      "    (9): Linear(in_features=12, out_features=12, bias=True)\n",
      "    (10): Dropout(p=0.13, inplace=False)\n",
      "    (11): SiLU()\n",
      "    (12): Linear(in_features=12, out_features=12, bias=True)\n",
      "    (13): Dropout(p=0.13, inplace=False)\n",
      "    (14): SiLU()\n",
      "    (15): Linear(in_features=12, out_features=12, bias=True)\n",
      "    (16): Dropout(p=0.13, inplace=False)\n",
      "    (17): SiLU()\n",
      "    (18): Linear(in_features=12, out_features=12, bias=True)\n",
      "    (19): Dropout(p=0.13, inplace=False)\n",
      "    (20): SiLU()\n",
      "    (21): Linear(in_features=12, out_features=12, bias=True)\n",
      "    (22): Dropout(p=0.13, inplace=False)\n",
      "    (23): SiLU()\n",
      "    (24): Linear(in_features=12, out_features=12, bias=True)\n",
      "    (25): Dropout(p=0.13, inplace=False)\n",
      "    (26): SiLU()\n",
      "    (27): Linear(in_features=12, out_features=12, bias=True)\n",
      "    (28): Dropout(p=0.13, inplace=False)\n",
      "    (29): SiLU()\n",
      "    (30): Linear(in_features=12, out_features=12, bias=True)\n",
      "    (31): Dropout(p=0.13, inplace=False)\n",
      "    (32): SiLU()\n",
      "    (33): Linear(in_features=12, out_features=12, bias=True)\n",
      "    (34): Dropout(p=0.13, inplace=False)\n",
      "    (35): SiLU()\n",
      "    (36): Linear(in_features=12, out_features=1, bias=True)\n",
      "    (37): Sigmoid()\n",
      "  )\n",
      ")\n"
     ]
    }
   ],
   "source": [
    "save_model(model=untrained_SiLU_model,\n",
    "           PARAMS=PARAMS_lambdaD_nonMLE_SILU,\n",
    "           pth_string=PARAMS_lambdaD_nonMLE_SILU[\"pth_string\"])"
   ]
  },
  {
   "cell_type": "markdown",
   "id": "4c9eba94-0bf8-4695-b4c3-da70f288cf1a",
   "metadata": {},
   "source": [
    "# Step 5: Load Trained model"
   ]
  },
  {
   "cell_type": "code",
   "execution_count": 260,
   "id": "347a86c8-169a-46e2-997c-8ac9f6643d0a",
   "metadata": {},
   "outputs": [],
   "source": [
    "def load_model(model, PARAMS, pth_string):\n",
    "    models_path = os.path.join(LFI_PIVOT_BASE, 'models')\n",
    "    PATH=os.path.join(models_path, pth_string)\n",
    "    model = SiLURegressionModel(\n",
    "        nfeatures=PARAMS['NFEATURES'],\n",
    "        ntargets=1,\n",
    "        nlayers=PARAMS[\"n_layers\"],\n",
    "        hidden_size=PARAMS[\"hidden_size\"],\n",
    "        dropout=PARAMS[\"dropout\"]\n",
    "    )\n",
    "    checkpoint = torch.load(PATH)\n",
    "    print('INITIATED MODEL:',  model)\n",
    "    \n",
    "    model.load_state_dict(checkpoint['model_state_dict'])\n",
    "    print(f'loading model with th string : {pth_string}\\n')    \n",
    "    print(model)\n",
    "    \n",
    "    return model"
   ]
  },
  {
   "cell_type": "code",
   "execution_count": 261,
   "id": "33bfbb8a-7b00-455c-8ebb-875956fc1859",
   "metadata": {},
   "outputs": [
    {
     "name": "stdout",
     "output_type": "stream",
     "text": [
      "INITIATED MODEL: SiLURegressionModel(\n",
      "  (model): Sequential(\n",
      "    (0): Linear(in_features=3, out_features=12, bias=True)\n",
      "    (1): Dropout(p=0.13, inplace=False)\n",
      "    (2): SiLU()\n",
      "    (3): Linear(in_features=12, out_features=12, bias=True)\n",
      "    (4): Dropout(p=0.13, inplace=False)\n",
      "    (5): SiLU()\n",
      "    (6): Linear(in_features=12, out_features=12, bias=True)\n",
      "    (7): Dropout(p=0.13, inplace=False)\n",
      "    (8): SiLU()\n",
      "    (9): Linear(in_features=12, out_features=12, bias=True)\n",
      "    (10): Dropout(p=0.13, inplace=False)\n",
      "    (11): SiLU()\n",
      "    (12): Linear(in_features=12, out_features=12, bias=True)\n",
      "    (13): Dropout(p=0.13, inplace=False)\n",
      "    (14): SiLU()\n",
      "    (15): Linear(in_features=12, out_features=12, bias=True)\n",
      "    (16): Dropout(p=0.13, inplace=False)\n",
      "    (17): SiLU()\n",
      "    (18): Linear(in_features=12, out_features=12, bias=True)\n",
      "    (19): Dropout(p=0.13, inplace=False)\n",
      "    (20): SiLU()\n",
      "    (21): Linear(in_features=12, out_features=12, bias=True)\n",
      "    (22): Dropout(p=0.13, inplace=False)\n",
      "    (23): SiLU()\n",
      "    (24): Linear(in_features=12, out_features=12, bias=True)\n",
      "    (25): Dropout(p=0.13, inplace=False)\n",
      "    (26): SiLU()\n",
      "    (27): Linear(in_features=12, out_features=12, bias=True)\n",
      "    (28): Dropout(p=0.13, inplace=False)\n",
      "    (29): SiLU()\n",
      "    (30): Linear(in_features=12, out_features=12, bias=True)\n",
      "    (31): Dropout(p=0.13, inplace=False)\n",
      "    (32): SiLU()\n",
      "    (33): Linear(in_features=12, out_features=12, bias=True)\n",
      "    (34): Dropout(p=0.13, inplace=False)\n",
      "    (35): SiLU()\n",
      "    (36): Linear(in_features=12, out_features=1, bias=True)\n",
      "    (37): Sigmoid()\n",
      "  )\n",
      ")\n",
      "loading model with th string : FEB_20_model_lambda_D_nonMLE_SILU.pth\n",
      "\n",
      "SiLURegressionModel(\n",
      "  (model): Sequential(\n",
      "    (0): Linear(in_features=3, out_features=12, bias=True)\n",
      "    (1): Dropout(p=0.13, inplace=False)\n",
      "    (2): SiLU()\n",
      "    (3): Linear(in_features=12, out_features=12, bias=True)\n",
      "    (4): Dropout(p=0.13, inplace=False)\n",
      "    (5): SiLU()\n",
      "    (6): Linear(in_features=12, out_features=12, bias=True)\n",
      "    (7): Dropout(p=0.13, inplace=False)\n",
      "    (8): SiLU()\n",
      "    (9): Linear(in_features=12, out_features=12, bias=True)\n",
      "    (10): Dropout(p=0.13, inplace=False)\n",
      "    (11): SiLU()\n",
      "    (12): Linear(in_features=12, out_features=12, bias=True)\n",
      "    (13): Dropout(p=0.13, inplace=False)\n",
      "    (14): SiLU()\n",
      "    (15): Linear(in_features=12, out_features=12, bias=True)\n",
      "    (16): Dropout(p=0.13, inplace=False)\n",
      "    (17): SiLU()\n",
      "    (18): Linear(in_features=12, out_features=12, bias=True)\n",
      "    (19): Dropout(p=0.13, inplace=False)\n",
      "    (20): SiLU()\n",
      "    (21): Linear(in_features=12, out_features=12, bias=True)\n",
      "    (22): Dropout(p=0.13, inplace=False)\n",
      "    (23): SiLU()\n",
      "    (24): Linear(in_features=12, out_features=12, bias=True)\n",
      "    (25): Dropout(p=0.13, inplace=False)\n",
      "    (26): SiLU()\n",
      "    (27): Linear(in_features=12, out_features=12, bias=True)\n",
      "    (28): Dropout(p=0.13, inplace=False)\n",
      "    (29): SiLU()\n",
      "    (30): Linear(in_features=12, out_features=12, bias=True)\n",
      "    (31): Dropout(p=0.13, inplace=False)\n",
      "    (32): SiLU()\n",
      "    (33): Linear(in_features=12, out_features=12, bias=True)\n",
      "    (34): Dropout(p=0.13, inplace=False)\n",
      "    (35): SiLU()\n",
      "    (36): Linear(in_features=12, out_features=1, bias=True)\n",
      "    (37): Sigmoid()\n",
      "  )\n",
      ")\n"
     ]
    }
   ],
   "source": [
    "# untrained_SiLU_model = load_untrained_model(PARAMS_lambdaD_nonMLE_SILU)\n",
    "\n",
    "trained_SiLU_model = load_model(model = untrained_SiLU_model, \n",
    "                                PARAMS=PARAMS_lambdaD_nonMLE_SILU,\n",
    "                   pth_string=PARAMS_lambdaD_nonMLE_SILU[\"pth_string\"])"
   ]
  },
  {
   "cell_type": "code",
   "execution_count": 270,
   "id": "3e479276-31ef-4e34-b34e-38ae3e3fa3a8",
   "metadata": {},
   "outputs": [],
   "source": [
    "class TrainedModel:\n",
    "    def __init__(self, model):\n",
    "        self.model = model\n",
    "\n",
    "    def __cdf(self, x):\n",
    "        # convert to a tensor and compute\n",
    " \n",
    "        X = torch.Tensor(x)#.transpose(1, 0)\n",
    "            \n",
    "        X.requires_grad_(True)\n",
    "        \n",
    "        self.model.eval() \n",
    "        \n",
    "        return self.model(X), X \n",
    "        \n",
    "    def cdf(self, x): \n",
    "        F, _ = self.__cdf(x)\n",
    "        \n",
    "        Y = F.view(-1).detach().numpy()\n",
    "        if len(Y) == 1:\n",
    "            Y = Y[0]\n",
    "        return Y\n",
    "\n",
    "    def pdf(self, x):\n",
    "        F, X = self.__cdf(x)\n",
    "\n",
    "        dFdX = torch.autograd.grad(outputs=F, inputs=X, \n",
    "                               grad_outputs=torch.ones_like(F),\n",
    "                               #allow_unused=True, \n",
    "                               #retain_graph=True, \n",
    "                               create_graph=True)[0]\n",
    "    \n",
    "        # Y = dFdX.view(-1).detach().numpy()\n",
    "        Y = dFdX.detach().numpy()\n",
    "        if len(Y) == 1:\n",
    "            Y = Y[0]\n",
    "        return Y.T[-1]  \n"
   ]
  },
  {
   "cell_type": "code",
   "execution_count": 271,
   "id": "3fd53698-0395-4c22-b17d-d1dd052dc550",
   "metadata": {},
   "outputs": [],
   "source": [
    "def make_binned_X(X_min, X_max, Nbins):\n",
    "    X_step = (X_max-X_min) / Nbins\n",
    "    bins = np.arange(X_min, X_max+X_step, X_step)\n",
    "    bin_centers = (bins[1:] + bins[:-1])/2\n",
    "    return np.array(bin_centers)\n",
    "\n",
    "def make_eval_data_2d_with_NM(Bprime, N, M, nbins_theta, nbins_nu):\n",
    "    \"\"\"Make evaluation data composed of: binned theta and nu, and discrete N and M,\n",
    "    and optionally theta_hat. The theta hat argument accpts an MLE boolean, therefore\n",
    "    if trained on MLE data, the theta_hat that we use for evaluation is just \n",
    "    n-m, including negative values.\n",
    "    The return value of this function is used as the \"eval_data\" tensor below\n",
    "    \n",
    "    with lambda_D or with NM\"\"\"\n",
    "    #if MLE true, load the model that was trained on MLE data and vice versa\n",
    "    # N, M = D\n",
    "    # nbins=NBINS\n",
    "    # thetamin,thetamax=0,20\n",
    "    train_df = load_2d_train_df(MLE=True, with_lambda_D=True)\n",
    "    \n",
    "    THETA_bin_centers = make_binned_X(X_min=train_df['theta'].min(),\n",
    "                                      X_max=train_df['theta'].max(), \n",
    "                                      Nbins=nbins_theta)\n",
    "        \n",
    "    NU_bin_centers = make_binned_X(X_min=train_df['nu'].min(),\n",
    "                                  X_max=train_df['nu'].max(), \n",
    "                                  Nbins=nbins_nu)\n",
    "        \n",
    "    # tensor = torch.Tensor([\n",
    "                           # [x, y, theta_hat(N, M, MLE=True), N, M] \n",
    "                           # for (x,y) in zip(THETA_bin_centers,NU_bin_centers)\n",
    "                          # ])\n",
    "\n",
    "    tensor = torch.Tensor([\n",
    "                       [x, y, theta_hat(N, M, MLE=True), N, M] \n",
    "                       for x in THETA_bin_centers for y in NU_bin_centers\n",
    "                      ])\n",
    "\n",
    "    #zip only traverses the lists monotonically, so experiment to use cross to take every combination of the two lists\n",
    "    \n",
    "    return tensor, THETA_bin_centers.ravel(), NU_bin_centers.ravel()"
   ]
  },
  {
   "cell_type": "code",
   "execution_count": 264,
   "id": "a1bdc457-f8ea-4da1-abc8-569e0d8a596d",
   "metadata": {},
   "outputs": [],
   "source": [
    "# eval_data_example, eval_bins_theta_example, eval_bins_nu_example =make_eval_data_2d_with_NM(\n",
    "#                                                                                     Bprime=100, \n",
    "#                                                                                     N=1, \n",
    "#                                                                                     M=3, \n",
    "#                                                                                     nbins_theta=100,\n",
    "#                                                                                     nbins_nu=100)"
   ]
  },
  {
   "cell_type": "code",
   "execution_count": 265,
   "id": "ce688e62-8866-4725-9f4d-0e671930762f",
   "metadata": {},
   "outputs": [],
   "source": [
    "trained_SiLU_model.eval()\n",
    "\n",
    "model_on_valid_x = trained_SiLU_model(torch.Tensor(valid_x))\n"
   ]
  },
  {
   "cell_type": "code",
   "execution_count": 266,
   "id": "14082ceb-5ec0-4724-9f66-655af8a50e82",
   "metadata": {},
   "outputs": [
    {
     "data": {
      "text/plain": [
       "array([1.       , 1.       , 0.9999999, ..., 1.       , 0.9999962,\n",
       "       1.       ], dtype=float32)"
      ]
     },
     "execution_count": 266,
     "metadata": {},
     "output_type": "execute_result"
    }
   ],
   "source": [
    "model_on_valid_x_np=model_on_valid_x.view(-1).detach().numpy()\n",
    "model_on_valid_x_np"
   ]
  },
  {
   "cell_type": "code",
   "execution_count": 267,
   "id": "b14cedf9-8fa8-43f1-971f-54beb30a48ce",
   "metadata": {},
   "outputs": [
    {
     "data": {
      "image/png": "[encoded data removed]",
      "text/plain": [
       "<Figure size 640x480 with 1 Axes>"
      ]
     },
     "metadata": {},
     "output_type": "display_data"
    }
   ],
   "source": [
    "tmodel = TrainedModel(trained_SiLU_model)\n",
    "cdf = tmodel.cdf(valid_x)\n",
    "\n",
    "plt.scatter(valid_x[:,-1], \n",
    "            cdf,\n",
    "            # model_on_valid_x_np, \n",
    "            s=14); \n",
    "x = np.linspace(0,200,20000)\n",
    "plt.plot(x, st.chi2.cdf(x, 2), label=r'$F(\\chi^2_2)$', color='black', linewidth=2 )\n",
    "plt.xlim((0,50))\n",
    "plt.ylabel(r'$F(\\lambda)$')\n",
    "plt.xlabel(r'$\\lambda$')\n",
    "plt.legend()\n",
    "plt.show()"
   ]
  },
  {
   "cell_type": "markdown",
   "id": "919f9be9-b776-48fb-a898-e545fb8ce294",
   "metadata": {},
   "source": [
    "Keep $\\theta,\\nu$ fixed, generate a bunch (4000) of experiments"
   ]
  },
  {
   "cell_type": "code",
   "execution_count": 272,
   "id": "3f6374f3-41c2-40c4-9ac8-8335b2818c91",
   "metadata": {},
   "outputs": [],
   "source": [
    "chi2_exp_size=40000\n",
    "\n",
    "def run_sim(theta, nu, MLE, lambda_size):\n",
    "    \"\"\"Sample n ~ Pois(theta+nu), \n",
    "              m ~ Pois(nu), \n",
    "    and compute \n",
    "              lambda(theta, n, m)\n",
    "              \n",
    "    return: (n, m, lambda_), where each are np arrays of length lambda_size\n",
    "    \"\"\"\n",
    "    n = st.poisson.rvs(theta+nu, size=lambda_size)\n",
    "    m = st.poisson.rvs(nu, size=lambda_size)\n",
    "    lambda_ = lambda_test_2d(theta=theta, nu=nu, n=n, m=m, MLE=MLE)\n",
    "    return (n, m, lambda_)\n",
    "\n",
    "def run_sims(points, MLE):\n",
    "    \"\"\"\n",
    "    Run an entire simulation, that is, generate n and m from \n",
    "    run_sim above, and calculate lambda, for\n",
    "    \n",
    "    input: a tuple of (theta, nu) scalars\n",
    "    \n",
    "    Reurns:df, lambda_results\n",
    "    \n",
    "    where lambda_results is a list of tuples \n",
    "        (n, m, lambda_, theta, nu)\n",
    "    and df is just a dataframe of [n,m,lambda,theta,nu]\n",
    "\n",
    "    \"\"\"\n",
    "    lambda_results=[]\n",
    "    df=pd.DataFrame()\n",
    "    for p in points:\n",
    "        theta, nu = p\n",
    "        df['theta']=theta\n",
    "        df['nu']=nu\n",
    "        n, m, lambda_ = run_sim(theta, nu, MLE, lambda_size =chi2_exp_size)\n",
    "        df['n'] = n\n",
    "        df['m'] = m\n",
    "        df['lambda']=lambda_\n",
    "        lambda_results.append((n, m, lambda_, theta, nu))\n",
    "    \n",
    "        print( '\\n \\n (theta, nu) =  (%.f, %.f) \\n ' % (theta, nu) )\n",
    "        print(f'\\t \\t with associated n =  {n}, \\n \\n \\t \\t m = {m}, \\n \\n \\t \\t lambda = {lambda_}'  )\n",
    "    return df, lambda_results\n",
    "\n",
    "def plot_all(lambda_, theta, nu, ax_l):\n",
    "    \"\"\"Histogram the CDF of  lambda_t = -2log(Lp(theta)/Lp(theta_hat)), \n",
    "    for a given (fixed) theta and nu.\n",
    "    Also, plot the actual CDF of a chi^2 distribution with 1 free parameter \n",
    "    (since only theta is left after we profile nu) \"\"\"\n",
    "    ftsize = 16; xmin= 0; xmax= 10\n",
    "    ymin= 0; ymax= 1\n",
    "    x_range = (xmin, xmax)\n",
    "    y_range = (ymin, ymax)\n",
    "    ax_l[0].set_xlim(x_range); ax_l[0].set_ylim(y_range)\n",
    "    ax_l[0].set_xlabel(r'$\\lambda_{NP} \\left(\\theta,\\hat{\\nu}(\\theta) \\mid n, m \\right)$',fontsize=ftsize)\n",
    "    ax_l[0].set_ylabel(r'cdf$(\\lambda_{NP})$', fontsize=ftsize)\n",
    "    ##########HISTOGRAM CDF OF LAMBDA####################\n",
    "    ax_l[0].hist(lambda_, bins=5*xmax, range=x_range,\n",
    "    color=(0.8,0.8,0.9),\n",
    "    density=True, cumulative=True,\n",
    "    histtype='stepfilled', edgecolor='black', label=r'CDF$(\\lambda)$')\n",
    "    ############################################################\n",
    "    ########### HISTOGRAM CDF OF THE CHI2 OF OF X WITH 1 DOF\n",
    "    #x is not theta, that's the whole point of Wilks thm, x is an arbitrary RV\n",
    "    x = np.arange(0, xmax, 0.2)\n",
    "    y = st.chi2.cdf(x, 2)\n",
    "    ax_l[0].plot(x, y, color='blue',\n",
    "    linewidth=2, label=r'CDF$(\\chi^2_1)$')\n",
    "    \n",
    "    ax_l[1].set_ylabel(r'$p(\\lambda_{NP})$', fontsize=ftsize)\n",
    "    ax_l[1].hist(lambda_, bins=15, range=x_range,density=True,\n",
    "    color=(0.8,0.8,0.9),\n",
    "    histtype='stepfilled', edgecolor='black', label=r'CDF$(\\lambda)$')\n",
    "    \n",
    "    x = np.arange(0, xmax, 0.2)\n",
    "    y = st.chi2.pdf(x, 2)\n",
    "    ax_l[1].plot(x, y, color='blue',\n",
    "    linewidth=2, label=r'$p(\\chi^2_1)$')\n",
    "    \n",
    "    \n",
    "    \n",
    "    \n",
    "    ax_l[2].set_ylabel(r'$p(\\lambda_{NP})= \\partial$', fontsize=ftsize)\n",
    "    ax_l[2].hist(lambda_, bins=15, range=x_range,density=True,\n",
    "    color=(0.8,0.8,0.9),\n",
    "    histtype='stepfilled', edgecolor='black', \n",
    "                 # label=r'CDF$(\\lambda)$'\n",
    "                )\n",
    "    tmodel = TrainedModel(trained_SiLU_model)\n",
    "    X = np.empty((len(lambda_), 3))\n",
    "    X[:,0] = np.ones_like(theta)*theta\n",
    "    X[:,1] = np.ones_like(nu)*nu\n",
    "    \n",
    "    X[:,2] = np.linspace(0,10,len(lambda_))\n",
    "    pdf = tmodel.pdf(X)\n",
    "    \n",
    "    ax[2].plot(X[:,2], pdf)\n",
    "    \n",
    "    ############################################################\n",
    "    \n",
    "    # annotate\n",
    "    xwid = (xmax-xmin)/12\n",
    "    ywid = (ymax-ymin)/12\n",
    "    xpos = xmin + xwid/2\n",
    "    ypos = ymin + ywid*2\n",
    "    ax[0].text(xpos, ypos,\n",
    "    r'$ \\theta = %d, \\nu = %d$' % (theta, nu),\n",
    "    fontsize=ftsize)\n",
    "    ax[0].legend(loc='upper right',fontsize=15)\n",
    "    \n"
   ]
  },
  {
   "cell_type": "code",
   "execution_count": 315,
   "id": "c1c5dfbb-cbc4-4016-9ce0-31ce7967d25c",
   "metadata": {},
   "outputs": [],
   "source": [
    "tmodel = TrainedModel(trained_SiLU_model)\n",
    "N=1000\n",
    "X = np.empty((N, 3))\n",
    "X[:,0] = np.ones_like(theta)*theta\n",
    "X[:,1] = np.ones_like(nu)*nu\n",
    "\n",
    "X[:,2] = np.linspace(-10,10,N)\n"
   ]
  },
  {
   "cell_type": "code",
   "execution_count": 316,
   "id": "a2295317-4aa3-446c-903f-3382cecd45fc",
   "metadata": {},
   "outputs": [
    {
     "data": {
      "text/plain": [
       "array([[  5.        ,   7.        , -10.        ],\n",
       "       [  5.        ,   7.        ,  -9.97997998],\n",
       "       [  5.        ,   7.        ,  -9.95995996],\n",
       "       [  5.        ,   7.        ,  -9.93993994],\n",
       "       [  5.        ,   7.        ,  -9.91991992]])"
      ]
     },
     "execution_count": 316,
     "metadata": {},
     "output_type": "execute_result"
    }
   ],
   "source": [
    "X[:5]"
   ]
  },
  {
   "cell_type": "code",
   "execution_count": 317,
   "id": "03de8c69-7ce0-42ad-9f88-9ad77e3c8570",
   "metadata": {},
   "outputs": [],
   "source": [
    "cdf = tmodel.cdf(X)"
   ]
  },
  {
   "cell_type": "code",
   "execution_count": 318,
   "id": "1b16c670-ff6e-4534-b917-de0ea30b8e5c",
   "metadata": {},
   "outputs": [
    {
     "data": {
      "image/png": "[encoded data removed]",
      "text/plain": [
       "<Figure size 640x480 with 1 Axes>"
      ]
     },
     "metadata": {},
     "output_type": "display_data"
    },
    {
     "data": {
      "text/plain": [
       "[<matplotlib.lines.Line2D at 0x7f18dde72c50>]"
      ]
     },
     "execution_count": 318,
     "metadata": {},
     "output_type": "execute_result"
    }
   ],
   "source": [
    "plt.plot(X[:,2], cdf);plt.show()\n",
    "# x = np.arange(0, 10, 0.2)\n",
    "y = st.chi2.cdf(X[:,2], 2)\n",
    "plt.plot(X[:,2],y)"
   ]
  },
  {
   "cell_type": "code",
   "execution_count": 319,
   "id": "ac3ba5d2-1c25-41a1-ac23-d1cc8d365cfb",
   "metadata": {},
   "outputs": [],
   "source": [
    "def generate(theta, nu, N_points, MLE):\n",
    "    N = st.poisson.rvs(theta+nu, size=N_points)\n",
    "    M = st.poisson.rvs(nu, size=N_points)\n",
    "    lambda_D = lambda_test_2d(N, M, theta, nu, MLE).flatten()\n",
    "    return lambda_D"
   ]
  },
  {
   "cell_type": "code",
   "execution_count": 320,
   "id": "db41b3fa-f438-47be-85c5-31ebe9c99a7c",
   "metadata": {},
   "outputs": [
    {
     "name": "stdout",
     "output_type": "stream",
     "text": [
      "mean= -3.2274299764348378\n",
      "max= 15.638283130342955\n",
      "min= -13.977500607012399\n"
     ]
    }
   ],
   "source": [
    "lambda_list= generate(theta=10, nu=5, N_points=10000, MLE=False)\n",
    "print('mean=', lambda_list.mean())\n",
    "print('max=', lambda_list.max())\n",
    "print('min=', lambda_list.min())"
   ]
  },
  {
   "cell_type": "code",
   "execution_count": 322,
   "id": "09dfe4cf-5373-429f-bc00-7270c2076478",
   "metadata": {},
   "outputs": [
    {
     "data": {
      "image/png": "[encoded data removed]",
      "text/plain": [
       "<Figure size 640x480 with 1 Axes>"
      ]
     },
     "metadata": {},
     "output_type": "display_data"
    }
   ],
   "source": [
    "\n",
    "plt.hist(lambda_list, density=True, cumulative=True)\n",
    "plt.plot(X[:,2], cdf, label = 'network CDF')\n",
    "# x = np.arange(0, 10, 0.2)\n",
    "# y = st.chi2.cdf(X[:,2], 2)\n",
    "# plt.plot(X[:,2],y, label=r'$\\chi^2_2$')\n",
    "plt.legend()\n",
    "plt.show()"
   ]
  },
  {
   "cell_type": "code",
   "execution_count": 273,
   "id": "e800408a-5fe0-4c4f-a2fe-70627945d674",
   "metadata": {},
   "outputs": [
    {
     "data": {
      "image/png": "[encoded data removed]",
      "text/plain": [
       "<Figure size 1000x500 with 3 Axes>"
      ]
     },
     "metadata": {},
     "output_type": "display_data"
    }
   ],
   "source": [
    "#points=(theta,nu)\n",
    "points_1 = (20, 5)\n",
    "\n",
    "MLE=True\n",
    "_, _ , lambda_1 = run_sim(theta=points_1[0], nu=points_1[1], MLE=MLE, lambda_size=chi2_exp_size)\n",
    "\n",
    "fig, ax = plt.subplots(1,3, figsize=(10,5), sharey=True)\n",
    "\n",
    "plt.subplots_adjust(wspace=0.3)\n",
    "# plot_one(lambda_1, points_1[0], points_1[1], ax)\n",
    "plot_all(lambda_1, points_1[0], points_1[1], ax)\n",
    "\n",
    "fig.suptitle(r'$\\lambda \\rightarrow \\chi^2_1$; MLE=%s; $N_{sample}$=%s' % \\\n",
    "             (  str(MLE), str(int(chi2_exp_size))), fontsize=25); \n",
    "\n",
    "ax[1].set_ylabel('$p(\\lambda)$')\n",
    "\n",
    "plt.show()\n",
    "SAVE=False\n",
    "if SAVE:\n",
    "    plt.savefig('images/Wilk_agreement_MLE_%s_N_%s.png' % (str(MLE), str(chi2_exp_size) ))"
   ]
  },
  {
   "cell_type": "code",
   "execution_count": null,
   "id": "89a3b35a-52c0-482a-adad-efd3d5f22aba",
   "metadata": {},
   "outputs": [],
   "source": []
  },
  {
   "cell_type": "code",
   "execution_count": 240,
   "id": "b73b51be-b35d-4b0d-8ce5-9e0092507e39",
   "metadata": {},
   "outputs": [
    {
     "data": {
      "image/png": "[encoded data removed]",
      "text/plain": [
       "<Figure size 1000x500 with 3 Axes>"
      ]
     },
     "metadata": {},
     "output_type": "display_data"
    }
   ],
   "source": [
    "#points=(theta,nu)\n",
    "points_1 = (20, 5)\n",
    "\n",
    "MLE=False\n",
    "_, _ , lambda_1 = run_sim(theta=points_1[0], nu=points_1[1], MLE=MLE, lambda_size=chi2_exp_size)\n",
    "\n",
    "fig, ax = plt.subplots(1,3, figsize=(10,5), sharey=True)\n",
    "\n",
    "plt.subplots_adjust(wspace=0.3)\n",
    "# plot_one(lambda_1, points_1[0], points_1[1], ax)\n",
    "plot_all(lambda_1, points_1[0], points_1[1], ax)\n",
    "\n",
    "fig.suptitle(r'$\\lambda \\rightarrow \\chi^2_1$; MLE=%s; $N_{sample}$=%s' % \\\n",
    "             (  str(MLE), str(int(chi2_exp_size))), fontsize=25); \n",
    "\n",
    "ax[1].set_ylabel('$p(\\lambda)$')\n",
    "\n",
    "plt.show()\n",
    "SAVE=False\n",
    "if SAVE:\n",
    "    plt.savefig('images/Wilk_agreement_MLE_%s_N_%s.png' % (str(MLE), str(chi2_exp_size) ))"
   ]
  },
  {
   "cell_type": "code",
   "execution_count": 227,
   "id": "0f4873b3-a540-4146-ae5f-2b6ae15d57e5",
   "metadata": {},
   "outputs": [],
   "source": [
    "tmodel = TrainedModel(trained_SiLU_model)\n",
    "pdf = tmodel.pdf(valid_x)"
   ]
  },
  {
   "cell_type": "code",
   "execution_count": 229,
   "id": "96e35fa6-bbe7-4264-9859-f2679bfa5f3d",
   "metadata": {},
   "outputs": [
    {
     "data": {
      "text/plain": [
       "(160000, 1, 3)"
      ]
     },
     "execution_count": 229,
     "metadata": {},
     "output_type": "execute_result"
    }
   ],
   "source": [
    "pdf.shape"
   ]
  },
  {
   "cell_type": "code",
   "execution_count": 230,
   "id": "f88b813d-74e0-4942-be67-f206446f9b34",
   "metadata": {},
   "outputs": [
    {
     "data": {
      "image/png": "[encoded data removed]",
      "text/plain": [
       "<Figure size 640x480 with 1 Axes>"
      ]
     },
     "metadata": {},
     "output_type": "display_data"
    }
   ],
   "source": [
    "plt.scatter(valid_x[:,-1], pdf[:,0,-1])\n",
    "plt.plot(x, st.chi2.pdf(x,2), label=r'$p(\\chi^2_2)$', color='black', linewidth=2);\n",
    "plt.xlabel(r'$\\lambda$');plt.ylabel(r'$p(\\lambda)$')\n",
    "plt.xlim((0,10))\n",
    "plt.legend()\n",
    "plt.show()"
   ]
  },
  {
   "cell_type": "code",
   "execution_count": 134,
   "id": "bada7e79-f140-42ee-8b4f-cd5e125cea62",
   "metadata": {},
   "outputs": [
    {
     "data": {
      "image/png": "[encoded data removed]",
      "text/plain": [
       "<Figure size 640x480 with 1 Axes>"
      ]
     },
     "metadata": {},
     "output_type": "display_data"
    }
   ],
   "source": [
    "plt.hist(valid_x[:,-1]);plt.show()"
   ]
  },
  {
   "cell_type": "code",
   "execution_count": 128,
   "id": "11432819-83c5-455c-a544-a0b5ebb1bc13",
   "metadata": {},
   "outputs": [
    {
     "data": {
      "image/png": "[encoded data removed]",
      "text/plain": [
       "<Figure size 400x800 with 2 Axes>"
      ]
     },
     "metadata": {},
     "output_type": "display_data"
    }
   ],
   "source": [
    "def plot_cc(q, p, ftsize=18):\n",
    "\n",
    "    xmin, xmax = 0, 1\n",
    "    ymin, ymax = 0, 1\n",
    "    \n",
    "    # create an empty figure\n",
    "    fig = plt.figure(figsize=(4, 8))\n",
    "    fig.tight_layout()\n",
    "    \n",
    "    # add subplots to it\n",
    "    nrows, ncols = 2,1\n",
    "    ax1 = fig.add_subplot(nrows, ncols, 1)\n",
    "    ax1.set_xlim(xmin, xmax)\n",
    "    ax1.set_ylim(ymin, ymax)\n",
    "    ax1.set_ylabel('$p$', fontsize=ftsize)\n",
    "    \n",
    "    ax2 = fig.add_subplot(nrows, ncols, 2)\n",
    "    dp  = 0.04\n",
    "    ax2.set_xlim(xmin, xmax)\n",
    "    ax2.set_ylim(-dp, dp)\n",
    "    ax2.set_xlabel('$q(x)$', fontsize=ftsize)\n",
    "    ax2.set_ylabel('$\\Delta C(q) = p - q$', fontsize=ftsize)\n",
    "    \n",
    "    ax1.plot([0, 1], [0, 1], 'r', \n",
    "             linewidth=1, \n",
    "             linestyle='dashed', \n",
    "             label='$p = q$')\n",
    "    ax1.plot(q, p, 'b', linewidth=1, \n",
    "             label='$p = C(q)$')\n",
    "    ax1.grid(True, which=\"both\", linestyle='-')\n",
    "    ax1.legend()\n",
    "    \n",
    "    ax2.plot([0, 1], [0, 0], 'r', linewidth=1, linestyle='dashed')\n",
    "    ax2.plot(q, p-q, 'b', linewidth=1)\n",
    "    ax2.grid(True, which=\"both\", linestyle='-')\n",
    "\n",
    "    plt.show()\n",
    "\n",
    "    \n",
    "tmodel = TrainedModel(trained_SiLU_model)\n",
    "a = tmodel.cdf(valid_x)\n",
    "\n",
    "p = np.linspace(0,1,len(a))\n",
    "q = np.quantile(a,p)\n",
    "plot_cc(q, p)"
   ]
  },
  {
   "cell_type": "code",
   "execution_count": 129,
   "id": "02b203dd-cf3c-49b8-a253-320ca6ed0417",
   "metadata": {},
   "outputs": [
    {
     "data": {
      "image/png": "[encoded data removed]",
      "text/plain": [
       "<Figure size 400x400 with 1 Axes>"
      ]
     },
     "metadata": {},
     "output_type": "display_data"
    },
    {
     "data": {
      "image/png": "[encoded data removed]",
      "text/plain": [
       "<Figure size 400x400 with 1 Axes>"
      ]
     },
     "metadata": {},
     "output_type": "display_data"
    }
   ],
   "source": [
    "import scipy.optimize as op\n",
    "\n",
    "def poly(X, A):\n",
    "    y  = 0.0\n",
    "    x  = np.array(X)\n",
    "    for a in A:\n",
    "        x *= X\n",
    "        y += a * x\n",
    "    return y\n",
    "\n",
    "# 1st derivative of polynomials\n",
    "def dpoly(X, A):\n",
    "    y  = 0.0\n",
    "    x  = np.ones(len(X))\n",
    "    n  = 1\n",
    "    for a in A:\n",
    "        x *= X\n",
    "        n += 1\n",
    "        y += n * a * x\n",
    "    return y\n",
    "\n",
    "def plot_dc(q, p, res=None, ftsize=18):\n",
    "    \n",
    "    dp = 0.04\n",
    "    xmin, xmax = 0, 1\n",
    "    ymin, ymax =-dp, dp\n",
    "    \n",
    "    # create an empty figure\n",
    "    fig = plt.figure(figsize=(4, 4))\n",
    "    fig.tight_layout()\n",
    "    \n",
    "    # add subplots to it\n",
    "    nrows, ncols = 1,1\n",
    "    ax = fig.add_subplot(nrows, ncols, 1)\n",
    "    dp  = 0.04\n",
    "    ax.set_xlim(xmin, xmax)\n",
    "    ax.set_ylim(ymin, ymax)\n",
    "    ax.set_xlabel('$q(x)$', fontsize=ftsize)\n",
    "    ax.set_ylabel('$\\Delta C(q) = p - q$', fontsize=ftsize)\n",
    "    \n",
    "    ax.plot([0, 1], [0, 0], 'r', linewidth=1, linestyle='dashed')\n",
    "    ax.plot(q, p-q, 'b', linewidth=1, label='data')\n",
    "\n",
    "    if res != None:\n",
    "        y = poly(q, res.x)\n",
    "        ax.plot(q, y,   'k', linewidth=1, label='fit')\n",
    "    ax.grid(True, which=\"both\", linestyle='-')\n",
    "\n",
    "    plt.show()\n",
    "    \n",
    "    \n",
    "    \n",
    "def nll(pars, *args):\n",
    "    x, y, w = args\n",
    "    F = w*(y - poly(x, pars))**2\n",
    "    return F.sum()\n",
    "\n",
    "guess  = np.array([0.]*8)\n",
    "results= op.minimize(nll, guess, args=(q, p-q, 1))\n",
    "\n",
    "plot_dc(q, p, results)\n",
    "\n",
    "# plot residuals of corrected cdf\n",
    "Q = q + poly(q, results.x)\n",
    "plot_dc(Q, p)"
   ]
  },
  {
   "cell_type": "code",
   "execution_count": null,
   "id": "ebc45d1f-ad68-47f8-b336-3afe11af3201",
   "metadata": {},
   "outputs": [],
   "source": []
  }
 ],
 "metadata": {
  "kernelspec": {
   "display_name": "Python 3",
   "language": "python",
   "name": "python3"
  },
  "language_info": {
   "codemirror_mode": {
    "name": "ipython",
    "version": 3
   },
   "file_extension": ".py",
   "mimetype": "text/x-python",
   "name": "python",
   "nbconvert_exporter": "python",
   "pygments_lexer": "ipython3",
   "version": "3.7.10"
  }
 },
 "nbformat": 4,
 "nbformat_minor": 5
}
